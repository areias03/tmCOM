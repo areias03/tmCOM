{
 "cells": [
  {
   "cell_type": "code",
   "execution_count": 1,
   "id": "065a1530",
   "metadata": {},
   "outputs": [],
   "source": [
    "import pandas as pd\n",
    "import requests"
   ]
  },
  {
   "cell_type": "code",
   "execution_count": 2,
   "id": "7cd3c8be",
   "metadata": {},
   "outputs": [
    {
     "name": "stdout",
     "output_type": "stream",
     "text": [
      "[      Unnamed: 0                                       Name     Last modified  \\\n",
      "0            NaN                                        NaN               NaN   \n",
      "1            NaN                           Parent Directory               NaN   \n",
      "2            NaN       Abiotrophia_defectiva_ATCC_49176.xml  2023-03-23 15:00   \n",
      "3            NaN       Acaricomes_phytoseiuli_DSM_14247.xml  2023-03-23 15:00   \n",
      "4            NaN         Acaryochloris_marina_MBIC11017.xml  2023-03-23 15:00   \n",
      "...          ...                                        ...               ...   \n",
      "7300         NaN   uncultured_Clostridium_sp_ERR1022438.xml  2023-03-24 00:08   \n",
      "7301         NaN   uncultured_Clostridium_sp_ERR1022467.xml  2023-03-24 00:08   \n",
      "7302         NaN  uncultured_Ruminococcus_sp_ERR1022393.xml  2023-03-24 00:08   \n",
      "7303         NaN  uncultured_Ruminococcus_sp_ERR1022403.xml  2023-03-24 00:08   \n",
      "7304         NaN                                        NaN               NaN   \n",
      "\n",
      "      Size  Description  \n",
      "0      NaN          NaN  \n",
      "1        -          NaN  \n",
      "2     8.0M          NaN  \n",
      "3     7.9M          NaN  \n",
      "4     9.9M          NaN  \n",
      "...    ...          ...  \n",
      "7300  8.5M          NaN  \n",
      "7301   10M          NaN  \n",
      "7302  7.8M          NaN  \n",
      "7303   10M          NaN  \n",
      "7304   NaN          NaN  \n",
      "\n",
      "[7305 rows x 5 columns]]\n"
     ]
    }
   ],
   "source": [
    "url = r'https://www.vmh.life/files/reconstructions/AGORA2/version2.01/sbml_files/individual_reconstructions'\n",
    "tables = pd.read_html(url,flavor=\"html5lib\") # Returns list of all tables on page\n",
    "print(tables)\n",
    "table = tables[0] # Select table of interest"
   ]
  },
  {
   "cell_type": "code",
   "execution_count": 3,
   "id": "22f2ce44",
   "metadata": {},
   "outputs": [],
   "source": [
    "table = pd.DataFrame(table)"
   ]
  },
  {
   "cell_type": "code",
   "execution_count": 4,
   "id": "99b8a81a",
   "metadata": {},
   "outputs": [
    {
     "data": {
      "text/html": [
       "<div>\n",
       "<style scoped>\n",
       "    .dataframe tbody tr th:only-of-type {\n",
       "        vertical-align: middle;\n",
       "    }\n",
       "\n",
       "    .dataframe tbody tr th {\n",
       "        vertical-align: top;\n",
       "    }\n",
       "\n",
       "    .dataframe thead th {\n",
       "        text-align: right;\n",
       "    }\n",
       "</style>\n",
       "<table border=\"1\" class=\"dataframe\">\n",
       "  <thead>\n",
       "    <tr style=\"text-align: right;\">\n",
       "      <th></th>\n",
       "      <th>Unnamed: 0</th>\n",
       "      <th>Name</th>\n",
       "      <th>Last modified</th>\n",
       "      <th>Size</th>\n",
       "      <th>Description</th>\n",
       "    </tr>\n",
       "  </thead>\n",
       "  <tbody>\n",
       "    <tr>\n",
       "      <th>0</th>\n",
       "      <td>NaN</td>\n",
       "      <td>NaN</td>\n",
       "      <td>NaN</td>\n",
       "      <td>NaN</td>\n",
       "      <td>NaN</td>\n",
       "    </tr>\n",
       "    <tr>\n",
       "      <th>1</th>\n",
       "      <td>NaN</td>\n",
       "      <td>Parent Directory</td>\n",
       "      <td>NaN</td>\n",
       "      <td>-</td>\n",
       "      <td>NaN</td>\n",
       "    </tr>\n",
       "    <tr>\n",
       "      <th>2</th>\n",
       "      <td>NaN</td>\n",
       "      <td>Abiotrophia_defectiva_ATCC_49176.xml</td>\n",
       "      <td>2023-03-23 15:00</td>\n",
       "      <td>8.0M</td>\n",
       "      <td>NaN</td>\n",
       "    </tr>\n",
       "    <tr>\n",
       "      <th>3</th>\n",
       "      <td>NaN</td>\n",
       "      <td>Acaricomes_phytoseiuli_DSM_14247.xml</td>\n",
       "      <td>2023-03-23 15:00</td>\n",
       "      <td>7.9M</td>\n",
       "      <td>NaN</td>\n",
       "    </tr>\n",
       "    <tr>\n",
       "      <th>4</th>\n",
       "      <td>NaN</td>\n",
       "      <td>Acaryochloris_marina_MBIC11017.xml</td>\n",
       "      <td>2023-03-23 15:00</td>\n",
       "      <td>9.9M</td>\n",
       "      <td>NaN</td>\n",
       "    </tr>\n",
       "  </tbody>\n",
       "</table>\n",
       "</div>"
      ],
      "text/plain": [
       "   Unnamed: 0                                  Name     Last modified  Size  \\\n",
       "0         NaN                                   NaN               NaN   NaN   \n",
       "1         NaN                      Parent Directory               NaN     -   \n",
       "2         NaN  Abiotrophia_defectiva_ATCC_49176.xml  2023-03-23 15:00  8.0M   \n",
       "3         NaN  Acaricomes_phytoseiuli_DSM_14247.xml  2023-03-23 15:00  7.9M   \n",
       "4         NaN    Acaryochloris_marina_MBIC11017.xml  2023-03-23 15:00  9.9M   \n",
       "\n",
       "   Description  \n",
       "0          NaN  \n",
       "1          NaN  \n",
       "2          NaN  \n",
       "3          NaN  \n",
       "4          NaN  "
      ]
     },
     "execution_count": 4,
     "metadata": {},
     "output_type": "execute_result"
    }
   ],
   "source": [
    "table.head()"
   ]
  },
  {
   "cell_type": "code",
   "execution_count": 5,
   "id": "c56f263f",
   "metadata": {},
   "outputs": [],
   "source": [
    "table = table.drop(columns=[\"Unnamed: 0\", \"Last modified\",\"Size\",\"Description\"])"
   ]
  },
  {
   "cell_type": "code",
   "execution_count": 6,
   "id": "5b5f6fa9",
   "metadata": {},
   "outputs": [
    {
     "name": "stdout",
     "output_type": "stream",
     "text": [
      "                                            Filename\n",
      "2               Abiotrophia_defectiva_ATCC_49176.xml\n",
      "3               Acaricomes_phytoseiuli_DSM_14247.xml\n",
      "4                 Acaryochloris_marina_MBIC11017.xml\n",
      "5     Acetanaerobacterium_elongatum_CGMCC_1_5012.xml\n",
      "6                       Acetatifactor_muris_GP69.xml\n",
      "...                                              ...\n",
      "7299        uncultured_Clostridium_sp_ERR1022385.xml\n",
      "7300        uncultured_Clostridium_sp_ERR1022438.xml\n",
      "7301        uncultured_Clostridium_sp_ERR1022467.xml\n",
      "7302       uncultured_Ruminococcus_sp_ERR1022393.xml\n",
      "7303       uncultured_Ruminococcus_sp_ERR1022403.xml\n",
      "\n",
      "[7302 rows x 1 columns]\n"
     ]
    }
   ],
   "source": [
    "table = table.drop(table.index[[0,1,7304]])\n",
    "table.rename(columns={\"Name\":\"Filename\"},inplace=True)\n",
    "print(table)"
   ]
  },
  {
   "cell_type": "code",
   "execution_count": 8,
   "id": "05734dca",
   "metadata": {},
   "outputs": [],
   "source": [
    "list_of_strains = pd.read_csv(\"../data/organisms.tab\",sep='\\t')"
   ]
  },
  {
   "cell_type": "code",
   "execution_count": 9,
   "id": "66e6b2cc",
   "metadata": {},
   "outputs": [
    {
     "data": {
      "text/html": [
       "<div>\n",
       "<style scoped>\n",
       "    .dataframe tbody tr th:only-of-type {\n",
       "        vertical-align: middle;\n",
       "    }\n",
       "\n",
       "    .dataframe tbody tr th {\n",
       "        vertical-align: top;\n",
       "    }\n",
       "\n",
       "    .dataframe thead th {\n",
       "        text-align: right;\n",
       "    }\n",
       "</style>\n",
       "<table border=\"1\" class=\"dataframe\">\n",
       "  <thead>\n",
       "    <tr style=\"text-align: right;\">\n",
       "      <th></th>\n",
       "      <th>species</th>\n",
       "      <th>full_name</th>\n",
       "      <th>lineage_species</th>\n",
       "      <th>genus</th>\n",
       "      <th>family</th>\n",
       "      <th>order</th>\n",
       "      <th>class</th>\n",
       "      <th>phylum</th>\n",
       "      <th>assembly</th>\n",
       "      <th>agora</th>\n",
       "      <th>sort</th>\n",
       "      <th>nid</th>\n",
       "      <th>taxid</th>\n",
       "      <th>nearest_kegg_org</th>\n",
       "    </tr>\n",
       "  </thead>\n",
       "  <tbody>\n",
       "    <tr>\n",
       "      <th>0</th>\n",
       "      <td>A. muciniphila</td>\n",
       "      <td>Akkermansia muciniphila (S1) DSM No.: 22959</td>\n",
       "      <td>A. muciniphila</td>\n",
       "      <td>Akkermansia</td>\n",
       "      <td>Verrucomicrobiaceae</td>\n",
       "      <td>Verrucomicrobiales</td>\n",
       "      <td>Verrucomicrobiae</td>\n",
       "      <td>Verrucomicrobia</td>\n",
       "      <td>GCA_000020225.1_ASM2022v1</td>\n",
       "      <td>Akkermansia_muciniphila_ATCC_BAA_835.xml</td>\n",
       "      <td>96</td>\n",
       "      <td>NT5021</td>\n",
       "      <td>349741.0</td>\n",
       "      <td>amu</td>\n",
       "    </tr>\n",
       "    <tr>\n",
       "      <th>1</th>\n",
       "      <td>A. odontolyticus</td>\n",
       "      <td>Actinomyces odontolyticus (S2) DSM No: 43331</td>\n",
       "      <td>A. odontolyticus</td>\n",
       "      <td>Actinomyces</td>\n",
       "      <td>Actinomycetaceae</td>\n",
       "      <td>Actinomycetales</td>\n",
       "      <td>Actinobacteria</td>\n",
       "      <td>Actinobacteria</td>\n",
       "      <td>GCA_000154225.1_ASM15422v1</td>\n",
       "      <td>Actinomyces_odontolyticus_ATCC_17982.xml</td>\n",
       "      <td>1</td>\n",
       "      <td>NT5039</td>\n",
       "      <td>411466.0</td>\n",
       "      <td>NaN</td>\n",
       "    </tr>\n",
       "    <tr>\n",
       "      <th>2</th>\n",
       "      <td>A. putredinis</td>\n",
       "      <td>Alistipes putredinis (S2) DSMZ 17216</td>\n",
       "      <td>A. putredinis</td>\n",
       "      <td>Alistipes</td>\n",
       "      <td>Rikenellaceae</td>\n",
       "      <td>Bacteroidales</td>\n",
       "      <td>Bacteroidia</td>\n",
       "      <td>Bacteroidetes</td>\n",
       "      <td>GCA_000154465.1_ASM15446v1</td>\n",
       "      <td>Alistipes_putredinis_DSM_17216.xml</td>\n",
       "      <td>14</td>\n",
       "      <td>NT5014</td>\n",
       "      <td>445970.0</td>\n",
       "      <td>NaN</td>\n",
       "    </tr>\n",
       "    <tr>\n",
       "      <th>3</th>\n",
       "      <td>B. adolescentis</td>\n",
       "      <td>Bifidobacterium adolescentis (S1) DSM No.: 20083</td>\n",
       "      <td>B. adolescentis</td>\n",
       "      <td>Bifidobacterium</td>\n",
       "      <td>Bifidobacteriaceae</td>\n",
       "      <td>Bifidobacteriales</td>\n",
       "      <td>Actinobacteria</td>\n",
       "      <td>Actinobacteria</td>\n",
       "      <td>GCA_000010425.1_ASM1042v1</td>\n",
       "      <td>Bifidobacterium_adolescentis_ATCC_15703.xml</td>\n",
       "      <td>2</td>\n",
       "      <td>NT5022</td>\n",
       "      <td>367928.0</td>\n",
       "      <td>bad</td>\n",
       "    </tr>\n",
       "    <tr>\n",
       "      <th>4</th>\n",
       "      <td>B. animalis subsp. lactis BI-07</td>\n",
       "      <td>Bifidobacterium animalis subsp. lactis BI-07 (S1)</td>\n",
       "      <td>B. animalis subsp. Lactis</td>\n",
       "      <td>Bifidobacterium</td>\n",
       "      <td>Bifidobacteriaceae</td>\n",
       "      <td>Bifidobacteriales</td>\n",
       "      <td>Actinobacteria</td>\n",
       "      <td>Actinobacteria</td>\n",
       "      <td>GCA_000277345.1_ASM27734v1</td>\n",
       "      <td>Bifidobacterium_animalis_lactis_Bi_07.xml</td>\n",
       "      <td>3</td>\n",
       "      <td>NT5044</td>\n",
       "      <td>742729.0</td>\n",
       "      <td>bls</td>\n",
       "    </tr>\n",
       "  </tbody>\n",
       "</table>\n",
       "</div>"
      ],
      "text/plain": [
       "                           species  \\\n",
       "0                   A. muciniphila   \n",
       "1                 A. odontolyticus   \n",
       "2                    A. putredinis   \n",
       "3                  B. adolescentis   \n",
       "4  B. animalis subsp. lactis BI-07   \n",
       "\n",
       "                                           full_name  \\\n",
       "0        Akkermansia muciniphila (S1) DSM No.: 22959   \n",
       "1       Actinomyces odontolyticus (S2) DSM No: 43331   \n",
       "2               Alistipes putredinis (S2) DSMZ 17216   \n",
       "3   Bifidobacterium adolescentis (S1) DSM No.: 20083   \n",
       "4  Bifidobacterium animalis subsp. lactis BI-07 (S1)   \n",
       "\n",
       "             lineage_species            genus               family  \\\n",
       "0             A. muciniphila      Akkermansia  Verrucomicrobiaceae   \n",
       "1           A. odontolyticus     Actinomyces      Actinomycetaceae   \n",
       "2              A. putredinis        Alistipes        Rikenellaceae   \n",
       "3            B. adolescentis  Bifidobacterium   Bifidobacteriaceae   \n",
       "4  B. animalis subsp. Lactis  Bifidobacterium   Bifidobacteriaceae   \n",
       "\n",
       "                order             class           phylum  \\\n",
       "0  Verrucomicrobiales  Verrucomicrobiae  Verrucomicrobia   \n",
       "1     Actinomycetales    Actinobacteria   Actinobacteria   \n",
       "2       Bacteroidales       Bacteroidia    Bacteroidetes   \n",
       "3   Bifidobacteriales    Actinobacteria   Actinobacteria   \n",
       "4   Bifidobacteriales    Actinobacteria   Actinobacteria   \n",
       "\n",
       "                     assembly                                        agora  \\\n",
       "0   GCA_000020225.1_ASM2022v1     Akkermansia_muciniphila_ATCC_BAA_835.xml   \n",
       "1  GCA_000154225.1_ASM15422v1     Actinomyces_odontolyticus_ATCC_17982.xml   \n",
       "2  GCA_000154465.1_ASM15446v1           Alistipes_putredinis_DSM_17216.xml   \n",
       "3   GCA_000010425.1_ASM1042v1  Bifidobacterium_adolescentis_ATCC_15703.xml   \n",
       "4  GCA_000277345.1_ASM27734v1    Bifidobacterium_animalis_lactis_Bi_07.xml   \n",
       "\n",
       "   sort     nid     taxid nearest_kegg_org  \n",
       "0    96  NT5021  349741.0              amu  \n",
       "1     1  NT5039  411466.0              NaN  \n",
       "2    14  NT5014  445970.0              NaN  \n",
       "3     2  NT5022  367928.0              bad  \n",
       "4     3  NT5044  742729.0              bls  "
      ]
     },
     "execution_count": 9,
     "metadata": {},
     "output_type": "execute_result"
    }
   ],
   "source": [
    "list_of_strains.head()"
   ]
  },
  {
   "cell_type": "code",
   "execution_count": 11,
   "id": "c5c2c01a",
   "metadata": {},
   "outputs": [],
   "source": [
    "file_list = list(list_of_strains['agora'])"
   ]
  },
  {
   "cell_type": "code",
   "execution_count": 12,
   "id": "25bcb7ee",
   "metadata": {},
   "outputs": [
    {
     "name": "stdout",
     "output_type": "stream",
     "text": [
      "2       False\n",
      "3       False\n",
      "4       False\n",
      "5       False\n",
      "6       False\n",
      "        ...  \n",
      "7299    False\n",
      "7300    False\n",
      "7301    False\n",
      "7302    False\n",
      "7303    False\n",
      "Name: Filename, Length: 7302, dtype: bool\n"
     ]
    }
   ],
   "source": [
    "table_bool = table[\"Filename\"].isin(file_list)\n",
    "print(table_bool)"
   ]
  },
  {
   "cell_type": "code",
   "execution_count": 13,
   "id": "d76d6e38",
   "metadata": {},
   "outputs": [
    {
     "name": "stdout",
     "output_type": "stream",
     "text": [
      "[271, 330, 357, 362, 712, 730, 731, 737, 741, 751, 771, 795, 840, 860, 863, 888, 937, 957, 958, 1029, 1033, 1072, 1121, 1213, 1487, 1556, 1569, 1583, 1629, 1671, 1672, 1853, 1867, 1917, 3499, 3544, 3550, 3568, 3727, 4283, 4349, 4358, 4460, 4496, 4503, 4510, 4521, 4831, 4931, 4950, 5072, 5091, 5175, 5334, 5339, 5413, 5419, 5429, 7213, 7291]\n"
     ]
    }
   ],
   "source": [
    "table_bool[table_bool==True]\n",
    "\n",
    "list_index = []\n",
    "for item in table_bool[table_bool==True].index:\n",
    "    list_index.append(item)\n",
    "\n",
    "list_index = [x-2 for x in list_index]\n",
    "\n",
    "print(list_index)"
   ]
  },
  {
   "cell_type": "code",
   "execution_count": 16,
   "id": "78760e7b",
   "metadata": {},
   "outputs": [],
   "source": [
    "for match in match_list:\n",
    "    url = f'https://www.vmh.life/files/reconstructions/AGORA2/version2.01/sbml_files/individual_reconstructions/{match}'\n",
    "    response = requests.get(url)\n",
    "    with open(f'../models/non-ec/agora3/{match}', 'w') as f:\n",
    "        f.write(response.text)"
   ]
  }
 ],
 "metadata": {
  "kernelspec": {
   "display_name": "Python 3 (ipykernel)",
   "language": "python",
   "name": "python3"
  },
  "language_info": {
   "codemirror_mode": {
    "name": "ipython",
    "version": 3
   },
   "file_extension": ".py",
   "mimetype": "text/x-python",
   "name": "python",
   "nbconvert_exporter": "python",
   "pygments_lexer": "ipython3",
   "version": "3.9.12"
  }
 },
 "nbformat": 4,
 "nbformat_minor": 5
}

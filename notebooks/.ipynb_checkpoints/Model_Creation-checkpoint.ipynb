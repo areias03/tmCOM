{
 "cells": [
  {
   "cell_type": "code",
   "execution_count": null,
   "id": "279fd74b",
   "metadata": {},
   "outputs": [],
   "source": [
    "from reframed.io.sbml import load_cbmodel\n",
    "from cobra.io import read_sbml_model, write_sbml_model\n",
    "from sympy import parse_expr\n",
    "from sympy.logic.boolalg import to_dnf\n",
    "from tqdm import tqdm"
   ]
  },
  {
   "cell_type": "code",
   "execution_count": null,
   "id": "b83487b9",
   "metadata": {},
   "outputs": [],
   "source": [
    "model_path = \"../models/non-ec/\"\n",
    "list_models = []\n",
    "\n",
    "for file in os.listdir(model_path):\n",
    "    SBML = (os.path.join(model_path, file))\n",
    "    model = load_cbmodel(SBML, flavor='fbc2')\n",
    "    list_models.append(model)"
   ]
  },
  {
   "cell_type": "code",
   "execution_count": null,
   "id": "1edbde18",
   "metadata": {},
   "outputs": [],
   "source": [
    "for model in list_models:\n",
    "    for rxn in tqdm(model.reactions):\n",
    "        if not rxn.gene_reaction_rule:\n",
    "            continue\n",
    "        rule = rxn.gene_reaction_rule.replace(\"or\", \"|\").replace(\"and\", \"&\")\n",
    "        expr = parse_expr(rule, evaluate=False)\n",
    "        rxn.gene_reaction_rule = str(to_dnf(expr)).replace(\"|\", \"or\").replace(\"&\", \"and\")"
   ]
  }
 ],
 "metadata": {
  "kernelspec": {
   "display_name": "Python 3 (ipykernel)",
   "language": "python",
   "name": "python3"
  },
  "language_info": {
   "codemirror_mode": {
    "name": "ipython",
    "version": 3
   },
   "file_extension": ".py",
   "mimetype": "text/x-python",
   "name": "python",
   "nbconvert_exporter": "python",
   "pygments_lexer": "ipython3",
   "version": "3.9.12"
  }
 },
 "nbformat": 4,
 "nbformat_minor": 5
}

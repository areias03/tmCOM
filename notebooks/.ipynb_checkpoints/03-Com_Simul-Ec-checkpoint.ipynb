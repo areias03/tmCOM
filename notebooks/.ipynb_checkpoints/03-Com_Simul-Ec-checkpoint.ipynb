{
 "cells": [
  {
   "cell_type": "code",
   "execution_count": 1,
   "id": "ed290f01",
   "metadata": {},
   "outputs": [],
   "source": [
    "from cobra.io import read_sbml_model\n",
    "from reframed.io.sbml import load_cbmodel\n",
    "from mewpy import get_simulator\n",
    "import os\n",
    "import sys\n",
    "module_path = os.path.abspath(os.path.join('..'))\n",
    "if module_path not in sys.path:\n",
    "    sys.path.append(module_path)\n",
    "\n",
    "from tmcom.com import CommunityModel"
   ]
  },
  {
   "cell_type": "code",
   "execution_count": 2,
   "id": "8ca3aa37",
   "metadata": {},
   "outputs": [
    {
     "name": "stdout",
     "output_type": "stream",
     "text": [
      "Set parameter Username\n",
      "Academic license - for non-commercial use only - expires 2024-11-11\n"
     ]
    }
   ],
   "source": [
    "bt = read_sbml_model('../models/ec/ec_Bacteroides_thetaiotaomicron_VPI_5482.xml')\n",
    "\n",
    "bu = read_sbml_model('../models/ec/ec_Bacteroides_uniformis_ATCC_8492.xml')\n",
    "\n",
    "ec = read_sbml_model('../models/ec/ec_Escherichia_coli_ED1a.xml')\n",
    "\n",
    "fn = read_sbml_model('../models/ec/ec_Fusobacterium_nucleatum_subsp_nucleatum_ATCC_25586.xml')\n",
    "\n",
    "ri = read_sbml_model('../models/ec/ec_Roseburia_intestinalis_L1_82.xml')\n",
    "\n",
    "sp = read_sbml_model('../models/ec/ec_Streptococcus_parasanguinis_ATCC_15912.xml')\n",
    "\n",
    "ss = read_sbml_model('../models/ec/ec_Streptococcus_salivarius_DSM_20560.xml')"
   ]
  },
  {
   "cell_type": "code",
   "execution_count": 3,
   "id": "31495a29",
   "metadata": {},
   "outputs": [
    {
     "name": "stdout",
     "output_type": "stream",
     "text": [
      "M_Bacteroides_thetaiotaomicron_VPI_5482: 4740\n",
      "M_Bacteroides_uniformis_ATCC_8492: 5523\n",
      "M_Escherichia_coli_ED1a: 6916\n",
      "M_Fusobacterium_nucleatum_subsp_nucleatum_ATCC_25586: 2310\n",
      "M_Roseburia_intestinalis_L1_82: 4974\n",
      "M_Streptococcus_parasanguinis_ATCC_15912: 2764\n",
      "M_Streptococcus_salivarius_DSM_20560: 1842\n"
     ]
    }
   ],
   "source": [
    "model_list = [bt,bu,ec,fn,ri,sp,ss]\n",
    "for m in model_list:\n",
    "    print(f'{m.id}: {len(m.reactions)}')"
   ]
  },
  {
   "cell_type": "code",
   "execution_count": 4,
   "id": "b7868d35",
   "metadata": {},
   "outputs": [
    {
     "name": "stdout",
     "output_type": "stream",
     "text": [
      "M_Bacteroides_thetaiotaomicron_VPI_5482: 823\n",
      "M_Bacteroides_uniformis_ATCC_8492: 821\n",
      "M_Escherichia_coli_ED1a: 1427\n",
      "M_Fusobacterium_nucleatum_subsp_nucleatum_ATCC_25586: 503\n",
      "M_Roseburia_intestinalis_L1_82: 853\n",
      "M_Streptococcus_parasanguinis_ATCC_15912: 899\n",
      "M_Streptococcus_salivarius_DSM_20560: 525\n"
     ]
    }
   ],
   "source": [
    "for m in model_list:\n",
    "    print(f'{m.id}: {len(m.genes)}')"
   ]
  },
  {
   "cell_type": "code",
   "execution_count": 5,
   "id": "6a4e909d",
   "metadata": {},
   "outputs": [
    {
     "name": "stdout",
     "output_type": "stream",
     "text": [
      "M_Bacteroides_thetaiotaomicron_VPI_5482: 2865\n",
      "M_Bacteroides_uniformis_ATCC_8492: 3026\n",
      "M_Escherichia_coli_ED1a: 4547\n",
      "M_Fusobacterium_nucleatum_subsp_nucleatum_ATCC_25586: 1639\n",
      "M_Roseburia_intestinalis_L1_82: 2545\n",
      "M_Streptococcus_parasanguinis_ATCC_15912: 2131\n",
      "M_Streptococcus_salivarius_DSM_20560: 1378\n"
     ]
    }
   ],
   "source": [
    "for m in model_list:\n",
    "    print(f'{m.id}: {len(m.metabolites)}')"
   ]
  },
  {
   "cell_type": "code",
   "execution_count": 6,
   "id": "9c7de783",
   "metadata": {},
   "outputs": [
    {
     "name": "stdout",
     "output_type": "stream",
     "text": [
      "M_Bacteroides_thetaiotaomicron_VPI_5482: 424\n",
      "M_Bacteroides_uniformis_ATCC_8492: 423\n",
      "M_Escherichia_coli_ED1a: 1031\n",
      "M_Fusobacterium_nucleatum_subsp_nucleatum_ATCC_25586: 383\n",
      "M_Roseburia_intestinalis_L1_82: 594\n",
      "M_Streptococcus_parasanguinis_ATCC_15912: 598\n",
      "M_Streptococcus_salivarius_DSM_20560: 400\n"
     ]
    }
   ],
   "source": [
    "for m in model_list:\n",
    "    print(f'{m.id}: {len(m.demands)}')"
   ]
  },
  {
   "cell_type": "code",
   "execution_count": 7,
   "id": "ce2ee8db",
   "metadata": {},
   "outputs": [
    {
     "name": "stdout",
     "output_type": "stream",
     "text": [
      "M_Bacteroides_thetaiotaomicron_VPI_5482: 1072\n",
      "M_Bacteroides_uniformis_ATCC_8492: 918\n",
      "M_Escherichia_coli_ED1a: 1112\n",
      "M_Fusobacterium_nucleatum_subsp_nucleatum_ATCC_25586: 266\n",
      "M_Roseburia_intestinalis_L1_82: 930\n",
      "M_Streptococcus_parasanguinis_ATCC_15912: 250\n",
      "M_Streptococcus_salivarius_DSM_20560: 206\n"
     ]
    }
   ],
   "source": [
    "for m in model_list:\n",
    "    print(f'{m.id}: {len(m.exchanges)}')"
   ]
  },
  {
   "cell_type": "code",
   "execution_count": 8,
   "id": "7819c666",
   "metadata": {},
   "outputs": [],
   "source": [
    "from mewpy.cobra.com import *\n",
    "#import seaborn as sns\n",
    "#import matplotlib.pyplot as plt\n",
    "\n",
    "mets, rxns, over = jaccard_similarity_matrices([bt,bu,ec,fn,ri,sp,ss])"
   ]
  },
  {
   "cell_type": "code",
   "execution_count": 9,
   "id": "d629cdcf",
   "metadata": {},
   "outputs": [
    {
     "data": {
      "text/html": [
       "<div>\n",
       "<style scoped>\n",
       "    .dataframe tbody tr th:only-of-type {\n",
       "        vertical-align: middle;\n",
       "    }\n",
       "\n",
       "    .dataframe tbody tr th {\n",
       "        vertical-align: top;\n",
       "    }\n",
       "\n",
       "    .dataframe thead th {\n",
       "        text-align: right;\n",
       "    }\n",
       "</style>\n",
       "<table border=\"1\" class=\"dataframe\">\n",
       "  <thead>\n",
       "    <tr style=\"text-align: right;\">\n",
       "      <th></th>\n",
       "      <th>M_Bacteroides_thetaiotaomicron_VPI_5482</th>\n",
       "      <th>M_Bacteroides_uniformis_ATCC_8492</th>\n",
       "      <th>M_Escherichia_coli_ED1a</th>\n",
       "      <th>M_Fusobacterium_nucleatum_subsp_nucleatum_ATCC_25586</th>\n",
       "      <th>M_Roseburia_intestinalis_L1_82</th>\n",
       "      <th>M_Streptococcus_parasanguinis_ATCC_15912</th>\n",
       "      <th>M_Streptococcus_salivarius_DSM_20560</th>\n",
       "    </tr>\n",
       "  </thead>\n",
       "  <tbody>\n",
       "    <tr>\n",
       "      <th>M_Bacteroides_thetaiotaomicron_VPI_5482</th>\n",
       "      <td>1.000000</td>\n",
       "      <td>0.439287</td>\n",
       "      <td>0.313020</td>\n",
       "      <td>0.242140</td>\n",
       "      <td>0.276244</td>\n",
       "      <td>0.183886</td>\n",
       "      <td>0.206426</td>\n",
       "    </tr>\n",
       "    <tr>\n",
       "      <th>M_Bacteroides_uniformis_ATCC_8492</th>\n",
       "      <td>0.439287</td>\n",
       "      <td>1.000000</td>\n",
       "      <td>0.372418</td>\n",
       "      <td>0.227632</td>\n",
       "      <td>0.371830</td>\n",
       "      <td>0.176860</td>\n",
       "      <td>0.191558</td>\n",
       "    </tr>\n",
       "    <tr>\n",
       "      <th>M_Escherichia_coli_ED1a</th>\n",
       "      <td>0.313020</td>\n",
       "      <td>0.372418</td>\n",
       "      <td>1.000000</td>\n",
       "      <td>0.207731</td>\n",
       "      <td>0.289220</td>\n",
       "      <td>0.205633</td>\n",
       "      <td>0.159945</td>\n",
       "    </tr>\n",
       "    <tr>\n",
       "      <th>M_Fusobacterium_nucleatum_subsp_nucleatum_ATCC_25586</th>\n",
       "      <td>0.242140</td>\n",
       "      <td>0.227632</td>\n",
       "      <td>0.207731</td>\n",
       "      <td>1.000000</td>\n",
       "      <td>0.228060</td>\n",
       "      <td>0.247931</td>\n",
       "      <td>0.282738</td>\n",
       "    </tr>\n",
       "    <tr>\n",
       "      <th>M_Roseburia_intestinalis_L1_82</th>\n",
       "      <td>0.276244</td>\n",
       "      <td>0.371830</td>\n",
       "      <td>0.289220</td>\n",
       "      <td>0.228060</td>\n",
       "      <td>1.000000</td>\n",
       "      <td>0.198053</td>\n",
       "      <td>0.222118</td>\n",
       "    </tr>\n",
       "    <tr>\n",
       "      <th>M_Streptococcus_parasanguinis_ATCC_15912</th>\n",
       "      <td>0.183886</td>\n",
       "      <td>0.176860</td>\n",
       "      <td>0.205633</td>\n",
       "      <td>0.247931</td>\n",
       "      <td>0.198053</td>\n",
       "      <td>1.000000</td>\n",
       "      <td>0.289599</td>\n",
       "    </tr>\n",
       "    <tr>\n",
       "      <th>M_Streptococcus_salivarius_DSM_20560</th>\n",
       "      <td>0.206426</td>\n",
       "      <td>0.191558</td>\n",
       "      <td>0.159945</td>\n",
       "      <td>0.282738</td>\n",
       "      <td>0.222118</td>\n",
       "      <td>0.289599</td>\n",
       "      <td>1.000000</td>\n",
       "    </tr>\n",
       "  </tbody>\n",
       "</table>\n",
       "</div>"
      ],
      "text/plain": [
       "                                                    M_Bacteroides_thetaiotaomicron_VPI_5482  \\\n",
       "M_Bacteroides_thetaiotaomicron_VPI_5482                                            1.000000   \n",
       "M_Bacteroides_uniformis_ATCC_8492                                                  0.439287   \n",
       "M_Escherichia_coli_ED1a                                                            0.313020   \n",
       "M_Fusobacterium_nucleatum_subsp_nucleatum_ATCC_...                                 0.242140   \n",
       "M_Roseburia_intestinalis_L1_82                                                     0.276244   \n",
       "M_Streptococcus_parasanguinis_ATCC_15912                                           0.183886   \n",
       "M_Streptococcus_salivarius_DSM_20560                                               0.206426   \n",
       "\n",
       "                                                    M_Bacteroides_uniformis_ATCC_8492  \\\n",
       "M_Bacteroides_thetaiotaomicron_VPI_5482                                      0.439287   \n",
       "M_Bacteroides_uniformis_ATCC_8492                                            1.000000   \n",
       "M_Escherichia_coli_ED1a                                                      0.372418   \n",
       "M_Fusobacterium_nucleatum_subsp_nucleatum_ATCC_...                           0.227632   \n",
       "M_Roseburia_intestinalis_L1_82                                               0.371830   \n",
       "M_Streptococcus_parasanguinis_ATCC_15912                                     0.176860   \n",
       "M_Streptococcus_salivarius_DSM_20560                                         0.191558   \n",
       "\n",
       "                                                    M_Escherichia_coli_ED1a  \\\n",
       "M_Bacteroides_thetaiotaomicron_VPI_5482                            0.313020   \n",
       "M_Bacteroides_uniformis_ATCC_8492                                  0.372418   \n",
       "M_Escherichia_coli_ED1a                                            1.000000   \n",
       "M_Fusobacterium_nucleatum_subsp_nucleatum_ATCC_...                 0.207731   \n",
       "M_Roseburia_intestinalis_L1_82                                     0.289220   \n",
       "M_Streptococcus_parasanguinis_ATCC_15912                           0.205633   \n",
       "M_Streptococcus_salivarius_DSM_20560                               0.159945   \n",
       "\n",
       "                                                    M_Fusobacterium_nucleatum_subsp_nucleatum_ATCC_25586  \\\n",
       "M_Bacteroides_thetaiotaomicron_VPI_5482                                                      0.242140      \n",
       "M_Bacteroides_uniformis_ATCC_8492                                                            0.227632      \n",
       "M_Escherichia_coli_ED1a                                                                      0.207731      \n",
       "M_Fusobacterium_nucleatum_subsp_nucleatum_ATCC_...                                           1.000000      \n",
       "M_Roseburia_intestinalis_L1_82                                                               0.228060      \n",
       "M_Streptococcus_parasanguinis_ATCC_15912                                                     0.247931      \n",
       "M_Streptococcus_salivarius_DSM_20560                                                         0.282738      \n",
       "\n",
       "                                                    M_Roseburia_intestinalis_L1_82  \\\n",
       "M_Bacteroides_thetaiotaomicron_VPI_5482                                   0.276244   \n",
       "M_Bacteroides_uniformis_ATCC_8492                                         0.371830   \n",
       "M_Escherichia_coli_ED1a                                                   0.289220   \n",
       "M_Fusobacterium_nucleatum_subsp_nucleatum_ATCC_...                        0.228060   \n",
       "M_Roseburia_intestinalis_L1_82                                            1.000000   \n",
       "M_Streptococcus_parasanguinis_ATCC_15912                                  0.198053   \n",
       "M_Streptococcus_salivarius_DSM_20560                                      0.222118   \n",
       "\n",
       "                                                    M_Streptococcus_parasanguinis_ATCC_15912  \\\n",
       "M_Bacteroides_thetaiotaomicron_VPI_5482                                             0.183886   \n",
       "M_Bacteroides_uniformis_ATCC_8492                                                   0.176860   \n",
       "M_Escherichia_coli_ED1a                                                             0.205633   \n",
       "M_Fusobacterium_nucleatum_subsp_nucleatum_ATCC_...                                  0.247931   \n",
       "M_Roseburia_intestinalis_L1_82                                                      0.198053   \n",
       "M_Streptococcus_parasanguinis_ATCC_15912                                            1.000000   \n",
       "M_Streptococcus_salivarius_DSM_20560                                                0.289599   \n",
       "\n",
       "                                                    M_Streptococcus_salivarius_DSM_20560  \n",
       "M_Bacteroides_thetaiotaomicron_VPI_5482                                         0.206426  \n",
       "M_Bacteroides_uniformis_ATCC_8492                                               0.191558  \n",
       "M_Escherichia_coli_ED1a                                                         0.159945  \n",
       "M_Fusobacterium_nucleatum_subsp_nucleatum_ATCC_...                              0.282738  \n",
       "M_Roseburia_intestinalis_L1_82                                                  0.222118  \n",
       "M_Streptococcus_parasanguinis_ATCC_15912                                        0.289599  \n",
       "M_Streptococcus_salivarius_DSM_20560                                            1.000000  "
      ]
     },
     "execution_count": 9,
     "metadata": {},
     "output_type": "execute_result"
    }
   ],
   "source": [
    "mets"
   ]
  },
  {
   "cell_type": "raw",
   "id": "f81998f6",
   "metadata": {},
   "source": [
    "labels = ['Bt','Bu','Ec','Fn','Ri','Sp','Ss']\n",
    "g = sns.heatmap(mets, cmap = 'vlag',annot=True,xticklabels=labels,yticklabels=labels)\n",
    "g.tick_params(axis='both', which='both', length=0)\n",
    "g.set_ylabel('')\n",
    "plt.savefig('../data/images/ec_metsover.png', bbox_inches='tight')"
   ]
  },
  {
   "cell_type": "code",
   "execution_count": 10,
   "id": "562cdf7d",
   "metadata": {},
   "outputs": [
    {
     "data": {
      "text/html": [
       "<div>\n",
       "<style scoped>\n",
       "    .dataframe tbody tr th:only-of-type {\n",
       "        vertical-align: middle;\n",
       "    }\n",
       "\n",
       "    .dataframe tbody tr th {\n",
       "        vertical-align: top;\n",
       "    }\n",
       "\n",
       "    .dataframe thead th {\n",
       "        text-align: right;\n",
       "    }\n",
       "</style>\n",
       "<table border=\"1\" class=\"dataframe\">\n",
       "  <thead>\n",
       "    <tr style=\"text-align: right;\">\n",
       "      <th></th>\n",
       "      <th>M_Bacteroides_thetaiotaomicron_VPI_5482</th>\n",
       "      <th>M_Bacteroides_uniformis_ATCC_8492</th>\n",
       "      <th>M_Escherichia_coli_ED1a</th>\n",
       "      <th>M_Fusobacterium_nucleatum_subsp_nucleatum_ATCC_25586</th>\n",
       "      <th>M_Roseburia_intestinalis_L1_82</th>\n",
       "      <th>M_Streptococcus_parasanguinis_ATCC_15912</th>\n",
       "      <th>M_Streptococcus_salivarius_DSM_20560</th>\n",
       "    </tr>\n",
       "  </thead>\n",
       "  <tbody>\n",
       "    <tr>\n",
       "      <th>M_Bacteroides_thetaiotaomicron_VPI_5482</th>\n",
       "      <td>1.000000</td>\n",
       "      <td>0.276175</td>\n",
       "      <td>0.344871</td>\n",
       "      <td>0.200409</td>\n",
       "      <td>0.099989</td>\n",
       "      <td>0.140946</td>\n",
       "      <td>0.152311</td>\n",
       "    </tr>\n",
       "    <tr>\n",
       "      <th>M_Bacteroides_uniformis_ATCC_8492</th>\n",
       "      <td>0.276175</td>\n",
       "      <td>1.000000</td>\n",
       "      <td>0.214390</td>\n",
       "      <td>0.054240</td>\n",
       "      <td>0.259388</td>\n",
       "      <td>0.019562</td>\n",
       "      <td>0.016423</td>\n",
       "    </tr>\n",
       "    <tr>\n",
       "      <th>M_Escherichia_coli_ED1a</th>\n",
       "      <td>0.344871</td>\n",
       "      <td>0.214390</td>\n",
       "      <td>1.000000</td>\n",
       "      <td>0.201928</td>\n",
       "      <td>0.084260</td>\n",
       "      <td>0.180776</td>\n",
       "      <td>0.138290</td>\n",
       "    </tr>\n",
       "    <tr>\n",
       "      <th>M_Fusobacterium_nucleatum_subsp_nucleatum_ATCC_25586</th>\n",
       "      <td>0.200409</td>\n",
       "      <td>0.054240</td>\n",
       "      <td>0.201928</td>\n",
       "      <td>1.000000</td>\n",
       "      <td>0.030414</td>\n",
       "      <td>0.207520</td>\n",
       "      <td>0.221536</td>\n",
       "    </tr>\n",
       "    <tr>\n",
       "      <th>M_Roseburia_intestinalis_L1_82</th>\n",
       "      <td>0.099989</td>\n",
       "      <td>0.259388</td>\n",
       "      <td>0.084260</td>\n",
       "      <td>0.030414</td>\n",
       "      <td>1.000000</td>\n",
       "      <td>0.037126</td>\n",
       "      <td>0.034765</td>\n",
       "    </tr>\n",
       "    <tr>\n",
       "      <th>M_Streptococcus_parasanguinis_ATCC_15912</th>\n",
       "      <td>0.140946</td>\n",
       "      <td>0.019562</td>\n",
       "      <td>0.180776</td>\n",
       "      <td>0.207520</td>\n",
       "      <td>0.037126</td>\n",
       "      <td>1.000000</td>\n",
       "      <td>0.322044</td>\n",
       "    </tr>\n",
       "    <tr>\n",
       "      <th>M_Streptococcus_salivarius_DSM_20560</th>\n",
       "      <td>0.152311</td>\n",
       "      <td>0.016423</td>\n",
       "      <td>0.138290</td>\n",
       "      <td>0.221536</td>\n",
       "      <td>0.034765</td>\n",
       "      <td>0.322044</td>\n",
       "      <td>1.000000</td>\n",
       "    </tr>\n",
       "  </tbody>\n",
       "</table>\n",
       "</div>"
      ],
      "text/plain": [
       "                                                    M_Bacteroides_thetaiotaomicron_VPI_5482  \\\n",
       "M_Bacteroides_thetaiotaomicron_VPI_5482                                            1.000000   \n",
       "M_Bacteroides_uniformis_ATCC_8492                                                  0.276175   \n",
       "M_Escherichia_coli_ED1a                                                            0.344871   \n",
       "M_Fusobacterium_nucleatum_subsp_nucleatum_ATCC_...                                 0.200409   \n",
       "M_Roseburia_intestinalis_L1_82                                                     0.099989   \n",
       "M_Streptococcus_parasanguinis_ATCC_15912                                           0.140946   \n",
       "M_Streptococcus_salivarius_DSM_20560                                               0.152311   \n",
       "\n",
       "                                                    M_Bacteroides_uniformis_ATCC_8492  \\\n",
       "M_Bacteroides_thetaiotaomicron_VPI_5482                                      0.276175   \n",
       "M_Bacteroides_uniformis_ATCC_8492                                            1.000000   \n",
       "M_Escherichia_coli_ED1a                                                      0.214390   \n",
       "M_Fusobacterium_nucleatum_subsp_nucleatum_ATCC_...                           0.054240   \n",
       "M_Roseburia_intestinalis_L1_82                                               0.259388   \n",
       "M_Streptococcus_parasanguinis_ATCC_15912                                     0.019562   \n",
       "M_Streptococcus_salivarius_DSM_20560                                         0.016423   \n",
       "\n",
       "                                                    M_Escherichia_coli_ED1a  \\\n",
       "M_Bacteroides_thetaiotaomicron_VPI_5482                            0.344871   \n",
       "M_Bacteroides_uniformis_ATCC_8492                                  0.214390   \n",
       "M_Escherichia_coli_ED1a                                            1.000000   \n",
       "M_Fusobacterium_nucleatum_subsp_nucleatum_ATCC_...                 0.201928   \n",
       "M_Roseburia_intestinalis_L1_82                                     0.084260   \n",
       "M_Streptococcus_parasanguinis_ATCC_15912                           0.180776   \n",
       "M_Streptococcus_salivarius_DSM_20560                               0.138290   \n",
       "\n",
       "                                                    M_Fusobacterium_nucleatum_subsp_nucleatum_ATCC_25586  \\\n",
       "M_Bacteroides_thetaiotaomicron_VPI_5482                                                      0.200409      \n",
       "M_Bacteroides_uniformis_ATCC_8492                                                            0.054240      \n",
       "M_Escherichia_coli_ED1a                                                                      0.201928      \n",
       "M_Fusobacterium_nucleatum_subsp_nucleatum_ATCC_...                                           1.000000      \n",
       "M_Roseburia_intestinalis_L1_82                                                               0.030414      \n",
       "M_Streptococcus_parasanguinis_ATCC_15912                                                     0.207520      \n",
       "M_Streptococcus_salivarius_DSM_20560                                                         0.221536      \n",
       "\n",
       "                                                    M_Roseburia_intestinalis_L1_82  \\\n",
       "M_Bacteroides_thetaiotaomicron_VPI_5482                                   0.099989   \n",
       "M_Bacteroides_uniformis_ATCC_8492                                         0.259388   \n",
       "M_Escherichia_coli_ED1a                                                   0.084260   \n",
       "M_Fusobacterium_nucleatum_subsp_nucleatum_ATCC_...                        0.030414   \n",
       "M_Roseburia_intestinalis_L1_82                                            1.000000   \n",
       "M_Streptococcus_parasanguinis_ATCC_15912                                  0.037126   \n",
       "M_Streptococcus_salivarius_DSM_20560                                      0.034765   \n",
       "\n",
       "                                                    M_Streptococcus_parasanguinis_ATCC_15912  \\\n",
       "M_Bacteroides_thetaiotaomicron_VPI_5482                                             0.140946   \n",
       "M_Bacteroides_uniformis_ATCC_8492                                                   0.019562   \n",
       "M_Escherichia_coli_ED1a                                                             0.180776   \n",
       "M_Fusobacterium_nucleatum_subsp_nucleatum_ATCC_...                                  0.207520   \n",
       "M_Roseburia_intestinalis_L1_82                                                      0.037126   \n",
       "M_Streptococcus_parasanguinis_ATCC_15912                                            1.000000   \n",
       "M_Streptococcus_salivarius_DSM_20560                                                0.322044   \n",
       "\n",
       "                                                    M_Streptococcus_salivarius_DSM_20560  \n",
       "M_Bacteroides_thetaiotaomicron_VPI_5482                                         0.152311  \n",
       "M_Bacteroides_uniformis_ATCC_8492                                               0.016423  \n",
       "M_Escherichia_coli_ED1a                                                         0.138290  \n",
       "M_Fusobacterium_nucleatum_subsp_nucleatum_ATCC_...                              0.221536  \n",
       "M_Roseburia_intestinalis_L1_82                                                  0.034765  \n",
       "M_Streptococcus_parasanguinis_ATCC_15912                                        0.322044  \n",
       "M_Streptococcus_salivarius_DSM_20560                                            1.000000  "
      ]
     },
     "execution_count": 10,
     "metadata": {},
     "output_type": "execute_result"
    }
   ],
   "source": [
    "rxns"
   ]
  },
  {
   "cell_type": "raw",
   "id": "531c5e2b",
   "metadata": {},
   "source": [
    "g = sns.heatmap(rxns, cmap = 'vlag',annot=True,xticklabels=labels,yticklabels=labels)\n",
    "g.tick_params(axis='both', which='both', length=0)\n",
    "g.set_ylabel('')\n",
    "plt.savefig('../data/images/ec_rxnsover.png', bbox_inches='tight')"
   ]
  },
  {
   "cell_type": "code",
   "execution_count": 11,
   "id": "8db5b6e3",
   "metadata": {},
   "outputs": [
    {
     "data": {
      "text/html": [
       "<div>\n",
       "<style scoped>\n",
       "    .dataframe tbody tr th:only-of-type {\n",
       "        vertical-align: middle;\n",
       "    }\n",
       "\n",
       "    .dataframe tbody tr th {\n",
       "        vertical-align: top;\n",
       "    }\n",
       "\n",
       "    .dataframe thead th {\n",
       "        text-align: right;\n",
       "    }\n",
       "</style>\n",
       "<table border=\"1\" class=\"dataframe\">\n",
       "  <thead>\n",
       "    <tr style=\"text-align: right;\">\n",
       "      <th></th>\n",
       "      <th>M_Bacteroides_thetaiotaomicron_VPI_5482</th>\n",
       "      <th>M_Bacteroides_uniformis_ATCC_8492</th>\n",
       "      <th>M_Escherichia_coli_ED1a</th>\n",
       "      <th>M_Fusobacterium_nucleatum_subsp_nucleatum_ATCC_25586</th>\n",
       "      <th>M_Roseburia_intestinalis_L1_82</th>\n",
       "      <th>M_Streptococcus_parasanguinis_ATCC_15912</th>\n",
       "      <th>M_Streptococcus_salivarius_DSM_20560</th>\n",
       "    </tr>\n",
       "  </thead>\n",
       "  <tbody>\n",
       "    <tr>\n",
       "      <th>M_Bacteroides_thetaiotaomicron_VPI_5482</th>\n",
       "      <td>1.000000</td>\n",
       "      <td>0.802536</td>\n",
       "      <td>0.644578</td>\n",
       "      <td>0.122483</td>\n",
       "      <td>0.708191</td>\n",
       "      <td>0.110924</td>\n",
       "      <td>0.097938</td>\n",
       "    </tr>\n",
       "    <tr>\n",
       "      <th>M_Bacteroides_uniformis_ATCC_8492</th>\n",
       "      <td>0.802536</td>\n",
       "      <td>1.000000</td>\n",
       "      <td>0.703020</td>\n",
       "      <td>0.123340</td>\n",
       "      <td>0.815324</td>\n",
       "      <td>0.123077</td>\n",
       "      <td>0.091262</td>\n",
       "    </tr>\n",
       "    <tr>\n",
       "      <th>M_Escherichia_coli_ED1a</th>\n",
       "      <td>0.644578</td>\n",
       "      <td>0.703020</td>\n",
       "      <td>1.000000</td>\n",
       "      <td>0.200348</td>\n",
       "      <td>0.739353</td>\n",
       "      <td>0.198944</td>\n",
       "      <td>0.166372</td>\n",
       "    </tr>\n",
       "    <tr>\n",
       "      <th>M_Fusobacterium_nucleatum_subsp_nucleatum_ATCC_25586</th>\n",
       "      <td>0.122483</td>\n",
       "      <td>0.123340</td>\n",
       "      <td>0.200348</td>\n",
       "      <td>1.000000</td>\n",
       "      <td>0.174853</td>\n",
       "      <td>0.535714</td>\n",
       "      <td>0.503185</td>\n",
       "    </tr>\n",
       "    <tr>\n",
       "      <th>M_Roseburia_intestinalis_L1_82</th>\n",
       "      <td>0.708191</td>\n",
       "      <td>0.815324</td>\n",
       "      <td>0.739353</td>\n",
       "      <td>0.174853</td>\n",
       "      <td>1.000000</td>\n",
       "      <td>0.194332</td>\n",
       "      <td>0.168724</td>\n",
       "    </tr>\n",
       "    <tr>\n",
       "      <th>M_Streptococcus_parasanguinis_ATCC_15912</th>\n",
       "      <td>0.110924</td>\n",
       "      <td>0.123077</td>\n",
       "      <td>0.198944</td>\n",
       "      <td>0.535714</td>\n",
       "      <td>0.194332</td>\n",
       "      <td>1.000000</td>\n",
       "      <td>0.652174</td>\n",
       "    </tr>\n",
       "    <tr>\n",
       "      <th>M_Streptococcus_salivarius_DSM_20560</th>\n",
       "      <td>0.097938</td>\n",
       "      <td>0.091262</td>\n",
       "      <td>0.166372</td>\n",
       "      <td>0.503185</td>\n",
       "      <td>0.168724</td>\n",
       "      <td>0.652174</td>\n",
       "      <td>1.000000</td>\n",
       "    </tr>\n",
       "  </tbody>\n",
       "</table>\n",
       "</div>"
      ],
      "text/plain": [
       "                                                    M_Bacteroides_thetaiotaomicron_VPI_5482  \\\n",
       "M_Bacteroides_thetaiotaomicron_VPI_5482                                            1.000000   \n",
       "M_Bacteroides_uniformis_ATCC_8492                                                  0.802536   \n",
       "M_Escherichia_coli_ED1a                                                            0.644578   \n",
       "M_Fusobacterium_nucleatum_subsp_nucleatum_ATCC_...                                 0.122483   \n",
       "M_Roseburia_intestinalis_L1_82                                                     0.708191   \n",
       "M_Streptococcus_parasanguinis_ATCC_15912                                           0.110924   \n",
       "M_Streptococcus_salivarius_DSM_20560                                               0.097938   \n",
       "\n",
       "                                                    M_Bacteroides_uniformis_ATCC_8492  \\\n",
       "M_Bacteroides_thetaiotaomicron_VPI_5482                                      0.802536   \n",
       "M_Bacteroides_uniformis_ATCC_8492                                            1.000000   \n",
       "M_Escherichia_coli_ED1a                                                      0.703020   \n",
       "M_Fusobacterium_nucleatum_subsp_nucleatum_ATCC_...                           0.123340   \n",
       "M_Roseburia_intestinalis_L1_82                                               0.815324   \n",
       "M_Streptococcus_parasanguinis_ATCC_15912                                     0.123077   \n",
       "M_Streptococcus_salivarius_DSM_20560                                         0.091262   \n",
       "\n",
       "                                                    M_Escherichia_coli_ED1a  \\\n",
       "M_Bacteroides_thetaiotaomicron_VPI_5482                            0.644578   \n",
       "M_Bacteroides_uniformis_ATCC_8492                                  0.703020   \n",
       "M_Escherichia_coli_ED1a                                            1.000000   \n",
       "M_Fusobacterium_nucleatum_subsp_nucleatum_ATCC_...                 0.200348   \n",
       "M_Roseburia_intestinalis_L1_82                                     0.739353   \n",
       "M_Streptococcus_parasanguinis_ATCC_15912                           0.198944   \n",
       "M_Streptococcus_salivarius_DSM_20560                               0.166372   \n",
       "\n",
       "                                                    M_Fusobacterium_nucleatum_subsp_nucleatum_ATCC_25586  \\\n",
       "M_Bacteroides_thetaiotaomicron_VPI_5482                                                      0.122483      \n",
       "M_Bacteroides_uniformis_ATCC_8492                                                            0.123340      \n",
       "M_Escherichia_coli_ED1a                                                                      0.200348      \n",
       "M_Fusobacterium_nucleatum_subsp_nucleatum_ATCC_...                                           1.000000      \n",
       "M_Roseburia_intestinalis_L1_82                                                               0.174853      \n",
       "M_Streptococcus_parasanguinis_ATCC_15912                                                     0.535714      \n",
       "M_Streptococcus_salivarius_DSM_20560                                                         0.503185      \n",
       "\n",
       "                                                    M_Roseburia_intestinalis_L1_82  \\\n",
       "M_Bacteroides_thetaiotaomicron_VPI_5482                                   0.708191   \n",
       "M_Bacteroides_uniformis_ATCC_8492                                         0.815324   \n",
       "M_Escherichia_coli_ED1a                                                   0.739353   \n",
       "M_Fusobacterium_nucleatum_subsp_nucleatum_ATCC_...                        0.174853   \n",
       "M_Roseburia_intestinalis_L1_82                                            1.000000   \n",
       "M_Streptococcus_parasanguinis_ATCC_15912                                  0.194332   \n",
       "M_Streptococcus_salivarius_DSM_20560                                      0.168724   \n",
       "\n",
       "                                                    M_Streptococcus_parasanguinis_ATCC_15912  \\\n",
       "M_Bacteroides_thetaiotaomicron_VPI_5482                                             0.110924   \n",
       "M_Bacteroides_uniformis_ATCC_8492                                                   0.123077   \n",
       "M_Escherichia_coli_ED1a                                                             0.198944   \n",
       "M_Fusobacterium_nucleatum_subsp_nucleatum_ATCC_...                                  0.535714   \n",
       "M_Roseburia_intestinalis_L1_82                                                      0.194332   \n",
       "M_Streptococcus_parasanguinis_ATCC_15912                                            1.000000   \n",
       "M_Streptococcus_salivarius_DSM_20560                                                0.652174   \n",
       "\n",
       "                                                    M_Streptococcus_salivarius_DSM_20560  \n",
       "M_Bacteroides_thetaiotaomicron_VPI_5482                                         0.097938  \n",
       "M_Bacteroides_uniformis_ATCC_8492                                               0.091262  \n",
       "M_Escherichia_coli_ED1a                                                         0.166372  \n",
       "M_Fusobacterium_nucleatum_subsp_nucleatum_ATCC_...                              0.503185  \n",
       "M_Roseburia_intestinalis_L1_82                                                  0.168724  \n",
       "M_Streptococcus_parasanguinis_ATCC_15912                                        0.652174  \n",
       "M_Streptococcus_salivarius_DSM_20560                                            1.000000  "
      ]
     },
     "execution_count": 11,
     "metadata": {},
     "output_type": "execute_result"
    }
   ],
   "source": [
    "over"
   ]
  },
  {
   "cell_type": "raw",
   "id": "80d5381f",
   "metadata": {},
   "source": [
    "g = sns.heatmap(over, cmap = 'vlag',annot=True,xticklabels=labels,yticklabels=labels)\n",
    "g.tick_params(axis='both', which='both', length=0)\n",
    "g.set_ylabel('')\n",
    "plt.savefig('../data/images/ec_uptakeover.png', bbox_inches='tight')"
   ]
  },
  {
   "cell_type": "code",
   "execution_count": 12,
   "id": "7ddb835e",
   "metadata": {},
   "outputs": [],
   "source": [
    "sample1 = CommunityModel([bt,ec],flavor='reframed')\n",
    "sample2 = CommunityModel([bt,bu],flavor='reframed')\n",
    "sample3 = CommunityModel([bt,fn],flavor='reframed')\n",
    "sample4 = CommunityModel([bt,ri],flavor='reframed')\n",
    "sample5 = CommunityModel([bt,sp],flavor='reframed')\n",
    "sample6 = CommunityModel([bt,ss],flavor='reframed')"
   ]
  },
  {
   "cell_type": "code",
   "execution_count": 13,
   "id": "d7a1afc1",
   "metadata": {},
   "outputs": [
    {
     "name": "stdout",
     "output_type": "stream",
     "text": [
      "Adding M_Bacteroides_thetaiotaomicron_VPI_5482\n"
     ]
    },
    {
     "name": "stderr",
     "output_type": "stream",
     "text": [
      "Adding internal compartments: 100%|███████████████████████████████████████████████████████████████████████████████████████████████████████████████████████████████████████████████████████████████████████████████████████████████████████████████████████████████████████████████████████████████████████████████████████████████████████████████████████████████████████████████████████████████| 3/3 [00:00<00:00, 48.18it/s]\n",
      "Adding metabolites: 100%|████████████████████████████████████████████████████████████████████████████████████████████████████████████████████████████████████████████████████████████████████████████████████████████████████████████████████████████████████████████████████████████████████████████████████████████████████████████████████████████████████████████████████████████████| 2865/2865 [00:00<00:00, 38595.91it/s]\n",
      "Adding genes: 100%|████████████████████████████████████████████████████████████████████████████████████████████████████████████████████████████████████████████████████████████████████████████████████████████████████████████████████████████████████████████████████████████████████████████████████████████████████████████████████████████████████████████████████████████████████████| 823/823 [00:00<00:00, 52281.10it/s]\n",
      "Adding reactions: 100%|█████████████████████████████████████████████████████████████████████████████████████████████████████████████████████████████████████████████████████████████████████████████████████████████████████████████████████████████████████████████████████████████████████████████████████████████████████████████████████████████████████████████████████████████████████| 4740/4740 [07:10<00:00, 11.02it/s]\n"
     ]
    },
    {
     "name": "stdout",
     "output_type": "stream",
     "text": [
      "Adding M_Escherichia_coli_ED1a\n"
     ]
    },
    {
     "name": "stderr",
     "output_type": "stream",
     "text": [
      "Adding internal compartments: 100%|███████████████████████████████████████████████████████████████████████████████████████████████████████████████████████████████████████████████████████████████████████████████████████████████████████████████████████████████████████████████████████████████████████████████████████████████████████████████████████████████████████████████████████████████| 3/3 [00:00<00:00, 44.95it/s]\n",
      "Adding metabolites: 100%|████████████████████████████████████████████████████████████████████████████████████████████████████████████████████████████████████████████████████████████████████████████████████████████████████████████████████████████████████████████████████████████████████████████████████████████████████████████████████████████████████████████████████████████████| 4547/4547 [00:00<00:00, 30244.57it/s]\n",
      "Adding genes: 100%|██████████████████████████████████████████████████████████████████████████████████████████████████████████████████████████████████████████████████████████████████████████████████████████████████████████████████████████████████████████████████████████████████████████████████████████████████████████████████████████████████████████████████████████████████████| 1427/1427 [00:00<00:00, 49545.72it/s]\n",
      "Adding reactions: 100%|█████████████████████████████████████████████████████████████████████████████████████████████████████████████████████████████████████████████████████████████████████████████████████████████████████████████████████████████████████████████████████████████████████████████████████████████████████████████████████████████████████████████████████████████████████| 6916/6916 [16:20<00:00,  7.05it/s]\n",
      "Adding exchange reactions: 100%|██████████████████████████████████████████████████████████████████████████████████████████████████████████████████████████████████████████████████████████████████████████████████████████████████████████████████████████████████████████████████████████████████████████████████████████████████████████████████████████████████████████████████████████| 664/664 [00:00<00:00, 152796.28it/s]\n"
     ]
    }
   ],
   "source": [
    "sim1 = sample1.get_community_model()"
   ]
  },
  {
   "cell_type": "code",
   "execution_count": 34,
   "id": "522c1aac",
   "metadata": {},
   "outputs": [
    {
     "name": "stdout",
     "output_type": "stream",
     "text": [
      "objective: 0.0010160868527110606\n",
      "Status: OPTIMAL\n",
      "Method:FBA\n"
     ]
    },
    {
     "name": "stderr",
     "output_type": "stream",
     "text": [
      "/home/mmartins/anaconda3/envs/tmcom/lib/python3.9/site-packages/reframed/solvers/gurobi_solver.py:236: UserWarning: Constrained variable 'R_EX_cellb[e]' not previously declared\n",
      "  warn(f\"Constrained variable '{r_id}' not previously declared\")\n",
      "/home/mmartins/anaconda3/envs/tmcom/lib/python3.9/site-packages/reframed/solvers/gurobi_solver.py:236: UserWarning: Constrained variable 'R_EX_nad[e]' not previously declared\n",
      "  warn(f\"Constrained variable '{r_id}' not previously declared\")\n",
      "/home/mmartins/anaconda3/envs/tmcom/lib/python3.9/site-packages/reframed/solvers/gurobi_solver.py:236: UserWarning: Constrained variable 'R_EX_cys_L[e]' not previously declared\n",
      "  warn(f\"Constrained variable '{r_id}' not previously declared\")\n",
      "/home/mmartins/anaconda3/envs/tmcom/lib/python3.9/site-packages/reframed/solvers/gurobi_solver.py:236: UserWarning: Constrained variable 'R_EX_ade[e]' not previously declared\n",
      "  warn(f\"Constrained variable '{r_id}' not previously declared\")\n",
      "/home/mmartins/anaconda3/envs/tmcom/lib/python3.9/site-packages/reframed/solvers/gurobi_solver.py:236: UserWarning: Constrained variable 'R_EX_gua[e]' not previously declared\n",
      "  warn(f\"Constrained variable '{r_id}' not previously declared\")\n",
      "/home/mmartins/anaconda3/envs/tmcom/lib/python3.9/site-packages/reframed/solvers/gurobi_solver.py:236: UserWarning: Constrained variable 'R_EX_mgcl2[e]' not previously declared\n",
      "  warn(f\"Constrained variable '{r_id}' not previously declared\")\n",
      "/home/mmartins/anaconda3/envs/tmcom/lib/python3.9/site-packages/reframed/solvers/gurobi_solver.py:236: UserWarning: Constrained variable 'R_EX_gthrd[e]' not previously declared\n",
      "  warn(f\"Constrained variable '{r_id}' not previously declared\")\n"
     ]
    }
   ],
   "source": [
    "constraints = {'R_EX_glc_D[e]':(-5,100), # D-glucose\n",
    "               'R_EX_fru[e]':(-1,inf), # Fructose\n",
    "               'R_EX_cellb[e]':(-1,100), # Cellobiose\n",
    "               'R_EX_malt[e]':(-1,100), # Maltose\n",
    "               'R_EX_lcts[e]':(-1,100), # Lactose\n",
    "               'R_EX_inulin[e]':(-1,100), # Inulin\n",
    "               'R_EX_nad[e]':(-1,100), # NAD\n",
    "               'R_EX_his_L[e]':(-0.171,100), # L-Histidine\n",
    "               'R_EX_ile_L[e]':(-0.24,100), # L-Isoleucine\n",
    "               'R_EX_leu_L[e]':(-1,100), # L-Leucine\n",
    "               'R_EX_met_L[e]':(-0.125,100), # L-Methionine\n",
    "               'R_EX_val_L[e]':(-0.7,100), # L-Valine\n",
    "               'R_EX_arg_L[e]':(-0.72,100), # L-Arginine\n",
    "               'R_EX_cys_L[e]':(-0.5,100), # L-Cysteine\n",
    "               'R_EX_glu_L[e]':(-0.6,100), # L-Glutamate\n",
    "               'R_EX_phe_L[e]':(-0.4,100), # L-Phenylalanine\n",
    "               'R_EX_pro_L[e]':(-0.7,100), # L-Proline\n",
    "               'R_EX_asn_L[e]':(-0.5,100), # L-Asparagine\n",
    "               'R_EX_asp_L[e]':(-0.05,100), # L-Aspartate\n",
    "               'R_EX_gln_L[e]':(-0.6,100), # L-Glutamine\n",
    "               'R_EX_ser_L[e]':(-0.5,100), # L-Serine\n",
    "               'R_EX_thr_L[e]':(-0.5,100), # L-Threonine\n",
    "               'R_EX_ala_L[e]':(-0.4,100), # L-Alanine\n",
    "               'R_EX_gly[e]':(-0.3,100), # Glycine\n",
    "               'R_EX_lys_L[e]':(-0.5,100), # L-Lysine\n",
    "               'R_EX_trp_L[e]':(-0.2,100), # L-Tryptophan\n",
    "               'R_EX_tyr_L[e]':(-0.3,100), # L-Tyrosine\n",
    "               'R_EX_ade[e]':(-0.011,100), # Adenine\n",
    "               'R_EX_gua[e]':(-0.0056,100), # Guanine\n",
    "               'R_EX_ura[e]':(-0.023,100), # Uracil\n",
    "               'R_EX_xan[e]':(-0.0038,100), # Xanthine\n",
    "               'R_EX_mgcl2[e]':(-0.386,100), # Magnesium Chloride\n",
    "               'R_EX_btn[e]':(-6.02,100), # Biotin\n",
    "               'R_EX_ribflv[e]':(-0.9,100), # Riboflavin\n",
    "               'R_EX_fol[e]':(-0.56,100), # Folate\n",
    "               'R_EX_nac[e]':(-0.9,100), # Niacin\n",
    "               'R_EX_inost[e]':(-0.2,100), # Inositol\n",
    "               'R_EX_gthrd[e]':(-0.9,100), # L-Glutathione reduced\n",
    "               \n",
    "               'R_EX_pheme[e]': (-0.000007, 100), # Heme (organic iron)\n",
    "               'R_EX_fe2[e]': (-0.000082, 100), # Iron (Fe2+)\n",
    "               'R_prot_pool_exchange_M_Bacteroides_thetaiotaomicron_VPI_5482':(0,0.05),\n",
    "               'R_prot_pool_exchange_M_Escherichia_coli_ED1a':(0,0.13)}\n",
    "\n",
    "solution1 = sim1.simulate(method='FBA',constraints=constraints)\n",
    "\n",
    "print(solution1)"
   ]
  },
  {
   "cell_type": "code",
   "execution_count": 35,
   "id": "ae2c3502",
   "metadata": {},
   "outputs": [
    {
     "name": "stdout",
     "output_type": "stream",
     "text": [
      "                  Flux rate\n",
      "Reaction ID                \n",
      "R_EX_fe2[e]   -1.144868e-07\n",
      "R_EX_pheme[e] -3.146313e-06\n"
     ]
    }
   ],
   "source": [
    "print(solution1.find(['R_EX_fe2','R_EX_pheme']))"
   ]
  },
  {
   "cell_type": "code",
   "execution_count": 36,
   "id": "ed7a911e",
   "metadata": {},
   "outputs": [
    {
     "name": "stdout",
     "output_type": "stream",
     "text": [
      "Empty DataFrame\n",
      "Columns: [Flux rate]\n",
      "Index: []\n"
     ]
    }
   ],
   "source": [
    "print(solution1.find('R_EX_fru'))"
   ]
  },
  {
   "cell_type": "code",
   "execution_count": 37,
   "id": "0602dce3",
   "metadata": {},
   "outputs": [
    {
     "name": "stdout",
     "output_type": "stream",
     "text": [
      "                                                    Flux rate\n",
      "Reaction ID                                                  \n",
      "R_prot_pool_exchange_M_Bacteroides_thetaiotaomi...       0.05\n",
      "R_prot_pool_exchange_M_Escherichia_coli_ED1a             0.13\n"
     ]
    }
   ],
   "source": [
    "print(solution1.find(['R_prot_pool']))"
   ]
  },
  {
   "cell_type": "code",
   "execution_count": 38,
   "id": "bf312f04",
   "metadata": {
    "scrolled": true
   },
   "outputs": [
    {
     "data": {
      "text/html": [
       "<div>\n",
       "<style scoped>\n",
       "    .dataframe tbody tr th:only-of-type {\n",
       "        vertical-align: middle;\n",
       "    }\n",
       "\n",
       "    .dataframe tbody tr th {\n",
       "        vertical-align: top;\n",
       "    }\n",
       "\n",
       "    .dataframe thead th {\n",
       "        text-align: right;\n",
       "    }\n",
       "</style>\n",
       "<table border=\"1\" class=\"dataframe\">\n",
       "  <thead>\n",
       "    <tr style=\"text-align: right;\">\n",
       "      <th></th>\n",
       "      <th>Flux rate</th>\n",
       "    </tr>\n",
       "    <tr>\n",
       "      <th>Reaction ID</th>\n",
       "      <th></th>\n",
       "    </tr>\n",
       "  </thead>\n",
       "  <tbody>\n",
       "    <tr>\n",
       "      <th>R_biomass_M_Bacteroides_thetaiotaomicron_VPI_5482</th>\n",
       "      <td>0.000018</td>\n",
       "    </tr>\n",
       "    <tr>\n",
       "      <th>R_biomass_M_Escherichia_coli_ED1a</th>\n",
       "      <td>0.000998</td>\n",
       "    </tr>\n",
       "  </tbody>\n",
       "</table>\n",
       "</div>"
      ],
      "text/plain": [
       "                                                   Flux rate\n",
       "Reaction ID                                                 \n",
       "R_biomass_M_Bacteroides_thetaiotaomicron_VPI_5482   0.000018\n",
       "R_biomass_M_Escherichia_coli_ED1a                   0.000998"
      ]
     },
     "execution_count": 38,
     "metadata": {},
     "output_type": "execute_result"
    }
   ],
   "source": [
    "solution1.find('R_biomass')"
   ]
  },
  {
   "cell_type": "code",
   "execution_count": 39,
   "id": "8085e7d9",
   "metadata": {},
   "outputs": [
    {
     "data": {
      "text/plain": [
       "OrderedDict([('R_EX_glc_D[e]', (-5, 100)),\n",
       "             ('R_EX_fru[e]', (-1, inf)),\n",
       "             ('R_EX_cellb[e]', (-1, 100)),\n",
       "             ('R_EX_malt[e]', (-1, 100)),\n",
       "             ('R_EX_lcts[e]', (-1, 100)),\n",
       "             ('R_EX_inulin[e]', (-1, 100)),\n",
       "             ('R_EX_nad[e]', (-1, 100)),\n",
       "             ('R_EX_his_L[e]', (-0.171, 100)),\n",
       "             ('R_EX_ile_L[e]', (-0.24, 100)),\n",
       "             ('R_EX_leu_L[e]', (-1, 100)),\n",
       "             ('R_EX_met_L[e]', (-0.125, 100)),\n",
       "             ('R_EX_val_L[e]', (-0.7, 100)),\n",
       "             ('R_EX_arg_L[e]', (-0.72, 100)),\n",
       "             ('R_EX_cys_L[e]', (-0.5, 100)),\n",
       "             ('R_EX_glu_L[e]', (-0.6, 100)),\n",
       "             ('R_EX_phe_L[e]', (-0.4, 100)),\n",
       "             ('R_EX_pro_L[e]', (-0.7, 100)),\n",
       "             ('R_EX_asn_L[e]', (-0.5, 100)),\n",
       "             ('R_EX_asp_L[e]', (-0.05, 100)),\n",
       "             ('R_EX_gln_L[e]', (-0.6, 100)),\n",
       "             ('R_EX_ser_L[e]', (-0.5, 100)),\n",
       "             ('R_EX_thr_L[e]', (-0.5, 100)),\n",
       "             ('R_EX_ala_L[e]', (-0.4, 100)),\n",
       "             ('R_EX_gly[e]', (-0.3, 100)),\n",
       "             ('R_EX_lys_L[e]', (-0.5, 100)),\n",
       "             ('R_EX_trp_L[e]', (-0.2, 100)),\n",
       "             ('R_EX_tyr_L[e]', (-0.3, 100)),\n",
       "             ('R_EX_ade[e]', (-0.011, 100)),\n",
       "             ('R_EX_gua[e]', (-0.0056, 100)),\n",
       "             ('R_EX_ura[e]', (-0.023, 100)),\n",
       "             ('R_EX_xan[e]', (-0.0038, 100)),\n",
       "             ('R_EX_mgcl2[e]', (-0.386, 100)),\n",
       "             ('R_EX_btn[e]', (-6.02, 100)),\n",
       "             ('R_EX_ribflv[e]', (-0.9, 100)),\n",
       "             ('R_EX_fol[e]', (-0.56, 100)),\n",
       "             ('R_EX_nac[e]', (-0.9, 100)),\n",
       "             ('R_EX_inost[e]', (-0.2, 100)),\n",
       "             ('R_EX_gthrd[e]', (-0.9, 100)),\n",
       "             ('R_EX_pheme[e]', (-7e-06, 100)),\n",
       "             ('R_EX_fe2[e]', (-8.2e-05, 100)),\n",
       "             ('R_prot_pool_exchange_M_Bacteroides_thetaiotaomicron_VPI_5482',\n",
       "              (0, 0.05)),\n",
       "             ('R_prot_pool_exchange_M_Escherichia_coli_ED1a', (0, 0.13))])"
      ]
     },
     "execution_count": 39,
     "metadata": {},
     "output_type": "execute_result"
    }
   ],
   "source": [
    "solution1.get_constraints()"
   ]
  },
  {
   "cell_type": "markdown",
   "id": "f5062239",
   "metadata": {},
   "source": [
    "## SteadyCom"
   ]
  },
  {
   "cell_type": "code",
   "execution_count": null,
   "id": "0c3146fb",
   "metadata": {},
   "outputs": [],
   "source": [
    "from mewpy.cobra.com import build_problem\n",
    "\n",
    "solver = build_problem(sample1)"
   ]
  },
  {
   "cell_type": "code",
   "execution_count": 50,
   "id": "4c6a13d2",
   "metadata": {},
   "outputs": [],
   "source": [
    "from mewpy.cobra.com import SteadyCom\n",
    "\n",
    "constraints = {'R_EX_glc_D[e]':(-5,100), # D-glucose\n",
    "               'R_EX_fru[e]':(-1,inf), # Fructose\n",
    "               'R_EX_cellb[e]':(-1,100), # Cellobiose\n",
    "               'R_EX_malt[e]':(-1,100), # Maltose\n",
    "               'R_EX_lcts[e]':(-1,100), # Lactose\n",
    "               'R_EX_inulin[e]':(-1,100), # Inulin\n",
    "               'R_EX_nad[e]':(-1,100), # NAD\n",
    "               'R_EX_his_L[e]':(-0.171,100), # L-Histidine\n",
    "               'R_EX_ile_L[e]':(-0.24,100), # L-Isoleucine\n",
    "               'R_EX_leu_L[e]':(-1,100), # L-Leucine\n",
    "               'R_EX_met_L[e]':(-0.125,100), # L-Methionine\n",
    "               'R_EX_val_L[e]':(-0.7,100), # L-Valine\n",
    "               'R_EX_arg_L[e]':(-0.72,100), # L-Arginine\n",
    "               'R_EX_cys_L[e]':(-0.5,100), # L-Cysteine\n",
    "               'R_EX_glu_L[e]':(-0.6,100), # L-Glutamate\n",
    "               'R_EX_phe_L[e]':(-0.4,100), # L-Phenylalanine\n",
    "               'R_EX_pro_L[e]':(-0.7,100), # L-Proline\n",
    "               'R_EX_asn_L[e]':(-0.5,100), # L-Asparagine\n",
    "               'R_EX_asp_L[e]':(-0.05,100), # L-Aspartate\n",
    "               'R_EX_gln_L[e]':(-0.6,100), # L-Glutamine\n",
    "               'R_EX_ser_L[e]':(-0.5,100), # L-Serine\n",
    "               'R_EX_thr_L[e]':(-0.5,100), # L-Threonine\n",
    "               'R_EX_ala_L[e]':(-0.4,100), # L-Alanine\n",
    "               'R_EX_gly[e]':(-0.3,100), # Glycine\n",
    "               'R_EX_lys_L[e]':(-0.5,100), # L-Lysine\n",
    "               'R_EX_trp_L[e]':(-0.2,100), # L-Tryptophan\n",
    "               'R_EX_tyr_L[e]':(-0.3,100), # L-Tyrosine\n",
    "               'R_EX_ade[e]':(-0.011,100), # Adenine\n",
    "               'R_EX_gua[e]':(-0.0056,100), # Guanine\n",
    "               'R_EX_ura[e]':(-0.023,100), # Uracil\n",
    "               'R_EX_xan[e]':(-0.0038,100), # Xanthine\n",
    "               'R_EX_mgcl2[e]':(-0.386,100), # Magnesium Chloride\n",
    "               'R_EX_btn[e]':(-6.02,100), # Biotin\n",
    "               'R_EX_ribflv[e]':(-0.9,100), # Riboflavin\n",
    "               'R_EX_fol[e]':(-0.56,100), # Folate\n",
    "               'R_EX_nac[e]':(-0.9,100), # Niacin\n",
    "               'R_EX_inost[e]':(-0.2,100), # Inositol\n",
    "               'R_EX_gthrd[e]':(-0.9,100), # L-Glutathione reduced\n",
    "               \n",
    "               'R_EX_pheme[e]': (-0.000007, 100), # Heme (organic iron)\n",
    "               'R_EX_fe2[e]': (-0.000082, 100) # Iron (Fe2+)\n",
    "}\n",
    "\n",
    "solution1 = SteadyCom(sample1,constraints=constraints,solver = solver)"
   ]
  },
  {
   "cell_type": "code",
   "execution_count": 48,
   "id": "45b13ae0",
   "metadata": {},
   "outputs": [
    {
     "name": "stdout",
     "output_type": "stream",
     "text": [
      "Community growth: 7.658203125\n",
      "M_Bacteroides_thetaiotaomicron_VPI_5482\t0.0\n",
      "M_Escherichia_coli_ED1a\t1.0\n"
     ]
    }
   ],
   "source": [
    "print(solution1)"
   ]
  },
  {
   "cell_type": "code",
   "execution_count": 11,
   "id": "bfd12576",
   "metadata": {},
   "outputs": [
    {
     "ename": "NameError",
     "evalue": "name 'sim1' is not defined",
     "output_type": "error",
     "traceback": [
      "\u001b[0;31m---------------------------------------------------------------------------\u001b[0m",
      "\u001b[0;31mNameError\u001b[0m                                 Traceback (most recent call last)",
      "Cell \u001b[0;32mIn[11], line 4\u001b[0m\n\u001b[1;32m      1\u001b[0m reaction_map \u001b[38;5;241m=\u001b[39m sample1\u001b[38;5;241m.\u001b[39mreaction_map\n\u001b[1;32m      2\u001b[0m exchanges \u001b[38;5;241m=\u001b[39m {}\n\u001b[0;32m----> 4\u001b[0m \u001b[38;5;28;01mfor\u001b[39;00m m_id \u001b[38;5;129;01min\u001b[39;00m \u001b[43msim1\u001b[49m\u001b[38;5;241m.\u001b[39mget_external_metabolites():\n\u001b[1;32m      5\u001b[0m     \u001b[38;5;28;01mif\u001b[39;00m sample1\u001b[38;5;241m.\u001b[39mflavor \u001b[38;5;241m==\u001b[39m \u001b[38;5;124m'\u001b[39m\u001b[38;5;124mreframed\u001b[39m\u001b[38;5;124m'\u001b[39m:\n\u001b[1;32m      6\u001b[0m         m_id \u001b[38;5;241m=\u001b[39m m_id\u001b[38;5;241m.\u001b[39mstrip(\u001b[38;5;124m'\u001b[39m\u001b[38;5;124mM_\u001b[39m\u001b[38;5;124m'\u001b[39m)\n",
      "\u001b[0;31mNameError\u001b[0m: name 'sim1' is not defined"
     ]
    }
   ],
   "source": [
    "reaction_map = sample1.reaction_map\n",
    "exchanges = {}\n",
    "\n",
    "for m_id in sim1.get_external_metabolites():\n",
    "    if sample1.flavor == 'reframed':\n",
    "        m_id = m_id.strip('M_')\n",
    "    for org_id, organism in sample1.organisms.items():\n",
    "        #org_id = org_id.strip('M_')\n",
    "        #print(m_id)\n",
    "        rate = 0\n",
    "        if m_id not in organism.metabolites:\n",
    "            #print('no')\n",
    "            continue\n",
    "        for r_id in organism.get_metabolite_reactions(m_id):\n",
    "            #print(r_id)\n",
    "            if (org_id, r_id) not in reaction_map:\n",
    "                print(r_id)\n",
    "                #print('no')\n",
    "                continue\n",
    "\n",
    "            flux = solution1.values[reaction_map[(org_id, r_id)]]\n",
    "            #print(flux)\n",
    "            if flux != 0:\n",
    "                coeff = organism.get_reaction(r_id).stoichiometry[m_id]\n",
    "                rate += coeff*flux\n",
    "\n",
    "        if rate != 0:\n",
    "            exchanges[(org_id, m_id)] = rate\n",
    "print(exchanges)"
   ]
  },
  {
   "cell_type": "code",
   "execution_count": null,
   "id": "1c79379a",
   "metadata": {},
   "outputs": [],
   "source": [
    "sample1.reaction_map"
   ]
  },
  {
   "cell_type": "code",
   "execution_count": null,
   "id": "0dd36b86",
   "metadata": {},
   "outputs": [],
   "source": [
    "cross_all = []\n",
    "abstol=1e-6\n",
    "as_df = True\n",
    "\n",
    "for m_id in sample1.merged_model.get_external_metabolites():\n",
    "    if sample1.flavor == 'reframed':\n",
    "        m_id = m_id.strip('M_')\n",
    "    r_out = {x: r for (x, m), r in exchanges.items() if m == m_id and r > abstol}\n",
    "    r_in = {x: -r for (x, m), r in exchanges.items() if m == m_id and -r > abstol}\n",
    "    if m_id =='ca2[e]':\n",
    "        print(r_out)\n",
    "        print(r_in)\n",
    "\n",
    "    total_in = sum(r_in.values())\n",
    "    total_out = sum(r_out.values())\n",
    "    total = max(total_in, total_out)\n",
    "\n",
    "    if total_in > total_out:\n",
    "        r_out[None] = total_in - total_out\n",
    "    if total_out > total_in:\n",
    "        r_in[None] = total_out - total_in\n",
    "\n",
    "    cross = [(o1, o2, m_id, r1 * r2 / total) for o1, r1 in r_out.items() for o2, r2 in r_in.items()]\n",
    "    cross_all.extend(cross)\n",
    "\n",
    "if as_df:\n",
    "    from pandas import DataFrame\n",
    "    cross_all = DataFrame(cross_all, columns=[\"donor\", \"receiver\", \"compound\", \"rate\"])\n",
    "\n",
    "cross_all"
   ]
  },
  {
   "cell_type": "code",
   "execution_count": 28,
   "id": "7fd90216",
   "metadata": {},
   "outputs": [
    {
     "data": {
      "text/plain": [
       "{}"
      ]
     },
     "execution_count": 28,
     "metadata": {},
     "output_type": "execute_result"
    }
   ],
   "source": [
    "solution1.compute_exchanges()"
   ]
  },
  {
   "cell_type": "code",
   "execution_count": null,
   "id": "9df67a33",
   "metadata": {},
   "outputs": [],
   "source": [
    "build_escher(fluxes=solution1.internal['M_Escherichia_coli_ED1a'])"
   ]
  },
  {
   "cell_type": "code",
   "execution_count": null,
   "id": "daed2b92",
   "metadata": {},
   "outputs": [],
   "source": [
    "build_escher(fluxes=solution1.internal['M_Bacteroides_thetaiotaomicron_VPI_5482'])"
   ]
  },
  {
   "cell_type": "code",
   "execution_count": null,
   "id": "be8a74c3",
   "metadata": {},
   "outputs": [],
   "source": [
    "from mewpy.cobra.com import SteadyComVA\n",
    "variability = SteadyComVA(sample1, obj_frac=0.2, constraints=M9)\n",
    "\n",
    "print('Strain\\tMin\\tMax')\n",
    "for strain, (lower, upper) in variability.items():\n",
    "    print(f'{strain}\\t{lower:.1%}\\t{upper:.1%}')"
   ]
  },
  {
   "cell_type": "code",
   "execution_count": null,
   "id": "77b20d28",
   "metadata": {},
   "outputs": [],
   "source": [
    "from mewpy.cobra.com import SteadyComVA\n",
    "\n",
    "l_va = np.linspace(0.1,1.0,num=10)\n",
    "\n",
    "for va in l_va:\n",
    "    va = round(va, 1)\n",
    "    variability = SteadyComVA(sample1, obj_frac=va, constraints=M9)\n",
    "    print(f'Strain\\tMin\\tMax\\tVariability - {va}')\n",
    "    for strain, (lower, upper) in variability.items():\n",
    "        print(f'{strain}\\t{lower:.1%}\\t{upper:.1%}')"
   ]
  },
  {
   "cell_type": "markdown",
   "id": "708252cf",
   "metadata": {},
   "source": [
    "## SMETANA - Species Metabolic Interaction Analysis\n",
    "\n",
    "**SMETANA** implements several algorithms to analyse cross-feeding interactions in microbial communities. These have been describe in [Zelezniak et al, PNAS (2015)](https://www.pnas.org/doi/abs/10.1073/pnas.1421834112)."
   ]
  },
  {
   "cell_type": "code",
   "execution_count": null,
   "id": "23a7a40c",
   "metadata": {},
   "outputs": [],
   "source": [
    "SCS = sc_score(sample1,environment=M9)"
   ]
  },
  {
   "cell_type": "code",
   "execution_count": null,
   "id": "afabc977",
   "metadata": {},
   "outputs": [],
   "source": [
    "print(pd.DataFrame.from_dict(SCS).to_string())"
   ]
  },
  {
   "cell_type": "code",
   "execution_count": null,
   "id": "f5fa28a1",
   "metadata": {},
   "outputs": [],
   "source": [
    "MUS = mu_score(sample1,environment=constraints)"
   ]
  },
  {
   "cell_type": "code",
   "execution_count": null,
   "id": "69867edd",
   "metadata": {},
   "outputs": [],
   "source": [
    "print(pd.DataFrame.from_dict(MUS).to_string())"
   ]
  },
  {
   "cell_type": "code",
   "execution_count": null,
   "id": "470e11f2",
   "metadata": {},
   "outputs": [],
   "source": [
    "MPS = mp_score(sample1,environment=constraints)"
   ]
  },
  {
   "cell_type": "code",
   "execution_count": null,
   "id": "15641b2d",
   "metadata": {},
   "outputs": [],
   "source": [
    "print(pd.DataFrame.from_dict(MPS).to_string())"
   ]
  },
  {
   "cell_type": "code",
   "execution_count": null,
   "id": "1fc29870",
   "metadata": {},
   "outputs": [],
   "source": [
    "score,MIP = mip_score(sample1)"
   ]
  }
 ],
 "metadata": {
  "kernelspec": {
   "display_name": "Python 3 (ipykernel)",
   "language": "python",
   "name": "python3"
  },
  "language_info": {
   "codemirror_mode": {
    "name": "ipython",
    "version": 3
   },
   "file_extension": ".py",
   "mimetype": "text/x-python",
   "name": "python",
   "nbconvert_exporter": "python",
   "pygments_lexer": "ipython3",
   "version": "3.9.12"
  }
 },
 "nbformat": 4,
 "nbformat_minor": 5
}

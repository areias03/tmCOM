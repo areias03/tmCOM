{
 "cells": [
  {
   "cell_type": "markdown",
   "id": "4ef35842",
   "metadata": {},
   "source": [
    "# MEWpy Community Modeling\n",
    "\n",
    "Author: Vitor Pereira, inspired on the work by Daniel Machado. \n",
    "\n",
    "License: [CC BY-SA 4.0](http://creativecommons.org/licenses/by-sa/4.0/)\n",
    "\n",
    "-------\n",
    "\n",
    "In this tutorial:\n",
    "\n",
    "- You will learn how to perform flux balance analysis of microbial communities\n",
    "using a model of the [central carbon metabolism of *E. coli*](https://journals.asm.org/doi/10.1128/ecosalplus.10.2.1).\n"
   ]
  },
  {
   "cell_type": "markdown",
   "id": "19cdc16d",
   "metadata": {},
   "source": [
    "## Install requirements \n",
    "To run this notebook we firstly need to install the required packages"
   ]
  },
  {
   "cell_type": "markdown",
   "id": "15b21699",
   "metadata": {},
   "source": [
    "Verify the instalation"
   ]
  },
  {
   "cell_type": "code",
   "execution_count": 1,
   "id": "b959d694",
   "metadata": {},
   "outputs": [
    {
     "name": "stdout",
     "output_type": "stream",
     "text": [
      "MEWpy version: 0.1.28\n",
      "Author: BiSBII CEB University of Minho\n",
      "Contact: vpereira@ceb.uminho.pt \n",
      "\n",
      "Available LP solvers: gurobi glpk\n",
      "Default LP solver: gurobi \n",
      "\n",
      "Available ODE solvers: scipy\n",
      "Default ODE solver: scipy \n",
      "\n",
      "Optimization Problems: AbstractKOProblem AbstractOUProblem CommunityKOProblem ETFLGKOProblem ETFLGOUProblem GKOProblem GOUProblem GeckoKOProblem GeckoOUProblem KcatOptProblem KineticKOProblem KineticOUProblem MediumProblem OptORFProblem OptRamProblem RKOProblem ROUProblem \n",
      "\n",
      "Available EA engines: inspyred jmetal\n",
      "Default EA engine: jmetal\n",
      "Available EAs: GA NSGAII NSGAIII SA SPEA2 \n",
      "\n"
     ]
    }
   ],
   "source": [
    "import mewpy\n",
    "mewpy.info()"
   ]
  },
  {
   "cell_type": "code",
   "execution_count": 2,
   "id": "42ecb05d",
   "metadata": {},
   "outputs": [],
   "source": [
    "from mewpy.solvers import set_default_solver,get_default_solver\n",
    "set_default_solver('gurobi')"
   ]
  },
  {
   "cell_type": "code",
   "execution_count": 3,
   "id": "7dba50ac",
   "metadata": {},
   "outputs": [
    {
     "data": {
      "text/plain": [
       "'gurobi'"
      ]
     },
     "execution_count": 3,
     "metadata": {},
     "output_type": "execute_result"
    }
   ],
   "source": [
    "get_default_solver()"
   ]
  },
  {
   "cell_type": "markdown",
   "id": "6f2de219",
   "metadata": {},
   "source": [
    "IMPORTANT: The notebooks require a MEWpy version >= 0.1.26"
   ]
  },
  {
   "cell_type": "markdown",
   "id": "315126b8",
   "metadata": {},
   "source": [
    "### Run in Google colab\n",
    "\n",
    "If you are running this notebook in Colab, you need to perform the following steps, otherwise skip."
   ]
  },
  {
   "cell_type": "markdown",
   "id": "b5e4fe7b",
   "metadata": {},
   "source": [
    "## Setting up a community\n",
    "\n",
    "We will create a synthetic microbial consortium with two *E. coli* mutants growing in minimal medium. In one of the mutants we will knockout the glucose transporter and in the other we will knockout the ammonium transporter."
   ]
  },
  {
   "cell_type": "code",
   "execution_count": 4,
   "id": "4fd366fe",
   "metadata": {},
   "outputs": [
    {
     "name": "stdout",
     "output_type": "stream",
     "text": [
      "Set parameter Username\n"
     ]
    }
   ],
   "source": [
    "from cobra.io import read_sbml_model\n",
    "\n",
    "bt = read_sbml_model('../models/non-ec/agora/Bacteroides_thetaiotaomicron_VPI_5482.xml')\n",
    "bu = read_sbml_model('../models/non-ec/agora/Bacteroides_uniformis_ATCC_8492.xml')\n",
    "ec = read_sbml_model('../models/non-ec/agora/Escherichia_coli_ED1a.xml')\n",
    "cc = read_sbml_model('../models/non-ec/agora/Coprococcus_comes_ATCC_27758.xml')\n",
    "ri = read_sbml_model('../models/non-ec/agora/Roseburia_intestinalis_L1_82.xml')\n",
    "sp = read_sbml_model('../models/non-ec/agora/Streptococcus_parasanguinis_ATCC_15912.xml')\n",
    "ss = read_sbml_model('../models/non-ec/agora/Streptococcus_salivarius_DSM_20560.xml')\n",
    "fn = read_sbml_model('../models/non-ec/agora/Fusobacterium_nucleatum_subsp_nucleatum_ATCC_25586.xml')"
   ]
  },
  {
   "cell_type": "code",
   "execution_count": 8,
   "id": "6b368440",
   "metadata": {},
   "outputs": [
    {
     "data": {
      "text/html": [
       "<p><strong>GPR</strong></p><p>411479.1.peg.1022 and 411479.1.peg.1024 and 411479.1.peg.1025 and 411479.1.peg.1026 and...</p>"
      ],
      "text/plain": [
       "cobra.core.gene.GPR('411479.1.peg.1022 and 411479.1.peg.1024 and 411479.1.peg.1025 and 411479.1.peg.1026 and 411479.1.peg.1027 and 411479.1.peg.1031 and 411479.1.peg.1032 and 411479.1.peg.1033 and 411479.1.peg.1034 and 411479.1.peg.1035 and 411479.1.peg.1036 and 411479.1.peg.1037 and 411479.1.peg.1038 and 411479.1.peg.1039 and 411479.1.peg.1040 and 411479.1.peg.1041 and 411479.1.peg.1042 and 411479.1.peg.1043 and 411479.1.peg.1044 and 411479.1.peg.1045 and 411479.1.peg.1046 and 411479.1.peg.1047 and 411479.1.peg.1048 and 411479.1.peg.1049 and 411479.1.peg.1050 and 411479.1.peg.1051 and 411479.1.peg.1052 and 411479.1.peg.1054 and 411479.1.peg.1055 and 411479.1.peg.1060 and 411479.1.peg.1061 and 411479.1.peg.1062 and 411479.1.peg.1069 and 411479.1.peg.1074 and 411479.1.peg.1202 and 411479.1.peg.1328 and 411479.1.peg.1415 and 411479.1.peg.1632 and 411479.1.peg.1836 and 411479.1.peg.1930 and 411479.1.peg.2074 and 411479.1.peg.2075 and 411479.1.peg.2126 and 411479.1.peg.2146 and 411479.1.peg.2148 and 411479.1.peg.2149 and 411479.1.peg.2349 and 411479.1.peg.2637 and 411479.1.peg.2638 and 411479.1.peg.2639 and 411479.1.peg.271 and 411479.1.peg.2777 and 411479.1.peg.2934 and 411479.1.peg.2955 and 411479.1.peg.2966 and 411479.1.peg.2968 and 411479.1.peg.2969 and 411479.1.peg.2970 and 411479.1.peg.3180 and 411479.1.peg.3241 and 411479.1.peg.3242 and 411479.1.peg.3243 and 411479.1.peg.3358 and 411479.1.peg.3456 and 411479.1.peg.3492 and 411479.1.peg.3538 and 411479.1.peg.3641 and 411479.1.peg.3874 and 411479.1.peg.4095 and 411479.1.peg.694 and 411479.1.peg.746 and 411479.1.peg.754 and 411479.1.peg.936')"
      ]
     },
     "execution_count": 8,
     "metadata": {},
     "output_type": "execute_result"
    }
   ],
   "source": [
    "from mewpy import get_simulator\n",
    "\n",
    "simbt = get_simulator(bt)\n",
    "bu.reactions[2660].gpr"
   ]
  },
  {
   "cell_type": "markdown",
   "id": "e1f4b0c4",
   "metadata": {},
   "source": [
    "## Comparing models\n",
    "\n",
    "Community models require that metabolites have the same identifiers accros all models. MEWpy offers some functions tho that end, computing the metabolites, reactions and uptakes overlaps between a list models."
   ]
  },
  {
   "cell_type": "code",
   "execution_count": 5,
   "id": "b6e5ff2a",
   "metadata": {},
   "outputs": [],
   "source": [
    "from mewpy.cobra.com import *\n",
    "\n",
    "mets, rxns, over = jaccard_similarity_matrices([bt,bu,ec,cc,ri,sp,ss,fn])"
   ]
  },
  {
   "cell_type": "code",
   "execution_count": 6,
   "id": "f766d344",
   "metadata": {},
   "outputs": [
    {
     "data": {
      "text/html": [
       "<div>\n",
       "<style scoped>\n",
       "    .dataframe tbody tr th:only-of-type {\n",
       "        vertical-align: middle;\n",
       "    }\n",
       "\n",
       "    .dataframe tbody tr th {\n",
       "        vertical-align: top;\n",
       "    }\n",
       "\n",
       "    .dataframe thead th {\n",
       "        text-align: right;\n",
       "    }\n",
       "</style>\n",
       "<table border=\"1\" class=\"dataframe\">\n",
       "  <thead>\n",
       "    <tr style=\"text-align: right;\">\n",
       "      <th></th>\n",
       "      <th>M_Bacteroides_thetaiotaomicron_VPI_5482</th>\n",
       "      <th>M_Bacteroides_uniformis_ATCC_8492</th>\n",
       "      <th>M_Escherichia_coli_ED1a</th>\n",
       "      <th>M_Coprococcus_comes_ATCC_27758</th>\n",
       "      <th>M_Roseburia_intestinalis_L1_82</th>\n",
       "      <th>M_Streptococcus_parasanguinis_ATCC_15912</th>\n",
       "      <th>M_Streptococcus_salivarius_DSM_20560</th>\n",
       "      <th>M_Fusobacterium_nucleatum_subsp_nucleatum_ATCC_25586</th>\n",
       "    </tr>\n",
       "  </thead>\n",
       "  <tbody>\n",
       "    <tr>\n",
       "      <th>M_Bacteroides_thetaiotaomicron_VPI_5482</th>\n",
       "      <td>1.000000</td>\n",
       "      <td>0.734069</td>\n",
       "      <td>0.520330</td>\n",
       "      <td>0.355287</td>\n",
       "      <td>0.456674</td>\n",
       "      <td>0.310372</td>\n",
       "      <td>0.334410</td>\n",
       "      <td>0.381470</td>\n",
       "    </tr>\n",
       "    <tr>\n",
       "      <th>M_Bacteroides_uniformis_ATCC_8492</th>\n",
       "      <td>0.734069</td>\n",
       "      <td>1.000000</td>\n",
       "      <td>0.628327</td>\n",
       "      <td>0.346853</td>\n",
       "      <td>0.632439</td>\n",
       "      <td>0.290868</td>\n",
       "      <td>0.300979</td>\n",
       "      <td>0.349091</td>\n",
       "    </tr>\n",
       "    <tr>\n",
       "      <th>M_Escherichia_coli_ED1a</th>\n",
       "      <td>0.520330</td>\n",
       "      <td>0.628327</td>\n",
       "      <td>1.000000</td>\n",
       "      <td>0.292283</td>\n",
       "      <td>0.493789</td>\n",
       "      <td>0.353875</td>\n",
       "      <td>0.258238</td>\n",
       "      <td>0.333124</td>\n",
       "    </tr>\n",
       "    <tr>\n",
       "      <th>M_Coprococcus_comes_ATCC_27758</th>\n",
       "      <td>0.355287</td>\n",
       "      <td>0.346853</td>\n",
       "      <td>0.292283</td>\n",
       "      <td>1.000000</td>\n",
       "      <td>0.479535</td>\n",
       "      <td>0.495611</td>\n",
       "      <td>0.599303</td>\n",
       "      <td>0.551245</td>\n",
       "    </tr>\n",
       "    <tr>\n",
       "      <th>M_Roseburia_intestinalis_L1_82</th>\n",
       "      <td>0.456674</td>\n",
       "      <td>0.632439</td>\n",
       "      <td>0.493789</td>\n",
       "      <td>0.479535</td>\n",
       "      <td>1.000000</td>\n",
       "      <td>0.359070</td>\n",
       "      <td>0.388859</td>\n",
       "      <td>0.378537</td>\n",
       "    </tr>\n",
       "    <tr>\n",
       "      <th>M_Streptococcus_parasanguinis_ATCC_15912</th>\n",
       "      <td>0.310372</td>\n",
       "      <td>0.290868</td>\n",
       "      <td>0.353875</td>\n",
       "      <td>0.495611</td>\n",
       "      <td>0.359070</td>\n",
       "      <td>1.000000</td>\n",
       "      <td>0.606014</td>\n",
       "      <td>0.462299</td>\n",
       "    </tr>\n",
       "    <tr>\n",
       "      <th>M_Streptococcus_salivarius_DSM_20560</th>\n",
       "      <td>0.334410</td>\n",
       "      <td>0.300979</td>\n",
       "      <td>0.258238</td>\n",
       "      <td>0.599303</td>\n",
       "      <td>0.388859</td>\n",
       "      <td>0.606014</td>\n",
       "      <td>1.000000</td>\n",
       "      <td>0.501890</td>\n",
       "    </tr>\n",
       "    <tr>\n",
       "      <th>M_Fusobacterium_nucleatum_subsp_nucleatum_ATCC_25586</th>\n",
       "      <td>0.381470</td>\n",
       "      <td>0.349091</td>\n",
       "      <td>0.333124</td>\n",
       "      <td>0.551245</td>\n",
       "      <td>0.378537</td>\n",
       "      <td>0.462299</td>\n",
       "      <td>0.501890</td>\n",
       "      <td>1.000000</td>\n",
       "    </tr>\n",
       "  </tbody>\n",
       "</table>\n",
       "</div>"
      ],
      "text/plain": [
       "                                                    M_Bacteroides_thetaiotaomicron_VPI_5482  \\\n",
       "M_Bacteroides_thetaiotaomicron_VPI_5482                                            1.000000   \n",
       "M_Bacteroides_uniformis_ATCC_8492                                                  0.734069   \n",
       "M_Escherichia_coli_ED1a                                                            0.520330   \n",
       "M_Coprococcus_comes_ATCC_27758                                                     0.355287   \n",
       "M_Roseburia_intestinalis_L1_82                                                     0.456674   \n",
       "M_Streptococcus_parasanguinis_ATCC_15912                                           0.310372   \n",
       "M_Streptococcus_salivarius_DSM_20560                                               0.334410   \n",
       "M_Fusobacterium_nucleatum_subsp_nucleatum_ATCC_...                                 0.381470   \n",
       "\n",
       "                                                    M_Bacteroides_uniformis_ATCC_8492  \\\n",
       "M_Bacteroides_thetaiotaomicron_VPI_5482                                      0.734069   \n",
       "M_Bacteroides_uniformis_ATCC_8492                                            1.000000   \n",
       "M_Escherichia_coli_ED1a                                                      0.628327   \n",
       "M_Coprococcus_comes_ATCC_27758                                               0.346853   \n",
       "M_Roseburia_intestinalis_L1_82                                               0.632439   \n",
       "M_Streptococcus_parasanguinis_ATCC_15912                                     0.290868   \n",
       "M_Streptococcus_salivarius_DSM_20560                                         0.300979   \n",
       "M_Fusobacterium_nucleatum_subsp_nucleatum_ATCC_...                           0.349091   \n",
       "\n",
       "                                                    M_Escherichia_coli_ED1a  \\\n",
       "M_Bacteroides_thetaiotaomicron_VPI_5482                            0.520330   \n",
       "M_Bacteroides_uniformis_ATCC_8492                                  0.628327   \n",
       "M_Escherichia_coli_ED1a                                            1.000000   \n",
       "M_Coprococcus_comes_ATCC_27758                                     0.292283   \n",
       "M_Roseburia_intestinalis_L1_82                                     0.493789   \n",
       "M_Streptococcus_parasanguinis_ATCC_15912                           0.353875   \n",
       "M_Streptococcus_salivarius_DSM_20560                               0.258238   \n",
       "M_Fusobacterium_nucleatum_subsp_nucleatum_ATCC_...                 0.333124   \n",
       "\n",
       "                                                    M_Coprococcus_comes_ATCC_27758  \\\n",
       "M_Bacteroides_thetaiotaomicron_VPI_5482                                   0.355287   \n",
       "M_Bacteroides_uniformis_ATCC_8492                                         0.346853   \n",
       "M_Escherichia_coli_ED1a                                                   0.292283   \n",
       "M_Coprococcus_comes_ATCC_27758                                            1.000000   \n",
       "M_Roseburia_intestinalis_L1_82                                            0.479535   \n",
       "M_Streptococcus_parasanguinis_ATCC_15912                                  0.495611   \n",
       "M_Streptococcus_salivarius_DSM_20560                                      0.599303   \n",
       "M_Fusobacterium_nucleatum_subsp_nucleatum_ATCC_...                        0.551245   \n",
       "\n",
       "                                                    M_Roseburia_intestinalis_L1_82  \\\n",
       "M_Bacteroides_thetaiotaomicron_VPI_5482                                   0.456674   \n",
       "M_Bacteroides_uniformis_ATCC_8492                                         0.632439   \n",
       "M_Escherichia_coli_ED1a                                                   0.493789   \n",
       "M_Coprococcus_comes_ATCC_27758                                            0.479535   \n",
       "M_Roseburia_intestinalis_L1_82                                            1.000000   \n",
       "M_Streptococcus_parasanguinis_ATCC_15912                                  0.359070   \n",
       "M_Streptococcus_salivarius_DSM_20560                                      0.388859   \n",
       "M_Fusobacterium_nucleatum_subsp_nucleatum_ATCC_...                        0.378537   \n",
       "\n",
       "                                                    M_Streptococcus_parasanguinis_ATCC_15912  \\\n",
       "M_Bacteroides_thetaiotaomicron_VPI_5482                                             0.310372   \n",
       "M_Bacteroides_uniformis_ATCC_8492                                                   0.290868   \n",
       "M_Escherichia_coli_ED1a                                                             0.353875   \n",
       "M_Coprococcus_comes_ATCC_27758                                                      0.495611   \n",
       "M_Roseburia_intestinalis_L1_82                                                      0.359070   \n",
       "M_Streptococcus_parasanguinis_ATCC_15912                                            1.000000   \n",
       "M_Streptococcus_salivarius_DSM_20560                                                0.606014   \n",
       "M_Fusobacterium_nucleatum_subsp_nucleatum_ATCC_...                                  0.462299   \n",
       "\n",
       "                                                    M_Streptococcus_salivarius_DSM_20560  \\\n",
       "M_Bacteroides_thetaiotaomicron_VPI_5482                                         0.334410   \n",
       "M_Bacteroides_uniformis_ATCC_8492                                               0.300979   \n",
       "M_Escherichia_coli_ED1a                                                         0.258238   \n",
       "M_Coprococcus_comes_ATCC_27758                                                  0.599303   \n",
       "M_Roseburia_intestinalis_L1_82                                                  0.388859   \n",
       "M_Streptococcus_parasanguinis_ATCC_15912                                        0.606014   \n",
       "M_Streptococcus_salivarius_DSM_20560                                            1.000000   \n",
       "M_Fusobacterium_nucleatum_subsp_nucleatum_ATCC_...                              0.501890   \n",
       "\n",
       "                                                    M_Fusobacterium_nucleatum_subsp_nucleatum_ATCC_25586  \n",
       "M_Bacteroides_thetaiotaomicron_VPI_5482                                                      0.381470     \n",
       "M_Bacteroides_uniformis_ATCC_8492                                                            0.349091     \n",
       "M_Escherichia_coli_ED1a                                                                      0.333124     \n",
       "M_Coprococcus_comes_ATCC_27758                                                               0.551245     \n",
       "M_Roseburia_intestinalis_L1_82                                                               0.378537     \n",
       "M_Streptococcus_parasanguinis_ATCC_15912                                                     0.462299     \n",
       "M_Streptococcus_salivarius_DSM_20560                                                         0.501890     \n",
       "M_Fusobacterium_nucleatum_subsp_nucleatum_ATCC_...                                           1.000000     "
      ]
     },
     "execution_count": 6,
     "metadata": {},
     "output_type": "execute_result"
    }
   ],
   "source": [
    "mets"
   ]
  },
  {
   "cell_type": "code",
   "execution_count": 7,
   "id": "aa208246",
   "metadata": {},
   "outputs": [
    {
     "data": {
      "text/html": [
       "<div>\n",
       "<style scoped>\n",
       "    .dataframe tbody tr th:only-of-type {\n",
       "        vertical-align: middle;\n",
       "    }\n",
       "\n",
       "    .dataframe tbody tr th {\n",
       "        vertical-align: top;\n",
       "    }\n",
       "\n",
       "    .dataframe thead th {\n",
       "        text-align: right;\n",
       "    }\n",
       "</style>\n",
       "<table border=\"1\" class=\"dataframe\">\n",
       "  <thead>\n",
       "    <tr style=\"text-align: right;\">\n",
       "      <th></th>\n",
       "      <th>M_Bacteroides_thetaiotaomicron_VPI_5482</th>\n",
       "      <th>M_Bacteroides_uniformis_ATCC_8492</th>\n",
       "      <th>M_Escherichia_coli_ED1a</th>\n",
       "      <th>M_Coprococcus_comes_ATCC_27758</th>\n",
       "      <th>M_Roseburia_intestinalis_L1_82</th>\n",
       "      <th>M_Streptococcus_parasanguinis_ATCC_15912</th>\n",
       "      <th>M_Streptococcus_salivarius_DSM_20560</th>\n",
       "      <th>M_Fusobacterium_nucleatum_subsp_nucleatum_ATCC_25586</th>\n",
       "    </tr>\n",
       "  </thead>\n",
       "  <tbody>\n",
       "    <tr>\n",
       "      <th>M_Bacteroides_thetaiotaomicron_VPI_5482</th>\n",
       "      <td>1.000000</td>\n",
       "      <td>0.669055</td>\n",
       "      <td>0.426136</td>\n",
       "      <td>0.239557</td>\n",
       "      <td>0.315774</td>\n",
       "      <td>0.209028</td>\n",
       "      <td>0.220455</td>\n",
       "      <td>0.281591</td>\n",
       "    </tr>\n",
       "    <tr>\n",
       "      <th>M_Bacteroides_uniformis_ATCC_8492</th>\n",
       "      <td>0.669055</td>\n",
       "      <td>1.000000</td>\n",
       "      <td>0.552091</td>\n",
       "      <td>0.230566</td>\n",
       "      <td>0.364806</td>\n",
       "      <td>0.192982</td>\n",
       "      <td>0.195580</td>\n",
       "      <td>0.242889</td>\n",
       "    </tr>\n",
       "    <tr>\n",
       "      <th>M_Escherichia_coli_ED1a</th>\n",
       "      <td>0.426136</td>\n",
       "      <td>0.552091</td>\n",
       "      <td>1.000000</td>\n",
       "      <td>0.208475</td>\n",
       "      <td>0.314684</td>\n",
       "      <td>0.254272</td>\n",
       "      <td>0.198993</td>\n",
       "      <td>0.278430</td>\n",
       "    </tr>\n",
       "    <tr>\n",
       "      <th>M_Coprococcus_comes_ATCC_27758</th>\n",
       "      <td>0.239557</td>\n",
       "      <td>0.230566</td>\n",
       "      <td>0.208475</td>\n",
       "      <td>1.000000</td>\n",
       "      <td>0.392247</td>\n",
       "      <td>0.402693</td>\n",
       "      <td>0.444363</td>\n",
       "      <td>0.350845</td>\n",
       "    </tr>\n",
       "    <tr>\n",
       "      <th>M_Roseburia_intestinalis_L1_82</th>\n",
       "      <td>0.315774</td>\n",
       "      <td>0.364806</td>\n",
       "      <td>0.314684</td>\n",
       "      <td>0.392247</td>\n",
       "      <td>1.000000</td>\n",
       "      <td>0.299519</td>\n",
       "      <td>0.308554</td>\n",
       "      <td>0.242105</td>\n",
       "    </tr>\n",
       "    <tr>\n",
       "      <th>M_Streptococcus_parasanguinis_ATCC_15912</th>\n",
       "      <td>0.209028</td>\n",
       "      <td>0.192982</td>\n",
       "      <td>0.254272</td>\n",
       "      <td>0.402693</td>\n",
       "      <td>0.299519</td>\n",
       "      <td>1.000000</td>\n",
       "      <td>0.572656</td>\n",
       "      <td>0.318157</td>\n",
       "    </tr>\n",
       "    <tr>\n",
       "      <th>M_Streptococcus_salivarius_DSM_20560</th>\n",
       "      <td>0.220455</td>\n",
       "      <td>0.195580</td>\n",
       "      <td>0.198993</td>\n",
       "      <td>0.444363</td>\n",
       "      <td>0.308554</td>\n",
       "      <td>0.572656</td>\n",
       "      <td>1.000000</td>\n",
       "      <td>0.325495</td>\n",
       "    </tr>\n",
       "    <tr>\n",
       "      <th>M_Fusobacterium_nucleatum_subsp_nucleatum_ATCC_25586</th>\n",
       "      <td>0.281591</td>\n",
       "      <td>0.242889</td>\n",
       "      <td>0.278430</td>\n",
       "      <td>0.350845</td>\n",
       "      <td>0.242105</td>\n",
       "      <td>0.318157</td>\n",
       "      <td>0.325495</td>\n",
       "      <td>1.000000</td>\n",
       "    </tr>\n",
       "  </tbody>\n",
       "</table>\n",
       "</div>"
      ],
      "text/plain": [
       "                                                    M_Bacteroides_thetaiotaomicron_VPI_5482  \\\n",
       "M_Bacteroides_thetaiotaomicron_VPI_5482                                            1.000000   \n",
       "M_Bacteroides_uniformis_ATCC_8492                                                  0.669055   \n",
       "M_Escherichia_coli_ED1a                                                            0.426136   \n",
       "M_Coprococcus_comes_ATCC_27758                                                     0.239557   \n",
       "M_Roseburia_intestinalis_L1_82                                                     0.315774   \n",
       "M_Streptococcus_parasanguinis_ATCC_15912                                           0.209028   \n",
       "M_Streptococcus_salivarius_DSM_20560                                               0.220455   \n",
       "M_Fusobacterium_nucleatum_subsp_nucleatum_ATCC_...                                 0.281591   \n",
       "\n",
       "                                                    M_Bacteroides_uniformis_ATCC_8492  \\\n",
       "M_Bacteroides_thetaiotaomicron_VPI_5482                                      0.669055   \n",
       "M_Bacteroides_uniformis_ATCC_8492                                            1.000000   \n",
       "M_Escherichia_coli_ED1a                                                      0.552091   \n",
       "M_Coprococcus_comes_ATCC_27758                                               0.230566   \n",
       "M_Roseburia_intestinalis_L1_82                                               0.364806   \n",
       "M_Streptococcus_parasanguinis_ATCC_15912                                     0.192982   \n",
       "M_Streptococcus_salivarius_DSM_20560                                         0.195580   \n",
       "M_Fusobacterium_nucleatum_subsp_nucleatum_ATCC_...                           0.242889   \n",
       "\n",
       "                                                    M_Escherichia_coli_ED1a  \\\n",
       "M_Bacteroides_thetaiotaomicron_VPI_5482                            0.426136   \n",
       "M_Bacteroides_uniformis_ATCC_8492                                  0.552091   \n",
       "M_Escherichia_coli_ED1a                                            1.000000   \n",
       "M_Coprococcus_comes_ATCC_27758                                     0.208475   \n",
       "M_Roseburia_intestinalis_L1_82                                     0.314684   \n",
       "M_Streptococcus_parasanguinis_ATCC_15912                           0.254272   \n",
       "M_Streptococcus_salivarius_DSM_20560                               0.198993   \n",
       "M_Fusobacterium_nucleatum_subsp_nucleatum_ATCC_...                 0.278430   \n",
       "\n",
       "                                                    M_Coprococcus_comes_ATCC_27758  \\\n",
       "M_Bacteroides_thetaiotaomicron_VPI_5482                                   0.239557   \n",
       "M_Bacteroides_uniformis_ATCC_8492                                         0.230566   \n",
       "M_Escherichia_coli_ED1a                                                   0.208475   \n",
       "M_Coprococcus_comes_ATCC_27758                                            1.000000   \n",
       "M_Roseburia_intestinalis_L1_82                                            0.392247   \n",
       "M_Streptococcus_parasanguinis_ATCC_15912                                  0.402693   \n",
       "M_Streptococcus_salivarius_DSM_20560                                      0.444363   \n",
       "M_Fusobacterium_nucleatum_subsp_nucleatum_ATCC_...                        0.350845   \n",
       "\n",
       "                                                    M_Roseburia_intestinalis_L1_82  \\\n",
       "M_Bacteroides_thetaiotaomicron_VPI_5482                                   0.315774   \n",
       "M_Bacteroides_uniformis_ATCC_8492                                         0.364806   \n",
       "M_Escherichia_coli_ED1a                                                   0.314684   \n",
       "M_Coprococcus_comes_ATCC_27758                                            0.392247   \n",
       "M_Roseburia_intestinalis_L1_82                                            1.000000   \n",
       "M_Streptococcus_parasanguinis_ATCC_15912                                  0.299519   \n",
       "M_Streptococcus_salivarius_DSM_20560                                      0.308554   \n",
       "M_Fusobacterium_nucleatum_subsp_nucleatum_ATCC_...                        0.242105   \n",
       "\n",
       "                                                    M_Streptococcus_parasanguinis_ATCC_15912  \\\n",
       "M_Bacteroides_thetaiotaomicron_VPI_5482                                             0.209028   \n",
       "M_Bacteroides_uniformis_ATCC_8492                                                   0.192982   \n",
       "M_Escherichia_coli_ED1a                                                             0.254272   \n",
       "M_Coprococcus_comes_ATCC_27758                                                      0.402693   \n",
       "M_Roseburia_intestinalis_L1_82                                                      0.299519   \n",
       "M_Streptococcus_parasanguinis_ATCC_15912                                            1.000000   \n",
       "M_Streptococcus_salivarius_DSM_20560                                                0.572656   \n",
       "M_Fusobacterium_nucleatum_subsp_nucleatum_ATCC_...                                  0.318157   \n",
       "\n",
       "                                                    M_Streptococcus_salivarius_DSM_20560  \\\n",
       "M_Bacteroides_thetaiotaomicron_VPI_5482                                         0.220455   \n",
       "M_Bacteroides_uniformis_ATCC_8492                                               0.195580   \n",
       "M_Escherichia_coli_ED1a                                                         0.198993   \n",
       "M_Coprococcus_comes_ATCC_27758                                                  0.444363   \n",
       "M_Roseburia_intestinalis_L1_82                                                  0.308554   \n",
       "M_Streptococcus_parasanguinis_ATCC_15912                                        0.572656   \n",
       "M_Streptococcus_salivarius_DSM_20560                                            1.000000   \n",
       "M_Fusobacterium_nucleatum_subsp_nucleatum_ATCC_...                              0.325495   \n",
       "\n",
       "                                                    M_Fusobacterium_nucleatum_subsp_nucleatum_ATCC_25586  \n",
       "M_Bacteroides_thetaiotaomicron_VPI_5482                                                      0.281591     \n",
       "M_Bacteroides_uniformis_ATCC_8492                                                            0.242889     \n",
       "M_Escherichia_coli_ED1a                                                                      0.278430     \n",
       "M_Coprococcus_comes_ATCC_27758                                                               0.350845     \n",
       "M_Roseburia_intestinalis_L1_82                                                               0.242105     \n",
       "M_Streptococcus_parasanguinis_ATCC_15912                                                     0.318157     \n",
       "M_Streptococcus_salivarius_DSM_20560                                                         0.325495     \n",
       "M_Fusobacterium_nucleatum_subsp_nucleatum_ATCC_...                                           1.000000     "
      ]
     },
     "execution_count": 7,
     "metadata": {},
     "output_type": "execute_result"
    }
   ],
   "source": [
    "rxns"
   ]
  },
  {
   "cell_type": "code",
   "execution_count": 8,
   "id": "2e6e97cb",
   "metadata": {},
   "outputs": [
    {
     "data": {
      "text/html": [
       "<div>\n",
       "<style scoped>\n",
       "    .dataframe tbody tr th:only-of-type {\n",
       "        vertical-align: middle;\n",
       "    }\n",
       "\n",
       "    .dataframe tbody tr th {\n",
       "        vertical-align: top;\n",
       "    }\n",
       "\n",
       "    .dataframe thead th {\n",
       "        text-align: right;\n",
       "    }\n",
       "</style>\n",
       "<table border=\"1\" class=\"dataframe\">\n",
       "  <thead>\n",
       "    <tr style=\"text-align: right;\">\n",
       "      <th></th>\n",
       "      <th>M_Bacteroides_thetaiotaomicron_VPI_5482</th>\n",
       "      <th>M_Bacteroides_uniformis_ATCC_8492</th>\n",
       "      <th>M_Escherichia_coli_ED1a</th>\n",
       "      <th>M_Coprococcus_comes_ATCC_27758</th>\n",
       "      <th>M_Roseburia_intestinalis_L1_82</th>\n",
       "      <th>M_Streptococcus_parasanguinis_ATCC_15912</th>\n",
       "      <th>M_Streptococcus_salivarius_DSM_20560</th>\n",
       "      <th>M_Fusobacterium_nucleatum_subsp_nucleatum_ATCC_25586</th>\n",
       "    </tr>\n",
       "  </thead>\n",
       "  <tbody>\n",
       "    <tr>\n",
       "      <th>M_Bacteroides_thetaiotaomicron_VPI_5482</th>\n",
       "      <td>1.000000</td>\n",
       "      <td>0.802536</td>\n",
       "      <td>0.644578</td>\n",
       "      <td>0.115059</td>\n",
       "      <td>0.708191</td>\n",
       "      <td>0.110924</td>\n",
       "      <td>0.097938</td>\n",
       "      <td>0.122483</td>\n",
       "    </tr>\n",
       "    <tr>\n",
       "      <th>M_Bacteroides_uniformis_ATCC_8492</th>\n",
       "      <td>0.802536</td>\n",
       "      <td>1.000000</td>\n",
       "      <td>0.703020</td>\n",
       "      <td>0.130097</td>\n",
       "      <td>0.815324</td>\n",
       "      <td>0.123077</td>\n",
       "      <td>0.091262</td>\n",
       "      <td>0.123340</td>\n",
       "    </tr>\n",
       "    <tr>\n",
       "      <th>M_Escherichia_coli_ED1a</th>\n",
       "      <td>0.644578</td>\n",
       "      <td>0.703020</td>\n",
       "      <td>1.000000</td>\n",
       "      <td>0.187063</td>\n",
       "      <td>0.739353</td>\n",
       "      <td>0.198944</td>\n",
       "      <td>0.166372</td>\n",
       "      <td>0.200348</td>\n",
       "    </tr>\n",
       "    <tr>\n",
       "      <th>M_Coprococcus_comes_ATCC_27758</th>\n",
       "      <td>0.115059</td>\n",
       "      <td>0.130097</td>\n",
       "      <td>0.187063</td>\n",
       "      <td>1.000000</td>\n",
       "      <td>0.192698</td>\n",
       "      <td>0.450292</td>\n",
       "      <td>0.412500</td>\n",
       "      <td>0.462857</td>\n",
       "    </tr>\n",
       "    <tr>\n",
       "      <th>M_Roseburia_intestinalis_L1_82</th>\n",
       "      <td>0.708191</td>\n",
       "      <td>0.815324</td>\n",
       "      <td>0.739353</td>\n",
       "      <td>0.192698</td>\n",
       "      <td>1.000000</td>\n",
       "      <td>0.194332</td>\n",
       "      <td>0.168724</td>\n",
       "      <td>0.174853</td>\n",
       "    </tr>\n",
       "    <tr>\n",
       "      <th>M_Streptococcus_parasanguinis_ATCC_15912</th>\n",
       "      <td>0.110924</td>\n",
       "      <td>0.123077</td>\n",
       "      <td>0.198944</td>\n",
       "      <td>0.450292</td>\n",
       "      <td>0.194332</td>\n",
       "      <td>1.000000</td>\n",
       "      <td>0.652174</td>\n",
       "      <td>0.535714</td>\n",
       "    </tr>\n",
       "    <tr>\n",
       "      <th>M_Streptococcus_salivarius_DSM_20560</th>\n",
       "      <td>0.097938</td>\n",
       "      <td>0.091262</td>\n",
       "      <td>0.166372</td>\n",
       "      <td>0.412500</td>\n",
       "      <td>0.168724</td>\n",
       "      <td>0.652174</td>\n",
       "      <td>1.000000</td>\n",
       "      <td>0.503185</td>\n",
       "    </tr>\n",
       "    <tr>\n",
       "      <th>M_Fusobacterium_nucleatum_subsp_nucleatum_ATCC_25586</th>\n",
       "      <td>0.122483</td>\n",
       "      <td>0.123340</td>\n",
       "      <td>0.200348</td>\n",
       "      <td>0.462857</td>\n",
       "      <td>0.174853</td>\n",
       "      <td>0.535714</td>\n",
       "      <td>0.503185</td>\n",
       "      <td>1.000000</td>\n",
       "    </tr>\n",
       "  </tbody>\n",
       "</table>\n",
       "</div>"
      ],
      "text/plain": [
       "                                                    M_Bacteroides_thetaiotaomicron_VPI_5482  \\\n",
       "M_Bacteroides_thetaiotaomicron_VPI_5482                                            1.000000   \n",
       "M_Bacteroides_uniformis_ATCC_8492                                                  0.802536   \n",
       "M_Escherichia_coli_ED1a                                                            0.644578   \n",
       "M_Coprococcus_comes_ATCC_27758                                                     0.115059   \n",
       "M_Roseburia_intestinalis_L1_82                                                     0.708191   \n",
       "M_Streptococcus_parasanguinis_ATCC_15912                                           0.110924   \n",
       "M_Streptococcus_salivarius_DSM_20560                                               0.097938   \n",
       "M_Fusobacterium_nucleatum_subsp_nucleatum_ATCC_...                                 0.122483   \n",
       "\n",
       "                                                    M_Bacteroides_uniformis_ATCC_8492  \\\n",
       "M_Bacteroides_thetaiotaomicron_VPI_5482                                      0.802536   \n",
       "M_Bacteroides_uniformis_ATCC_8492                                            1.000000   \n",
       "M_Escherichia_coli_ED1a                                                      0.703020   \n",
       "M_Coprococcus_comes_ATCC_27758                                               0.130097   \n",
       "M_Roseburia_intestinalis_L1_82                                               0.815324   \n",
       "M_Streptococcus_parasanguinis_ATCC_15912                                     0.123077   \n",
       "M_Streptococcus_salivarius_DSM_20560                                         0.091262   \n",
       "M_Fusobacterium_nucleatum_subsp_nucleatum_ATCC_...                           0.123340   \n",
       "\n",
       "                                                    M_Escherichia_coli_ED1a  \\\n",
       "M_Bacteroides_thetaiotaomicron_VPI_5482                            0.644578   \n",
       "M_Bacteroides_uniformis_ATCC_8492                                  0.703020   \n",
       "M_Escherichia_coli_ED1a                                            1.000000   \n",
       "M_Coprococcus_comes_ATCC_27758                                     0.187063   \n",
       "M_Roseburia_intestinalis_L1_82                                     0.739353   \n",
       "M_Streptococcus_parasanguinis_ATCC_15912                           0.198944   \n",
       "M_Streptococcus_salivarius_DSM_20560                               0.166372   \n",
       "M_Fusobacterium_nucleatum_subsp_nucleatum_ATCC_...                 0.200348   \n",
       "\n",
       "                                                    M_Coprococcus_comes_ATCC_27758  \\\n",
       "M_Bacteroides_thetaiotaomicron_VPI_5482                                   0.115059   \n",
       "M_Bacteroides_uniformis_ATCC_8492                                         0.130097   \n",
       "M_Escherichia_coli_ED1a                                                   0.187063   \n",
       "M_Coprococcus_comes_ATCC_27758                                            1.000000   \n",
       "M_Roseburia_intestinalis_L1_82                                            0.192698   \n",
       "M_Streptococcus_parasanguinis_ATCC_15912                                  0.450292   \n",
       "M_Streptococcus_salivarius_DSM_20560                                      0.412500   \n",
       "M_Fusobacterium_nucleatum_subsp_nucleatum_ATCC_...                        0.462857   \n",
       "\n",
       "                                                    M_Roseburia_intestinalis_L1_82  \\\n",
       "M_Bacteroides_thetaiotaomicron_VPI_5482                                   0.708191   \n",
       "M_Bacteroides_uniformis_ATCC_8492                                         0.815324   \n",
       "M_Escherichia_coli_ED1a                                                   0.739353   \n",
       "M_Coprococcus_comes_ATCC_27758                                            0.192698   \n",
       "M_Roseburia_intestinalis_L1_82                                            1.000000   \n",
       "M_Streptococcus_parasanguinis_ATCC_15912                                  0.194332   \n",
       "M_Streptococcus_salivarius_DSM_20560                                      0.168724   \n",
       "M_Fusobacterium_nucleatum_subsp_nucleatum_ATCC_...                        0.174853   \n",
       "\n",
       "                                                    M_Streptococcus_parasanguinis_ATCC_15912  \\\n",
       "M_Bacteroides_thetaiotaomicron_VPI_5482                                             0.110924   \n",
       "M_Bacteroides_uniformis_ATCC_8492                                                   0.123077   \n",
       "M_Escherichia_coli_ED1a                                                             0.198944   \n",
       "M_Coprococcus_comes_ATCC_27758                                                      0.450292   \n",
       "M_Roseburia_intestinalis_L1_82                                                      0.194332   \n",
       "M_Streptococcus_parasanguinis_ATCC_15912                                            1.000000   \n",
       "M_Streptococcus_salivarius_DSM_20560                                                0.652174   \n",
       "M_Fusobacterium_nucleatum_subsp_nucleatum_ATCC_...                                  0.535714   \n",
       "\n",
       "                                                    M_Streptococcus_salivarius_DSM_20560  \\\n",
       "M_Bacteroides_thetaiotaomicron_VPI_5482                                         0.097938   \n",
       "M_Bacteroides_uniformis_ATCC_8492                                               0.091262   \n",
       "M_Escherichia_coli_ED1a                                                         0.166372   \n",
       "M_Coprococcus_comes_ATCC_27758                                                  0.412500   \n",
       "M_Roseburia_intestinalis_L1_82                                                  0.168724   \n",
       "M_Streptococcus_parasanguinis_ATCC_15912                                        0.652174   \n",
       "M_Streptococcus_salivarius_DSM_20560                                            1.000000   \n",
       "M_Fusobacterium_nucleatum_subsp_nucleatum_ATCC_...                              0.503185   \n",
       "\n",
       "                                                    M_Fusobacterium_nucleatum_subsp_nucleatum_ATCC_25586  \n",
       "M_Bacteroides_thetaiotaomicron_VPI_5482                                                      0.122483     \n",
       "M_Bacteroides_uniformis_ATCC_8492                                                            0.123340     \n",
       "M_Escherichia_coli_ED1a                                                                      0.200348     \n",
       "M_Coprococcus_comes_ATCC_27758                                                               0.462857     \n",
       "M_Roseburia_intestinalis_L1_82                                                               0.174853     \n",
       "M_Streptococcus_parasanguinis_ATCC_15912                                                     0.535714     \n",
       "M_Streptococcus_salivarius_DSM_20560                                                         0.503185     \n",
       "M_Fusobacterium_nucleatum_subsp_nucleatum_ATCC_...                                           1.000000     "
      ]
     },
     "execution_count": 8,
     "metadata": {},
     "output_type": "execute_result"
    }
   ],
   "source": [
    "over"
   ]
  },
  {
   "cell_type": "markdown",
   "id": "949323a8",
   "metadata": {},
   "source": [
    "## Building communities\n",
    "\n",
    "**MEWpy** has some basic functionality for working with microbial communities, one is the `CommunityModel` class to create microbial communities from a list of models of individual species: "
   ]
  },
  {
   "cell_type": "code",
   "execution_count": 9,
   "id": "91e413e9",
   "metadata": {},
   "outputs": [],
   "source": [
    "from mewpy.model import CommunityModel\n",
    "community = CommunityModel([bt,bu,ec,cc,ri,sp],flavor='cobra')"
   ]
  },
  {
   "cell_type": "code",
   "execution_count": null,
   "id": "46ed57b9",
   "metadata": {},
   "outputs": [],
   "source": [
    "sim = community.merged_model"
   ]
  },
  {
   "cell_type": "code",
   "execution_count": null,
   "id": "0c560e7a",
   "metadata": {},
   "outputs": [],
   "source": [
    "print(len(sim.reactions))"
   ]
  },
  {
   "cell_type": "markdown",
   "id": "a9cef7fa",
   "metadata": {},
   "source": [
    "This community model ignores the environmental conditions that were specified in the original models (since these could be very different). \n",
    "\n",
    "To make our life easier, we will extract the nutrient composition specified in the wild-type model to use later."
   ]
  },
  {
   "cell_type": "code",
   "execution_count": null,
   "id": "6644486c",
   "metadata": {},
   "outputs": [],
   "source": [
    "from mewpy.simulation import Environment\n",
    "M9 = Environment.from_model(bt)\n",
    "M9"
   ]
  },
  {
   "cell_type": "markdown",
   "id": "a4829b00",
   "metadata": {},
   "source": [
    "## Simulation using FBA\n",
    "\n",
    "A very simple way to simulate a microbial community is to merge the individual models into a single model that mimics a \"super organism\", where each microbe lives inside its own compartment, and run a (conventional) FBA simulation for this *super organism*."
   ]
  },
  {
   "cell_type": "code",
   "execution_count": null,
   "id": "47cb7a4b",
   "metadata": {},
   "outputs": [],
   "source": [
    "solution = sim.simulate(constraints=M9)\n",
    "\n",
    "print(solution)\n",
    "solution.find('EX')"
   ]
  },
  {
   "cell_type": "markdown",
   "id": "e57cd648",
   "metadata": {},
   "source": [
    "We can see that the model predicts a growth rate (total biomass per hour) similar to the wild-type, with an efficient consumption of glucose and ammonia that results in respiratory metabolism.\n",
    "\n",
    "But what is each organism doing, and are both organisms actually growing at the same rate?\n",
    "\n",
    "Let's print the biomass flux for each organism:"
   ]
  },
  {
   "cell_type": "code",
   "execution_count": null,
   "id": "0b5d171f",
   "metadata": {},
   "outputs": [],
   "source": [
    "solution.find('Growth', sort=True,show_nulls=True)"
   ]
  },
  {
   "cell_type": "markdown",
   "id": "4414dd8b",
   "metadata": {},
   "source": [
    "and all non null fluxes by organism:"
   ]
  },
  {
   "cell_type": "code",
   "execution_count": null,
   "id": "960e9b0b",
   "metadata": {},
   "outputs": [],
   "source": [
    "sim.find_metabolites()"
   ]
  },
  {
   "cell_type": "code",
   "execution_count": null,
   "id": "e246bc50",
   "metadata": {},
   "outputs": [],
   "source": [
    "solution.find('vpi5482')"
   ]
  },
  {
   "cell_type": "markdown",
   "id": "3110d63f",
   "metadata": {},
   "source": [
    "Actually it seems that only one of the organisms is growing while the other has an active metabolism (it exchanges metabolites with the environment and with the other organism) performing the role of a bioconverter, but none of the flux is used for growth. \n",
    "\n",
    "> Do you think this would be a stable consortium ?"
   ]
  },
  {
   "cell_type": "markdown",
   "id": "f6aebbfb",
   "metadata": {},
   "source": [
    "## Community Simulation with SteadyCom"
   ]
  },
  {
   "cell_type": "markdown",
   "id": "7b47083e",
   "metadata": {},
   "source": [
    "**SteadyCom** by [Chan, et al (2017)](https://journals.plos.org/ploscompbiol/article?id=10.1371/journal.pcbi.1005539) is a recent community simulation method that takes into account the fact that to reach a stable composition the organisms need to grow at the same *specific growth rate* (1/h), which means that the *absolute growth rate* (gDW/h) of each organism is proportional to its *abundance* at steady-state (gDW).\n",
    "\n",
    "Let's simulate the same community using SteadyCom:"
   ]
  },
  {
   "cell_type": "code",
   "execution_count": null,
   "id": "2214667c",
   "metadata": {},
   "outputs": [],
   "source": [
    "from mewpy.cobra.com import SteadyCom\n",
    "\n",
    "solution = SteadyCom(community,constraints = M9)"
   ]
  },
  {
   "cell_type": "markdown",
   "id": "6e02ca07",
   "metadata": {},
   "source": [
    "In this case the solution object shows the overall community growth rate and the relative abundance of each species:"
   ]
  },
  {
   "cell_type": "code",
   "execution_count": null,
   "id": "50794ba1",
   "metadata": {},
   "outputs": [],
   "source": [
    "solution"
   ]
  },
  {
   "cell_type": "markdown",
   "id": "86f91b4a",
   "metadata": {},
   "source": [
    "The `solution` object for community simulations implements a few additional features, such as enumerating all the cross-feeding interactions:"
   ]
  },
  {
   "cell_type": "code",
   "execution_count": null,
   "id": "e5b8887e",
   "metadata": {},
   "outputs": [],
   "source": [
    "solution.cross_feeding(as_df=True).dropna().sort_values('rate', ascending=False)"
   ]
  },
  {
   "cell_type": "markdown",
   "id": "c61d9f30",
   "metadata": {},
   "source": [
    "We can plot the fluxes of each mutant in a map to help with interpretation of the results:"
   ]
  },
  {
   "cell_type": "code",
   "execution_count": null,
   "id": "09396e61",
   "metadata": {},
   "outputs": [],
   "source": [
    "from mewpy.visualization.escher import build_escher\n",
    "\n",
    "build_escher(fluxes=solution.internal['vpi5482'])"
   ]
  },
  {
   "cell_type": "code",
   "execution_count": null,
   "id": "10eae322",
   "metadata": {},
   "outputs": [],
   "source": [
    "build_escher(fluxes=solution.internal['atcc8492'])"
   ]
  },
  {
   "cell_type": "code",
   "execution_count": null,
   "id": "91063942",
   "metadata": {},
   "outputs": [],
   "source": [
    "build_escher(fluxes=solution.internal['ed1a'])"
   ]
  },
  {
   "cell_type": "code",
   "execution_count": null,
   "id": "49473b0c",
   "metadata": {},
   "outputs": [],
   "source": [
    "build_escher(fluxes=solution.internal['atcc27758'])"
   ]
  },
  {
   "cell_type": "code",
   "execution_count": null,
   "id": "338021ff",
   "metadata": {},
   "outputs": [],
   "source": [
    "build_escher(fluxes=solution.internal['atcc15912'])"
   ]
  },
  {
   "cell_type": "code",
   "execution_count": null,
   "id": "c4d861d5",
   "metadata": {},
   "outputs": [],
   "source": [
    "build_escher(fluxes=solution.internal['l182'])"
   ]
  },
  {
   "cell_type": "markdown",
   "id": "9de7dc40",
   "metadata": {},
   "source": [
    "## Explore alternative solutions\n",
    "\n",
    "Unfortunately, one limitation of **SteadyCom**, which is exemplified by [Chan, et al (2017)](https://journals.plos.org/ploscompbiol/article?id=10.1371/journal.pcbi.1005539) in Figure 3 (reproduced below), is the variability in the solution space when the community is not growing at the maximum (theoretical) growth rate.\n",
    "\n",
    "> Would you expect a synthetic community to grow at its maximum growth rate?\n",
    "\n",
    "**MEWpy** implements a variability analysis function for the SteadyCom solution space, let's see what happens if the community is growing at 90% of the theoretical maximum:"
   ]
  },
  {
   "cell_type": "code",
   "execution_count": null,
   "id": "a1217bf2",
   "metadata": {},
   "outputs": [],
   "source": [
    "from mewpy.cobra.com import SteadyComVA\n",
    "l_va = np.linspace(0.1,1.0,num=10)\n",
    "\n",
    "for va in l_va:\n",
    "    va = round(va, 1)\n",
    "    variability = SteadyComVA(community, obj_frac=va, constraints=M9)\n",
    "    print(f'Strain\\tMin\\tMax\\tVariability - {va}')\n",
    "    for strain, (lower, upper) in variability.items():\n",
    "        print(f'{strain}\\t{lower:.1%}\\t{upper:.1%}')"
   ]
  },
  {
   "cell_type": "markdown",
   "id": "e2c8b384",
   "metadata": {},
   "source": [
    "As you can see, there is a really large variability in this solution space. This means that we know in theory the two mutants **can** cooperate and survive in minimal media, but there is still a lot of uncertainty with regard to **how** they will achieve a stable consortium.\n",
    "\n",
    "> How do you think we can reduce this uncertainty?"
   ]
  },
  {
   "cell_type": "markdown",
   "id": "5497e337",
   "metadata": {},
   "source": [
    "Firstly, lets set the environment conditions:"
   ]
  },
  {
   "cell_type": "code",
   "execution_count": null,
   "id": "34220805",
   "metadata": {},
   "outputs": [],
   "source": [
    "sim.set_environmental_conditions(M9)"
   ]
  },
  {
   "cell_type": "markdown",
   "id": "3639ffde",
   "metadata": {},
   "source": [
    "We may now impose constraints on each organism growth, such as stating that each organism need to grow at least 0.1/h"
   ]
  },
  {
   "cell_type": "code",
   "execution_count": null,
   "id": "1c660055",
   "metadata": {},
   "outputs": [],
   "source": [
    "constraints={community.organisms_biomass['atcc8492']:(0.1,1000), \n",
    "             community.organisms_biomass['vpi5482']:(0.1,1000), \n",
    "             community.organisms_biomass['ed1a']:(0.1,1000),\n",
    "             community.organisms_biomass['atcc27758']:(0.1,1000),\n",
    "             community.organisms_biomass['l182']:(0.1,1000),\n",
    "             community.organisms_biomass['atcc15912']:(0.1,1000)}\n",
    "solution = sim.simulate(constraints=constraints)\n",
    "solution"
   ]
  },
  {
   "cell_type": "code",
   "execution_count": null,
   "id": "ecb0bce0",
   "metadata": {},
   "outputs": [],
   "source": [
    "solution.find('Growth')"
   ]
  },
  {
   "cell_type": "markdown",
   "id": "5ad3197e",
   "metadata": {},
   "source": [
    "Alternatively, we might choose to impose relative growth rates for each of the organisms:"
   ]
  },
  {
   "cell_type": "code",
   "execution_count": null,
   "id": "7ecc37ca",
   "metadata": {},
   "outputs": [],
   "source": [
    "community2 = CommunityModel([bt,bu],\n",
    "                           add_compartments=True,\n",
    "                           merge_biomasses=True,\n",
    "                           flavor='cobra')"
   ]
  },
  {
   "cell_type": "code",
   "execution_count": null,
   "id": "77f8eed9",
   "metadata": {},
   "outputs": [],
   "source": [
    "sim2 = community2.get_community_model()\n",
    "sim2.set_environmental_conditions(M9)"
   ]
  },
  {
   "cell_type": "code",
   "execution_count": null,
   "id": "7d604601",
   "metadata": {},
   "outputs": [],
   "source": [
    "solution = sim2.simulate()\n",
    "print(solution)\n",
    "solution.find('BIOMASS')"
   ]
  },
  {
   "cell_type": "code",
   "execution_count": null,
   "id": "6402d86c",
   "metadata": {},
   "outputs": [],
   "source": [
    "sim2.find(community2.biomass)"
   ]
  },
  {
   "cell_type": "markdown",
   "id": "d6dcc5da",
   "metadata": {},
   "source": [
    "The relative abundance (relative growth rates) are by default equal. We may though change these ratios:  "
   ]
  },
  {
   "cell_type": "code",
   "execution_count": null,
   "id": "575721c6",
   "metadata": {},
   "outputs": [],
   "source": [
    "community2.set_abundance({'glc_ko':1,'nh4_ko':2.5})\n",
    "sim2.simulate().find('BIOMASS')"
   ]
  },
  {
   "cell_type": "markdown",
   "id": "442759f3",
   "metadata": {},
   "source": [
    "## SMETANA\n",
    "\n",
    "**SMETANA** implements several algorithms to analyse cross-feeding interactions in microbial communities. These have been describe in [Zelezniak et al, PNAS (2015)](https://www.pnas.org/doi/abs/10.1073/pnas.1421834112). Please read the paper for a more detailed explanation."
   ]
  },
  {
   "cell_type": "markdown",
   "id": "3f23584e",
   "metadata": {},
   "source": [
    "SCS (species coupling score): measures the dependency of one species in the presence of the others to survive"
   ]
  },
  {
   "cell_type": "code",
   "execution_count": null,
   "id": "45d28b6e",
   "metadata": {},
   "outputs": [],
   "source": [
    "SCC = sc_score(community)"
   ]
  },
  {
   "cell_type": "code",
   "execution_count": null,
   "id": "6e07f487",
   "metadata": {},
   "outputs": [],
   "source": [
    "pd.DataFrame.from_dict(SCC)"
   ]
  },
  {
   "cell_type": "markdown",
   "id": "2a521e6e",
   "metadata": {},
   "source": [
    "MUS (metabolite uptake score): measures how frequently a species needs to uptake a metabolite to survive"
   ]
  },
  {
   "cell_type": "code",
   "execution_count": null,
   "id": "f779b482",
   "metadata": {},
   "outputs": [],
   "source": [
    "MUS = mu_score(community)\n",
    "pd.DataFrame.from_dict(MUS)"
   ]
  },
  {
   "cell_type": "code",
   "execution_count": null,
   "id": "d6175f02",
   "metadata": {},
   "outputs": [],
   "source": [
    "MUS.vpi5482"
   ]
  },
  {
   "cell_type": "code",
   "execution_count": null,
   "id": "9449a68c",
   "metadata": {},
   "outputs": [],
   "source": [
    "MUS.atcc8492"
   ]
  },
  {
   "cell_type": "markdown",
   "id": "19703e1f",
   "metadata": {},
   "source": [
    "MPS (metabolite production score): measures the ability of a species to produce a metabolite"
   ]
  },
  {
   "cell_type": "code",
   "execution_count": null,
   "id": "095e8c80",
   "metadata": {},
   "outputs": [],
   "source": [
    "MPS = mp_score(community,environment=M9)\n",
    "MPS"
   ]
  },
  {
   "cell_type": "code",
   "execution_count": null,
   "id": "244ea3f5",
   "metadata": {},
   "outputs": [],
   "source": [
    "pd.DataFrame.from_dict(MPS)"
   ]
  },
  {
   "cell_type": "markdown",
   "id": "1fc8ec46",
   "metadata": {},
   "source": [
    "MRO (metabolic resource overlap): calculates how much the species compete for the same metabolites."
   ]
  },
  {
   "cell_type": "code",
   "execution_count": null,
   "id": "761408d5",
   "metadata": {},
   "outputs": [],
   "source": [
    "score, MRO = mro_score(community,environment=M9)\n",
    "print(score)\n",
    "MRO"
   ]
  },
  {
   "cell_type": "code",
   "execution_count": null,
   "id": "0eecd3b7",
   "metadata": {},
   "outputs": [],
   "source": [
    "print(f'Community score: {score}\\n')\n",
    "\n",
    "print('Total competition for resources:\\n')\n",
    "print(MRO.community_medium)\n",
    "print()\n",
    "print('By individual:\\n')\n",
    "\n",
    "for ind in MRO.individual_media.keys():\n",
    "    print(f'Strain:{ind}\\t{\", \".join(met for met in MRO.individual_media[ind])}')"
   ]
  },
  {
   "cell_type": "code",
   "execution_count": null,
   "id": "2f72f3c5",
   "metadata": {},
   "outputs": [],
   "source": [
    "MRO.individual_media.vpi5482"
   ]
  },
  {
   "cell_type": "code",
   "execution_count": null,
   "id": "d5461666",
   "metadata": {},
   "outputs": [],
   "source": [
    "MRO.individual_media.atcc8492"
   ]
  }
 ],
 "metadata": {
  "kernelspec": {
   "display_name": "Python 3 (ipykernel)",
   "language": "python",
   "name": "python3"
  },
  "language_info": {
   "codemirror_mode": {
    "name": "ipython",
    "version": 3
   },
   "file_extension": ".py",
   "mimetype": "text/x-python",
   "name": "python",
   "nbconvert_exporter": "python",
   "pygments_lexer": "ipython3",
   "version": "3.9.12"
  },
  "vscode": {
   "interpreter": {
    "hash": "53ddbca413d8c7d71c8bf00ad42e215a2a7a7728d07d0ca366dfc9251666779d"
   }
  }
 },
 "nbformat": 4,
 "nbformat_minor": 5
}

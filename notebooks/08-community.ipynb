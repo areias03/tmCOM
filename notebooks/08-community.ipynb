{
 "cells": [
  {
   "cell_type": "markdown",
   "id": "4ef35842",
   "metadata": {},
   "source": [
    "# MEWpy Community Modeling\n",
    "\n",
    "Author: Vitor Pereira, inspired on the work by Daniel Machado. \n",
    "\n",
    "License: [CC BY-SA 4.0](http://creativecommons.org/licenses/by-sa/4.0/)\n",
    "\n",
    "-------\n",
    "\n",
    "In this tutorial:\n",
    "\n",
    "- You will learn how to perform flux balance analysis of microbial communities\n",
    "using a model of the [central carbon metabolism of *E. coli*](https://journals.asm.org/doi/10.1128/ecosalplus.10.2.1).\n"
   ]
  },
  {
   "cell_type": "markdown",
   "id": "19cdc16d",
   "metadata": {},
   "source": [
    "## Install requirements \n",
    "To run this notebook we firstly need to install the required packages"
   ]
  },
  {
   "cell_type": "markdown",
   "id": "15b21699",
   "metadata": {},
   "source": [
    "Verify the instalation"
   ]
  },
  {
   "cell_type": "code",
   "execution_count": 1,
   "id": "b959d694",
   "metadata": {},
   "outputs": [
    {
     "name": "stdout",
     "output_type": "stream",
     "text": [
      "MEWpy version: 0.1.28\n",
      "Author: BiSBII CEB University of Minho\n",
      "Contact: vpereira@ceb.uminho.pt \n",
      "\n",
      "Available LP solvers: gurobi glpk\n",
      "Default LP solver: gurobi \n",
      "\n",
      "Available ODE solvers: scipy\n",
      "Default ODE solver: scipy \n",
      "\n",
      "Optimization Problems: AbstractKOProblem AbstractOUProblem CommunityKOProblem ETFLGKOProblem ETFLGOUProblem GKOProblem GOUProblem GeckoKOProblem GeckoOUProblem KcatOptProblem KineticKOProblem KineticOUProblem MediumProblem OptORFProblem OptRamProblem RKOProblem ROUProblem \n",
      "\n",
      "Available EA engines: inspyred jmetal\n",
      "Default EA engine: jmetal\n",
      "Available EAs: GA NSGAII NSGAIII SA SPEA2 \n",
      "\n"
     ]
    }
   ],
   "source": [
    "import mewpy\n",
    "mewpy.info()"
   ]
  },
  {
   "cell_type": "code",
   "execution_count": 2,
   "id": "42ecb05d",
   "metadata": {},
   "outputs": [],
   "source": [
    "from mewpy.solvers import set_default_solver,get_default_solver\n",
    "set_default_solver('gurobi')"
   ]
  },
  {
   "cell_type": "code",
   "execution_count": 3,
   "id": "7dba50ac",
   "metadata": {},
   "outputs": [
    {
     "data": {
      "text/plain": [
       "'gurobi'"
      ]
     },
     "execution_count": 3,
     "metadata": {},
     "output_type": "execute_result"
    }
   ],
   "source": [
    "get_default_solver()"
   ]
  },
  {
   "cell_type": "markdown",
   "id": "6f2de219",
   "metadata": {},
   "source": [
    "IMPORTANT: The notebooks require a MEWpy version >= 0.1.26"
   ]
  },
  {
   "cell_type": "markdown",
   "id": "315126b8",
   "metadata": {},
   "source": [
    "### Run in Google colab\n",
    "\n",
    "If you are running this notebook in Colab, you need to perform the following steps, otherwise skip."
   ]
  },
  {
   "cell_type": "markdown",
   "id": "b5e4fe7b",
   "metadata": {},
   "source": [
    "## Setting up a community\n",
    "\n",
    "We will create a synthetic microbial consortium with two *E. coli* mutants growing in minimal medium. In one of the mutants we will knockout the glucose transporter and in the other we will knockout the ammonium transporter."
   ]
  },
  {
   "cell_type": "code",
   "execution_count": 4,
   "id": "4fd366fe",
   "metadata": {},
   "outputs": [
    {
     "name": "stdout",
     "output_type": "stream",
     "text": [
      "Set parameter Username\n"
     ]
    }
   ],
   "source": [
    "from cobra.io import read_sbml_model\n",
    "\n",
    "bt = read_sbml_model('../models/non-ec/ncbi_refseq/vpi5482.xml')\n",
    "bu = read_sbml_model('../models/non-ec/ncbi_refseq/atcc8492.xml')\n",
    "ec = read_sbml_model('../models/non-ec/ncbi_refseq/ed1a.xml')\n",
    "cc = read_sbml_model('../models/non-ec/ncbi_refseq/atcc27758.xml')\n",
    "ri = read_sbml_model('../models/non-ec/ncbi_refseq/l182.xml')\n",
    "sp = read_sbml_model('../models/non-ec/ncbi_refseq/atcc15912.xml')"
   ]
  },
  {
   "cell_type": "markdown",
   "id": "e1f4b0c4",
   "metadata": {},
   "source": [
    "## Comparing models\n",
    "\n",
    "Community models require that metabolites have the same identifiers accros all models. MEWpy offers some functions tho that end, computing the metabolites, reactions and uptakes overlaps between a list models."
   ]
  },
  {
   "cell_type": "code",
   "execution_count": 5,
   "id": "b6e5ff2a",
   "metadata": {},
   "outputs": [
    {
     "name": "stderr",
     "output_type": "stream",
     "text": [
      "Could not identify an external compartment by name and choosing one with the most boundary reactions. That might be complete nonsense or change suddenly. Consider renaming your compartments using `Model.compartments` to fix this.\n",
      "Could not identify an external compartment by name and choosing one with the most boundary reactions. That might be complete nonsense or change suddenly. Consider renaming your compartments using `Model.compartments` to fix this.\n",
      "Could not identify an external compartment by name and choosing one with the most boundary reactions. That might be complete nonsense or change suddenly. Consider renaming your compartments using `Model.compartments` to fix this.\n",
      "Could not identify an external compartment by name and choosing one with the most boundary reactions. That might be complete nonsense or change suddenly. Consider renaming your compartments using `Model.compartments` to fix this.\n",
      "Could not identify an external compartment by name and choosing one with the most boundary reactions. That might be complete nonsense or change suddenly. Consider renaming your compartments using `Model.compartments` to fix this.\n",
      "Could not identify an external compartment by name and choosing one with the most boundary reactions. That might be complete nonsense or change suddenly. Consider renaming your compartments using `Model.compartments` to fix this.\n",
      "Could not identify an external compartment by name and choosing one with the most boundary reactions. That might be complete nonsense or change suddenly. Consider renaming your compartments using `Model.compartments` to fix this.\n",
      "Could not identify an external compartment by name and choosing one with the most boundary reactions. That might be complete nonsense or change suddenly. Consider renaming your compartments using `Model.compartments` to fix this.\n",
      "Could not identify an external compartment by name and choosing one with the most boundary reactions. That might be complete nonsense or change suddenly. Consider renaming your compartments using `Model.compartments` to fix this.\n",
      "Could not identify an external compartment by name and choosing one with the most boundary reactions. That might be complete nonsense or change suddenly. Consider renaming your compartments using `Model.compartments` to fix this.\n",
      "Could not identify an external compartment by name and choosing one with the most boundary reactions. That might be complete nonsense or change suddenly. Consider renaming your compartments using `Model.compartments` to fix this.\n",
      "Could not identify an external compartment by name and choosing one with the most boundary reactions. That might be complete nonsense or change suddenly. Consider renaming your compartments using `Model.compartments` to fix this.\n",
      "Could not identify an external compartment by name and choosing one with the most boundary reactions. That might be complete nonsense or change suddenly. Consider renaming your compartments using `Model.compartments` to fix this.\n",
      "Could not identify an external compartment by name and choosing one with the most boundary reactions. That might be complete nonsense or change suddenly. Consider renaming your compartments using `Model.compartments` to fix this.\n",
      "Could not identify an external compartment by name and choosing one with the most boundary reactions. That might be complete nonsense or change suddenly. Consider renaming your compartments using `Model.compartments` to fix this.\n",
      "Could not identify an external compartment by name and choosing one with the most boundary reactions. That might be complete nonsense or change suddenly. Consider renaming your compartments using `Model.compartments` to fix this.\n",
      "Could not identify an external compartment by name and choosing one with the most boundary reactions. That might be complete nonsense or change suddenly. Consider renaming your compartments using `Model.compartments` to fix this.\n",
      "Could not identify an external compartment by name and choosing one with the most boundary reactions. That might be complete nonsense or change suddenly. Consider renaming your compartments using `Model.compartments` to fix this.\n",
      "Could not identify an external compartment by name and choosing one with the most boundary reactions. That might be complete nonsense or change suddenly. Consider renaming your compartments using `Model.compartments` to fix this.\n",
      "Could not identify an external compartment by name and choosing one with the most boundary reactions. That might be complete nonsense or change suddenly. Consider renaming your compartments using `Model.compartments` to fix this.\n",
      "Could not identify an external compartment by name and choosing one with the most boundary reactions. That might be complete nonsense or change suddenly. Consider renaming your compartments using `Model.compartments` to fix this.\n",
      "Could not identify an external compartment by name and choosing one with the most boundary reactions. That might be complete nonsense or change suddenly. Consider renaming your compartments using `Model.compartments` to fix this.\n",
      "Could not identify an external compartment by name and choosing one with the most boundary reactions. That might be complete nonsense or change suddenly. Consider renaming your compartments using `Model.compartments` to fix this.\n",
      "Could not identify an external compartment by name and choosing one with the most boundary reactions. That might be complete nonsense or change suddenly. Consider renaming your compartments using `Model.compartments` to fix this.\n",
      "Could not identify an external compartment by name and choosing one with the most boundary reactions. That might be complete nonsense or change suddenly. Consider renaming your compartments using `Model.compartments` to fix this.\n",
      "Could not identify an external compartment by name and choosing one with the most boundary reactions. That might be complete nonsense or change suddenly. Consider renaming your compartments using `Model.compartments` to fix this.\n",
      "Could not identify an external compartment by name and choosing one with the most boundary reactions. That might be complete nonsense or change suddenly. Consider renaming your compartments using `Model.compartments` to fix this.\n",
      "Could not identify an external compartment by name and choosing one with the most boundary reactions. That might be complete nonsense or change suddenly. Consider renaming your compartments using `Model.compartments` to fix this.\n",
      "Could not identify an external compartment by name and choosing one with the most boundary reactions. That might be complete nonsense or change suddenly. Consider renaming your compartments using `Model.compartments` to fix this.\n",
      "Could not identify an external compartment by name and choosing one with the most boundary reactions. That might be complete nonsense or change suddenly. Consider renaming your compartments using `Model.compartments` to fix this.\n"
     ]
    }
   ],
   "source": [
    "from mewpy.cobra.com import *\n",
    "\n",
    "mets, rxns, over = jaccard_similarity_matrices([bt,bu,ec,cc,ri,sp])"
   ]
  },
  {
   "cell_type": "code",
   "execution_count": 6,
   "id": "f766d344",
   "metadata": {},
   "outputs": [
    {
     "data": {
      "text/html": [
       "<div>\n",
       "<style scoped>\n",
       "    .dataframe tbody tr th:only-of-type {\n",
       "        vertical-align: middle;\n",
       "    }\n",
       "\n",
       "    .dataframe tbody tr th {\n",
       "        vertical-align: top;\n",
       "    }\n",
       "\n",
       "    .dataframe thead th {\n",
       "        text-align: right;\n",
       "    }\n",
       "</style>\n",
       "<table border=\"1\" class=\"dataframe\">\n",
       "  <thead>\n",
       "    <tr style=\"text-align: right;\">\n",
       "      <th></th>\n",
       "      <th>vpi5482</th>\n",
       "      <th>atcc8492</th>\n",
       "      <th>ed1a</th>\n",
       "      <th>atcc27758</th>\n",
       "      <th>l182</th>\n",
       "      <th>atcc15912</th>\n",
       "    </tr>\n",
       "  </thead>\n",
       "  <tbody>\n",
       "    <tr>\n",
       "      <th>vpi5482</th>\n",
       "      <td>1.000000</td>\n",
       "      <td>0.859259</td>\n",
       "      <td>0.540873</td>\n",
       "      <td>0.602206</td>\n",
       "      <td>0.614317</td>\n",
       "      <td>0.538695</td>\n",
       "    </tr>\n",
       "    <tr>\n",
       "      <th>atcc8492</th>\n",
       "      <td>0.859259</td>\n",
       "      <td>1.000000</td>\n",
       "      <td>0.536517</td>\n",
       "      <td>0.594395</td>\n",
       "      <td>0.632911</td>\n",
       "      <td>0.536287</td>\n",
       "    </tr>\n",
       "    <tr>\n",
       "      <th>ed1a</th>\n",
       "      <td>0.540873</td>\n",
       "      <td>0.536517</td>\n",
       "      <td>1.000000</td>\n",
       "      <td>0.484069</td>\n",
       "      <td>0.527873</td>\n",
       "      <td>0.445727</td>\n",
       "    </tr>\n",
       "    <tr>\n",
       "      <th>atcc27758</th>\n",
       "      <td>0.602206</td>\n",
       "      <td>0.594395</td>\n",
       "      <td>0.484069</td>\n",
       "      <td>1.000000</td>\n",
       "      <td>0.698553</td>\n",
       "      <td>0.605154</td>\n",
       "    </tr>\n",
       "    <tr>\n",
       "      <th>l182</th>\n",
       "      <td>0.614317</td>\n",
       "      <td>0.632911</td>\n",
       "      <td>0.527873</td>\n",
       "      <td>0.698553</td>\n",
       "      <td>1.000000</td>\n",
       "      <td>0.612161</td>\n",
       "    </tr>\n",
       "    <tr>\n",
       "      <th>atcc15912</th>\n",
       "      <td>0.538695</td>\n",
       "      <td>0.536287</td>\n",
       "      <td>0.445727</td>\n",
       "      <td>0.605154</td>\n",
       "      <td>0.612161</td>\n",
       "      <td>1.000000</td>\n",
       "    </tr>\n",
       "  </tbody>\n",
       "</table>\n",
       "</div>"
      ],
      "text/plain": [
       "            vpi5482  atcc8492      ed1a  atcc27758      l182  atcc15912\n",
       "vpi5482    1.000000  0.859259  0.540873   0.602206  0.614317   0.538695\n",
       "atcc8492   0.859259  1.000000  0.536517   0.594395  0.632911   0.536287\n",
       "ed1a       0.540873  0.536517  1.000000   0.484069  0.527873   0.445727\n",
       "atcc27758  0.602206  0.594395  0.484069   1.000000  0.698553   0.605154\n",
       "l182       0.614317  0.632911  0.527873   0.698553  1.000000   0.612161\n",
       "atcc15912  0.538695  0.536287  0.445727   0.605154  0.612161   1.000000"
      ]
     },
     "execution_count": 6,
     "metadata": {},
     "output_type": "execute_result"
    }
   ],
   "source": [
    "mets"
   ]
  },
  {
   "cell_type": "code",
   "execution_count": 7,
   "id": "aa208246",
   "metadata": {},
   "outputs": [
    {
     "data": {
      "text/html": [
       "<div>\n",
       "<style scoped>\n",
       "    .dataframe tbody tr th:only-of-type {\n",
       "        vertical-align: middle;\n",
       "    }\n",
       "\n",
       "    .dataframe tbody tr th {\n",
       "        vertical-align: top;\n",
       "    }\n",
       "\n",
       "    .dataframe thead th {\n",
       "        text-align: right;\n",
       "    }\n",
       "</style>\n",
       "<table border=\"1\" class=\"dataframe\">\n",
       "  <thead>\n",
       "    <tr style=\"text-align: right;\">\n",
       "      <th></th>\n",
       "      <th>vpi5482</th>\n",
       "      <th>atcc8492</th>\n",
       "      <th>ed1a</th>\n",
       "      <th>atcc27758</th>\n",
       "      <th>l182</th>\n",
       "      <th>atcc15912</th>\n",
       "    </tr>\n",
       "  </thead>\n",
       "  <tbody>\n",
       "    <tr>\n",
       "      <th>vpi5482</th>\n",
       "      <td>1.000000</td>\n",
       "      <td>0.770921</td>\n",
       "      <td>0.378037</td>\n",
       "      <td>0.420721</td>\n",
       "      <td>0.460503</td>\n",
       "      <td>0.355149</td>\n",
       "    </tr>\n",
       "    <tr>\n",
       "      <th>atcc8492</th>\n",
       "      <td>0.770921</td>\n",
       "      <td>1.000000</td>\n",
       "      <td>0.371447</td>\n",
       "      <td>0.421101</td>\n",
       "      <td>0.491604</td>\n",
       "      <td>0.359382</td>\n",
       "    </tr>\n",
       "    <tr>\n",
       "      <th>ed1a</th>\n",
       "      <td>0.378037</td>\n",
       "      <td>0.371447</td>\n",
       "      <td>1.000000</td>\n",
       "      <td>0.303748</td>\n",
       "      <td>0.341471</td>\n",
       "      <td>0.284207</td>\n",
       "    </tr>\n",
       "    <tr>\n",
       "      <th>atcc27758</th>\n",
       "      <td>0.420721</td>\n",
       "      <td>0.421101</td>\n",
       "      <td>0.303748</td>\n",
       "      <td>1.000000</td>\n",
       "      <td>0.528866</td>\n",
       "      <td>0.403887</td>\n",
       "    </tr>\n",
       "    <tr>\n",
       "      <th>l182</th>\n",
       "      <td>0.460503</td>\n",
       "      <td>0.491604</td>\n",
       "      <td>0.341471</td>\n",
       "      <td>0.528866</td>\n",
       "      <td>1.000000</td>\n",
       "      <td>0.419867</td>\n",
       "    </tr>\n",
       "    <tr>\n",
       "      <th>atcc15912</th>\n",
       "      <td>0.355149</td>\n",
       "      <td>0.359382</td>\n",
       "      <td>0.284207</td>\n",
       "      <td>0.403887</td>\n",
       "      <td>0.419867</td>\n",
       "      <td>1.000000</td>\n",
       "    </tr>\n",
       "  </tbody>\n",
       "</table>\n",
       "</div>"
      ],
      "text/plain": [
       "            vpi5482  atcc8492      ed1a  atcc27758      l182  atcc15912\n",
       "vpi5482    1.000000  0.770921  0.378037   0.420721  0.460503   0.355149\n",
       "atcc8492   0.770921  1.000000  0.371447   0.421101  0.491604   0.359382\n",
       "ed1a       0.378037  0.371447  1.000000   0.303748  0.341471   0.284207\n",
       "atcc27758  0.420721  0.421101  0.303748   1.000000  0.528866   0.403887\n",
       "l182       0.460503  0.491604  0.341471   0.528866  1.000000   0.419867\n",
       "atcc15912  0.355149  0.359382  0.284207   0.403887  0.419867   1.000000"
      ]
     },
     "execution_count": 7,
     "metadata": {},
     "output_type": "execute_result"
    }
   ],
   "source": [
    "rxns"
   ]
  },
  {
   "cell_type": "code",
   "execution_count": 8,
   "id": "2e6e97cb",
   "metadata": {},
   "outputs": [
    {
     "data": {
      "text/html": [
       "<div>\n",
       "<style scoped>\n",
       "    .dataframe tbody tr th:only-of-type {\n",
       "        vertical-align: middle;\n",
       "    }\n",
       "\n",
       "    .dataframe tbody tr th {\n",
       "        vertical-align: top;\n",
       "    }\n",
       "\n",
       "    .dataframe thead th {\n",
       "        text-align: right;\n",
       "    }\n",
       "</style>\n",
       "<table border=\"1\" class=\"dataframe\">\n",
       "  <thead>\n",
       "    <tr style=\"text-align: right;\">\n",
       "      <th></th>\n",
       "      <th>vpi5482</th>\n",
       "      <th>atcc8492</th>\n",
       "      <th>ed1a</th>\n",
       "      <th>atcc27758</th>\n",
       "      <th>l182</th>\n",
       "      <th>atcc15912</th>\n",
       "    </tr>\n",
       "  </thead>\n",
       "  <tbody>\n",
       "    <tr>\n",
       "      <th>vpi5482</th>\n",
       "      <td>1.000000</td>\n",
       "      <td>0.731343</td>\n",
       "      <td>0.387097</td>\n",
       "      <td>0.474308</td>\n",
       "      <td>0.476190</td>\n",
       "      <td>0.417004</td>\n",
       "    </tr>\n",
       "    <tr>\n",
       "      <th>atcc8492</th>\n",
       "      <td>0.731343</td>\n",
       "      <td>1.000000</td>\n",
       "      <td>0.362398</td>\n",
       "      <td>0.439516</td>\n",
       "      <td>0.489540</td>\n",
       "      <td>0.391667</td>\n",
       "    </tr>\n",
       "    <tr>\n",
       "      <th>ed1a</th>\n",
       "      <td>0.387097</td>\n",
       "      <td>0.362398</td>\n",
       "      <td>1.000000</td>\n",
       "      <td>0.360104</td>\n",
       "      <td>0.412399</td>\n",
       "      <td>0.371585</td>\n",
       "    </tr>\n",
       "    <tr>\n",
       "      <th>atcc27758</th>\n",
       "      <td>0.474308</td>\n",
       "      <td>0.439516</td>\n",
       "      <td>0.360104</td>\n",
       "      <td>1.000000</td>\n",
       "      <td>0.530120</td>\n",
       "      <td>0.534188</td>\n",
       "    </tr>\n",
       "    <tr>\n",
       "      <th>l182</th>\n",
       "      <td>0.476190</td>\n",
       "      <td>0.489540</td>\n",
       "      <td>0.412399</td>\n",
       "      <td>0.530120</td>\n",
       "      <td>1.000000</td>\n",
       "      <td>0.523404</td>\n",
       "    </tr>\n",
       "    <tr>\n",
       "      <th>atcc15912</th>\n",
       "      <td>0.417004</td>\n",
       "      <td>0.391667</td>\n",
       "      <td>0.371585</td>\n",
       "      <td>0.534188</td>\n",
       "      <td>0.523404</td>\n",
       "      <td>1.000000</td>\n",
       "    </tr>\n",
       "  </tbody>\n",
       "</table>\n",
       "</div>"
      ],
      "text/plain": [
       "            vpi5482  atcc8492      ed1a  atcc27758      l182  atcc15912\n",
       "vpi5482    1.000000  0.731343  0.387097   0.474308  0.476190   0.417004\n",
       "atcc8492   0.731343  1.000000  0.362398   0.439516  0.489540   0.391667\n",
       "ed1a       0.387097  0.362398  1.000000   0.360104  0.412399   0.371585\n",
       "atcc27758  0.474308  0.439516  0.360104   1.000000  0.530120   0.534188\n",
       "l182       0.476190  0.489540  0.412399   0.530120  1.000000   0.523404\n",
       "atcc15912  0.417004  0.391667  0.371585   0.534188  0.523404   1.000000"
      ]
     },
     "execution_count": 8,
     "metadata": {},
     "output_type": "execute_result"
    }
   ],
   "source": [
    "over"
   ]
  },
  {
   "cell_type": "markdown",
   "id": "949323a8",
   "metadata": {},
   "source": [
    "## Building communities\n",
    "\n",
    "**MEWpy** has some basic functionality for working with microbial communities, one is the `CommunityModel` class to create microbial communities from a list of models of individual species: "
   ]
  },
  {
   "cell_type": "code",
   "execution_count": 9,
   "id": "91e413e9",
   "metadata": {},
   "outputs": [],
   "source": [
    "from mewpy.model import CommunityModel\n",
    "community = CommunityModel([bt,bu,ec,cc,ri,sp],flavor='cobra')"
   ]
  },
  {
   "cell_type": "code",
   "execution_count": 10,
   "id": "46ed57b9",
   "metadata": {},
   "outputs": [
    {
     "name": "stderr",
     "output_type": "stream",
     "text": [
      "Could not identify an external compartment by name and choosing one with the most boundary reactions. That might be complete nonsense or change suddenly. Consider renaming your compartments using `Model.compartments` to fix this.\n",
      "Could not identify an external compartment by name and choosing one with the most boundary reactions. That might be complete nonsense or change suddenly. Consider renaming your compartments using `Model.compartments` to fix this.\n",
      "Could not identify an external compartment by name and choosing one with the most boundary reactions. That might be complete nonsense or change suddenly. Consider renaming your compartments using `Model.compartments` to fix this.\n",
      "Could not identify an external compartment by name and choosing one with the most boundary reactions. That might be complete nonsense or change suddenly. Consider renaming your compartments using `Model.compartments` to fix this.\n",
      "Could not identify an external compartment by name and choosing one with the most boundary reactions. That might be complete nonsense or change suddenly. Consider renaming your compartments using `Model.compartments` to fix this.\n",
      "Could not identify an external compartment by name and choosing one with the most boundary reactions. That might be complete nonsense or change suddenly. Consider renaming your compartments using `Model.compartments` to fix this.\n",
      "Could not identify an external compartment by name and choosing one with the most boundary reactions. That might be complete nonsense or change suddenly. Consider renaming your compartments using `Model.compartments` to fix this.\n",
      "Could not identify an external compartment by name and choosing one with the most boundary reactions. That might be complete nonsense or change suddenly. Consider renaming your compartments using `Model.compartments` to fix this.\n",
      "Could not identify an external compartment by name and choosing one with the most boundary reactions. That might be complete nonsense or change suddenly. Consider renaming your compartments using `Model.compartments` to fix this.\n",
      "Could not identify an external compartment by name and choosing one with the most boundary reactions. That might be complete nonsense or change suddenly. Consider renaming your compartments using `Model.compartments` to fix this.\n",
      "Could not identify an external compartment by name and choosing one with the most boundary reactions. That might be complete nonsense or change suddenly. Consider renaming your compartments using `Model.compartments` to fix this.\n",
      "Could not identify an external compartment by name and choosing one with the most boundary reactions. That might be complete nonsense or change suddenly. Consider renaming your compartments using `Model.compartments` to fix this.\n",
      "Could not identify an external compartment by name and choosing one with the most boundary reactions. That might be complete nonsense or change suddenly. Consider renaming your compartments using `Model.compartments` to fix this.\n",
      "Could not identify an external compartment by name and choosing one with the most boundary reactions. That might be complete nonsense or change suddenly. Consider renaming your compartments using `Model.compartments` to fix this.\n",
      "Could not identify an external compartment by name and choosing one with the most boundary reactions. That might be complete nonsense or change suddenly. Consider renaming your compartments using `Model.compartments` to fix this.\n",
      "Could not identify an external compartment by name and choosing one with the most boundary reactions. That might be complete nonsense or change suddenly. Consider renaming your compartments using `Model.compartments` to fix this.\n",
      "Could not identify an external compartment by name and choosing one with the most boundary reactions. That might be complete nonsense or change suddenly. Consider renaming your compartments using `Model.compartments` to fix this.\n",
      "Could not identify an external compartment by name and choosing one with the most boundary reactions. That might be complete nonsense or change suddenly. Consider renaming your compartments using `Model.compartments` to fix this.\n",
      "Could not identify an external compartment by name and choosing one with the most boundary reactions. That might be complete nonsense or change suddenly. Consider renaming your compartments using `Model.compartments` to fix this.\n",
      "Could not identify an external compartment by name and choosing one with the most boundary reactions. That might be complete nonsense or change suddenly. Consider renaming your compartments using `Model.compartments` to fix this.\n",
      "Could not identify an external compartment by name and choosing one with the most boundary reactions. That might be complete nonsense or change suddenly. Consider renaming your compartments using `Model.compartments` to fix this.\n",
      "Could not identify an external compartment by name and choosing one with the most boundary reactions. That might be complete nonsense or change suddenly. Consider renaming your compartments using `Model.compartments` to fix this.\n",
      "Could not identify an external compartment by name and choosing one with the most boundary reactions. That might be complete nonsense or change suddenly. Consider renaming your compartments using `Model.compartments` to fix this.\n",
      "Could not identify an external compartment by name and choosing one with the most boundary reactions. That might be complete nonsense or change suddenly. Consider renaming your compartments using `Model.compartments` to fix this.\n"
     ]
    }
   ],
   "source": [
    "sim = community.merged_model"
   ]
  },
  {
   "cell_type": "code",
   "execution_count": 11,
   "id": "0c560e7a",
   "metadata": {},
   "outputs": [
    {
     "name": "stdout",
     "output_type": "stream",
     "text": [
      "9328\n"
     ]
    }
   ],
   "source": [
    "print(len(sim.reactions))"
   ]
  },
  {
   "cell_type": "markdown",
   "id": "a9cef7fa",
   "metadata": {},
   "source": [
    "This community model ignores the environmental conditions that were specified in the original models (since these could be very different). \n",
    "\n",
    "To make our life easier, we will extract the nutrient composition specified in the wild-type model to use later."
   ]
  },
  {
   "cell_type": "code",
   "execution_count": 12,
   "id": "6644486c",
   "metadata": {},
   "outputs": [
    {
     "name": "stderr",
     "output_type": "stream",
     "text": [
      "Could not identify an external compartment by name and choosing one with the most boundary reactions. That might be complete nonsense or change suddenly. Consider renaming your compartments using `Model.compartments` to fix this.\n"
     ]
    },
    {
     "data": {
      "text/plain": [
       "EX_12ppd__S_e\t-1000.0\t1000.0\n",
       "EX_14glucan_e\t-1000.0\t1000.0\n",
       "EX_2ameph_e\t-1000.0\t1000.0\n",
       "EX_2m35mdntha_e\t-1000.0\t1000.0\n",
       "EX_2pglyc_e\t-1000.0\t1000.0\n",
       "EX_35dnta_e\t-1000.0\t1000.0\n",
       "EX_4abut_e\t-1000.0\t1000.0\n",
       "EX_5drib_e\t-1000.0\t1000.0\n",
       "EX_5mcsn_e\t-1000.0\t1000.0\n",
       "EX_LalaDgluMdap_e\t-1000.0\t1000.0\n",
       "EX_LalaLglu_e\t-1000.0\t1000.0\n",
       "EX_Larab_e\t-1000.0\t1000.0\n",
       "EX_R3hdec4e_e\t-1000.0\t1000.0\n",
       "EX_R_3hdcaa_e\t-1000.0\t1000.0\n",
       "EX_R_3hphxa_e\t-1000.0\t1000.0\n",
       "EX_R_3hppta_e\t-1000.0\t1000.0\n",
       "EX_R_3hpt_e\t-1000.0\t1000.0\n",
       "EX_abg4_e\t-1000.0\t1000.0\n",
       "EX_acald_e\t-1000.0\t1000.0\n",
       "EX_acmana_e\t-1000.0\t1000.0\n",
       "EX_actn__R_e\t-1000.0\t1000.0\n",
       "EX_ad_e\t-1000.0\t1000.0\n",
       "EX_ade_e\t-1000.0\t1000.0\n",
       "EX_adn_e\t-1000.0\t1000.0\n",
       "EX_ala__D_e\t-1000.0\t1000.0\n",
       "EX_ala__L_e\t-1000.0\t1000.0\n",
       "EX_alaala_e\t-1000.0\t1000.0\n",
       "EX_alltn_e\t-1000.0\t1000.0\n",
       "EX_anhgm_e\t-1000.0\t1000.0\n",
       "EX_arab__L_e\t-1000.0\t1000.0\n",
       "EX_arg__L_e\t-1000.0\t1000.0\n",
       "EX_asn__L_e\t-1000.0\t1000.0\n",
       "EX_aso3_e\t-1000.0\t1000.0\n",
       "EX_aso4_e\t-1000.0\t1000.0\n",
       "EX_asp__L_e\t-1000.0\t1000.0\n",
       "EX_btn_e\t-1000.0\t1000.0\n",
       "EX_bz_e\t-1000.0\t1000.0\n",
       "EX_ca2_e\t-1000.0\t1000.0\n",
       "EX_cellb_e\t-1000.0\t1000.0\n",
       "EX_cgly_e\t-1000.0\t1000.0\n",
       "EX_chol_e\t-1000.0\t1000.0\n",
       "EX_chols_e\t-1000.0\t1000.0\n",
       "EX_cit_e\t-1000.0\t1000.0\n",
       "EX_cl_e\t-1000.0\t1000.0\n",
       "EX_co2_e\t-1000.0\t1000.0\n",
       "EX_coa_e\t-1000.0\t1000.0\n",
       "EX_cobalt2_e\t-1000.0\t1000.0\n",
       "EX_crn_e\t-1000.0\t1000.0\n",
       "EX_csn_e\t-1000.0\t1000.0\n",
       "EX_cu2_e\t-1000.0\t1000.0\n",
       "EX_cys__L_e\t-1000.0\t1000.0\n",
       "EX_cytd_e\t-1000.0\t1000.0\n",
       "EX_d23hb_e\t-1000.0\t1000.0\n",
       "EX_dad_2_e\t-1000.0\t1000.0\n",
       "EX_dca_e\t-1000.0\t1000.0\n",
       "EX_dcyt_e\t-1000.0\t1000.0\n",
       "EX_dgsn_e\t-1000.0\t1000.0\n",
       "EX_din_e\t-1000.0\t1000.0\n",
       "EX_drib_e\t-1000.0\t1000.0\n",
       "EX_duri_e\t-1000.0\t1000.0\n",
       "EX_eths_e\t-1000.0\t1000.0\n",
       "EX_fald_e\t-1000.0\t1000.0\n",
       "EX_fe2_e\t-1000.0\t1000.0\n",
       "EX_fe3_e\t-1000.0\t1000.0\n",
       "EX_fe3dcit_e\t-1000.0\t1000.0\n",
       "EX_fe3dhbzs3_e\t-1000.0\t1000.0\n",
       "EX_fe3pyovd_kt_e\t-1000.0\t1000.0\n",
       "EX_fol_e\t-1000.0\t1000.0\n",
       "EX_fuc__L_e\t-1000.0\t1000.0\n",
       "EX_g3pg_e\t-1000.0\t1000.0\n",
       "EX_gal_bD_e\t-1000.0\t1000.0\n",
       "EX_gal_e\t-1000.0\t1000.0\n",
       "EX_galt_e\t-1000.0\t1000.0\n",
       "EX_galur_e\t-1000.0\t1000.0\n",
       "EX_gcald_e\t-1000.0\t1000.0\n",
       "EX_glc__D_e\t-1000.0\t1000.0\n",
       "EX_glcur_e\t-1000.0\t1000.0\n",
       "EX_gln__L_e\t-1000.0\t1000.0\n",
       "EX_glu__L_e\t-1000.0\t1000.0\n",
       "EX_glucan4_e\t-1000.0\t1000.0\n",
       "EX_glucan6_e\t-1000.0\t1000.0\n",
       "EX_glutar_e\t-1000.0\t1000.0\n",
       "EX_gly_e\t-1000.0\t1000.0\n",
       "EX_glyb_e\t-1000.0\t1000.0\n",
       "EX_glyc3p_e\t-1000.0\t1000.0\n",
       "EX_gthox_e\t-1000.0\t1000.0\n",
       "EX_gthrd_e\t-1000.0\t1000.0\n",
       "EX_gua_e\t-1000.0\t1000.0\n",
       "EX_h2_e\t-1000.0\t1000.0\n",
       "EX_h2o2_e\t-1000.0\t1000.0\n",
       "EX_h2o_e\t-1000.0\t1000.0\n",
       "EX_h2s_e\t-1000.0\t1000.0\n",
       "EX_h_e\t-1000.0\t1000.0\n",
       "EX_ham_e\t-1000.0\t1000.0\n",
       "EX_his__L_e\t-1000.0\t1000.0\n",
       "EX_hxa_e\t-1000.0\t1000.0\n",
       "EX_ile__L_e\t-1000.0\t1000.0\n",
       "EX_indole_e\t-1000.0\t1000.0\n",
       "EX_inost_e\t-1000.0\t1000.0\n",
       "EX_isobuta_e\t-1000.0\t1000.0\n",
       "EX_istfrnA_e\t-1000.0\t1000.0\n",
       "EX_istfrnB_e\t-1000.0\t1000.0\n",
       "EX_k_e\t-1000.0\t1000.0\n",
       "EX_lac__D_e\t-1000.0\t1000.0\n",
       "EX_lcts_e\t-1000.0\t1000.0\n",
       "EX_leu__L_e\t-1000.0\t1000.0\n",
       "EX_lipoate_e\t-1000.0\t1000.0\n",
       "EX_lmn2_e\t-1000.0\t1000.0\n",
       "EX_lys__L_e\t-1000.0\t1000.0\n",
       "EX_lyx__L_e\t-1000.0\t1000.0\n",
       "EX_m_xyl_e\t-1000.0\t1000.0\n",
       "EX_mal__L_e\t-1000.0\t1000.0\n",
       "EX_malttr_e\t-1000.0\t1000.0\n",
       "EX_manttr_e\t-1000.0\t1000.0\n",
       "EX_melib_e\t-1000.0\t1000.0\n",
       "EX_meoh_e\t-1000.0\t1000.0\n",
       "EX_met__D_e\t-1000.0\t1000.0\n",
       "EX_met__L_e\t-1000.0\t1000.0\n",
       "EX_metox__R_e\t-1000.0\t1000.0\n",
       "EX_metox_e\t-1000.0\t1000.0\n",
       "EX_mg2_e\t-1000.0\t1000.0\n",
       "EX_mn2_e\t-1000.0\t1000.0\n",
       "EX_n2o_e\t-1000.0\t1000.0\n",
       "EX_ncam_e\t-1000.0\t1000.0\n",
       "EX_nh4_e\t-1000.0\t1000.0\n",
       "EX_no2_e\t-1000.0\t1000.0\n",
       "EX_no_e\t-1000.0\t1000.0\n",
       "EX_o2_e\t-1000.0\t1000.0\n",
       "EX_ocdcea_e\t-1000.0\t1000.0\n",
       "EX_octa_e\t-1000.0\t1000.0\n",
       "EX_p_xyl_e\t-1000.0\t1000.0\n",
       "EX_phe__L_e\t-1000.0\t1000.0\n",
       "EX_phehpa_e\t-1000.0\t1000.0\n",
       "EX_pheme_e\t-1000.0\t1000.0\n",
       "EX_pheocta_e\t-1000.0\t1000.0\n",
       "EX_pi_e\t-1000.0\t1000.0\n",
       "EX_pime_e\t-1000.0\t1000.0\n",
       "EX_ppap_e\t-1000.0\t1000.0\n",
       "EX_ppi_e\t-1000.0\t1000.0\n",
       "EX_pro__L_e\t-1000.0\t1000.0\n",
       "EX_pta_e\t-1000.0\t1000.0\n",
       "EX_ptrc_e\t-1000.0\t1000.0\n",
       "EX_pydam_e\t-1000.0\t1000.0\n",
       "EX_pydxn_e\t-1000.0\t1000.0\n",
       "EX_pyovd_kt_e\t-1000.0\t1000.0\n",
       "EX_raffin_e\t-1000.0\t1000.0\n",
       "EX_rib__D_e\t-1000.0\t1000.0\n",
       "EX_ribflv_e\t-1000.0\t1000.0\n",
       "EX_rmn_e\t-1000.0\t1000.0\n",
       "EX_salchs4_e\t-1000.0\t1000.0\n",
       "EX_salchs4fe_e\t-1000.0\t1000.0\n",
       "EX_sel_e\t-1000.0\t1000.0\n",
       "EX_ser__L_e\t-1000.0\t1000.0\n",
       "EX_slnt_e\t-1000.0\t1000.0\n",
       "EX_so4_e\t-1000.0\t1000.0\n",
       "EX_spmd_e\t-1000.0\t1000.0\n",
       "EX_stfrnA_e\t-1000.0\t1000.0\n",
       "EX_stfrnB_e\t-1000.0\t1000.0\n",
       "EX_tartr__D_e\t-1000.0\t1000.0\n",
       "EX_thm_e\t-1000.0\t1000.0\n",
       "EX_thr__L_e\t-1000.0\t1000.0\n",
       "EX_thym_e\t-1000.0\t1000.0\n",
       "EX_thymd_e\t-1000.0\t1000.0\n",
       "EX_tmam_e\t-1000.0\t1000.0\n",
       "EX_tnt_e\t-1000.0\t1000.0\n",
       "EX_tol_e\t-1000.0\t1000.0\n",
       "EX_tre6p_e\t-1000.0\t1000.0\n",
       "EX_trp__L_e\t-1000.0\t1000.0\n",
       "EX_tyr__L_e\t-1000.0\t1000.0\n",
       "EX_udcpdp_e\t-1000.0\t1000.0\n",
       "EX_udcpp_e\t-1000.0\t1000.0\n",
       "EX_ura_e\t-1000.0\t1000.0\n",
       "EX_urea_e\t-1000.0\t1000.0\n",
       "EX_uri_e\t-1000.0\t1000.0\n",
       "EX_val__L_e\t-1000.0\t1000.0\n",
       "EX_xan_e\t-1000.0\t1000.0\n",
       "EX_xtsn_e\t-1000.0\t1000.0\n",
       "EX_xyl3_e\t-1000.0\t1000.0\n",
       "EX_xyl__D_e\t-1000.0\t1000.0\n",
       "EX_xylan4_e\t-1000.0\t1000.0\n",
       "EX_xylb_e\t-1000.0\t1000.0\n",
       "EX_zn2_e\t-1000.0\t1000.0"
      ]
     },
     "execution_count": 12,
     "metadata": {},
     "output_type": "execute_result"
    }
   ],
   "source": [
    "from mewpy.simulation import Environment\n",
    "M9 = Environment.from_model(bt)\n",
    "M9"
   ]
  },
  {
   "cell_type": "markdown",
   "id": "a4829b00",
   "metadata": {},
   "source": [
    "## Simulation using FBA\n",
    "\n",
    "A very simple way to simulate a microbial community is to merge the individual models into a single model that mimics a \"super organism\", where each microbe lives inside its own compartment, and run a (conventional) FBA simulation for this *super organism*."
   ]
  },
  {
   "cell_type": "code",
   "execution_count": 13,
   "id": "47cb7a4b",
   "metadata": {},
   "outputs": [
    {
     "name": "stdout",
     "output_type": "stream",
     "text": [
      "objective: 245.98446119143432\n",
      "Status: OPTIMAL\n",
      "Method:SimulationMethod.FBA\n"
     ]
    },
    {
     "data": {
      "text/html": [
       "<div>\n",
       "<style scoped>\n",
       "    .dataframe tbody tr th:only-of-type {\n",
       "        vertical-align: middle;\n",
       "    }\n",
       "\n",
       "    .dataframe tbody tr th {\n",
       "        vertical-align: top;\n",
       "    }\n",
       "\n",
       "    .dataframe thead th {\n",
       "        text-align: right;\n",
       "    }\n",
       "</style>\n",
       "<table border=\"1\" class=\"dataframe\">\n",
       "  <thead>\n",
       "    <tr style=\"text-align: right;\">\n",
       "      <th></th>\n",
       "      <th>Flux rate</th>\n",
       "    </tr>\n",
       "    <tr>\n",
       "      <th>Reaction ID</th>\n",
       "      <th></th>\n",
       "    </tr>\n",
       "  </thead>\n",
       "  <tbody>\n",
       "    <tr>\n",
       "      <th>DEXTRINt2_atcc27758</th>\n",
       "      <td>462.318800</td>\n",
       "    </tr>\n",
       "    <tr>\n",
       "      <th>HEXTT_l182</th>\n",
       "      <td>0.005246</td>\n",
       "    </tr>\n",
       "    <tr>\n",
       "      <th>EX_2pglyc_e</th>\n",
       "      <td>-25.349066</td>\n",
       "    </tr>\n",
       "    <tr>\n",
       "      <th>EX_5mcsn_e</th>\n",
       "      <td>-0.005940</td>\n",
       "    </tr>\n",
       "    <tr>\n",
       "      <th>EX_LalaDgluMdap_e</th>\n",
       "      <td>996.764163</td>\n",
       "    </tr>\n",
       "    <tr>\n",
       "      <th>...</th>\n",
       "      <td>...</td>\n",
       "    </tr>\n",
       "    <tr>\n",
       "      <th>EX_citr__L_e</th>\n",
       "      <td>-2.855694</td>\n",
       "    </tr>\n",
       "    <tr>\n",
       "      <th>EX_dextrin_e</th>\n",
       "      <td>-462.318800</td>\n",
       "    </tr>\n",
       "    <tr>\n",
       "      <th>EX_uaccg_e</th>\n",
       "      <td>-6.905670</td>\n",
       "    </tr>\n",
       "    <tr>\n",
       "      <th>EX_xylan8_e</th>\n",
       "      <td>-500.000000</td>\n",
       "    </tr>\n",
       "    <tr>\n",
       "      <th>EX_3mba_e</th>\n",
       "      <td>804.320311</td>\n",
       "    </tr>\n",
       "  </tbody>\n",
       "</table>\n",
       "<p>155 rows × 1 columns</p>\n",
       "</div>"
      ],
      "text/plain": [
       "                      Flux rate\n",
       "Reaction ID                    \n",
       "DEXTRINt2_atcc27758  462.318800\n",
       "HEXTT_l182             0.005246\n",
       "EX_2pglyc_e          -25.349066\n",
       "EX_5mcsn_e            -0.005940\n",
       "EX_LalaDgluMdap_e    996.764163\n",
       "...                         ...\n",
       "EX_citr__L_e          -2.855694\n",
       "EX_dextrin_e        -462.318800\n",
       "EX_uaccg_e            -6.905670\n",
       "EX_xylan8_e         -500.000000\n",
       "EX_3mba_e            804.320311\n",
       "\n",
       "[155 rows x 1 columns]"
      ]
     },
     "execution_count": 13,
     "metadata": {},
     "output_type": "execute_result"
    }
   ],
   "source": [
    "solution = sim.simulate(constraints=M9)\n",
    "\n",
    "print(solution)\n",
    "solution.find('EX')"
   ]
  },
  {
   "cell_type": "markdown",
   "id": "e57cd648",
   "metadata": {},
   "source": [
    "We can see that the model predicts a growth rate (total biomass per hour) similar to the wild-type, with an efficient consumption of glucose and ammonia that results in respiratory metabolism.\n",
    "\n",
    "But what is each organism doing, and are both organisms actually growing at the same rate?\n",
    "\n",
    "Let's print the biomass flux for each organism:"
   ]
  },
  {
   "cell_type": "code",
   "execution_count": 14,
   "id": "0b5d171f",
   "metadata": {},
   "outputs": [
    {
     "data": {
      "text/html": [
       "<div>\n",
       "<style scoped>\n",
       "    .dataframe tbody tr th:only-of-type {\n",
       "        vertical-align: middle;\n",
       "    }\n",
       "\n",
       "    .dataframe tbody tr th {\n",
       "        vertical-align: top;\n",
       "    }\n",
       "\n",
       "    .dataframe thead th {\n",
       "        text-align: right;\n",
       "    }\n",
       "</style>\n",
       "<table border=\"1\" class=\"dataframe\">\n",
       "  <thead>\n",
       "    <tr style=\"text-align: right;\">\n",
       "      <th></th>\n",
       "      <th>Flux rate</th>\n",
       "    </tr>\n",
       "    <tr>\n",
       "      <th>Reaction ID</th>\n",
       "      <th></th>\n",
       "    </tr>\n",
       "  </thead>\n",
       "  <tbody>\n",
       "    <tr>\n",
       "      <th>Growth_atcc27758</th>\n",
       "      <td>9.654401</td>\n",
       "    </tr>\n",
       "    <tr>\n",
       "      <th>Growth_ed1a</th>\n",
       "      <td>32.358368</td>\n",
       "    </tr>\n",
       "    <tr>\n",
       "      <th>Growth_atcc8492</th>\n",
       "      <td>42.874066</td>\n",
       "    </tr>\n",
       "    <tr>\n",
       "      <th>Growth_vpi5482</th>\n",
       "      <td>49.230500</td>\n",
       "    </tr>\n",
       "    <tr>\n",
       "      <th>Growth_l182</th>\n",
       "      <td>52.464832</td>\n",
       "    </tr>\n",
       "    <tr>\n",
       "      <th>Growth_atcc15912</th>\n",
       "      <td>59.402295</td>\n",
       "    </tr>\n",
       "  </tbody>\n",
       "</table>\n",
       "</div>"
      ],
      "text/plain": [
       "                  Flux rate\n",
       "Reaction ID                \n",
       "Growth_atcc27758   9.654401\n",
       "Growth_ed1a       32.358368\n",
       "Growth_atcc8492   42.874066\n",
       "Growth_vpi5482    49.230500\n",
       "Growth_l182       52.464832\n",
       "Growth_atcc15912  59.402295"
      ]
     },
     "execution_count": 14,
     "metadata": {},
     "output_type": "execute_result"
    }
   ],
   "source": [
    "solution.find('Growth', sort=True,show_nulls=True)"
   ]
  },
  {
   "cell_type": "markdown",
   "id": "4414dd8b",
   "metadata": {},
   "source": [
    "and all non null fluxes by organism:"
   ]
  },
  {
   "cell_type": "code",
   "execution_count": 15,
   "id": "960e9b0b",
   "metadata": {},
   "outputs": [
    {
     "data": {
      "text/html": [
       "<div>\n",
       "<style scoped>\n",
       "    .dataframe tbody tr th:only-of-type {\n",
       "        vertical-align: middle;\n",
       "    }\n",
       "\n",
       "    .dataframe tbody tr th {\n",
       "        vertical-align: top;\n",
       "    }\n",
       "\n",
       "    .dataframe thead th {\n",
       "        text-align: right;\n",
       "    }\n",
       "</style>\n",
       "<table border=\"1\" class=\"dataframe\">\n",
       "  <thead>\n",
       "    <tr style=\"text-align: right;\">\n",
       "      <th></th>\n",
       "      <th>name</th>\n",
       "      <th>compartment</th>\n",
       "      <th>formula</th>\n",
       "    </tr>\n",
       "    <tr>\n",
       "      <th>id</th>\n",
       "      <th></th>\n",
       "      <th></th>\n",
       "      <th></th>\n",
       "    </tr>\n",
       "  </thead>\n",
       "  <tbody>\n",
       "    <tr>\n",
       "      <th>community_biomass</th>\n",
       "      <td>Total community biomass</td>\n",
       "      <td>e</td>\n",
       "      <td>None</td>\n",
       "    </tr>\n",
       "    <tr>\n",
       "      <th>10fthf_c_vpi5482</th>\n",
       "      <td>10-Formyltetrahydrofolate</td>\n",
       "      <td>C_c_vpi5482</td>\n",
       "      <td>C20H21N7O7</td>\n",
       "    </tr>\n",
       "    <tr>\n",
       "      <th>12dgr120_c_vpi5482</th>\n",
       "      <td>1,2-Diacyl-sn-glycerol (didodecanoyl, n-C12:0)</td>\n",
       "      <td>C_c_vpi5482</td>\n",
       "      <td>C27H52O5</td>\n",
       "    </tr>\n",
       "    <tr>\n",
       "      <th>12dgr120_p_vpi5482</th>\n",
       "      <td>1,2-Diacyl-sn-glycerol (didodecanoyl, n-C12:0)</td>\n",
       "      <td>C_p_vpi5482</td>\n",
       "      <td>C27H52O5</td>\n",
       "    </tr>\n",
       "    <tr>\n",
       "      <th>12dgr140_c_vpi5482</th>\n",
       "      <td>1,2-Diacyl-sn-glycerol (ditetradecanoyl, n-C14:0)</td>\n",
       "      <td>C_c_vpi5482</td>\n",
       "      <td>C31H60O5</td>\n",
       "    </tr>\n",
       "    <tr>\n",
       "      <th>...</th>\n",
       "      <td>...</td>\n",
       "      <td>...</td>\n",
       "      <td>...</td>\n",
       "    </tr>\n",
       "    <tr>\n",
       "      <th>prbamp_c_atcc15912</th>\n",
       "      <td>1-(5-Phosphoribosyl)-AMP</td>\n",
       "      <td>C_c_atcc15912</td>\n",
       "      <td>C15H19N5O14P2</td>\n",
       "    </tr>\n",
       "    <tr>\n",
       "      <th>prbatp_c_atcc15912</th>\n",
       "      <td>1-(5-Phosphoribosyl)-ATP</td>\n",
       "      <td>C_c_atcc15912</td>\n",
       "      <td>C15H19N5O20P4</td>\n",
       "    </tr>\n",
       "    <tr>\n",
       "      <th>prfp_c_atcc15912</th>\n",
       "      <td>1-(5-Phosphoribosyl)-5-[(5-phosphoribosylamino...</td>\n",
       "      <td>C_c_atcc15912</td>\n",
       "      <td>C15H21N5O15P2</td>\n",
       "    </tr>\n",
       "    <tr>\n",
       "      <th>prlp_c_atcc15912</th>\n",
       "      <td>5-[(5-phospho-1-deoxyribulos-1-ylamino)methyli...</td>\n",
       "      <td>C_c_atcc15912</td>\n",
       "      <td>C15H21N5O15P2</td>\n",
       "    </tr>\n",
       "    <tr>\n",
       "      <th>quln_c_atcc15912</th>\n",
       "      <td>Quinolinate</td>\n",
       "      <td>C_c_atcc15912</td>\n",
       "      <td>C7H3NO4</td>\n",
       "    </tr>\n",
       "  </tbody>\n",
       "</table>\n",
       "<p>6042 rows × 3 columns</p>\n",
       "</div>"
      ],
      "text/plain": [
       "                                                                 name  \\\n",
       "id                                                                      \n",
       "community_biomass                             Total community biomass   \n",
       "10fthf_c_vpi5482                            10-Formyltetrahydrofolate   \n",
       "12dgr120_c_vpi5482     1,2-Diacyl-sn-glycerol (didodecanoyl, n-C12:0)   \n",
       "12dgr120_p_vpi5482     1,2-Diacyl-sn-glycerol (didodecanoyl, n-C12:0)   \n",
       "12dgr140_c_vpi5482  1,2-Diacyl-sn-glycerol (ditetradecanoyl, n-C14:0)   \n",
       "...                                                               ...   \n",
       "prbamp_c_atcc15912                           1-(5-Phosphoribosyl)-AMP   \n",
       "prbatp_c_atcc15912                           1-(5-Phosphoribosyl)-ATP   \n",
       "prfp_c_atcc15912    1-(5-Phosphoribosyl)-5-[(5-phosphoribosylamino...   \n",
       "prlp_c_atcc15912    5-[(5-phospho-1-deoxyribulos-1-ylamino)methyli...   \n",
       "quln_c_atcc15912                                          Quinolinate   \n",
       "\n",
       "                      compartment        formula  \n",
       "id                                                \n",
       "community_biomass               e           None  \n",
       "10fthf_c_vpi5482      C_c_vpi5482     C20H21N7O7  \n",
       "12dgr120_c_vpi5482    C_c_vpi5482       C27H52O5  \n",
       "12dgr120_p_vpi5482    C_p_vpi5482       C27H52O5  \n",
       "12dgr140_c_vpi5482    C_c_vpi5482       C31H60O5  \n",
       "...                           ...            ...  \n",
       "prbamp_c_atcc15912  C_c_atcc15912  C15H19N5O14P2  \n",
       "prbatp_c_atcc15912  C_c_atcc15912  C15H19N5O20P4  \n",
       "prfp_c_atcc15912    C_c_atcc15912  C15H21N5O15P2  \n",
       "prlp_c_atcc15912    C_c_atcc15912  C15H21N5O15P2  \n",
       "quln_c_atcc15912    C_c_atcc15912        C7H3NO4  \n",
       "\n",
       "[6042 rows x 3 columns]"
      ]
     },
     "execution_count": 15,
     "metadata": {},
     "output_type": "execute_result"
    }
   ],
   "source": [
    "sim.find_metabolites()"
   ]
  },
  {
   "cell_type": "code",
   "execution_count": 16,
   "id": "e246bc50",
   "metadata": {},
   "outputs": [
    {
     "data": {
      "text/html": [
       "<div>\n",
       "<style scoped>\n",
       "    .dataframe tbody tr th:only-of-type {\n",
       "        vertical-align: middle;\n",
       "    }\n",
       "\n",
       "    .dataframe tbody tr th {\n",
       "        vertical-align: top;\n",
       "    }\n",
       "\n",
       "    .dataframe thead th {\n",
       "        text-align: right;\n",
       "    }\n",
       "</style>\n",
       "<table border=\"1\" class=\"dataframe\">\n",
       "  <thead>\n",
       "    <tr style=\"text-align: right;\">\n",
       "      <th></th>\n",
       "      <th>Flux rate</th>\n",
       "    </tr>\n",
       "    <tr>\n",
       "      <th>Reaction ID</th>\n",
       "      <th></th>\n",
       "    </tr>\n",
       "  </thead>\n",
       "  <tbody>\n",
       "    <tr>\n",
       "      <th>4HTHRA_vpi5482</th>\n",
       "      <td>-106.054588</td>\n",
       "    </tr>\n",
       "    <tr>\n",
       "      <th>4HTHRK_vpi5482</th>\n",
       "      <td>106.054588</td>\n",
       "    </tr>\n",
       "    <tr>\n",
       "      <th>ACALDt_vpi5482</th>\n",
       "      <td>-113.492184</td>\n",
       "    </tr>\n",
       "    <tr>\n",
       "      <th>ACKr_vpi5482</th>\n",
       "      <td>4.508529</td>\n",
       "    </tr>\n",
       "    <tr>\n",
       "      <th>ACLS_vpi5482</th>\n",
       "      <td>354.326935</td>\n",
       "    </tr>\n",
       "    <tr>\n",
       "      <th>...</th>\n",
       "      <td>...</td>\n",
       "    </tr>\n",
       "    <tr>\n",
       "      <th>VALTA_vpi5482</th>\n",
       "      <td>-20.832477</td>\n",
       "    </tr>\n",
       "    <tr>\n",
       "      <th>r0280_vpi5482</th>\n",
       "      <td>10.589284</td>\n",
       "    </tr>\n",
       "    <tr>\n",
       "      <th>r0963_vpi5482</th>\n",
       "      <td>0.032935</td>\n",
       "    </tr>\n",
       "    <tr>\n",
       "      <th>r2465_1_vpi5482</th>\n",
       "      <td>-0.016788</td>\n",
       "    </tr>\n",
       "    <tr>\n",
       "      <th>Growth_vpi5482</th>\n",
       "      <td>49.230500</td>\n",
       "    </tr>\n",
       "  </tbody>\n",
       "</table>\n",
       "<p>221 rows × 1 columns</p>\n",
       "</div>"
      ],
      "text/plain": [
       "                  Flux rate\n",
       "Reaction ID                \n",
       "4HTHRA_vpi5482  -106.054588\n",
       "4HTHRK_vpi5482   106.054588\n",
       "ACALDt_vpi5482  -113.492184\n",
       "ACKr_vpi5482       4.508529\n",
       "ACLS_vpi5482     354.326935\n",
       "...                     ...\n",
       "VALTA_vpi5482    -20.832477\n",
       "r0280_vpi5482     10.589284\n",
       "r0963_vpi5482      0.032935\n",
       "r2465_1_vpi5482   -0.016788\n",
       "Growth_vpi5482    49.230500\n",
       "\n",
       "[221 rows x 1 columns]"
      ]
     },
     "execution_count": 16,
     "metadata": {},
     "output_type": "execute_result"
    }
   ],
   "source": [
    "solution.find('vpi5482')"
   ]
  },
  {
   "cell_type": "markdown",
   "id": "3110d63f",
   "metadata": {},
   "source": [
    "Actually it seems that only one of the organisms is growing while the other has an active metabolism (it exchanges metabolites with the environment and with the other organism) performing the role of a bioconverter, but none of the flux is used for growth. \n",
    "\n",
    "> Do you think this would be a stable consortium ?"
   ]
  },
  {
   "cell_type": "markdown",
   "id": "f6aebbfb",
   "metadata": {},
   "source": [
    "## Community Simulation with SteadyCom"
   ]
  },
  {
   "cell_type": "markdown",
   "id": "7b47083e",
   "metadata": {},
   "source": [
    "**SteadyCom** by [Chan, et al (2017)](https://journals.plos.org/ploscompbiol/article?id=10.1371/journal.pcbi.1005539) is a recent community simulation method that takes into account the fact that to reach a stable composition the organisms need to grow at the same *specific growth rate* (1/h), which means that the *absolute growth rate* (gDW/h) of each organism is proportional to its *abundance* at steady-state (gDW).\n",
    "\n",
    "Let's simulate the same community using SteadyCom:"
   ]
  },
  {
   "cell_type": "code",
   "execution_count": 17,
   "id": "2214667c",
   "metadata": {},
   "outputs": [],
   "source": [
    "from mewpy.cobra.com import SteadyCom\n",
    "\n",
    "solution = SteadyCom(community,constraints = M9)"
   ]
  },
  {
   "cell_type": "markdown",
   "id": "6e02ca07",
   "metadata": {},
   "source": [
    "In this case the solution object shows the overall community growth rate and the relative abundance of each species:"
   ]
  },
  {
   "cell_type": "code",
   "execution_count": 18,
   "id": "50794ba1",
   "metadata": {},
   "outputs": [
    {
     "data": {
      "text/plain": [
       "Community growth: 80.7626953125\n",
       "vpi5482\t0.0\n",
       "atcc8492\t0.0\n",
       "ed1a\t1.0\n",
       "atcc27758\t0.0\n",
       "l182\t0.0\n",
       "atcc15912\t0.0"
      ]
     },
     "execution_count": 18,
     "metadata": {},
     "output_type": "execute_result"
    }
   ],
   "source": [
    "solution"
   ]
  },
  {
   "cell_type": "markdown",
   "id": "86f91b4a",
   "metadata": {},
   "source": [
    "The `solution` object for community simulations implements a few additional features, such as enumerating all the cross-feeding interactions:"
   ]
  },
  {
   "cell_type": "code",
   "execution_count": 19,
   "id": "e5b8887e",
   "metadata": {},
   "outputs": [
    {
     "data": {
      "text/html": [
       "<div>\n",
       "<style scoped>\n",
       "    .dataframe tbody tr th:only-of-type {\n",
       "        vertical-align: middle;\n",
       "    }\n",
       "\n",
       "    .dataframe tbody tr th {\n",
       "        vertical-align: top;\n",
       "    }\n",
       "\n",
       "    .dataframe thead th {\n",
       "        text-align: right;\n",
       "    }\n",
       "</style>\n",
       "<table border=\"1\" class=\"dataframe\">\n",
       "  <thead>\n",
       "    <tr style=\"text-align: right;\">\n",
       "      <th></th>\n",
       "      <th>donor</th>\n",
       "      <th>receiver</th>\n",
       "      <th>compound</th>\n",
       "      <th>rate</th>\n",
       "    </tr>\n",
       "  </thead>\n",
       "  <tbody>\n",
       "  </tbody>\n",
       "</table>\n",
       "</div>"
      ],
      "text/plain": [
       "Empty DataFrame\n",
       "Columns: [donor, receiver, compound, rate]\n",
       "Index: []"
      ]
     },
     "execution_count": 19,
     "metadata": {},
     "output_type": "execute_result"
    }
   ],
   "source": [
    "solution.cross_feeding(as_df=True).dropna().sort_values('rate', ascending=False)"
   ]
  },
  {
   "cell_type": "markdown",
   "id": "c61d9f30",
   "metadata": {},
   "source": [
    "We can plot the fluxes of each mutant in a map to help with interpretation of the results:"
   ]
  },
  {
   "cell_type": "code",
   "execution_count": 21,
   "id": "09396e61",
   "metadata": {},
   "outputs": [
    {
     "name": "stdout",
     "output_type": "stream",
     "text": [
      "Downloading Map from https://escher.github.io/1-0-0/6/maps/Escherichia%20coli/e_coli_core.Core%20metabolism.json\n"
     ]
    },
    {
     "data": {
      "application/vnd.jupyter.widget-view+json": {
       "model_id": "a12f16dc995549f39c490ec4e940c798",
       "version_major": 2,
       "version_minor": 0
      },
      "text/plain": [
       "Builder(reaction_data={'12DGR120tipp': 0.0, '12DGR140tipp': 0.0, '12DGR141tipp': 0.0, '12DGR160tipp': 0.0, '12…"
      ]
     },
     "metadata": {},
     "output_type": "display_data"
    }
   ],
   "source": [
    "from mewpy.visualization.escher import build_escher\n",
    "\n",
    "build_escher(fluxes=solution.internal['vpi5482'])"
   ]
  },
  {
   "cell_type": "code",
   "execution_count": 22,
   "id": "10eae322",
   "metadata": {},
   "outputs": [
    {
     "name": "stdout",
     "output_type": "stream",
     "text": [
      "Downloading Map from https://escher.github.io/1-0-0/6/maps/Escherichia%20coli/e_coli_core.Core%20metabolism.json\n"
     ]
    },
    {
     "data": {
      "application/vnd.jupyter.widget-view+json": {
       "model_id": "3c872d31e2f94ceca9abe17d831ae9d5",
       "version_major": 2,
       "version_minor": 0
      },
      "text/plain": [
       "Builder(reaction_data={'12DGR120tipp': 0.0, '12DGR140tipp': 0.0, '12DGR141tipp': 0.0, '12DGR160tipp': 0.0, '12…"
      ]
     },
     "metadata": {},
     "output_type": "display_data"
    }
   ],
   "source": [
    "build_escher(fluxes=solution.internal['atcc8492'])"
   ]
  },
  {
   "cell_type": "code",
   "execution_count": 23,
   "id": "91063942",
   "metadata": {},
   "outputs": [
    {
     "name": "stdout",
     "output_type": "stream",
     "text": [
      "Downloading Map from https://escher.github.io/1-0-0/6/maps/Escherichia%20coli/e_coli_core.Core%20metabolism.json\n"
     ]
    },
    {
     "data": {
      "application/vnd.jupyter.widget-view+json": {
       "model_id": "2055510262524eb19338743fd045a07d",
       "version_major": 2,
       "version_minor": 0
      },
      "text/plain": [
       "Builder(reaction_data={'12DGR140tipp': 0.0, '12DGR160tipp': 0.0, '12DGR180tipp': 0.0, '12DGR181tipp': 0.0, '12…"
      ]
     },
     "metadata": {},
     "output_type": "display_data"
    }
   ],
   "source": [
    "build_escher(fluxes=solution.internal['ed1a'])"
   ]
  },
  {
   "cell_type": "code",
   "execution_count": 24,
   "id": "49473b0c",
   "metadata": {},
   "outputs": [
    {
     "name": "stdout",
     "output_type": "stream",
     "text": [
      "Downloading Map from https://escher.github.io/1-0-0/6/maps/Escherichia%20coli/e_coli_core.Core%20metabolism.json\n"
     ]
    },
    {
     "data": {
      "application/vnd.jupyter.widget-view+json": {
       "model_id": "3df98ec5e9794db4bd9c4e5f5b83fcf5",
       "version_major": 2,
       "version_minor": 0
      },
      "text/plain": [
       "Builder(reaction_data={'12DGR120tipp': 0.0, '12DGR140tipp': 0.0, '12DGR141tipp': 0.0, '12DGR160tipp': 0.0, '12…"
      ]
     },
     "metadata": {},
     "output_type": "display_data"
    }
   ],
   "source": [
    "build_escher(fluxes=solution.internal['atcc27758'])"
   ]
  },
  {
   "cell_type": "code",
   "execution_count": 25,
   "id": "338021ff",
   "metadata": {},
   "outputs": [
    {
     "name": "stdout",
     "output_type": "stream",
     "text": [
      "Downloading Map from https://escher.github.io/1-0-0/6/maps/Escherichia%20coli/e_coli_core.Core%20metabolism.json\n"
     ]
    },
    {
     "data": {
      "application/vnd.jupyter.widget-view+json": {
       "model_id": "a332192c79844c99979a6ed24cc2321a",
       "version_major": 2,
       "version_minor": 0
      },
      "text/plain": [
       "Builder(reaction_data={'12DGR120tipp': 0.0, '12DGR140tipp': 0.0, '12DGR141tipp': 0.0, '12DGR160tipp': 0.0, '12…"
      ]
     },
     "metadata": {},
     "output_type": "display_data"
    }
   ],
   "source": [
    "build_escher(fluxes=solution.internal['atcc15912'])"
   ]
  },
  {
   "cell_type": "code",
   "execution_count": 26,
   "id": "c4d861d5",
   "metadata": {},
   "outputs": [
    {
     "name": "stdout",
     "output_type": "stream",
     "text": [
      "Downloading Map from https://escher.github.io/1-0-0/6/maps/Escherichia%20coli/e_coli_core.Core%20metabolism.json\n"
     ]
    },
    {
     "data": {
      "application/vnd.jupyter.widget-view+json": {
       "model_id": "d23643bb25fc4abab5a9c23dcc3788b6",
       "version_major": 2,
       "version_minor": 0
      },
      "text/plain": [
       "Builder(reaction_data={'12DGR120tipp': 0.0, '12DGR140tipp': 0.0, '12DGR141tipp': 0.0, '12DGR160tipp': 0.0, '12…"
      ]
     },
     "metadata": {},
     "output_type": "display_data"
    }
   ],
   "source": [
    "build_escher(fluxes=solution.internal['l182'])"
   ]
  },
  {
   "cell_type": "markdown",
   "id": "9de7dc40",
   "metadata": {},
   "source": [
    "## Explore alternative solutions\n",
    "\n",
    "Unfortunately, one limitation of **SteadyCom**, which is exemplified by [Chan, et al (2017)](https://journals.plos.org/ploscompbiol/article?id=10.1371/journal.pcbi.1005539) in Figure 3 (reproduced below), is the variability in the solution space when the community is not growing at the maximum (theoretical) growth rate.\n",
    "\n",
    "> Would you expect a synthetic community to grow at its maximum growth rate?\n",
    "\n",
    "**MEWpy** implements a variability analysis function for the SteadyCom solution space, let's see what happens if the community is growing at 90% of the theoretical maximum:"
   ]
  },
  {
   "cell_type": "code",
   "execution_count": 27,
   "id": "a1217bf2",
   "metadata": {},
   "outputs": [
    {
     "name": "stdout",
     "output_type": "stream",
     "text": [
      "Strain\tMin\tMax\tVariability - 0.1\n",
      "vpi5482\t0.0%\t100.0%\n",
      "atcc8492\t0.0%\t100.0%\n",
      "ed1a\t0.0%\t100.0%\n",
      "atcc27758\t0.0%\t100.0%\n",
      "l182\t0.0%\t100.0%\n",
      "atcc15912\t0.0%\t100.0%\n",
      "Strain\tMin\tMax\tVariability - 0.2\n",
      "vpi5482\t0.0%\t100.0%\n",
      "atcc8492\t0.0%\t100.0%\n",
      "ed1a\t0.0%\t100.0%\n",
      "atcc27758\t0.0%\t100.0%\n",
      "l182\t0.0%\t100.0%\n",
      "atcc15912\t0.0%\t100.0%\n",
      "Strain\tMin\tMax\tVariability - 0.3\n",
      "vpi5482\t0.0%\t100.0%\n",
      "atcc8492\t0.0%\t100.0%\n",
      "ed1a\t0.0%\t100.0%\n",
      "atcc27758\t0.0%\t100.0%\n",
      "l182\t0.0%\t100.0%\n",
      "atcc15912\t0.0%\t100.0%\n",
      "Strain\tMin\tMax\tVariability - 0.4\n",
      "vpi5482\t0.0%\t100.0%\n",
      "atcc8492\t0.0%\t100.0%\n",
      "ed1a\t0.0%\t100.0%\n",
      "atcc27758\t0.0%\t95.6%\n",
      "l182\t0.0%\t100.0%\n",
      "atcc15912\t0.0%\t100.0%\n",
      "Strain\tMin\tMax\tVariability - 0.5\n",
      "vpi5482\t0.0%\t100.0%\n",
      "atcc8492\t0.0%\t100.0%\n",
      "ed1a\t0.0%\t100.0%\n",
      "atcc27758\t0.0%\t76.8%\n",
      "l182\t0.0%\t100.0%\n",
      "atcc15912\t0.0%\t100.0%\n",
      "Strain\tMin\tMax\tVariability - 0.6\n",
      "vpi5482\t0.0%\t100.0%\n",
      "atcc8492\t0.0%\t-0.0%\n",
      "ed1a\t0.0%\t100.0%\n",
      "atcc27758\t0.0%\t-0.0%\n",
      "l182\t0.0%\t100.0%\n",
      "atcc15912\t0.0%\t100.0%\n",
      "Strain\tMin\tMax\tVariability - 0.7\n",
      "vpi5482\t0.0%\t100.0%\n",
      "atcc8492\t0.0%\t-0.0%\n",
      "ed1a\t0.0%\t100.0%\n",
      "atcc27758\t0.0%\t-0.0%\n",
      "l182\t0.0%\t91.5%\n",
      "atcc15912\t0.0%\t100.0%\n",
      "Strain\tMin\tMax\tVariability - 0.8\n",
      "vpi5482\t0.0%\t-0.0%\n",
      "atcc8492\t0.0%\t-0.0%\n",
      "ed1a\t28.6%\t100.0%\n",
      "atcc27758\t0.0%\t-0.0%\n",
      "l182\t0.0%\t71.4%\n",
      "atcc15912\t0.0%\t-0.0%\n",
      "Strain\tMin\tMax\tVariability - 0.9\n",
      "vpi5482\t0.0%\t-0.0%\n",
      "atcc8492\t0.0%\t-0.0%\n",
      "ed1a\t66.4%\t100.0%\n",
      "atcc27758\t0.0%\t-0.0%\n",
      "l182\t0.0%\t33.6%\n",
      "atcc15912\t0.0%\t-0.0%\n",
      "Strain\tMin\tMax\tVariability - 1.0\n",
      "vpi5482\t0.0%\t-0.0%\n",
      "atcc8492\t0.0%\t-0.0%\n",
      "ed1a\t100.0%\t100.0%\n",
      "atcc27758\t0.0%\t-0.0%\n",
      "l182\t0.0%\t-0.0%\n",
      "atcc15912\t0.0%\t-0.0%\n"
     ]
    }
   ],
   "source": [
    "from mewpy.cobra.com import SteadyComVA\n",
    "l_va = np.linspace(0.1,1.0,num=10)\n",
    "\n",
    "for va in l_va:\n",
    "    va = round(va, 1)\n",
    "    variability = SteadyComVA(community, obj_frac=va, constraints=M9)\n",
    "    print(f'Strain\\tMin\\tMax\\tVariability - {va}')\n",
    "    for strain, (lower, upper) in variability.items():\n",
    "        print(f'{strain}\\t{lower:.1%}\\t{upper:.1%}')"
   ]
  },
  {
   "cell_type": "markdown",
   "id": "e2c8b384",
   "metadata": {},
   "source": [
    "As you can see, there is a really large variability in this solution space. This means that we know in theory the two mutants **can** cooperate and survive in minimal media, but there is still a lot of uncertainty with regard to **how** they will achieve a stable consortium.\n",
    "\n",
    "> How do you think we can reduce this uncertainty?"
   ]
  },
  {
   "cell_type": "markdown",
   "id": "5497e337",
   "metadata": {},
   "source": [
    "Firstly, lets set the environment conditions:"
   ]
  },
  {
   "cell_type": "code",
   "execution_count": 28,
   "id": "34220805",
   "metadata": {},
   "outputs": [],
   "source": [
    "sim.set_environmental_conditions(M9)"
   ]
  },
  {
   "cell_type": "markdown",
   "id": "3639ffde",
   "metadata": {},
   "source": [
    "We may now impose constraints on each organism growth, such as stating that each organism need to grow at least 0.1/h"
   ]
  },
  {
   "cell_type": "code",
   "execution_count": 29,
   "id": "1c660055",
   "metadata": {},
   "outputs": [
    {
     "data": {
      "text/plain": [
       "objective: 245.98446119143424\n",
       "Status: OPTIMAL\n",
       "Method:SimulationMethod.FBA"
      ]
     },
     "execution_count": 29,
     "metadata": {},
     "output_type": "execute_result"
    }
   ],
   "source": [
    "constraints={community.organisms_biomass['atcc8492']:(0.1,1000), \n",
    "             community.organisms_biomass['vpi5482']:(0.1,1000), \n",
    "             community.organisms_biomass['ed1a']:(0.1,1000),\n",
    "             community.organisms_biomass['atcc27758']:(0.1,1000),\n",
    "             community.organisms_biomass['l182']:(0.1,1000),\n",
    "             community.organisms_biomass['atcc15912']:(0.1,1000)}\n",
    "solution = sim.simulate(constraints=constraints)\n",
    "solution"
   ]
  },
  {
   "cell_type": "code",
   "execution_count": 30,
   "id": "ecb0bce0",
   "metadata": {},
   "outputs": [
    {
     "data": {
      "text/html": [
       "<div>\n",
       "<style scoped>\n",
       "    .dataframe tbody tr th:only-of-type {\n",
       "        vertical-align: middle;\n",
       "    }\n",
       "\n",
       "    .dataframe tbody tr th {\n",
       "        vertical-align: top;\n",
       "    }\n",
       "\n",
       "    .dataframe thead th {\n",
       "        text-align: right;\n",
       "    }\n",
       "</style>\n",
       "<table border=\"1\" class=\"dataframe\">\n",
       "  <thead>\n",
       "    <tr style=\"text-align: right;\">\n",
       "      <th></th>\n",
       "      <th>Flux rate</th>\n",
       "    </tr>\n",
       "    <tr>\n",
       "      <th>Reaction ID</th>\n",
       "      <th></th>\n",
       "    </tr>\n",
       "  </thead>\n",
       "  <tbody>\n",
       "    <tr>\n",
       "      <th>Growth_vpi5482</th>\n",
       "      <td>49.230500</td>\n",
       "    </tr>\n",
       "    <tr>\n",
       "      <th>Growth_atcc8492</th>\n",
       "      <td>42.874066</td>\n",
       "    </tr>\n",
       "    <tr>\n",
       "      <th>Growth_ed1a</th>\n",
       "      <td>32.358368</td>\n",
       "    </tr>\n",
       "    <tr>\n",
       "      <th>Growth_atcc27758</th>\n",
       "      <td>9.654401</td>\n",
       "    </tr>\n",
       "    <tr>\n",
       "      <th>Growth_l182</th>\n",
       "      <td>52.464832</td>\n",
       "    </tr>\n",
       "    <tr>\n",
       "      <th>Growth_atcc15912</th>\n",
       "      <td>59.402295</td>\n",
       "    </tr>\n",
       "  </tbody>\n",
       "</table>\n",
       "</div>"
      ],
      "text/plain": [
       "                  Flux rate\n",
       "Reaction ID                \n",
       "Growth_vpi5482    49.230500\n",
       "Growth_atcc8492   42.874066\n",
       "Growth_ed1a       32.358368\n",
       "Growth_atcc27758   9.654401\n",
       "Growth_l182       52.464832\n",
       "Growth_atcc15912  59.402295"
      ]
     },
     "execution_count": 30,
     "metadata": {},
     "output_type": "execute_result"
    }
   ],
   "source": [
    "solution.find('Growth')"
   ]
  },
  {
   "cell_type": "markdown",
   "id": "5ad3197e",
   "metadata": {},
   "source": [
    "Alternatively, we might choose to impose relative growth rates for each of the organisms:"
   ]
  },
  {
   "cell_type": "code",
   "execution_count": null,
   "id": "7ecc37ca",
   "metadata": {},
   "outputs": [],
   "source": [
    "community2 = CommunityModel([bt,bu],\n",
    "                           add_compartments=True,\n",
    "                           merge_biomasses=True,\n",
    "                           flavor='cobra')"
   ]
  },
  {
   "cell_type": "code",
   "execution_count": null,
   "id": "77f8eed9",
   "metadata": {},
   "outputs": [],
   "source": [
    "sim2 = community2.get_community_model()\n",
    "sim2.set_environmental_conditions(M9)"
   ]
  },
  {
   "cell_type": "code",
   "execution_count": null,
   "id": "7d604601",
   "metadata": {},
   "outputs": [],
   "source": [
    "solution = sim2.simulate()\n",
    "print(solution)\n",
    "solution.find('BIOMASS')"
   ]
  },
  {
   "cell_type": "code",
   "execution_count": null,
   "id": "6402d86c",
   "metadata": {},
   "outputs": [],
   "source": [
    "sim2.find(community2.biomass)"
   ]
  },
  {
   "cell_type": "markdown",
   "id": "d6dcc5da",
   "metadata": {},
   "source": [
    "The relative abundance (relative growth rates) are by default equal. We may though change these ratios:  "
   ]
  },
  {
   "cell_type": "code",
   "execution_count": null,
   "id": "575721c6",
   "metadata": {},
   "outputs": [],
   "source": [
    "community2.set_abundance({'glc_ko':1,'nh4_ko':2.5})\n",
    "sim2.simulate().find('BIOMASS')"
   ]
  },
  {
   "cell_type": "markdown",
   "id": "442759f3",
   "metadata": {},
   "source": [
    "## SMETANA\n",
    "\n",
    "**SMETANA** implements several algorithms to analyse cross-feeding interactions in microbial communities. These have been describe in [Zelezniak et al, PNAS (2015)](https://www.pnas.org/doi/abs/10.1073/pnas.1421834112). Please read the paper for a more detailed explanation."
   ]
  },
  {
   "cell_type": "markdown",
   "id": "3f23584e",
   "metadata": {},
   "source": [
    "SCS (species coupling score): measures the dependency of one species in the presence of the others to survive"
   ]
  },
  {
   "cell_type": "code",
   "execution_count": 42,
   "id": "45d28b6e",
   "metadata": {},
   "outputs": [
    {
     "name": "stderr",
     "output_type": "stream",
     "text": [
      "Could not identify an external compartment by name and choosing one with the most boundary reactions. That might be complete nonsense or change suddenly. Consider renaming your compartments using `Model.compartments` to fix this.\n",
      "Could not identify an external compartment by name and choosing one with the most boundary reactions. That might be complete nonsense or change suddenly. Consider renaming your compartments using `Model.compartments` to fix this.\n",
      "Could not identify an external compartment by name and choosing one with the most boundary reactions. That might be complete nonsense or change suddenly. Consider renaming your compartments using `Model.compartments` to fix this.\n",
      "Could not identify an external compartment by name and choosing one with the most boundary reactions. That might be complete nonsense or change suddenly. Consider renaming your compartments using `Model.compartments` to fix this.\n",
      "Could not identify an external compartment by name and choosing one with the most boundary reactions. That might be complete nonsense or change suddenly. Consider renaming your compartments using `Model.compartments` to fix this.\n",
      "Could not identify an external compartment by name and choosing one with the most boundary reactions. That might be complete nonsense or change suddenly. Consider renaming your compartments using `Model.compartments` to fix this.\n",
      "Could not identify an external compartment by name and choosing one with the most boundary reactions. That might be complete nonsense or change suddenly. Consider renaming your compartments using `Model.compartments` to fix this.\n",
      "Could not identify an external compartment by name and choosing one with the most boundary reactions. That might be complete nonsense or change suddenly. Consider renaming your compartments using `Model.compartments` to fix this.\n",
      "Could not identify an external compartment by name and choosing one with the most boundary reactions. That might be complete nonsense or change suddenly. Consider renaming your compartments using `Model.compartments` to fix this.\n",
      "Could not identify an external compartment by name and choosing one with the most boundary reactions. That might be complete nonsense or change suddenly. Consider renaming your compartments using `Model.compartments` to fix this.\n",
      "Could not identify an external compartment by name and choosing one with the most boundary reactions. That might be complete nonsense or change suddenly. Consider renaming your compartments using `Model.compartments` to fix this.\n",
      "Could not identify an external compartment by name and choosing one with the most boundary reactions. That might be complete nonsense or change suddenly. Consider renaming your compartments using `Model.compartments` to fix this.\n",
      "Could not identify an external compartment by name and choosing one with the most boundary reactions. That might be complete nonsense or change suddenly. Consider renaming your compartments using `Model.compartments` to fix this.\n",
      "Could not identify an external compartment by name and choosing one with the most boundary reactions. That might be complete nonsense or change suddenly. Consider renaming your compartments using `Model.compartments` to fix this.\n",
      "Could not identify an external compartment by name and choosing one with the most boundary reactions. That might be complete nonsense or change suddenly. Consider renaming your compartments using `Model.compartments` to fix this.\n",
      "Could not identify an external compartment by name and choosing one with the most boundary reactions. That might be complete nonsense or change suddenly. Consider renaming your compartments using `Model.compartments` to fix this.\n",
      "Could not identify an external compartment by name and choosing one with the most boundary reactions. That might be complete nonsense or change suddenly. Consider renaming your compartments using `Model.compartments` to fix this.\n",
      "Could not identify an external compartment by name and choosing one with the most boundary reactions. That might be complete nonsense or change suddenly. Consider renaming your compartments using `Model.compartments` to fix this.\n",
      "Could not identify an external compartment by name and choosing one with the most boundary reactions. That might be complete nonsense or change suddenly. Consider renaming your compartments using `Model.compartments` to fix this.\n",
      "Could not identify an external compartment by name and choosing one with the most boundary reactions. That might be complete nonsense or change suddenly. Consider renaming your compartments using `Model.compartments` to fix this.\n",
      "Could not identify an external compartment by name and choosing one with the most boundary reactions. That might be complete nonsense or change suddenly. Consider renaming your compartments using `Model.compartments` to fix this.\n",
      "Could not identify an external compartment by name and choosing one with the most boundary reactions. That might be complete nonsense or change suddenly. Consider renaming your compartments using `Model.compartments` to fix this.\n",
      "Could not identify an external compartment by name and choosing one with the most boundary reactions. That might be complete nonsense or change suddenly. Consider renaming your compartments using `Model.compartments` to fix this.\n",
      "Could not identify an external compartment by name and choosing one with the most boundary reactions. That might be complete nonsense or change suddenly. Consider renaming your compartments using `Model.compartments` to fix this.\n",
      "Could not identify an external compartment by name and choosing one with the most boundary reactions. That might be complete nonsense or change suddenly. Consider renaming your compartments using `Model.compartments` to fix this.\n",
      "Could not identify an external compartment by name and choosing one with the most boundary reactions. That might be complete nonsense or change suddenly. Consider renaming your compartments using `Model.compartments` to fix this.\n",
      "Could not identify an external compartment by name and choosing one with the most boundary reactions. That might be complete nonsense or change suddenly. Consider renaming your compartments using `Model.compartments` to fix this.\n",
      "Could not identify an external compartment by name and choosing one with the most boundary reactions. That might be complete nonsense or change suddenly. Consider renaming your compartments using `Model.compartments` to fix this.\n",
      "Could not identify an external compartment by name and choosing one with the most boundary reactions. That might be complete nonsense or change suddenly. Consider renaming your compartments using `Model.compartments` to fix this.\n",
      "Could not identify an external compartment by name and choosing one with the most boundary reactions. That might be complete nonsense or change suddenly. Consider renaming your compartments using `Model.compartments` to fix this.\n"
     ]
    }
   ],
   "source": [
    "SCC = sc_score(community)"
   ]
  },
  {
   "cell_type": "code",
   "execution_count": 43,
   "id": "6e07f487",
   "metadata": {},
   "outputs": [
    {
     "data": {
      "text/html": [
       "<div>\n",
       "<style scoped>\n",
       "    .dataframe tbody tr th:only-of-type {\n",
       "        vertical-align: middle;\n",
       "    }\n",
       "\n",
       "    .dataframe tbody tr th {\n",
       "        vertical-align: top;\n",
       "    }\n",
       "\n",
       "    .dataframe thead th {\n",
       "        text-align: right;\n",
       "    }\n",
       "</style>\n",
       "<table border=\"1\" class=\"dataframe\">\n",
       "  <thead>\n",
       "    <tr style=\"text-align: right;\">\n",
       "      <th></th>\n",
       "      <th>vpi5482</th>\n",
       "      <th>atcc8492</th>\n",
       "      <th>ed1a</th>\n",
       "      <th>atcc27758</th>\n",
       "      <th>l182</th>\n",
       "      <th>atcc15912</th>\n",
       "    </tr>\n",
       "  </thead>\n",
       "  <tbody>\n",
       "    <tr>\n",
       "      <th>atcc27758</th>\n",
       "      <td>0.0</td>\n",
       "      <td>0.0</td>\n",
       "      <td>0.0</td>\n",
       "      <td>NaN</td>\n",
       "      <td>0.0</td>\n",
       "      <td>0.0</td>\n",
       "    </tr>\n",
       "    <tr>\n",
       "      <th>l182</th>\n",
       "      <td>0.0</td>\n",
       "      <td>0.0</td>\n",
       "      <td>0.0</td>\n",
       "      <td>0.0</td>\n",
       "      <td>NaN</td>\n",
       "      <td>0.0</td>\n",
       "    </tr>\n",
       "    <tr>\n",
       "      <th>ed1a</th>\n",
       "      <td>0.0</td>\n",
       "      <td>0.0</td>\n",
       "      <td>NaN</td>\n",
       "      <td>0.0</td>\n",
       "      <td>0.0</td>\n",
       "      <td>0.0</td>\n",
       "    </tr>\n",
       "    <tr>\n",
       "      <th>atcc8492</th>\n",
       "      <td>0.0</td>\n",
       "      <td>NaN</td>\n",
       "      <td>0.0</td>\n",
       "      <td>0.0</td>\n",
       "      <td>0.0</td>\n",
       "      <td>0.0</td>\n",
       "    </tr>\n",
       "    <tr>\n",
       "      <th>atcc15912</th>\n",
       "      <td>0.0</td>\n",
       "      <td>0.0</td>\n",
       "      <td>0.0</td>\n",
       "      <td>0.0</td>\n",
       "      <td>0.0</td>\n",
       "      <td>NaN</td>\n",
       "    </tr>\n",
       "    <tr>\n",
       "      <th>vpi5482</th>\n",
       "      <td>NaN</td>\n",
       "      <td>0.0</td>\n",
       "      <td>0.0</td>\n",
       "      <td>0.0</td>\n",
       "      <td>0.0</td>\n",
       "      <td>0.0</td>\n",
       "    </tr>\n",
       "  </tbody>\n",
       "</table>\n",
       "</div>"
      ],
      "text/plain": [
       "           vpi5482  atcc8492  ed1a  atcc27758  l182  atcc15912\n",
       "atcc27758      0.0       0.0   0.0        NaN   0.0        0.0\n",
       "l182           0.0       0.0   0.0        0.0   NaN        0.0\n",
       "ed1a           0.0       0.0   NaN        0.0   0.0        0.0\n",
       "atcc8492       0.0       NaN   0.0        0.0   0.0        0.0\n",
       "atcc15912      0.0       0.0   0.0        0.0   0.0        NaN\n",
       "vpi5482        NaN       0.0   0.0        0.0   0.0        0.0"
      ]
     },
     "execution_count": 43,
     "metadata": {},
     "output_type": "execute_result"
    }
   ],
   "source": [
    "pd.DataFrame.from_dict(SCC)"
   ]
  },
  {
   "cell_type": "markdown",
   "id": "2a521e6e",
   "metadata": {},
   "source": [
    "MUS (metabolite uptake score): measures how frequently a species needs to uptake a metabolite to survive"
   ]
  },
  {
   "cell_type": "code",
   "execution_count": 32,
   "id": "f779b482",
   "metadata": {},
   "outputs": [
    {
     "name": "stderr",
     "output_type": "stream",
     "text": [
      "Could not identify an external compartment by name and choosing one with the most boundary reactions. That might be complete nonsense or change suddenly. Consider renaming your compartments using `Model.compartments` to fix this.\n",
      "Could not identify an external compartment by name and choosing one with the most boundary reactions. That might be complete nonsense or change suddenly. Consider renaming your compartments using `Model.compartments` to fix this.\n",
      "Could not identify an external compartment by name and choosing one with the most boundary reactions. That might be complete nonsense or change suddenly. Consider renaming your compartments using `Model.compartments` to fix this.\n",
      "Could not identify an external compartment by name and choosing one with the most boundary reactions. That might be complete nonsense or change suddenly. Consider renaming your compartments using `Model.compartments` to fix this.\n",
      "Could not identify an external compartment by name and choosing one with the most boundary reactions. That might be complete nonsense or change suddenly. Consider renaming your compartments using `Model.compartments` to fix this.\n",
      "Could not identify an external compartment by name and choosing one with the most boundary reactions. That might be complete nonsense or change suddenly. Consider renaming your compartments using `Model.compartments` to fix this.\n",
      "Could not identify an external compartment by name and choosing one with the most boundary reactions. That might be complete nonsense or change suddenly. Consider renaming your compartments using `Model.compartments` to fix this.\n",
      "Could not identify an external compartment by name and choosing one with the most boundary reactions. That might be complete nonsense or change suddenly. Consider renaming your compartments using `Model.compartments` to fix this.\n",
      "Could not identify an external compartment by name and choosing one with the most boundary reactions. That might be complete nonsense or change suddenly. Consider renaming your compartments using `Model.compartments` to fix this.\n",
      "Could not identify an external compartment by name and choosing one with the most boundary reactions. That might be complete nonsense or change suddenly. Consider renaming your compartments using `Model.compartments` to fix this.\n",
      "Could not identify an external compartment by name and choosing one with the most boundary reactions. That might be complete nonsense or change suddenly. Consider renaming your compartments using `Model.compartments` to fix this.\n",
      "Could not identify an external compartment by name and choosing one with the most boundary reactions. That might be complete nonsense or change suddenly. Consider renaming your compartments using `Model.compartments` to fix this.\n",
      "Could not identify an external compartment by name and choosing one with the most boundary reactions. That might be complete nonsense or change suddenly. Consider renaming your compartments using `Model.compartments` to fix this.\n",
      "Could not identify an external compartment by name and choosing one with the most boundary reactions. That might be complete nonsense or change suddenly. Consider renaming your compartments using `Model.compartments` to fix this.\n",
      "Could not identify an external compartment by name and choosing one with the most boundary reactions. That might be complete nonsense or change suddenly. Consider renaming your compartments using `Model.compartments` to fix this.\n",
      "Could not identify an external compartment by name and choosing one with the most boundary reactions. That might be complete nonsense or change suddenly. Consider renaming your compartments using `Model.compartments` to fix this.\n",
      "Could not identify an external compartment by name and choosing one with the most boundary reactions. That might be complete nonsense or change suddenly. Consider renaming your compartments using `Model.compartments` to fix this.\n",
      "Could not identify an external compartment by name and choosing one with the most boundary reactions. That might be complete nonsense or change suddenly. Consider renaming your compartments using `Model.compartments` to fix this.\n",
      "Could not identify an external compartment by name and choosing one with the most boundary reactions. That might be complete nonsense or change suddenly. Consider renaming your compartments using `Model.compartments` to fix this.\n",
      "Could not identify an external compartment by name and choosing one with the most boundary reactions. That might be complete nonsense or change suddenly. Consider renaming your compartments using `Model.compartments` to fix this.\n",
      "Could not identify an external compartment by name and choosing one with the most boundary reactions. That might be complete nonsense or change suddenly. Consider renaming your compartments using `Model.compartments` to fix this.\n",
      "Could not identify an external compartment by name and choosing one with the most boundary reactions. That might be complete nonsense or change suddenly. Consider renaming your compartments using `Model.compartments` to fix this.\n",
      "Could not identify an external compartment by name and choosing one with the most boundary reactions. That might be complete nonsense or change suddenly. Consider renaming your compartments using `Model.compartments` to fix this.\n",
      "Could not identify an external compartment by name and choosing one with the most boundary reactions. That might be complete nonsense or change suddenly. Consider renaming your compartments using `Model.compartments` to fix this.\n",
      "Could not identify an external compartment by name and choosing one with the most boundary reactions. That might be complete nonsense or change suddenly. Consider renaming your compartments using `Model.compartments` to fix this.\n",
      "Could not identify an external compartment by name and choosing one with the most boundary reactions. That might be complete nonsense or change suddenly. Consider renaming your compartments using `Model.compartments` to fix this.\n",
      "Could not identify an external compartment by name and choosing one with the most boundary reactions. That might be complete nonsense or change suddenly. Consider renaming your compartments using `Model.compartments` to fix this.\n",
      "Could not identify an external compartment by name and choosing one with the most boundary reactions. That might be complete nonsense or change suddenly. Consider renaming your compartments using `Model.compartments` to fix this.\n",
      "Could not identify an external compartment by name and choosing one with the most boundary reactions. That might be complete nonsense or change suddenly. Consider renaming your compartments using `Model.compartments` to fix this.\n",
      "Could not identify an external compartment by name and choosing one with the most boundary reactions. That might be complete nonsense or change suddenly. Consider renaming your compartments using `Model.compartments` to fix this.\n"
     ]
    },
    {
     "data": {
      "text/html": [
       "<div>\n",
       "<style scoped>\n",
       "    .dataframe tbody tr th:only-of-type {\n",
       "        vertical-align: middle;\n",
       "    }\n",
       "\n",
       "    .dataframe tbody tr th {\n",
       "        vertical-align: top;\n",
       "    }\n",
       "\n",
       "    .dataframe thead th {\n",
       "        text-align: right;\n",
       "    }\n",
       "</style>\n",
       "<table border=\"1\" class=\"dataframe\">\n",
       "  <thead>\n",
       "    <tr style=\"text-align: right;\">\n",
       "      <th></th>\n",
       "      <th>vpi5482</th>\n",
       "      <th>atcc8492</th>\n",
       "      <th>ed1a</th>\n",
       "      <th>atcc27758</th>\n",
       "      <th>l182</th>\n",
       "      <th>atcc15912</th>\n",
       "    </tr>\n",
       "  </thead>\n",
       "  <tbody>\n",
       "    <tr>\n",
       "      <th>12ppd__S_e</th>\n",
       "      <td>0.00</td>\n",
       "      <td>NaN</td>\n",
       "      <td>0.00</td>\n",
       "      <td>0.0</td>\n",
       "      <td>NaN</td>\n",
       "      <td>NaN</td>\n",
       "    </tr>\n",
       "    <tr>\n",
       "      <th>14glucan_e</th>\n",
       "      <td>0.06</td>\n",
       "      <td>NaN</td>\n",
       "      <td>0.37</td>\n",
       "      <td>NaN</td>\n",
       "      <td>NaN</td>\n",
       "      <td>0.0</td>\n",
       "    </tr>\n",
       "    <tr>\n",
       "      <th>2ameph_e</th>\n",
       "      <td>0.34</td>\n",
       "      <td>0.17</td>\n",
       "      <td>0.01</td>\n",
       "      <td>NaN</td>\n",
       "      <td>NaN</td>\n",
       "      <td>NaN</td>\n",
       "    </tr>\n",
       "    <tr>\n",
       "      <th>2m35mdntha_e</th>\n",
       "      <td>0.00</td>\n",
       "      <td>0.00</td>\n",
       "      <td>0.00</td>\n",
       "      <td>NaN</td>\n",
       "      <td>NaN</td>\n",
       "      <td>NaN</td>\n",
       "    </tr>\n",
       "    <tr>\n",
       "      <th>2pglyc_e</th>\n",
       "      <td>0.00</td>\n",
       "      <td>0.06</td>\n",
       "      <td>0.00</td>\n",
       "      <td>0.0</td>\n",
       "      <td>0.0</td>\n",
       "      <td>0.0</td>\n",
       "    </tr>\n",
       "    <tr>\n",
       "      <th>...</th>\n",
       "      <td>...</td>\n",
       "      <td>...</td>\n",
       "      <td>...</td>\n",
       "      <td>...</td>\n",
       "      <td>...</td>\n",
       "      <td>...</td>\n",
       "    </tr>\n",
       "    <tr>\n",
       "      <th>2hxmp_e</th>\n",
       "      <td>NaN</td>\n",
       "      <td>NaN</td>\n",
       "      <td>NaN</td>\n",
       "      <td>NaN</td>\n",
       "      <td>NaN</td>\n",
       "      <td>0.0</td>\n",
       "    </tr>\n",
       "    <tr>\n",
       "      <th>3mba_e</th>\n",
       "      <td>NaN</td>\n",
       "      <td>NaN</td>\n",
       "      <td>NaN</td>\n",
       "      <td>NaN</td>\n",
       "      <td>NaN</td>\n",
       "      <td>0.0</td>\n",
       "    </tr>\n",
       "    <tr>\n",
       "      <th>acglu_e</th>\n",
       "      <td>NaN</td>\n",
       "      <td>NaN</td>\n",
       "      <td>NaN</td>\n",
       "      <td>NaN</td>\n",
       "      <td>NaN</td>\n",
       "      <td>0.0</td>\n",
       "    </tr>\n",
       "    <tr>\n",
       "      <th>cell4_e</th>\n",
       "      <td>NaN</td>\n",
       "      <td>NaN</td>\n",
       "      <td>NaN</td>\n",
       "      <td>NaN</td>\n",
       "      <td>NaN</td>\n",
       "      <td>0.0</td>\n",
       "    </tr>\n",
       "    <tr>\n",
       "      <th>salcn_e</th>\n",
       "      <td>NaN</td>\n",
       "      <td>NaN</td>\n",
       "      <td>NaN</td>\n",
       "      <td>NaN</td>\n",
       "      <td>NaN</td>\n",
       "      <td>0.0</td>\n",
       "    </tr>\n",
       "  </tbody>\n",
       "</table>\n",
       "<p>422 rows × 6 columns</p>\n",
       "</div>"
      ],
      "text/plain": [
       "              vpi5482  atcc8492  ed1a  atcc27758  l182  atcc15912\n",
       "12ppd__S_e       0.00       NaN  0.00        0.0   NaN        NaN\n",
       "14glucan_e       0.06       NaN  0.37        NaN   NaN        0.0\n",
       "2ameph_e         0.34      0.17  0.01        NaN   NaN        NaN\n",
       "2m35mdntha_e     0.00      0.00  0.00        NaN   NaN        NaN\n",
       "2pglyc_e         0.00      0.06  0.00        0.0   0.0        0.0\n",
       "...               ...       ...   ...        ...   ...        ...\n",
       "2hxmp_e           NaN       NaN   NaN        NaN   NaN        0.0\n",
       "3mba_e            NaN       NaN   NaN        NaN   NaN        0.0\n",
       "acglu_e           NaN       NaN   NaN        NaN   NaN        0.0\n",
       "cell4_e           NaN       NaN   NaN        NaN   NaN        0.0\n",
       "salcn_e           NaN       NaN   NaN        NaN   NaN        0.0\n",
       "\n",
       "[422 rows x 6 columns]"
      ]
     },
     "execution_count": 32,
     "metadata": {},
     "output_type": "execute_result"
    }
   ],
   "source": [
    "MUS = mu_score(community)\n",
    "pd.DataFrame.from_dict(MUS)"
   ]
  },
  {
   "cell_type": "code",
   "execution_count": 34,
   "id": "d6175f02",
   "metadata": {},
   "outputs": [
    {
     "data": {
      "text/plain": [
       "{'12ppd__S_e': 0.0,\n",
       " '14glucan_e': 0.06,\n",
       " '2ameph_e': 0.34,\n",
       " '2m35mdntha_e': 0.0,\n",
       " '2pglyc_e': 0.0,\n",
       " '35dnta_e': 0.0,\n",
       " '4abut_e': 0.0,\n",
       " '5drib_e': 0.0,\n",
       " '5mcsn_e': 0.01,\n",
       " 'LalaDgluMdap_e': 0.0,\n",
       " 'LalaLglu_e': 0.01,\n",
       " 'Larab_e': 0.0,\n",
       " 'R3hdec4e_e': 0.0,\n",
       " 'R_3hdcaa_e': 0.0,\n",
       " 'R_3hphxa_e': 0.0,\n",
       " 'R_3hppta_e': 0.0,\n",
       " 'R_3hpt_e': 0.0,\n",
       " 'abg4_e': 0.0,\n",
       " 'acald_e': 0.0,\n",
       " 'acmana_e': 0.0,\n",
       " 'actn__R_e': 0.0,\n",
       " 'ad_e': 0.01,\n",
       " 'ade_e': 0.0,\n",
       " 'adn_e': 0.0,\n",
       " 'ala__D_e': 0.0,\n",
       " 'ala__L_e': 0.01,\n",
       " 'alaala_e': 0.0,\n",
       " 'alltn_e': 0.0,\n",
       " 'anhgm_e': 0.01,\n",
       " 'arab__L_e': 0.0,\n",
       " 'arg__L_e': 0.0,\n",
       " 'asn__L_e': 0.0,\n",
       " 'aso3_e': 0.0,\n",
       " 'aso4_e': 0.0,\n",
       " 'asp__L_e': 0.02,\n",
       " 'btn_e': 0.0,\n",
       " 'bz_e': 0.0,\n",
       " 'ca2_e': 1.0,\n",
       " 'cellb_e': 0.0,\n",
       " 'cgly_e': 0.37,\n",
       " 'chol_e': 0.0,\n",
       " 'chols_e': 0.47,\n",
       " 'cit_e': 0.0,\n",
       " 'cl_e': 1.0,\n",
       " 'co2_e': 0.0,\n",
       " 'coa_e': 0.34,\n",
       " 'cobalt2_e': 1.0,\n",
       " 'crn_e': 0.0,\n",
       " 'csn_e': 0.01,\n",
       " 'cu2_e': 1.0,\n",
       " 'cys__L_e': 0.21,\n",
       " 'cytd_e': 0.0,\n",
       " 'd23hb_e': 0.0,\n",
       " 'dad_2_e': 0.0,\n",
       " 'dca_e': 0.0,\n",
       " 'dcyt_e': 0.0,\n",
       " 'dgsn_e': 0.0,\n",
       " 'din_e': 0.0,\n",
       " 'drib_e': 0.0,\n",
       " 'duri_e': 0.0,\n",
       " 'eths_e': 0.0,\n",
       " 'fald_e': 0.0,\n",
       " 'fe2_e': 0.01,\n",
       " 'fe3_e': 0.41,\n",
       " 'fe3dcit_e': 0.05,\n",
       " 'fe3dhbzs3_e': 0.0,\n",
       " 'fe3pyovd_kt_e': 0.55,\n",
       " 'fol_e': 0.0,\n",
       " 'fuc__L_e': 0.0,\n",
       " 'g3pg_e': 0.0,\n",
       " 'gal_bD_e': 0.0,\n",
       " 'gal_e': 0.0,\n",
       " 'galt_e': 0.0,\n",
       " 'galur_e': 0.0,\n",
       " 'gcald_e': 0.0,\n",
       " 'glc__D_e': 0.0,\n",
       " 'glcur_e': 0.0,\n",
       " 'gln__L_e': 0.01,\n",
       " 'glu__L_e': 0.0,\n",
       " 'glucan4_e': 0.04,\n",
       " 'glucan6_e': 0.06,\n",
       " 'glutar_e': 0.0,\n",
       " 'gly_e': 0.0,\n",
       " 'glyb_e': 0.0,\n",
       " 'glyc3p_e': 0.06,\n",
       " 'gthox_e': 0.0,\n",
       " 'gthrd_e': 0.0,\n",
       " 'gua_e': 0.0,\n",
       " 'h2_e': 0.0,\n",
       " 'h2o2_e': 0.0,\n",
       " 'h2o_e': 0.0,\n",
       " 'h2s_e': 0.09,\n",
       " 'h_e': 0.0,\n",
       " 'ham_e': 0.0,\n",
       " 'his__L_e': 0.03,\n",
       " 'hxa_e': 0.0,\n",
       " 'ile__L_e': 0.01,\n",
       " 'indole_e': 0.0,\n",
       " 'inost_e': 0.0,\n",
       " 'isobuta_e': 0.0,\n",
       " 'istfrnA_e': 0.01,\n",
       " 'istfrnB_e': 0.01,\n",
       " 'k_e': 1.0,\n",
       " 'lac__D_e': 0.0,\n",
       " 'lcts_e': 0.12,\n",
       " 'leu__L_e': 0.0,\n",
       " 'lipoate_e': 0.0,\n",
       " 'lmn2_e': 0.09,\n",
       " 'lys__L_e': 0.0,\n",
       " 'lyx__L_e': 0.0,\n",
       " 'm_xyl_e': 0.0,\n",
       " 'mal__L_e': 0.0,\n",
       " 'malttr_e': 0.0,\n",
       " 'manttr_e': 0.0,\n",
       " 'melib_e': 0.06,\n",
       " 'meoh_e': 0.0,\n",
       " 'met__D_e': 0.0,\n",
       " 'met__L_e': 0.0,\n",
       " 'metox__R_e': 0.0,\n",
       " 'metox_e': 0.0,\n",
       " 'mg2_e': 1.0,\n",
       " 'mn2_e': 1.0,\n",
       " 'n2o_e': 0.0,\n",
       " 'ncam_e': 0.0,\n",
       " 'nh4_e': 0.01,\n",
       " 'no2_e': 0.01,\n",
       " 'no_e': 0.0,\n",
       " 'o2_e': 0.0,\n",
       " 'ocdcea_e': 0.0,\n",
       " 'octa_e': 0.0,\n",
       " 'p_xyl_e': 0.0,\n",
       " 'phe__L_e': 0.0,\n",
       " 'phehpa_e': 0.0,\n",
       " 'pheme_e': 0.0,\n",
       " 'pheocta_e': 0.0,\n",
       " 'pi_e': 0.07,\n",
       " 'pime_e': 0.0,\n",
       " 'ppap_e': 0.0,\n",
       " 'ppi_e': 0.08,\n",
       " 'pro__L_e': 0.02,\n",
       " 'pta_e': 0.0,\n",
       " 'ptrc_e': 0.0,\n",
       " 'pydam_e': 0.0,\n",
       " 'pydxn_e': 0.0,\n",
       " 'pyovd_kt_e': 0.0,\n",
       " 'raffin_e': 0.08,\n",
       " 'rib__D_e': 0.0,\n",
       " 'ribflv_e': 0.0,\n",
       " 'rmn_e': 0.0,\n",
       " 'salchs4_e': 0.0,\n",
       " 'salchs4fe_e': 0.01,\n",
       " 'sel_e': 0.0,\n",
       " 'ser__L_e': 0.0,\n",
       " 'slnt_e': 0.0,\n",
       " 'so4_e': 0.53,\n",
       " 'spmd_e': 0.0,\n",
       " 'stfrnA_e': 0.0,\n",
       " 'stfrnB_e': 0.0,\n",
       " 'tartr__D_e': 0.0,\n",
       " 'thm_e': 0.0,\n",
       " 'thr__L_e': 0.01,\n",
       " 'thym_e': 0.0,\n",
       " 'thymd_e': 0.0,\n",
       " 'tmam_e': 0.0,\n",
       " 'tnt_e': 0.01,\n",
       " 'tol_e': 0.0,\n",
       " 'tre6p_e': 0.37,\n",
       " 'trp__L_e': 0.0,\n",
       " 'tyr__L_e': 0.0,\n",
       " 'udcpdp_e': 0.08,\n",
       " 'udcpp_e': 0.0,\n",
       " 'ura_e': 0.0,\n",
       " 'urea_e': 0.0,\n",
       " 'uri_e': 0.0,\n",
       " 'val__L_e': 0.01,\n",
       " 'xan_e': 0.0,\n",
       " 'xtsn_e': 0.0,\n",
       " 'xyl3_e': 0.05,\n",
       " 'xyl__D_e': 0.0,\n",
       " 'xylan4_e': 0.12,\n",
       " 'xylb_e': 0.0,\n",
       " 'zn2_e': 1.0}"
      ]
     },
     "execution_count": 34,
     "metadata": {},
     "output_type": "execute_result"
    }
   ],
   "source": [
    "MUS.vpi5482"
   ]
  },
  {
   "cell_type": "code",
   "execution_count": 35,
   "id": "9449a68c",
   "metadata": {},
   "outputs": [
    {
     "data": {
      "text/plain": [
       "{'2ameph_e': 0.17,\n",
       " '2m35mdntha_e': 0.0,\n",
       " '2pglyc_e': 0.06,\n",
       " '35dnta_e': 0.0,\n",
       " '3amp_e': 0.06,\n",
       " '3cmp_e': 0.58,\n",
       " '4abut_e': 0.0,\n",
       " '4ahmmp_e': 0.0,\n",
       " '4hpro_LT_e': 0.0,\n",
       " '5mcsn_e': 0.0,\n",
       " '5mdru1p_e': 0.0,\n",
       " 'LalaDgluMdapDala_e': 0.0,\n",
       " 'LalaLglu_e': 0.0,\n",
       " 'Larab_e': 0.0,\n",
       " 'R_3hphxa_e': 0.0,\n",
       " 'R_3hppta_e': 0.0,\n",
       " 'R_3hpt_e': 0.0,\n",
       " 'abg4_e': 0.0,\n",
       " 'acald_e': 0.0,\n",
       " 'acnam_e': 0.0,\n",
       " 'actn__R_e': 0.0,\n",
       " 'adn_e': 0.0,\n",
       " 'agm_e': 0.0,\n",
       " 'ala__D_e': 0.0,\n",
       " 'ala__L_e': 0.0,\n",
       " 'alltn_e': 0.0,\n",
       " 'anhgm_e': 0.0,\n",
       " 'arab__L_e': 0.0,\n",
       " 'arg__L_e': 0.0,\n",
       " 'asn__L_e': 0.0,\n",
       " 'asp__L_e': 0.0,\n",
       " 'btn_e': 0.0,\n",
       " 'bz_e': 0.0,\n",
       " 'ca2_e': 1.0,\n",
       " 'cellb_e': 0.0,\n",
       " 'cgly_e': 0.0,\n",
       " 'chol_e': 0.0,\n",
       " 'chols_e': 0.51,\n",
       " 'cit_e': 0.0,\n",
       " 'cl_e': 1.0,\n",
       " 'co2_e': 0.0,\n",
       " 'coa_e': 0.0,\n",
       " 'cobalt2_e': 1.0,\n",
       " 'crn_e': 0.0,\n",
       " 'cu2_e': 1.0,\n",
       " 'cys__L_e': 0.0,\n",
       " 'cytd_e': 0.0,\n",
       " 'd23hb_e': 0.0,\n",
       " 'dad_2_e': 0.0,\n",
       " 'dca_e': 0.0,\n",
       " 'dcyt_e': 0.0,\n",
       " 'dgsn_e': 0.0,\n",
       " 'dhptd_e': 0.0,\n",
       " 'din_e': 0.0,\n",
       " 'drib_e': 0.0,\n",
       " 'duri_e': 0.0,\n",
       " 'enter_e': 0.0,\n",
       " 'fald_e': 0.0,\n",
       " 'fe2_e': 0.12,\n",
       " 'fe3_e': 0.08,\n",
       " 'fe3dcit_e': 0.0,\n",
       " 'fe3dhbzs3_e': 0.37,\n",
       " 'fe3pyovd_kt_e': 0.09,\n",
       " 'feenter_e': 0.11,\n",
       " 'fol_e': 0.0,\n",
       " 'fuc__L_e': 0.0,\n",
       " 'gal_bD_e': 0.0,\n",
       " 'gal_e': 0.0,\n",
       " 'galt_e': 0.0,\n",
       " 'galur_e': 0.0,\n",
       " 'glc__D_e': 0.0,\n",
       " 'glcur_e': 0.0,\n",
       " 'gln__L_e': 0.0,\n",
       " 'glu__L_e': 0.0,\n",
       " 'glucan4_e': 0.0,\n",
       " 'glucan6_e': 0.11,\n",
       " 'gly_e': 0.0,\n",
       " 'gthrd_e': 0.0,\n",
       " 'gua_e': 0.0,\n",
       " 'h2o_e': 0.0,\n",
       " 'h2s_e': 0.0,\n",
       " 'h_e': 0.0,\n",
       " 'ham_e': 0.0,\n",
       " 'his__L_e': 0.0,\n",
       " 'hxa_e': 0.0,\n",
       " 'ile__L_e': 0.0,\n",
       " 'indole_e': 0.0,\n",
       " 'inost_e': 0.0,\n",
       " 'ins_e': 0.0,\n",
       " 'isobuta_e': 0.0,\n",
       " 'istfrnA_e': 0.08,\n",
       " 'istfrnB_e': 0.08,\n",
       " 'k_e': 1.0,\n",
       " 'lcts_e': 0.0,\n",
       " 'leu__L_e': 0.0,\n",
       " 'lmn2_e': 0.0,\n",
       " 'lys__L_e': 0.0,\n",
       " 'lyx__L_e': 0.0,\n",
       " 'm_xyl_e': 0.0,\n",
       " 'malttr_e': 0.0,\n",
       " 'manttr_e': 0.0,\n",
       " 'met__D_e': 0.0,\n",
       " 'met__L_e': 0.0,\n",
       " 'metox_e': 0.0,\n",
       " 'mg2_e': 1.0,\n",
       " 'mn2_e': 1.0,\n",
       " 'n2o_e': 0.0,\n",
       " 'nh4_e': 0.0,\n",
       " 'no2_e': 0.0,\n",
       " 'no_e': 0.0,\n",
       " 'o2_e': 1.0,\n",
       " 'octa_e': 0.0,\n",
       " 'p_xyl_e': 0.0,\n",
       " 'pacald_e': 0.0,\n",
       " 'peamn_e': 0.0,\n",
       " 'phe__L_e': 0.0,\n",
       " 'phehpa_e': 0.0,\n",
       " 'pheme_e': 0.0,\n",
       " 'pheocta_e': 0.0,\n",
       " 'pi_e': 0.04,\n",
       " 'pime_e': 0.0,\n",
       " 'pnto__R_e': 0.0,\n",
       " 'ppap_e': 0.0,\n",
       " 'ppi_e': 0.05,\n",
       " 'pro__L_e': 0.0,\n",
       " 'progly_e': 0.0,\n",
       " 'pta_e': 0.0,\n",
       " 'ptrc_e': 0.0,\n",
       " 'pydxn_e': 0.0,\n",
       " 'pyovd_kt_e': 0.0,\n",
       " 'raffin_e': 0.0,\n",
       " 'rib__D_e': 0.0,\n",
       " 'rmn_e': 0.0,\n",
       " 'salchs4_e': 0.0,\n",
       " 'salchs4fe_e': 0.07,\n",
       " 'sbt__D_e': 0.0,\n",
       " 'sel_e': 0.0,\n",
       " 'ser__L_e': 0.0,\n",
       " 'slnt_e': 0.0,\n",
       " 'so4_e': 0.49,\n",
       " 'spmd_e': 0.0,\n",
       " 'stfrnA_e': 0.0,\n",
       " 'stfrnB_e': 0.0,\n",
       " 'sucr_e': 0.01,\n",
       " 'sula_e': 0.0,\n",
       " 'tartr__D_e': 0.0,\n",
       " 'thm_e': 0.0,\n",
       " 'thr__L_e': 0.0,\n",
       " 'thym_e': 0.0,\n",
       " 'thymd_e': 0.0,\n",
       " 'tnt_e': 0.0,\n",
       " 'tol_e': 0.0,\n",
       " 'trp__L_e': 0.0,\n",
       " 'tyr__L_e': 0.0,\n",
       " 'udcpdp_e': 0.04,\n",
       " 'udcpp_e': 0.0,\n",
       " 'ura_e': 0.0,\n",
       " 'urea_e': 0.0,\n",
       " 'uri_e': 0.0,\n",
       " 'val__L_e': 0.0,\n",
       " 'xtsn_e': 0.0,\n",
       " 'xyl3_e': 0.0,\n",
       " 'xyl__D_e': 0.0,\n",
       " 'xylan4_e': 0.0,\n",
       " 'xylb_e': 0.0,\n",
       " 'zn2_e': 1.0}"
      ]
     },
     "execution_count": 35,
     "metadata": {},
     "output_type": "execute_result"
    }
   ],
   "source": [
    "MUS.atcc8492"
   ]
  },
  {
   "cell_type": "markdown",
   "id": "19703e1f",
   "metadata": {},
   "source": [
    "MPS (metabolite production score): measures the ability of a species to produce a metabolite"
   ]
  },
  {
   "cell_type": "code",
   "execution_count": 36,
   "id": "095e8c80",
   "metadata": {},
   "outputs": [
    {
     "name": "stderr",
     "output_type": "stream",
     "text": [
      "Could not identify an external compartment by name and choosing one with the most boundary reactions. That might be complete nonsense or change suddenly. Consider renaming your compartments using `Model.compartments` to fix this.\n",
      "Could not identify an external compartment by name and choosing one with the most boundary reactions. That might be complete nonsense or change suddenly. Consider renaming your compartments using `Model.compartments` to fix this.\n",
      "Could not identify an external compartment by name and choosing one with the most boundary reactions. That might be complete nonsense or change suddenly. Consider renaming your compartments using `Model.compartments` to fix this.\n",
      "Could not identify an external compartment by name and choosing one with the most boundary reactions. That might be complete nonsense or change suddenly. Consider renaming your compartments using `Model.compartments` to fix this.\n",
      "Could not identify an external compartment by name and choosing one with the most boundary reactions. That might be complete nonsense or change suddenly. Consider renaming your compartments using `Model.compartments` to fix this.\n",
      "Could not identify an external compartment by name and choosing one with the most boundary reactions. That might be complete nonsense or change suddenly. Consider renaming your compartments using `Model.compartments` to fix this.\n",
      "Could not identify an external compartment by name and choosing one with the most boundary reactions. That might be complete nonsense or change suddenly. Consider renaming your compartments using `Model.compartments` to fix this.\n",
      "Could not identify an external compartment by name and choosing one with the most boundary reactions. That might be complete nonsense or change suddenly. Consider renaming your compartments using `Model.compartments` to fix this.\n",
      "Could not identify an external compartment by name and choosing one with the most boundary reactions. That might be complete nonsense or change suddenly. Consider renaming your compartments using `Model.compartments` to fix this.\n",
      "Could not identify an external compartment by name and choosing one with the most boundary reactions. That might be complete nonsense or change suddenly. Consider renaming your compartments using `Model.compartments` to fix this.\n",
      "Could not identify an external compartment by name and choosing one with the most boundary reactions. That might be complete nonsense or change suddenly. Consider renaming your compartments using `Model.compartments` to fix this.\n",
      "Could not identify an external compartment by name and choosing one with the most boundary reactions. That might be complete nonsense or change suddenly. Consider renaming your compartments using `Model.compartments` to fix this.\n"
     ]
    },
    {
     "data": {
      "text/plain": [
       "                                                       value\n",
       "attribute                                                   \n",
       "vpi5482    {'35dnta_e': 1, 'acald_e': 1, 'arab__L_e': 1, ...\n",
       "atcc8492   {'acald_e': 1, 'co2_e': 1, 'd23hb_e': 1, 'fald...\n",
       "ed1a       {'2m35mdntha_e': 1, '4abut_e': 1, 'LalaDgluMda...\n",
       "atcc27758  {'2mpa_e': 1, 'ac_e': 1, 'co2_e': 1, 'dha_e': ...\n",
       "l182       {'2mba_e': 1, '2mpa_e': 1, 'acald_e': 1, 'co2_...\n",
       "atcc15912  {'2mba_e': 1, '3mba_e': 1, 'acald_e': 1, 'aso3..."
      ]
     },
     "execution_count": 36,
     "metadata": {},
     "output_type": "execute_result"
    }
   ],
   "source": [
    "MPS = mp_score(community,environment=M9)\n",
    "MPS"
   ]
  },
  {
   "cell_type": "code",
   "execution_count": 39,
   "id": "244ea3f5",
   "metadata": {},
   "outputs": [
    {
     "data": {
      "text/html": [
       "<div>\n",
       "<style scoped>\n",
       "    .dataframe tbody tr th:only-of-type {\n",
       "        vertical-align: middle;\n",
       "    }\n",
       "\n",
       "    .dataframe tbody tr th {\n",
       "        vertical-align: top;\n",
       "    }\n",
       "\n",
       "    .dataframe thead th {\n",
       "        text-align: right;\n",
       "    }\n",
       "</style>\n",
       "<table border=\"1\" class=\"dataframe\">\n",
       "  <thead>\n",
       "    <tr style=\"text-align: right;\">\n",
       "      <th></th>\n",
       "      <th>vpi5482</th>\n",
       "      <th>atcc8492</th>\n",
       "      <th>ed1a</th>\n",
       "      <th>atcc27758</th>\n",
       "      <th>l182</th>\n",
       "      <th>atcc15912</th>\n",
       "    </tr>\n",
       "  </thead>\n",
       "  <tbody>\n",
       "    <tr>\n",
       "      <th>35dnta_e</th>\n",
       "      <td>1.0</td>\n",
       "      <td>1.0</td>\n",
       "      <td>1.0</td>\n",
       "      <td>NaN</td>\n",
       "      <td>NaN</td>\n",
       "      <td>NaN</td>\n",
       "    </tr>\n",
       "    <tr>\n",
       "      <th>acald_e</th>\n",
       "      <td>1.0</td>\n",
       "      <td>1.0</td>\n",
       "      <td>1.0</td>\n",
       "      <td>1.0</td>\n",
       "      <td>1.0</td>\n",
       "      <td>1.0</td>\n",
       "    </tr>\n",
       "    <tr>\n",
       "      <th>arab__L_e</th>\n",
       "      <td>1.0</td>\n",
       "      <td>1.0</td>\n",
       "      <td>0.0</td>\n",
       "      <td>0.0</td>\n",
       "      <td>1.0</td>\n",
       "      <td>0.0</td>\n",
       "    </tr>\n",
       "    <tr>\n",
       "      <th>co2_e</th>\n",
       "      <td>1.0</td>\n",
       "      <td>1.0</td>\n",
       "      <td>1.0</td>\n",
       "      <td>1.0</td>\n",
       "      <td>1.0</td>\n",
       "      <td>1.0</td>\n",
       "    </tr>\n",
       "    <tr>\n",
       "      <th>d23hb_e</th>\n",
       "      <td>1.0</td>\n",
       "      <td>1.0</td>\n",
       "      <td>NaN</td>\n",
       "      <td>1.0</td>\n",
       "      <td>NaN</td>\n",
       "      <td>NaN</td>\n",
       "    </tr>\n",
       "    <tr>\n",
       "      <th>...</th>\n",
       "      <td>...</td>\n",
       "      <td>...</td>\n",
       "      <td>...</td>\n",
       "      <td>...</td>\n",
       "      <td>...</td>\n",
       "      <td>...</td>\n",
       "    </tr>\n",
       "    <tr>\n",
       "      <th>3mba_e</th>\n",
       "      <td>NaN</td>\n",
       "      <td>NaN</td>\n",
       "      <td>NaN</td>\n",
       "      <td>NaN</td>\n",
       "      <td>NaN</td>\n",
       "      <td>1.0</td>\n",
       "    </tr>\n",
       "    <tr>\n",
       "      <th>cell4_e</th>\n",
       "      <td>NaN</td>\n",
       "      <td>NaN</td>\n",
       "      <td>NaN</td>\n",
       "      <td>NaN</td>\n",
       "      <td>NaN</td>\n",
       "      <td>1.0</td>\n",
       "    </tr>\n",
       "    <tr>\n",
       "      <th>2hxmp_e</th>\n",
       "      <td>NaN</td>\n",
       "      <td>NaN</td>\n",
       "      <td>NaN</td>\n",
       "      <td>NaN</td>\n",
       "      <td>NaN</td>\n",
       "      <td>0.0</td>\n",
       "    </tr>\n",
       "    <tr>\n",
       "      <th>acglu_e</th>\n",
       "      <td>NaN</td>\n",
       "      <td>NaN</td>\n",
       "      <td>NaN</td>\n",
       "      <td>NaN</td>\n",
       "      <td>NaN</td>\n",
       "      <td>0.0</td>\n",
       "    </tr>\n",
       "    <tr>\n",
       "      <th>salcn_e</th>\n",
       "      <td>NaN</td>\n",
       "      <td>NaN</td>\n",
       "      <td>NaN</td>\n",
       "      <td>NaN</td>\n",
       "      <td>NaN</td>\n",
       "      <td>0.0</td>\n",
       "    </tr>\n",
       "  </tbody>\n",
       "</table>\n",
       "<p>422 rows × 6 columns</p>\n",
       "</div>"
      ],
      "text/plain": [
       "           vpi5482  atcc8492  ed1a  atcc27758  l182  atcc15912\n",
       "35dnta_e       1.0       1.0   1.0        NaN   NaN        NaN\n",
       "acald_e        1.0       1.0   1.0        1.0   1.0        1.0\n",
       "arab__L_e      1.0       1.0   0.0        0.0   1.0        0.0\n",
       "co2_e          1.0       1.0   1.0        1.0   1.0        1.0\n",
       "d23hb_e        1.0       1.0   NaN        1.0   NaN        NaN\n",
       "...            ...       ...   ...        ...   ...        ...\n",
       "3mba_e         NaN       NaN   NaN        NaN   NaN        1.0\n",
       "cell4_e        NaN       NaN   NaN        NaN   NaN        1.0\n",
       "2hxmp_e        NaN       NaN   NaN        NaN   NaN        0.0\n",
       "acglu_e        NaN       NaN   NaN        NaN   NaN        0.0\n",
       "salcn_e        NaN       NaN   NaN        NaN   NaN        0.0\n",
       "\n",
       "[422 rows x 6 columns]"
      ]
     },
     "execution_count": 39,
     "metadata": {},
     "output_type": "execute_result"
    }
   ],
   "source": [
    "pd.DataFrame.from_dict(MPS)"
   ]
  },
  {
   "cell_type": "markdown",
   "id": "1fc8ec46",
   "metadata": {},
   "source": [
    "MRO (metabolic resource overlap): calculates how much the species compete for the same metabolites."
   ]
  },
  {
   "cell_type": "code",
   "execution_count": 40,
   "id": "761408d5",
   "metadata": {},
   "outputs": [
    {
     "name": "stderr",
     "output_type": "stream",
     "text": [
      "Could not identify an external compartment by name and choosing one with the most boundary reactions. That might be complete nonsense or change suddenly. Consider renaming your compartments using `Model.compartments` to fix this.\n"
     ]
    },
    {
     "name": "stdout",
     "output_type": "stream",
     "text": [
      "None\n"
     ]
    },
    {
     "name": "stderr",
     "output_type": "stream",
     "text": [
      "/home/mmartins/anaconda3/envs/tmcom/lib/python3.9/site-packages/mewpy/cobra/com/analysis.py:418: UserWarning: MRO: Failed to find a valid solution for: vpi5482\n",
      "  warn('MRO: Failed to find a valid solution for: ' + org_id)\n"
     ]
    }
   ],
   "source": [
    "score, MRO = mro_score(community,environment=M9)\n",
    "print(score)\n",
    "MRO"
   ]
  },
  {
   "cell_type": "code",
   "execution_count": 41,
   "id": "0eecd3b7",
   "metadata": {},
   "outputs": [
    {
     "name": "stdout",
     "output_type": "stream",
     "text": [
      "Community score: None\n",
      "\n",
      "Total competition for resources:\n",
      "\n"
     ]
    },
    {
     "ename": "AttributeError",
     "evalue": "'NoneType' object has no attribute 'community_medium'",
     "output_type": "error",
     "traceback": [
      "\u001b[0;31m---------------------------------------------------------------------------\u001b[0m",
      "\u001b[0;31mAttributeError\u001b[0m                            Traceback (most recent call last)",
      "Cell \u001b[0;32mIn[41], line 4\u001b[0m\n\u001b[1;32m      1\u001b[0m \u001b[38;5;28mprint\u001b[39m(\u001b[38;5;124mf\u001b[39m\u001b[38;5;124m'\u001b[39m\u001b[38;5;124mCommunity score: \u001b[39m\u001b[38;5;132;01m{\u001b[39;00mscore\u001b[38;5;132;01m}\u001b[39;00m\u001b[38;5;130;01m\\n\u001b[39;00m\u001b[38;5;124m'\u001b[39m)\n\u001b[1;32m      3\u001b[0m \u001b[38;5;28mprint\u001b[39m(\u001b[38;5;124m'\u001b[39m\u001b[38;5;124mTotal competition for resources:\u001b[39m\u001b[38;5;130;01m\\n\u001b[39;00m\u001b[38;5;124m'\u001b[39m)\n\u001b[0;32m----> 4\u001b[0m \u001b[38;5;28mprint\u001b[39m(\u001b[43mMRO\u001b[49m\u001b[38;5;241;43m.\u001b[39;49m\u001b[43mcommunity_medium\u001b[49m)\n\u001b[1;32m      5\u001b[0m \u001b[38;5;28mprint\u001b[39m()\n\u001b[1;32m      6\u001b[0m \u001b[38;5;28mprint\u001b[39m(\u001b[38;5;124m'\u001b[39m\u001b[38;5;124mBy individual:\u001b[39m\u001b[38;5;130;01m\\n\u001b[39;00m\u001b[38;5;124m'\u001b[39m)\n",
      "\u001b[0;31mAttributeError\u001b[0m: 'NoneType' object has no attribute 'community_medium'"
     ]
    }
   ],
   "source": [
    "print(f'Community score: {score}\\n')\n",
    "\n",
    "print('Total competition for resources:\\n')\n",
    "print(MRO.community_medium)\n",
    "print()\n",
    "print('By individual:\\n')\n",
    "\n",
    "for ind in MRO.individual_media.keys():\n",
    "    print(f'Strain:{ind}\\t{\", \".join(met for met in MRO.individual_media[ind])}')"
   ]
  },
  {
   "cell_type": "code",
   "execution_count": null,
   "id": "2f72f3c5",
   "metadata": {},
   "outputs": [],
   "source": [
    "MRO.individual_media.vpi5482"
   ]
  },
  {
   "cell_type": "code",
   "execution_count": null,
   "id": "d5461666",
   "metadata": {},
   "outputs": [],
   "source": [
    "MRO.individual_media.atcc8492"
   ]
  }
 ],
 "metadata": {
  "kernelspec": {
   "display_name": "Python 3 (ipykernel)",
   "language": "python",
   "name": "python3"
  },
  "language_info": {
   "codemirror_mode": {
    "name": "ipython",
    "version": 3
   },
   "file_extension": ".py",
   "mimetype": "text/x-python",
   "name": "python",
   "nbconvert_exporter": "python",
   "pygments_lexer": "ipython3",
   "version": "3.9.12"
  },
  "vscode": {
   "interpreter": {
    "hash": "53ddbca413d8c7d71c8bf00ad42e215a2a7a7728d07d0ca366dfc9251666779d"
   }
  }
 },
 "nbformat": 4,
 "nbformat_minor": 5
}

{
 "cells": [
  {
   "cell_type": "code",
   "execution_count": 1,
   "id": "8d92c537",
   "metadata": {},
   "outputs": [],
   "source": [
    "from reframed.io.sbml import load_cbmodel\n",
    "from reframed import Environment\n",
    "from mewpy.simulation import get_simulator\n",
    "from mewpy.simulation import set_default_solver\n",
    "import time\n",
    "import os"
   ]
  },
  {
   "cell_type": "code",
   "execution_count": 2,
   "id": "2d091fb1",
   "metadata": {},
   "outputs": [
    {
     "name": "stdout",
     "output_type": "stream",
     "text": [
      "../models/non-ec/Bacteroides_thetaiotaomicron_VPI_5482.xml\n"
     ]
    },
    {
     "name": "stderr",
     "output_type": "stream",
     "text": [
      "/usr/local/Caskroom/miniforge/base/envs/tmcom/lib/python3.9/site-packages/reframed/io/sbml.py:512: UserWarning: Gene association for reaction R_3OAS100 is not DNF\n",
      "  warn(f\"Gene association for reaction {reaction_id} is not DNF\")\n",
      "/usr/local/Caskroom/miniforge/base/envs/tmcom/lib/python3.9/site-packages/reframed/io/sbml.py:512: UserWarning: Gene association for reaction R_3OAS10M11 is not DNF\n",
      "  warn(f\"Gene association for reaction {reaction_id} is not DNF\")\n",
      "/usr/local/Caskroom/miniforge/base/envs/tmcom/lib/python3.9/site-packages/reframed/io/sbml.py:512: UserWarning: Gene association for reaction R_3OAS10M12 is not DNF\n",
      "  warn(f\"Gene association for reaction {reaction_id} is not DNF\")\n",
      "/usr/local/Caskroom/miniforge/base/envs/tmcom/lib/python3.9/site-packages/reframed/io/sbml.py:512: UserWarning: Gene association for reaction R_3OAS11M12 is not DNF\n",
      "  warn(f\"Gene association for reaction {reaction_id} is not DNF\")\n",
      "/usr/local/Caskroom/miniforge/base/envs/tmcom/lib/python3.9/site-packages/reframed/io/sbml.py:512: UserWarning: Gene association for reaction R_3OAS120 is not DNF\n",
      "  warn(f\"Gene association for reaction {reaction_id} is not DNF\")\n",
      "/usr/local/Caskroom/miniforge/base/envs/tmcom/lib/python3.9/site-packages/reframed/io/sbml.py:512: UserWarning: Gene association for reaction R_3OAS12M13 is not DNF\n",
      "  warn(f\"Gene association for reaction {reaction_id} is not DNF\")\n",
      "/usr/local/Caskroom/miniforge/base/envs/tmcom/lib/python3.9/site-packages/reframed/io/sbml.py:512: UserWarning: Gene association for reaction R_3OAS12M14 is not DNF\n",
      "  warn(f\"Gene association for reaction {reaction_id} is not DNF\")\n",
      "/usr/local/Caskroom/miniforge/base/envs/tmcom/lib/python3.9/site-packages/reframed/io/sbml.py:512: UserWarning: Gene association for reaction R_3OAS13M14 is not DNF\n",
      "  warn(f\"Gene association for reaction {reaction_id} is not DNF\")\n",
      "/usr/local/Caskroom/miniforge/base/envs/tmcom/lib/python3.9/site-packages/reframed/io/sbml.py:512: UserWarning: Gene association for reaction R_3OAS140 is not DNF\n",
      "  warn(f\"Gene association for reaction {reaction_id} is not DNF\")\n",
      "/usr/local/Caskroom/miniforge/base/envs/tmcom/lib/python3.9/site-packages/reframed/io/sbml.py:512: UserWarning: Gene association for reaction R_3OAS160 is not DNF\n",
      "  warn(f\"Gene association for reaction {reaction_id} is not DNF\")\n",
      "/usr/local/Caskroom/miniforge/base/envs/tmcom/lib/python3.9/site-packages/reframed/io/sbml.py:512: UserWarning: Gene association for reaction R_3OAS180 is not DNF\n",
      "  warn(f\"Gene association for reaction {reaction_id} is not DNF\")\n",
      "/usr/local/Caskroom/miniforge/base/envs/tmcom/lib/python3.9/site-packages/reframed/io/sbml.py:512: UserWarning: Gene association for reaction R_3OAS2M3 is not DNF\n",
      "  warn(f\"Gene association for reaction {reaction_id} is not DNF\")\n",
      "/usr/local/Caskroom/miniforge/base/envs/tmcom/lib/python3.9/site-packages/reframed/io/sbml.py:512: UserWarning: Gene association for reaction R_3OAS3M4 is not DNF\n",
      "  warn(f\"Gene association for reaction {reaction_id} is not DNF\")\n",
      "/usr/local/Caskroom/miniforge/base/envs/tmcom/lib/python3.9/site-packages/reframed/io/sbml.py:512: UserWarning: Gene association for reaction R_3OAS4M3O6 is not DNF\n",
      "  warn(f\"Gene association for reaction {reaction_id} is not DNF\")\n",
      "/usr/local/Caskroom/miniforge/base/envs/tmcom/lib/python3.9/site-packages/reframed/io/sbml.py:512: UserWarning: Gene association for reaction R_3OAS4M5 is not DNF\n",
      "  warn(f\"Gene association for reaction {reaction_id} is not DNF\")\n",
      "/usr/local/Caskroom/miniforge/base/envs/tmcom/lib/python3.9/site-packages/reframed/io/sbml.py:512: UserWarning: Gene association for reaction R_3OAS4M6 is not DNF\n",
      "  warn(f\"Gene association for reaction {reaction_id} is not DNF\")\n",
      "/usr/local/Caskroom/miniforge/base/envs/tmcom/lib/python3.9/site-packages/reframed/io/sbml.py:512: UserWarning: Gene association for reaction R_3OAS5M6 is not DNF\n",
      "  warn(f\"Gene association for reaction {reaction_id} is not DNF\")\n",
      "/usr/local/Caskroom/miniforge/base/envs/tmcom/lib/python3.9/site-packages/reframed/io/sbml.py:512: UserWarning: Gene association for reaction R_3OAS60 is not DNF\n",
      "  warn(f\"Gene association for reaction {reaction_id} is not DNF\")\n",
      "/usr/local/Caskroom/miniforge/base/envs/tmcom/lib/python3.9/site-packages/reframed/io/sbml.py:512: UserWarning: Gene association for reaction R_3OAS6M7 is not DNF\n",
      "  warn(f\"Gene association for reaction {reaction_id} is not DNF\")\n",
      "/usr/local/Caskroom/miniforge/base/envs/tmcom/lib/python3.9/site-packages/reframed/io/sbml.py:512: UserWarning: Gene association for reaction R_3OAS6M8 is not DNF\n",
      "  warn(f\"Gene association for reaction {reaction_id} is not DNF\")\n",
      "/usr/local/Caskroom/miniforge/base/envs/tmcom/lib/python3.9/site-packages/reframed/io/sbml.py:512: UserWarning: Gene association for reaction R_3OAS7M8 is not DNF\n",
      "  warn(f\"Gene association for reaction {reaction_id} is not DNF\")\n",
      "/usr/local/Caskroom/miniforge/base/envs/tmcom/lib/python3.9/site-packages/reframed/io/sbml.py:512: UserWarning: Gene association for reaction R_3OAS80 is not DNF\n",
      "  warn(f\"Gene association for reaction {reaction_id} is not DNF\")\n",
      "/usr/local/Caskroom/miniforge/base/envs/tmcom/lib/python3.9/site-packages/reframed/io/sbml.py:512: UserWarning: Gene association for reaction R_3OAS8M10 is not DNF\n",
      "  warn(f\"Gene association for reaction {reaction_id} is not DNF\")\n",
      "/usr/local/Caskroom/miniforge/base/envs/tmcom/lib/python3.9/site-packages/reframed/io/sbml.py:512: UserWarning: Gene association for reaction R_3OAS8M9 is not DNF\n",
      "  warn(f\"Gene association for reaction {reaction_id} is not DNF\")\n",
      "/usr/local/Caskroom/miniforge/base/envs/tmcom/lib/python3.9/site-packages/reframed/io/sbml.py:512: UserWarning: Gene association for reaction R_3OAS9M10 is not DNF\n",
      "  warn(f\"Gene association for reaction {reaction_id} is not DNF\")\n",
      "/usr/local/Caskroom/miniforge/base/envs/tmcom/lib/python3.9/site-packages/reframed/io/sbml.py:512: UserWarning: Gene association for reaction R_ACCOACL is not DNF\n",
      "  warn(f\"Gene association for reaction {reaction_id} is not DNF\")\n",
      "/usr/local/Caskroom/miniforge/base/envs/tmcom/lib/python3.9/site-packages/reframed/io/sbml.py:512: UserWarning: Gene association for reaction R_ACOATA is not DNF\n",
      "  warn(f\"Gene association for reaction {reaction_id} is not DNF\")\n",
      "/usr/local/Caskroom/miniforge/base/envs/tmcom/lib/python3.9/site-packages/reframed/io/sbml.py:512: UserWarning: Gene association for reaction R_BTNCLi is not DNF\n",
      "  warn(f\"Gene association for reaction {reaction_id} is not DNF\")\n",
      "/usr/local/Caskroom/miniforge/base/envs/tmcom/lib/python3.9/site-packages/reframed/io/sbml.py:512: UserWarning: Gene association for reaction R_DMATT is not DNF\n",
      "  warn(f\"Gene association for reaction {reaction_id} is not DNF\")\n",
      "/usr/local/Caskroom/miniforge/base/envs/tmcom/lib/python3.9/site-packages/reframed/io/sbml.py:512: UserWarning: Gene association for reaction R_GLUOX is not DNF\n",
      "  warn(f\"Gene association for reaction {reaction_id} is not DNF\")\n",
      "/usr/local/Caskroom/miniforge/base/envs/tmcom/lib/python3.9/site-packages/reframed/io/sbml.py:512: UserWarning: Gene association for reaction R_GRTT is not DNF\n",
      "  warn(f\"Gene association for reaction {reaction_id} is not DNF\")\n",
      "/usr/local/Caskroom/miniforge/base/envs/tmcom/lib/python3.9/site-packages/reframed/io/sbml.py:512: UserWarning: Gene association for reaction R_KAS14 is not DNF\n",
      "  warn(f\"Gene association for reaction {reaction_id} is not DNF\")\n",
      "/usr/local/Caskroom/miniforge/base/envs/tmcom/lib/python3.9/site-packages/reframed/io/sbml.py:512: UserWarning: Gene association for reaction R_pbiosynthesis is not DNF\n",
      "  warn(f\"Gene association for reaction {reaction_id} is not DNF\")\n"
     ]
    },
    {
     "name": "stdout",
     "output_type": "stream",
     "text": [
      "Set parameter Username\n",
      "Academic license - for non-commercial use only - expires 2024-03-01\n",
      "M_Bacteroides_thetaiotaomicron_VPI_5482 35.03363228699551\n",
      "../models/non-ec/Bacteroides_uniformis_ATCC_8492.xml\n",
      "M_Bacteroides_uniformis_ATCC_8492 38.20465623068276\n",
      "../models/non-ec/Escherichia_coli_ED1a.xml\n"
     ]
    },
    {
     "name": "stderr",
     "output_type": "stream",
     "text": [
      "/usr/local/Caskroom/miniforge/base/envs/tmcom/lib/python3.9/site-packages/reframed/io/sbml.py:512: UserWarning: Gene association for reaction R_AACOAT is not DNF\n",
      "  warn(f\"Gene association for reaction {reaction_id} is not DNF\")\n",
      "/usr/local/Caskroom/miniforge/base/envs/tmcom/lib/python3.9/site-packages/reframed/io/sbml.py:512: UserWarning: Gene association for reaction R_ACCOAL is not DNF\n",
      "  warn(f\"Gene association for reaction {reaction_id} is not DNF\")\n",
      "/usr/local/Caskroom/miniforge/base/envs/tmcom/lib/python3.9/site-packages/reframed/io/sbml.py:512: UserWarning: Gene association for reaction R_ACLS_a is not DNF\n",
      "  warn(f\"Gene association for reaction {reaction_id} is not DNF\")\n",
      "/usr/local/Caskroom/miniforge/base/envs/tmcom/lib/python3.9/site-packages/reframed/io/sbml.py:512: UserWarning: Gene association for reaction R_D5KGK is not DNF\n",
      "  warn(f\"Gene association for reaction {reaction_id} is not DNF\")\n",
      "/usr/local/Caskroom/miniforge/base/envs/tmcom/lib/python3.9/site-packages/reframed/io/sbml.py:512: UserWarning: Gene association for reaction R_DDPA is not DNF\n",
      "  warn(f\"Gene association for reaction {reaction_id} is not DNF\")\n",
      "/usr/local/Caskroom/miniforge/base/envs/tmcom/lib/python3.9/site-packages/reframed/io/sbml.py:512: UserWarning: Gene association for reaction R_FRUK is not DNF\n",
      "  warn(f\"Gene association for reaction {reaction_id} is not DNF\")\n",
      "/usr/local/Caskroom/miniforge/base/envs/tmcom/lib/python3.9/site-packages/reframed/io/sbml.py:512: UserWarning: Gene association for reaction R_G3PD6 is not DNF\n",
      "  warn(f\"Gene association for reaction {reaction_id} is not DNF\")\n",
      "/usr/local/Caskroom/miniforge/base/envs/tmcom/lib/python3.9/site-packages/reframed/io/sbml.py:512: UserWarning: Gene association for reaction R_G3PD7 is not DNF\n",
      "  warn(f\"Gene association for reaction {reaction_id} is not DNF\")\n",
      "/usr/local/Caskroom/miniforge/base/envs/tmcom/lib/python3.9/site-packages/reframed/io/sbml.py:512: UserWarning: Gene association for reaction R_GLGC is not DNF\n",
      "  warn(f\"Gene association for reaction {reaction_id} is not DNF\")\n",
      "/usr/local/Caskroom/miniforge/base/envs/tmcom/lib/python3.9/site-packages/reframed/io/sbml.py:512: UserWarning: Gene association for reaction R_GLUOX is not DNF\n",
      "  warn(f\"Gene association for reaction {reaction_id} is not DNF\")\n",
      "/usr/local/Caskroom/miniforge/base/envs/tmcom/lib/python3.9/site-packages/reframed/io/sbml.py:512: UserWarning: Gene association for reaction R_HACD1 is not DNF\n",
      "  warn(f\"Gene association for reaction {reaction_id} is not DNF\")\n",
      "/usr/local/Caskroom/miniforge/base/envs/tmcom/lib/python3.9/site-packages/reframed/io/sbml.py:512: UserWarning: Gene association for reaction R_HACD2 is not DNF\n",
      "  warn(f\"Gene association for reaction {reaction_id} is not DNF\")\n",
      "/usr/local/Caskroom/miniforge/base/envs/tmcom/lib/python3.9/site-packages/reframed/io/sbml.py:512: UserWarning: Gene association for reaction R_HACD3 is not DNF\n",
      "  warn(f\"Gene association for reaction {reaction_id} is not DNF\")\n",
      "/usr/local/Caskroom/miniforge/base/envs/tmcom/lib/python3.9/site-packages/reframed/io/sbml.py:512: UserWarning: Gene association for reaction R_HACD4 is not DNF\n",
      "  warn(f\"Gene association for reaction {reaction_id} is not DNF\")\n",
      "/usr/local/Caskroom/miniforge/base/envs/tmcom/lib/python3.9/site-packages/reframed/io/sbml.py:512: UserWarning: Gene association for reaction R_HACD5 is not DNF\n",
      "  warn(f\"Gene association for reaction {reaction_id} is not DNF\")\n",
      "/usr/local/Caskroom/miniforge/base/envs/tmcom/lib/python3.9/site-packages/reframed/io/sbml.py:512: UserWarning: Gene association for reaction R_HACD6 is not DNF\n",
      "  warn(f\"Gene association for reaction {reaction_id} is not DNF\")\n",
      "/usr/local/Caskroom/miniforge/base/envs/tmcom/lib/python3.9/site-packages/reframed/io/sbml.py:512: UserWarning: Gene association for reaction R_HACD7 is not DNF\n",
      "  warn(f\"Gene association for reaction {reaction_id} is not DNF\")\n",
      "/usr/local/Caskroom/miniforge/base/envs/tmcom/lib/python3.9/site-packages/reframed/io/sbml.py:512: UserWarning: Gene association for reaction R_HACD9 is not DNF\n",
      "  warn(f\"Gene association for reaction {reaction_id} is not DNF\")\n",
      "/usr/local/Caskroom/miniforge/base/envs/tmcom/lib/python3.9/site-packages/reframed/io/sbml.py:512: UserWarning: Gene association for reaction R_HADPCOADH3 is not DNF\n",
      "  warn(f\"Gene association for reaction {reaction_id} is not DNF\")\n",
      "/usr/local/Caskroom/miniforge/base/envs/tmcom/lib/python3.9/site-packages/reframed/io/sbml.py:512: UserWarning: Gene association for reaction R_HYD3 is not DNF\n",
      "  warn(f\"Gene association for reaction {reaction_id} is not DNF\")\n",
      "/usr/local/Caskroom/miniforge/base/envs/tmcom/lib/python3.9/site-packages/reframed/io/sbml.py:512: UserWarning: Gene association for reaction R_PFK_2 is not DNF\n",
      "  warn(f\"Gene association for reaction {reaction_id} is not DNF\")\n",
      "/usr/local/Caskroom/miniforge/base/envs/tmcom/lib/python3.9/site-packages/reframed/io/sbml.py:512: UserWarning: Gene association for reaction R_SADT2 is not DNF\n",
      "  warn(f\"Gene association for reaction {reaction_id} is not DNF\")\n",
      "/usr/local/Caskroom/miniforge/base/envs/tmcom/lib/python3.9/site-packages/reframed/io/sbml.py:512: UserWarning: Gene association for reaction R_SUCD4 is not DNF\n",
      "  warn(f\"Gene association for reaction {reaction_id} is not DNF\")\n",
      "/usr/local/Caskroom/miniforge/base/envs/tmcom/lib/python3.9/site-packages/reframed/io/sbml.py:512: UserWarning: Gene association for reaction R_THZPSN is not DNF\n",
      "  warn(f\"Gene association for reaction {reaction_id} is not DNF\")\n",
      "/usr/local/Caskroom/miniforge/base/envs/tmcom/lib/python3.9/site-packages/reframed/io/sbml.py:512: UserWarning: Gene association for reaction R_UPPRT is not DNF\n",
      "  warn(f\"Gene association for reaction {reaction_id} is not DNF\")\n",
      "/usr/local/Caskroom/miniforge/base/envs/tmcom/lib/python3.9/site-packages/reframed/io/sbml.py:512: UserWarning: Gene association for reaction R_dreplication is not DNF\n",
      "  warn(f\"Gene association for reaction {reaction_id} is not DNF\")\n",
      "/usr/local/Caskroom/miniforge/base/envs/tmcom/lib/python3.9/site-packages/reframed/io/sbml.py:512: UserWarning: Gene association for reaction R_pbiosynthesis is not DNF\n",
      "  warn(f\"Gene association for reaction {reaction_id} is not DNF\")\n",
      "/usr/local/Caskroom/miniforge/base/envs/tmcom/lib/python3.9/site-packages/reframed/io/sbml.py:512: UserWarning: Gene association for reaction R_r0060 is not DNF\n",
      "  warn(f\"Gene association for reaction {reaction_id} is not DNF\")\n",
      "/usr/local/Caskroom/miniforge/base/envs/tmcom/lib/python3.9/site-packages/reframed/io/sbml.py:512: UserWarning: Gene association for reaction R_rtranscription is not DNF\n",
      "  warn(f\"Gene association for reaction {reaction_id} is not DNF\")\n"
     ]
    },
    {
     "name": "stdout",
     "output_type": "stream",
     "text": [
      "M_Escherichia_coli_ED1a 73.87966111399751\n",
      "Execution time: 31.61582064628601 seconds\n"
     ]
    }
   ],
   "source": [
    "st = time.time()\n",
    "\n",
    "model_path = \"../models/non-ec/\"\n",
    "S1 = ['Bacteroides_thetaiotaomicron_VPI_5482.xml','Bacteroides_uniformis_ATCC_8492.xml','Escherichia_coli_ED1a.xml']\n",
    "\n",
    "list_models = []\n",
    "\n",
    "for file in S1:\n",
    "    SBML = (os.path.join(model_path, file))\n",
    "    print(SBML)\n",
    "    model = load_cbmodel(SBML, flavor='fbc2')\n",
    "    model.biomass_reaction = \"R_biomass\"\n",
    "    Environment.complete(model, max_uptake=10.0, inplace=True)\n",
    "    list_models.append(model)\n",
    "    \n",
    "    sim = get_simulator(model)\n",
    "    res = sim.simulate(objective = \"R_biomass\")\n",
    "    print(model.id, res.objective_value)\n",
    "    \n",
    "et = time.time()\n",
    "\n",
    "elapsed_time = et - st\n",
    "print('Execution time:', elapsed_time, 'seconds')"
   ]
  },
  {
   "cell_type": "code",
   "execution_count": null,
   "id": "8a119930",
   "metadata": {},
   "outputs": [],
   "source": [
    "from mewpy.model.com import CommunityModel\n",
    "\n",
    "community = CommunityModel(list_models)"
   ]
  },
  {
   "cell_type": "code",
   "execution_count": null,
   "id": "75e543cd",
   "metadata": {},
   "outputs": [],
   "source": [
    "M1 = Environment.from_model(list_models[0])\n",
    "print(f\"Environment compounds: {', '.join(M1.get_compounds())}\")"
   ]
  },
  {
   "cell_type": "code",
   "execution_count": null,
   "id": "a6d6d9b3",
   "metadata": {},
   "outputs": [],
   "source": [
    "from reframed import FBA\n",
    "\n",
    "super_oganism = community.merged_model\n",
    "solution = FBA(super_oganism, constraints=M1)\n",
    "\n",
    "print(solution)\n",
    "solution.show_values(pattern='R_EX')"
   ]
  },
  {
   "cell_type": "code",
   "execution_count": null,
   "id": "7328360f",
   "metadata": {},
   "outputs": [],
   "source": [
    "#solution.show_values(pattern='_glc_ko', sort=True)"
   ]
  },
  {
   "cell_type": "code",
   "execution_count": null,
   "id": "ab5cdff4",
   "metadata": {},
   "outputs": [],
   "source": [
    "#solution.show_values(pattern='_nh4_ko', sort=True)"
   ]
  },
  {
   "cell_type": "code",
   "execution_count": null,
   "id": "3324434a",
   "metadata": {},
   "outputs": [],
   "source": [
    "from mewpy.cobra.steadycom import SteadyCom\n",
    "solution = SteadyCom(community, constraints=M1)"
   ]
  },
  {
   "cell_type": "code",
   "execution_count": null,
   "id": "1f5eec4a",
   "metadata": {},
   "outputs": [],
   "source": [
    "print(solution)"
   ]
  },
  {
   "cell_type": "code",
   "execution_count": null,
   "id": "367ea55d",
   "metadata": {},
   "outputs": [],
   "source": [
    "solution.cross_feeding(as_df=True).dropna().sort_values('rate', ascending=False)"
   ]
  },
  {
   "cell_type": "code",
   "execution_count": null,
   "id": "ff806d68",
   "metadata": {},
   "outputs": [],
   "source": [
    "from reframed import fluxes2escher\n",
    "fluxes2escher(solution.internal['M_Bacteroides_uniformis_ATCC_8492'])"
   ]
  },
  {
   "cell_type": "code",
   "execution_count": null,
   "id": "936be37f",
   "metadata": {},
   "outputs": [],
   "source": [
    "fluxes2escher(solution.internal['M_Bacteroides_thetaiotaomicron_VPI_5482'])"
   ]
  },
  {
   "cell_type": "code",
   "execution_count": null,
   "id": "0f476e7b",
   "metadata": {},
   "outputs": [],
   "source": [
    "fluxes2escher(solution.internal['M_Escherichia_coli_ED1a'])"
   ]
  },
  {
   "cell_type": "code",
   "execution_count": null,
   "id": "622fe261",
   "metadata": {},
   "outputs": [],
   "source": [
    "from reframed import SteadyComVA\n",
    "variability = SteadyComVA(community, obj_frac=0.9, constraints=M9)\n",
    "\n",
    "print('Strain\\tMin\\tMax')\n",
    "for strain, (lower, upper) in variability.items():\n",
    "    print(f'{strain}\\t{lower:.1%}\\t{upper:.1%}')"
   ]
  }
 ],
 "metadata": {
  "kernelspec": {
   "display_name": "Python 3 (ipykernel)",
   "language": "python",
   "name": "python3"
  },
  "language_info": {
   "codemirror_mode": {
    "name": "ipython",
    "version": 3
   },
   "file_extension": ".py",
   "mimetype": "text/x-python",
   "name": "python",
   "nbconvert_exporter": "python",
   "pygments_lexer": "ipython3",
   "version": "3.9.12"
  }
 },
 "nbformat": 4,
 "nbformat_minor": 5
}

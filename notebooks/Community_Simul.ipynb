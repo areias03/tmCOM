{
 "cells": [
  {
   "cell_type": "code",
   "execution_count": 1,
   "id": "8d92c537",
   "metadata": {},
   "outputs": [],
   "source": [
    "from reframed.io.sbml import load_cbmodel\n",
    "from reframed import Environment\n",
    "from mewpy.simulation import get_simulator\n",
    "import os"
   ]
  },
  {
   "cell_type": "code",
   "execution_count": 3,
   "id": "2d091fb1",
   "metadata": {},
   "outputs": [],
   "source": [
    "bt = load_cbmodel('../models/non-ec/Bacteroides_thetaiotaomicron_VPI_5482.xml')\n",
    "\n",
    "wildtype = get_simulator(bt)"
   ]
  },
  {
   "cell_type": "code",
   "execution_count": null,
   "id": "8a119930",
   "metadata": {},
   "outputs": [],
   "source": [
    "from mewpy.model.com import CommunityModel\n",
    "\n",
    "community = CommunityModel(list_models)"
   ]
  },
  {
   "cell_type": "code",
   "execution_count": null,
   "id": "75e543cd",
   "metadata": {},
   "outputs": [],
   "source": [
    "M1 = Environment.from_model(list_models[0])\n",
    "print(f\"Environment compounds: {', '.join(M1.get_compounds())}\")"
   ]
  },
  {
   "cell_type": "code",
   "execution_count": null,
   "id": "a6d6d9b3",
   "metadata": {},
   "outputs": [],
   "source": [
    "from reframed import FBA\n",
    "\n",
    "super_oganism = community.merged_model\n",
    "solution = FBA(super_oganism, constraints=M1)\n",
    "\n",
    "print(solution)\n",
    "solution.show_values(pattern='R_EX')"
   ]
  },
  {
   "cell_type": "code",
   "execution_count": null,
   "id": "7328360f",
   "metadata": {},
   "outputs": [],
   "source": [
    "#solution.show_values(pattern='_glc_ko', sort=True)"
   ]
  },
  {
   "cell_type": "code",
   "execution_count": null,
   "id": "ab5cdff4",
   "metadata": {},
   "outputs": [],
   "source": [
    "#solution.show_values(pattern='_nh4_ko', sort=True)"
   ]
  },
  {
   "cell_type": "code",
   "execution_count": null,
   "id": "3324434a",
   "metadata": {},
   "outputs": [],
   "source": [
    "from mewpy.cobra.steadycom import SteadyCom\n",
    "solution = SteadyCom(community, constraints=M1)"
   ]
  },
  {
   "cell_type": "code",
   "execution_count": null,
   "id": "1f5eec4a",
   "metadata": {},
   "outputs": [],
   "source": [
    "print(solution)"
   ]
  },
  {
   "cell_type": "code",
   "execution_count": null,
   "id": "367ea55d",
   "metadata": {},
   "outputs": [],
   "source": [
    "solution.cross_feeding(as_df=True).dropna().sort_values('rate', ascending=False)"
   ]
  },
  {
   "cell_type": "code",
   "execution_count": null,
   "id": "ff806d68",
   "metadata": {},
   "outputs": [],
   "source": [
    "from reframed import fluxes2escher\n",
    "fluxes2escher(solution.internal['M_Bacteroides_uniformis_ATCC_8492'])"
   ]
  },
  {
   "cell_type": "code",
   "execution_count": null,
   "id": "936be37f",
   "metadata": {},
   "outputs": [],
   "source": [
    "fluxes2escher(solution.internal['M_Bacteroides_thetaiotaomicron_VPI_5482'])"
   ]
  },
  {
   "cell_type": "code",
   "execution_count": null,
   "id": "0f476e7b",
   "metadata": {},
   "outputs": [],
   "source": [
    "fluxes2escher(solution.internal['M_Escherichia_coli_ED1a'])"
   ]
  },
  {
   "cell_type": "code",
   "execution_count": null,
   "id": "622fe261",
   "metadata": {},
   "outputs": [],
   "source": [
    "from reframed import SteadyComVA\n",
    "variability = SteadyComVA(community, obj_frac=0.9, constraints=M9)\n",
    "\n",
    "print('Strain\\tMin\\tMax')\n",
    "for strain, (lower, upper) in variability.items():\n",
    "    print(f'{strain}\\t{lower:.1%}\\t{upper:.1%}')"
   ]
  }
 ],
 "metadata": {
  "kernelspec": {
   "display_name": "Python 3 (ipykernel)",
   "language": "python",
   "name": "python3"
  },
  "language_info": {
   "codemirror_mode": {
    "name": "ipython",
    "version": 3
   },
   "file_extension": ".py",
   "mimetype": "text/x-python",
   "name": "python",
   "nbconvert_exporter": "python",
   "pygments_lexer": "ipython3",
   "version": "3.9.12"
  }
 },
 "nbformat": 4,
 "nbformat_minor": 5
}

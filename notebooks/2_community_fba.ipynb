{
 "cells": [
  {
   "cell_type": "markdown",
   "id": "4ef35842",
   "metadata": {},
   "source": [
    "# Introduction to Community Modeling\n",
    "\n",
    "Author: Daniel Machado, NTNU\n",
    "\n",
    "License: [CC BY-SA 4.0](http://creativecommons.org/licenses/by-sa/4.0/)\n",
    "\n",
    "-------\n",
    "\n",
    "In this tutorial:\n",
    "\n",
    "- You will learn how to perform flux balance analysis of microbial communities\n",
    "using a model of the [central carbon metabolism of *E. coli*](https://journals.asm.org/doi/10.1128/ecosalplus.10.2.1).\n",
    "\n",
    "- You will use the [ReFramed](https://github.com/cdanielmachado/reframed) python library for metabolic modeling. "
   ]
  },
  {
   "cell_type": "code",
   "execution_count": 1,
   "id": "c7df26a9",
   "metadata": {},
   "outputs": [
    {
     "data": {
      "text/plain": [
       "{'gurobi': reframed.solvers.gurobi_solver.GurobiSolver,\n",
       " 'optlang': reframed.solvers.optlang_solver.OptLangSolver}"
      ]
     },
     "execution_count": 1,
     "metadata": {},
     "output_type": "execute_result"
    }
   ],
   "source": [
    "from reframed.solvers import solvers\n",
    "\n",
    "solvers"
   ]
  },
  {
   "cell_type": "markdown",
   "id": "edff9572",
   "metadata": {},
   "source": [
    "## Step 1: Setting up a community\n",
    "\n",
    "We will create a synthetic microbial consortium with two *E. coli* mutants growing in minimal medium. In one of the mutants we will knockout the glucose transporter and in the other we will knockout the ammonium transporter.\n",
    "\n",
    "![synthetic community](../files/synthetic_community.png)"
   ]
  },
  {
   "cell_type": "markdown",
   "id": "b5e4fe7b",
   "metadata": {},
   "source": [
    "As usual, we start by loading the model for the wild-type:"
   ]
  },
  {
   "cell_type": "code",
   "execution_count": 1,
   "id": "4fd366fe",
   "metadata": {},
   "outputs": [],
   "source": [
    "from reframed import load_cbmodel\n",
    "from cobra.io import read_sbml_model"
   ]
  },
  {
   "cell_type": "code",
   "execution_count": 2,
   "id": "4b73ecc5",
   "metadata": {},
   "outputs": [],
   "source": [
    "bt = load_cbmodel('../models/non-ec/ncbi_refseq/vpi5482.xml')"
   ]
  },
  {
   "cell_type": "code",
   "execution_count": 3,
   "id": "3a3c10da",
   "metadata": {},
   "outputs": [],
   "source": [
    "bu = load_cbmodel('../models/non-ec/ncbi_refseq/atcc8492.xml')"
   ]
  },
  {
   "cell_type": "code",
   "execution_count": 4,
   "id": "b9361f65",
   "metadata": {},
   "outputs": [],
   "source": [
    "ec = load_cbmodel('../models/non-ec/ncbi_refseq/ed1a.xml')"
   ]
  },
  {
   "cell_type": "code",
   "execution_count": 5,
   "id": "53f214a5",
   "metadata": {},
   "outputs": [],
   "source": [
    "cc = load_cbmodel('../models/non-ec/ncbi_refseq/atcc27758.xml')\n",
    "\n",
    "#fn = load_cbmodel('../models/non-ec/Fusobacterium_nucleatum_subsp_nucleatum_ATCC_25586.xml')\n",
    "\n",
    "ri = load_cbmodel('../models/non-ec/ncbi_refseq/l182.xml')\n",
    "\n",
    "sp = load_cbmodel('../models/non-ec/ncbi_refseq/atcc15912.xml')\n",
    "\n",
    "#ss = load_cbmodel('../models/non-ec/Streptococcus_salivarius_DSM_20560.xml')"
   ]
  },
  {
   "cell_type": "code",
   "execution_count": 6,
   "id": "91e413e9",
   "metadata": {},
   "outputs": [],
   "source": [
    "from reframed import Community\n",
    "community = Community('sample1', [bt,bu,ec,cc,ri,sp])"
   ]
  },
  {
   "cell_type": "markdown",
   "id": "a9cef7fa",
   "metadata": {},
   "source": [
    "This community model ignores the environmental conditions that were specified in the original models (since these could be very different). \n",
    "\n",
    "To make our life easier, we will extract the nutrient composition specified in the wild-type model to use later."
   ]
  },
  {
   "cell_type": "code",
   "execution_count": 7,
   "id": "1023c1fa",
   "metadata": {},
   "outputs": [
    {
     "name": "stdout",
     "output_type": "stream",
     "text": [
      "Environment compounds: 12ppd__S, 14glucan, 2ameph, 2m35mdntha, 2pglyc, 35dnta, 4abut, 5drib, 5mcsn, LalaDgluMdap, LalaLglu, Larab, R3hdec4e, R_3hdcaa, R_3hphxa, R_3hppta, R_3hpt, abg4, acald, acmana, actn__R, ad, ade, adn, ala__D, ala__L, alaala, alltn, anhgm, arab__L, arg__L, asn__L, aso3, aso4, asp__L, btn, bz, ca2, cellb, cgly, chol, chols, cit, cl, co2, coa, cobalt2, crn, csn, cu2, cys__L, cytd, d23hb, dad_2, dca, dcyt, dgsn, din, drib, duri, eths, fald, fe2, fe3, fe3dcit, fe3dhbzs3, fe3pyovd_kt, fol, fuc__L, g3pg, gal_bD, gal, galt, galur, gcald, glc__D, glcur, gln__L, glu__L, glucan4, glucan6, glutar, gly, glyb, glyc3p, gthox, gthrd, gua, h2, h2o2, h2o, h2s, h, ham, his__L, hxa, ile__L, indole, inost, isobuta, istfrnA, istfrnB, k, lac__D, lcts, leu__L, lipoate, lmn2, lys__L, lyx__L, m_xyl, mal__L, malttr, manttr, melib, meoh, met__D, met__L, metox__R, metox, mg2, mn2, n2o, ncam, nh4, no2, no, o2, ocdcea, octa, p_xyl, phe__L, phehpa, pheme, pheocta, pi, pime, ppap, ppi, pro__L, pta, ptrc, pydam, pydxn, pyovd_kt, raffin, rib__D, ribflv, rmn, salchs4, salchs4fe, sel, ser__L, slnt, so4, spmd, stfrnA, stfrnB, tartr__D, thm, thr__L, thym, thymd, tmam, tnt, tol, tre6p, trp__L, tyr__L, udcpdp, udcpp, ura, urea, uri, val__L, xan, xtsn, xyl3, xyl__D, xylan4, xylb, zn2\n"
     ]
    }
   ],
   "source": [
    "from reframed import Environment\n",
    "\n",
    "M9 = Environment.from_model(bt)\n",
    "\n",
    "print(f\"Environment compounds: {', '.join(M9.get_compounds())}\")"
   ]
  },
  {
   "cell_type": "code",
   "execution_count": 8,
   "id": "78e2c3ef",
   "metadata": {},
   "outputs": [
    {
     "data": {
      "text/plain": [
       "R_sink_4crsol_c\t0.0\tinf\n",
       "R_sink_4hba_c\t0.0\tinf\n",
       "R_sink_amob_c\t0.0\tinf\n",
       "R_sink_lipopb_c\t0.0\tinf\n",
       "R_EX_12ppd__S_e\t-inf\tinf\n",
       "R_EX_14glucan_e\t-inf\tinf\n",
       "R_EX_2ameph_e\t-inf\tinf\n",
       "R_EX_2m35mdntha_e\t-inf\tinf\n",
       "R_EX_2pglyc_e\t-inf\tinf\n",
       "R_EX_35dnta_e\t-inf\tinf\n",
       "R_EX_4abut_e\t-inf\tinf\n",
       "R_EX_5drib_e\t-inf\tinf\n",
       "R_EX_5mcsn_e\t-inf\tinf\n",
       "R_EX_LalaDgluMdap_e\t-inf\tinf\n",
       "R_EX_LalaLglu_e\t-inf\tinf\n",
       "R_EX_Larab_e\t-inf\tinf\n",
       "R_EX_R3hdec4e_e\t-inf\tinf\n",
       "R_EX_R_3hdcaa_e\t-inf\tinf\n",
       "R_EX_R_3hphxa_e\t-inf\tinf\n",
       "R_EX_R_3hppta_e\t-inf\tinf\n",
       "R_EX_R_3hpt_e\t-inf\tinf\n",
       "R_EX_abg4_e\t-inf\tinf\n",
       "R_EX_acald_e\t-inf\tinf\n",
       "R_EX_acmana_e\t-inf\tinf\n",
       "R_EX_actn__R_e\t-inf\tinf\n",
       "R_EX_ad_e\t-inf\tinf\n",
       "R_EX_ade_e\t-inf\tinf\n",
       "R_EX_adn_e\t-inf\tinf\n",
       "R_EX_ala__D_e\t-inf\tinf\n",
       "R_EX_ala__L_e\t-inf\tinf\n",
       "R_EX_alaala_e\t-inf\tinf\n",
       "R_EX_alltn_e\t-inf\tinf\n",
       "R_EX_anhgm_e\t-inf\tinf\n",
       "R_EX_arab__L_e\t-inf\tinf\n",
       "R_EX_arg__L_e\t-inf\tinf\n",
       "R_EX_asn__L_e\t-inf\tinf\n",
       "R_EX_aso3_e\t-inf\tinf\n",
       "R_EX_aso4_e\t-inf\tinf\n",
       "R_EX_asp__L_e\t-inf\tinf\n",
       "R_EX_btn_e\t-inf\tinf\n",
       "R_EX_bz_e\t-inf\tinf\n",
       "R_EX_ca2_e\t-inf\tinf\n",
       "R_EX_cellb_e\t-inf\tinf\n",
       "R_EX_cgly_e\t-inf\tinf\n",
       "R_EX_chol_e\t-inf\tinf\n",
       "R_EX_chols_e\t-inf\tinf\n",
       "R_EX_cit_e\t-inf\tinf\n",
       "R_EX_cl_e\t-inf\tinf\n",
       "R_EX_co2_e\t-inf\tinf\n",
       "R_EX_coa_e\t-inf\tinf\n",
       "R_EX_cobalt2_e\t-inf\tinf\n",
       "R_EX_crn_e\t-inf\tinf\n",
       "R_EX_csn_e\t-inf\tinf\n",
       "R_EX_cu2_e\t-inf\tinf\n",
       "R_EX_cys__L_e\t-inf\tinf\n",
       "R_EX_cytd_e\t-inf\tinf\n",
       "R_EX_d23hb_e\t-inf\tinf\n",
       "R_EX_dad_2_e\t-inf\tinf\n",
       "R_EX_dca_e\t-inf\tinf\n",
       "R_EX_dcyt_e\t-inf\tinf\n",
       "R_EX_dgsn_e\t-inf\tinf\n",
       "R_EX_din_e\t-inf\tinf\n",
       "R_EX_drib_e\t-inf\tinf\n",
       "R_EX_duri_e\t-inf\tinf\n",
       "R_EX_eths_e\t-inf\tinf\n",
       "R_EX_fald_e\t-inf\tinf\n",
       "R_EX_fe2_e\t-inf\tinf\n",
       "R_EX_fe3_e\t-inf\tinf\n",
       "R_EX_fe3dcit_e\t-inf\tinf\n",
       "R_EX_fe3dhbzs3_e\t-inf\tinf\n",
       "R_EX_fe3pyovd_kt_e\t-inf\tinf\n",
       "R_EX_fol_e\t-inf\tinf\n",
       "R_EX_fuc__L_e\t-inf\tinf\n",
       "R_EX_g3pg_e\t-inf\tinf\n",
       "R_EX_gal_bD_e\t-inf\tinf\n",
       "R_EX_gal_e\t-inf\tinf\n",
       "R_EX_galt_e\t-inf\tinf\n",
       "R_EX_galur_e\t-inf\tinf\n",
       "R_EX_gcald_e\t-inf\tinf\n",
       "R_EX_glc__D_e\t-inf\tinf\n",
       "R_EX_glcur_e\t-inf\tinf\n",
       "R_EX_gln__L_e\t-inf\tinf\n",
       "R_EX_glu__L_e\t-inf\tinf\n",
       "R_EX_glucan4_e\t-inf\tinf\n",
       "R_EX_glucan6_e\t-inf\tinf\n",
       "R_EX_glutar_e\t-inf\tinf\n",
       "R_EX_gly_e\t-inf\tinf\n",
       "R_EX_glyb_e\t-inf\tinf\n",
       "R_EX_glyc3p_e\t-inf\tinf\n",
       "R_EX_gthox_e\t-inf\tinf\n",
       "R_EX_gthrd_e\t-inf\tinf\n",
       "R_EX_gua_e\t-inf\tinf\n",
       "R_EX_h2_e\t-inf\tinf\n",
       "R_EX_h2o2_e\t-inf\tinf\n",
       "R_EX_h2o_e\t-inf\tinf\n",
       "R_EX_h2s_e\t-inf\tinf\n",
       "R_EX_h_e\t-inf\tinf\n",
       "R_EX_ham_e\t-inf\tinf\n",
       "R_EX_his__L_e\t-inf\tinf\n",
       "R_EX_hxa_e\t-inf\tinf\n",
       "R_EX_ile__L_e\t-inf\tinf\n",
       "R_EX_indole_e\t-inf\tinf\n",
       "R_EX_inost_e\t-inf\tinf\n",
       "R_EX_isobuta_e\t-inf\tinf\n",
       "R_EX_istfrnA_e\t-inf\tinf\n",
       "R_EX_istfrnB_e\t-inf\tinf\n",
       "R_EX_k_e\t-inf\tinf\n",
       "R_EX_lac__D_e\t-inf\tinf\n",
       "R_EX_lcts_e\t-inf\tinf\n",
       "R_EX_leu__L_e\t-inf\tinf\n",
       "R_EX_lipoate_e\t-inf\tinf\n",
       "R_EX_lmn2_e\t-inf\tinf\n",
       "R_EX_lys__L_e\t-inf\tinf\n",
       "R_EX_lyx__L_e\t-inf\tinf\n",
       "R_EX_m_xyl_e\t-inf\tinf\n",
       "R_EX_mal__L_e\t-inf\tinf\n",
       "R_EX_malttr_e\t-inf\tinf\n",
       "R_EX_manttr_e\t-inf\tinf\n",
       "R_EX_melib_e\t-inf\tinf\n",
       "R_EX_meoh_e\t-inf\tinf\n",
       "R_EX_met__D_e\t-inf\tinf\n",
       "R_EX_met__L_e\t-inf\tinf\n",
       "R_EX_metox__R_e\t-inf\tinf\n",
       "R_EX_metox_e\t-inf\tinf\n",
       "R_EX_mg2_e\t-inf\tinf\n",
       "R_EX_mn2_e\t-inf\tinf\n",
       "R_EX_n2o_e\t-inf\tinf\n",
       "R_EX_ncam_e\t-inf\tinf\n",
       "R_EX_nh4_e\t-inf\tinf\n",
       "R_EX_no2_e\t-inf\tinf\n",
       "R_EX_no_e\t-inf\tinf\n",
       "R_EX_o2_e\t-inf\tinf\n",
       "R_EX_ocdcea_e\t-inf\tinf\n",
       "R_EX_octa_e\t-inf\tinf\n",
       "R_EX_p_xyl_e\t-inf\tinf\n",
       "R_EX_phe__L_e\t-inf\tinf\n",
       "R_EX_phehpa_e\t-inf\tinf\n",
       "R_EX_pheme_e\t-inf\tinf\n",
       "R_EX_pheocta_e\t-inf\tinf\n",
       "R_EX_pi_e\t-inf\tinf\n",
       "R_EX_pime_e\t-inf\tinf\n",
       "R_EX_ppap_e\t-inf\tinf\n",
       "R_EX_ppi_e\t-inf\tinf\n",
       "R_EX_pro__L_e\t-inf\tinf\n",
       "R_EX_pta_e\t-inf\tinf\n",
       "R_EX_ptrc_e\t-inf\tinf\n",
       "R_EX_pydam_e\t-inf\tinf\n",
       "R_EX_pydxn_e\t-inf\tinf\n",
       "R_EX_pyovd_kt_e\t-inf\tinf\n",
       "R_EX_raffin_e\t-inf\tinf\n",
       "R_EX_rib__D_e\t-inf\tinf\n",
       "R_EX_ribflv_e\t-inf\tinf\n",
       "R_EX_rmn_e\t-inf\tinf\n",
       "R_EX_salchs4_e\t-inf\tinf\n",
       "R_EX_salchs4fe_e\t-inf\tinf\n",
       "R_EX_sel_e\t-inf\tinf\n",
       "R_EX_ser__L_e\t-inf\tinf\n",
       "R_EX_slnt_e\t-inf\tinf\n",
       "R_EX_so4_e\t-inf\tinf\n",
       "R_EX_spmd_e\t-inf\tinf\n",
       "R_EX_stfrnA_e\t-inf\tinf\n",
       "R_EX_stfrnB_e\t-inf\tinf\n",
       "R_EX_tartr__D_e\t-inf\tinf\n",
       "R_EX_thm_e\t-inf\tinf\n",
       "R_EX_thr__L_e\t-inf\tinf\n",
       "R_EX_thym_e\t-inf\tinf\n",
       "R_EX_thymd_e\t-inf\tinf\n",
       "R_EX_tmam_e\t-inf\tinf\n",
       "R_EX_tnt_e\t-inf\tinf\n",
       "R_EX_tol_e\t-inf\tinf\n",
       "R_EX_tre6p_e\t-inf\tinf\n",
       "R_EX_trp__L_e\t-inf\tinf\n",
       "R_EX_tyr__L_e\t-inf\tinf\n",
       "R_EX_udcpdp_e\t-inf\tinf\n",
       "R_EX_udcpp_e\t-inf\tinf\n",
       "R_EX_ura_e\t-inf\tinf\n",
       "R_EX_urea_e\t-inf\tinf\n",
       "R_EX_uri_e\t-inf\tinf\n",
       "R_EX_val__L_e\t-inf\tinf\n",
       "R_EX_xan_e\t-inf\tinf\n",
       "R_EX_xtsn_e\t-inf\tinf\n",
       "R_EX_xyl3_e\t-inf\tinf\n",
       "R_EX_xyl__D_e\t-inf\tinf\n",
       "R_EX_xylan4_e\t-inf\tinf\n",
       "R_EX_xylb_e\t-inf\tinf\n",
       "R_EX_zn2_e\t-inf\tinf"
      ]
     },
     "execution_count": 8,
     "metadata": {},
     "output_type": "execute_result"
    }
   ],
   "source": [
    "M9"
   ]
  },
  {
   "cell_type": "markdown",
   "id": "a4829b00",
   "metadata": {},
   "source": [
    "## Step 2: Simulation using (conventional) FBA\n",
    "\n",
    "A very simple way to simulate a microbial community is to merge the individual models into a single model that mimics a \"super organism\", where each microbe lives inside its own compartment, and run a (conventional) FBA simulation for this *super organism*."
   ]
  },
  {
   "cell_type": "code",
   "execution_count": 9,
   "id": "d6bf03b6",
   "metadata": {},
   "outputs": [
    {
     "name": "stdout",
     "output_type": "stream",
     "text": [
      "Set parameter Username\n",
      "Objective: None\n",
      "Status: Infeasible or Unbounded\n",
      "\n"
     ]
    },
    {
     "name": "stderr",
     "output_type": "stream",
     "text": [
      "/home/mmartins/anaconda3/envs/tmcom/lib/python3.9/site-packages/reframed/solvers/gurobi_solver.py:236: UserWarning: Constrained variable 'R_sink_4crsol_c' not previously declared\n",
      "  warn(f\"Constrained variable '{r_id}' not previously declared\")\n",
      "/home/mmartins/anaconda3/envs/tmcom/lib/python3.9/site-packages/reframed/solvers/gurobi_solver.py:236: UserWarning: Constrained variable 'R_sink_4hba_c' not previously declared\n",
      "  warn(f\"Constrained variable '{r_id}' not previously declared\")\n",
      "/home/mmartins/anaconda3/envs/tmcom/lib/python3.9/site-packages/reframed/solvers/gurobi_solver.py:236: UserWarning: Constrained variable 'R_sink_amob_c' not previously declared\n",
      "  warn(f\"Constrained variable '{r_id}' not previously declared\")\n",
      "/home/mmartins/anaconda3/envs/tmcom/lib/python3.9/site-packages/reframed/solvers/gurobi_solver.py:236: UserWarning: Constrained variable 'R_sink_lipopb_c' not previously declared\n",
      "  warn(f\"Constrained variable '{r_id}' not previously declared\")\n"
     ]
    }
   ],
   "source": [
    "from reframed import FBA\n",
    "\n",
    "super_organism = community.merged_model\n",
    "solution = FBA(super_organism, constraints=M9)\n",
    "\n",
    "print(solution)\n",
    "solution.show_values(pattern='R_EX')"
   ]
  },
  {
   "cell_type": "markdown",
   "id": "704355a9",
   "metadata": {},
   "source": [
    "We can see that the model predicts a growth rate (total biomass per hour) similar to the wild-type, with an efficient consumption of glucose and ammonia that results in respiratory metabolism.\n",
    "\n",
    "But what is each organism doing, and are both organisms actually growing at the same rate?\n",
    "\n",
    "Let's print the (non-zero) fluxes for each organism:"
   ]
  },
  {
   "cell_type": "code",
   "execution_count": 10,
   "id": "2d758d23",
   "metadata": {},
   "outputs": [],
   "source": [
    "solution.show_values(pattern='_ec', sort=True)"
   ]
  },
  {
   "cell_type": "code",
   "execution_count": 11,
   "id": "c131b0f4",
   "metadata": {},
   "outputs": [],
   "source": [
    "solution.show_values(pattern='_nh4_ko', sort=True)"
   ]
  },
  {
   "cell_type": "code",
   "execution_count": 58,
   "id": "61092ad2",
   "metadata": {},
   "outputs": [
    {
     "name": "stdout",
     "output_type": "stream",
     "text": [
      "\n"
     ]
    }
   ],
   "source": [
    "solution.show_values(pattern='_bt', sort=True)"
   ]
  },
  {
   "cell_type": "markdown",
   "id": "f6aebbfb",
   "metadata": {},
   "source": [
    "## Step 3: Community Simulation with SteadyCom"
   ]
  },
  {
   "cell_type": "markdown",
   "id": "7b47083e",
   "metadata": {},
   "source": [
    "**SteadyCom** by [Chan, et al (2017)](https://journals.plos.org/ploscompbiol/article?id=10.1371/journal.pcbi.1005539) is a recent community simulation method that takes into account the fact that to reach a stable composition the organisms need to grow at the same *specific growth rate* (1/h), which means that the *absolute growth rate* (gDW/h) of each organism is proportional to its *abundance* at steady-state (gDW).\n",
    "\n",
    "Let's simulate the same community using SteadyCom:"
   ]
  },
  {
   "cell_type": "code",
   "execution_count": 59,
   "id": "2214667c",
   "metadata": {},
   "outputs": [
    {
     "ename": "AttributeError",
     "evalue": "'gurobipy.Model' object has no attribute 'linear_constraints'",
     "output_type": "error",
     "traceback": [
      "\u001b[0;31m---------------------------------------------------------------------------\u001b[0m",
      "\u001b[0;31mAttributeError\u001b[0m                            Traceback (most recent call last)",
      "Cell \u001b[0;32mIn[59], line 2\u001b[0m\n\u001b[1;32m      1\u001b[0m \u001b[38;5;28;01mfrom\u001b[39;00m \u001b[38;5;21;01mreframed\u001b[39;00m \u001b[38;5;28;01mimport\u001b[39;00m SteadyCom\n\u001b[0;32m----> 2\u001b[0m solution \u001b[38;5;241m=\u001b[39m \u001b[43mSteadyCom\u001b[49m\u001b[43m(\u001b[49m\u001b[43mcommunity\u001b[49m\u001b[43m,\u001b[49m\u001b[43m \u001b[49m\u001b[43mconstraints\u001b[49m\u001b[38;5;241;43m=\u001b[39;49m\u001b[43mM9\u001b[49m\u001b[43m)\u001b[49m\n",
      "File \u001b[0;32m~/anaconda3/envs/tmcom/lib/python3.9/site-packages/reframed/community/SteadyCom.py:26\u001b[0m, in \u001b[0;36mSteadyCom\u001b[0;34m(community, constraints, solver)\u001b[0m\n\u001b[1;32m     22\u001b[0m     solver \u001b[38;5;241m=\u001b[39m build_problem(community)\n\u001b[1;32m     24\u001b[0m objective \u001b[38;5;241m=\u001b[39m {community\u001b[38;5;241m.\u001b[39mmerged_model\u001b[38;5;241m.\u001b[39mbiomass_reaction: \u001b[38;5;241m1\u001b[39m}\n\u001b[0;32m---> 26\u001b[0m sol \u001b[38;5;241m=\u001b[39m \u001b[43mbinary_search\u001b[49m\u001b[43m(\u001b[49m\u001b[43msolver\u001b[49m\u001b[43m,\u001b[49m\u001b[43m \u001b[49m\u001b[43mobjective\u001b[49m\u001b[43m,\u001b[49m\u001b[43m \u001b[49m\u001b[43mminimize\u001b[49m\u001b[38;5;241;43m=\u001b[39;49m\u001b[38;5;28;43;01mFalse\u001b[39;49;00m\u001b[43m,\u001b[49m\u001b[43m \u001b[49m\u001b[43mconstraints\u001b[49m\u001b[38;5;241;43m=\u001b[39;49m\u001b[43mconstraints\u001b[49m\u001b[43m)\u001b[49m\n\u001b[1;32m     28\u001b[0m solution \u001b[38;5;241m=\u001b[39m CommunitySolution(community, sol\u001b[38;5;241m.\u001b[39mvalues)\n\u001b[1;32m     29\u001b[0m solution\u001b[38;5;241m.\u001b[39msolver \u001b[38;5;241m=\u001b[39m solver\n",
      "File \u001b[0;32m~/anaconda3/envs/tmcom/lib/python3.9/site-packages/reframed/community/SteadyCom.py:156\u001b[0m, in \u001b[0;36mbinary_search\u001b[0;34m(solver, objective, obj_frac, minimize, max_iters, abs_tol, constraints)\u001b[0m\n\u001b[1;32m    153\u001b[0m         fold \u001b[38;5;241m=\u001b[39m \u001b[38;5;241m0.5\u001b[39m\n\u001b[1;32m    154\u001b[0m     value \u001b[38;5;241m=\u001b[39m fold\u001b[38;5;241m*\u001b[39mdiff \u001b[38;5;241m+\u001b[39m previous_value\n\u001b[0;32m--> 156\u001b[0m \u001b[43msolver\u001b[49m\u001b[38;5;241;43m.\u001b[39;49m\u001b[43mupdate_growth\u001b[49m\u001b[43m(\u001b[49m\u001b[43mvalue\u001b[49m\u001b[43m)\u001b[49m\n\u001b[1;32m    157\u001b[0m sol \u001b[38;5;241m=\u001b[39m solver\u001b[38;5;241m.\u001b[39msolve(objective, get_values\u001b[38;5;241m=\u001b[39m\u001b[38;5;28;01mFalse\u001b[39;00m, minimize\u001b[38;5;241m=\u001b[39mminimize, constraints\u001b[38;5;241m=\u001b[39mconstraints)\n\u001b[1;32m    159\u001b[0m feasible \u001b[38;5;241m=\u001b[39m sol\u001b[38;5;241m.\u001b[39mstatus \u001b[38;5;241m==\u001b[39m Status\u001b[38;5;241m.\u001b[39mOPTIMAL\n",
      "File \u001b[0;32m~/anaconda3/envs/tmcom/lib/python3.9/site-packages/reframed/community/SteadyCom.py:126\u001b[0m, in \u001b[0;36mbuild_problem.<locals>.update_growth\u001b[0;34m(value)\u001b[0m\n\u001b[1;32m    123\u001b[0m \u001b[38;5;28;01mdef\u001b[39;00m \u001b[38;5;21mupdate_growth\u001b[39m(value):\n\u001b[1;32m    124\u001b[0m     \u001b[38;5;66;03m# TODO: find a solution that is not CPLEX specific\u001b[39;00m\n\u001b[1;32m    125\u001b[0m     coefficients \u001b[38;5;241m=\u001b[39m [(\u001b[38;5;124mf\u001b[39m\u001b[38;5;124m\"\u001b[39m\u001b[38;5;124mg_\u001b[39m\u001b[38;5;132;01m{\u001b[39;00mx\u001b[38;5;132;01m}\u001b[39;00m\u001b[38;5;124m\"\u001b[39m, \u001b[38;5;124mf\u001b[39m\u001b[38;5;124m\"\u001b[39m\u001b[38;5;124mx_\u001b[39m\u001b[38;5;132;01m{\u001b[39;00mx\u001b[38;5;132;01m}\u001b[39;00m\u001b[38;5;124m\"\u001b[39m, value) \u001b[38;5;28;01mfor\u001b[39;00m x \u001b[38;5;129;01min\u001b[39;00m community\u001b[38;5;241m.\u001b[39morganisms]\n\u001b[0;32m--> 126\u001b[0m     \u001b[43msolver\u001b[49m\u001b[38;5;241;43m.\u001b[39;49m\u001b[43mproblem\u001b[49m\u001b[38;5;241;43m.\u001b[39;49m\u001b[43mlinear_constraints\u001b[49m\u001b[38;5;241m.\u001b[39mset_coefficients(coefficients)\n",
      "File \u001b[0;32msrc/gurobipy/model.pxi:357\u001b[0m, in \u001b[0;36mgurobipy.Model.__getattr__\u001b[0;34m()\u001b[0m\n",
      "File \u001b[0;32msrc/gurobipy/model.pxi:1855\u001b[0m, in \u001b[0;36mgurobipy.Model.getAttr\u001b[0;34m()\u001b[0m\n",
      "File \u001b[0;32msrc/gurobipy/attrutil.pxi:23\u001b[0m, in \u001b[0;36mgurobipy.__getattrinfo\u001b[0;34m()\u001b[0m\n",
      "\u001b[0;31mAttributeError\u001b[0m: 'gurobipy.Model' object has no attribute 'linear_constraints'"
     ]
    }
   ],
   "source": [
    "from reframed import SteadyCom\n",
    "solution = SteadyCom(community, constraints=M9)"
   ]
  },
  {
   "cell_type": "markdown",
   "id": "3110d63f",
   "metadata": {},
   "source": [
    "Actually it seems that only one of the organisms is growing while the other has an active metabolism (it exchanges metabolites with the environment and with the other organism) performing the role of a bioconverter, but none of the flux is used for growth. \n",
    "\n",
    "> Do you think this would be a stable consortium ?"
   ]
  },
  {
   "cell_type": "markdown",
   "id": "6e02ca07",
   "metadata": {},
   "source": [
    "In this case the solution object shows the overall community growth rate and the relative abundance of each species:"
   ]
  },
  {
   "cell_type": "code",
   "execution_count": 37,
   "id": "9353ec4a",
   "metadata": {},
   "outputs": [
    {
     "name": "stdout",
     "output_type": "stream",
     "text": [
      "Objective: -0.0\n",
      "Status: Optimal\n",
      "\n"
     ]
    }
   ],
   "source": [
    "print(solution)"
   ]
  },
  {
   "cell_type": "markdown",
   "id": "86f91b4a",
   "metadata": {},
   "source": [
    "The `solution` object for community simulations implements a few additional features, such as enumerating all the cross-feeding interactions:"
   ]
  },
  {
   "cell_type": "code",
   "execution_count": null,
   "id": "e5b8887e",
   "metadata": {},
   "outputs": [],
   "source": [
    "solution.cross_feeding(as_df=True).dropna().sort_values('rate', ascending=False)"
   ]
  },
  {
   "cell_type": "markdown",
   "id": "c61d9f30",
   "metadata": {},
   "source": [
    "We can plot the fluxes of each mutant in a map to help with interpretation of the results:"
   ]
  },
  {
   "cell_type": "code",
   "execution_count": 38,
   "id": "26e96715",
   "metadata": {
    "scrolled": true
   },
   "outputs": [
    {
     "ename": "AttributeError",
     "evalue": "'Solution' object has no attribute 'internal'",
     "output_type": "error",
     "traceback": [
      "\u001b[0;31m---------------------------------------------------------------------------\u001b[0m",
      "\u001b[0;31mAttributeError\u001b[0m                            Traceback (most recent call last)",
      "Cell \u001b[0;32mIn[38], line 2\u001b[0m\n\u001b[1;32m      1\u001b[0m \u001b[38;5;28;01mfrom\u001b[39;00m \u001b[38;5;21;01mreframed\u001b[39;00m \u001b[38;5;28;01mimport\u001b[39;00m fluxes2escher\n\u001b[0;32m----> 2\u001b[0m fluxes2escher(\u001b[43msolution\u001b[49m\u001b[38;5;241;43m.\u001b[39;49m\u001b[43minternal\u001b[49m[\u001b[38;5;124m'\u001b[39m\u001b[38;5;124mglc_ko\u001b[39m\u001b[38;5;124m'\u001b[39m])\n",
      "\u001b[0;31mAttributeError\u001b[0m: 'Solution' object has no attribute 'internal'"
     ]
    }
   ],
   "source": [
    "from reframed import fluxes2escher\n",
    "fluxes2escher(solution.internal['glc_ko'])"
   ]
  },
  {
   "cell_type": "code",
   "execution_count": null,
   "id": "433e35b3",
   "metadata": {},
   "outputs": [],
   "source": [
    "fluxes2escher(solution.internal['nh4_ko'])"
   ]
  },
  {
   "cell_type": "markdown",
   "id": "676db548",
   "metadata": {},
   "source": [
    "**Exercise:** Look more closely at the compounds that are exchanged between the two mutants and also at their relative abundance. Is this what you expected? Do you think there could be different solutions?"
   ]
  },
  {
   "cell_type": "markdown",
   "id": "9de7dc40",
   "metadata": {},
   "source": [
    "## Step 4: Explore alternative solutions\n",
    "\n",
    "Unfortunately, one limitation of **SteadyCom**, which is exemplified by [Chan, et al (2017)](https://journals.plos.org/ploscompbiol/article?id=10.1371/journal.pcbi.1005539) in Figure 3 (reproduced below), is the variability in the solution space when the community is not growing at the maximum (theoretical) growth rate.\n",
    "\n",
    "![variability](../files/steadycom_variability.png)\n",
    "\n",
    "> Would you expect a synthetic community to grow at its maximum growth rate?\n",
    "\n",
    "**ReFramed** implements a variability analysis function for the SteadyCom solution space, let's see what happens if the community is growing at 90% of the theoretical maximum:"
   ]
  },
  {
   "cell_type": "code",
   "execution_count": null,
   "id": "215c90de",
   "metadata": {},
   "outputs": [],
   "source": [
    "from reframed import SteadyComVA\n",
    "variability = SteadyComVA(community, obj_frac=0.9, constraints=M9)\n",
    "\n",
    "print('Strain\\tMin\\tMax')\n",
    "for strain, (lower, upper) in variability.items():\n",
    "    print(f'{strain}\\t{lower:.1%}\\t{upper:.1%}')"
   ]
  },
  {
   "cell_type": "markdown",
   "id": "e2c8b384",
   "metadata": {},
   "source": [
    "As you can see, there is a really large variability in this solution space. This means that we know in theory the two mutants **can** cooperate and survive in minimal media, but there is still a lot of uncertainty with regard to **how** they will achieve a stable consortium.\n",
    "\n",
    "> How do you think we can reduce this uncertainty?"
   ]
  },
  {
   "cell_type": "code",
   "execution_count": null,
   "id": "34220805",
   "metadata": {},
   "outputs": [],
   "source": [
    "# Feel free to play around with these examples.\n",
    "# Type your own code here..."
   ]
  }
 ],
 "metadata": {
  "kernelspec": {
   "display_name": "Python 3 (ipykernel)",
   "language": "python",
   "name": "python3"
  },
  "language_info": {
   "codemirror_mode": {
    "name": "ipython",
    "version": 3
   },
   "file_extension": ".py",
   "mimetype": "text/x-python",
   "name": "python",
   "nbconvert_exporter": "python",
   "pygments_lexer": "ipython3",
   "version": "3.9.12"
  }
 },
 "nbformat": 4,
 "nbformat_minor": 5
}

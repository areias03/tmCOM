{
 "cells": [
  {
   "cell_type": "markdown",
   "id": "4ef35842",
   "metadata": {},
   "source": [
    "# Introduction to Community Modeling\n",
    "\n",
    "Author: Daniel Machado, NTNU\n",
    "\n",
    "License: [CC BY-SA 4.0](http://creativecommons.org/licenses/by-sa/4.0/)\n",
    "\n",
    "-------\n",
    "\n",
    "In this tutorial:\n",
    "\n",
    "- You will learn how to perform flux balance analysis of microbial communities\n",
    "using a model of the [central carbon metabolism of *E. coli*](https://journals.asm.org/doi/10.1128/ecosalplus.10.2.1).\n",
    "\n",
    "- You will use the [ReFramed](https://github.com/cdanielmachado/reframed) python library for metabolic modeling. "
   ]
  },
  {
   "cell_type": "code",
   "execution_count": 1,
   "id": "c7df26a9",
   "metadata": {},
   "outputs": [
    {
     "data": {
      "text/plain": [
       "{'gurobi': reframed.solvers.gurobi_solver.GurobiSolver,\n",
       " 'optlang': reframed.solvers.optlang_solver.OptLangSolver}"
      ]
     },
     "execution_count": 1,
     "metadata": {},
     "output_type": "execute_result"
    }
   ],
   "source": [
    "from reframed.solvers import solvers\n",
    "\n",
    "solvers"
   ]
  },
  {
   "cell_type": "markdown",
   "id": "edff9572",
   "metadata": {},
   "source": [
    "## Step 1: Setting up a community\n",
    "\n",
    "We will create a synthetic microbial consortium with two *E. coli* mutants growing in minimal medium. In one of the mutants we will knockout the glucose transporter and in the other we will knockout the ammonium transporter.\n",
    "\n",
    "![synthetic community](../files/synthetic_community.png)"
   ]
  },
  {
   "cell_type": "markdown",
   "id": "b5e4fe7b",
   "metadata": {},
   "source": [
    "As usual, we start by loading the model for the wild-type:"
   ]
  },
  {
   "cell_type": "code",
   "execution_count": 44,
   "id": "4fd366fe",
   "metadata": {},
   "outputs": [],
   "source": [
    "from reframed import load_cbmodel\n",
    "wildtype = load_cbmodel('../models/non-ec/e_coli_core.xml.gz')"
   ]
  },
  {
   "cell_type": "code",
   "execution_count": 45,
   "id": "f334ec8b",
   "metadata": {},
   "outputs": [],
   "source": [
    "bt = load_cbmodel('../models/non-ec/Bacteroides_thetaiotaomicron_VPI_5482.xml')"
   ]
  },
  {
   "cell_type": "code",
   "execution_count": 26,
   "id": "f8c6d0e0",
   "metadata": {},
   "outputs": [],
   "source": [
    "bu = load_cbmodel('../models/non-ec/Bacteroides_uniformis_ATCC_8492.xml')"
   ]
  },
  {
   "cell_type": "code",
   "execution_count": 31,
   "id": "9aa4f97a",
   "metadata": {},
   "outputs": [],
   "source": [
    "ec = load_cbmodel('../models/non-ec/Escherichia_coli_ED1a.xml')"
   ]
  },
  {
   "cell_type": "markdown",
   "id": "d4c64668",
   "metadata": {},
   "source": [
    "Now we create our two mutants (`glc_ko` and `nh4_ko`):"
   ]
  },
  {
   "cell_type": "code",
   "execution_count": 32,
   "id": "196680b4",
   "metadata": {},
   "outputs": [],
   "source": [
    "glc_ko = wildtype.copy()\n",
    "glc_ko.id = 'glc_ko'\n",
    "glc_ko.set_flux_bounds('R_GLCpts', 0, 0)\n",
    "\n",
    "nh4_ko = wildtype.copy()\n",
    "nh4_ko.id = 'nh4_ko'\n",
    "nh4_ko.set_flux_bounds('R_NH4t', 0, 0)"
   ]
  },
  {
   "cell_type": "markdown",
   "id": "949323a8",
   "metadata": {},
   "source": [
    "**ReFramed** has some basic functionality for working with microbial communities, one is the `Community` class to create microbial communities from a list of models of individual species: "
   ]
  },
  {
   "cell_type": "code",
   "execution_count": 40,
   "id": "91e413e9",
   "metadata": {},
   "outputs": [],
   "source": [
    "from reframed import Community\n",
    "community = Community('ecoli_pair', [bt,bu,ec])"
   ]
  },
  {
   "cell_type": "markdown",
   "id": "a9cef7fa",
   "metadata": {},
   "source": [
    "This community model ignores the environmental conditions that were specified in the original models (since these could be very different). \n",
    "\n",
    "To make our life easier, we will extract the nutrient composition specified in the wild-type model to use later."
   ]
  },
  {
   "cell_type": "code",
   "execution_count": 41,
   "id": "ce86dddd",
   "metadata": {},
   "outputs": [
    {
     "name": "stdout",
     "output_type": "stream",
     "text": [
      "Environment compounds: co2, glc__D, h, h2o, nh4, o2, pi\n"
     ]
    }
   ],
   "source": [
    "from reframed import Environment\n",
    "\n",
    "M9 = Environment.from_model(wildtype)\n",
    "\n",
    "print(f\"Environment compounds: {', '.join(M9.get_compounds())}\")"
   ]
  },
  {
   "cell_type": "markdown",
   "id": "a4829b00",
   "metadata": {},
   "source": [
    "## Step 2: Simulation using (conventional) FBA\n",
    "\n",
    "A very simple way to simulate a microbial community is to merge the individual models into a single model that mimics a \"super organism\", where each microbe lives inside its own compartment, and run a (conventional) FBA simulation for this *super organism*."
   ]
  },
  {
   "cell_type": "code",
   "execution_count": 42,
   "id": "d6bf03b6",
   "metadata": {},
   "outputs": [
    {
     "name": "stdout",
     "output_type": "stream",
     "text": [
      "Objective: -0.0\n",
      "Status: Optimal\n",
      "\n",
      "\n"
     ]
    },
    {
     "name": "stderr",
     "output_type": "stream",
     "text": [
      "/home/mmartins/anaconda3/envs/tmcom/lib/python3.9/site-packages/reframed/solvers/gurobi_solver.py:236: UserWarning: Constrained variable 'R_EX_ac_e' not previously declared\n",
      "  warn(f\"Constrained variable '{r_id}' not previously declared\")\n",
      "/home/mmartins/anaconda3/envs/tmcom/lib/python3.9/site-packages/reframed/solvers/gurobi_solver.py:236: UserWarning: Constrained variable 'R_EX_acald_e' not previously declared\n",
      "  warn(f\"Constrained variable '{r_id}' not previously declared\")\n",
      "/home/mmartins/anaconda3/envs/tmcom/lib/python3.9/site-packages/reframed/solvers/gurobi_solver.py:236: UserWarning: Constrained variable 'R_EX_akg_e' not previously declared\n",
      "  warn(f\"Constrained variable '{r_id}' not previously declared\")\n",
      "/home/mmartins/anaconda3/envs/tmcom/lib/python3.9/site-packages/reframed/solvers/gurobi_solver.py:236: UserWarning: Constrained variable 'R_EX_co2_e' not previously declared\n",
      "  warn(f\"Constrained variable '{r_id}' not previously declared\")\n",
      "/home/mmartins/anaconda3/envs/tmcom/lib/python3.9/site-packages/reframed/solvers/gurobi_solver.py:236: UserWarning: Constrained variable 'R_EX_etoh_e' not previously declared\n",
      "  warn(f\"Constrained variable '{r_id}' not previously declared\")\n",
      "/home/mmartins/anaconda3/envs/tmcom/lib/python3.9/site-packages/reframed/solvers/gurobi_solver.py:236: UserWarning: Constrained variable 'R_EX_for_e' not previously declared\n",
      "  warn(f\"Constrained variable '{r_id}' not previously declared\")\n",
      "/home/mmartins/anaconda3/envs/tmcom/lib/python3.9/site-packages/reframed/solvers/gurobi_solver.py:236: UserWarning: Constrained variable 'R_EX_fru_e' not previously declared\n",
      "  warn(f\"Constrained variable '{r_id}' not previously declared\")\n",
      "/home/mmartins/anaconda3/envs/tmcom/lib/python3.9/site-packages/reframed/solvers/gurobi_solver.py:236: UserWarning: Constrained variable 'R_EX_fum_e' not previously declared\n",
      "  warn(f\"Constrained variable '{r_id}' not previously declared\")\n",
      "/home/mmartins/anaconda3/envs/tmcom/lib/python3.9/site-packages/reframed/solvers/gurobi_solver.py:236: UserWarning: Constrained variable 'R_EX_glc__D_e' not previously declared\n",
      "  warn(f\"Constrained variable '{r_id}' not previously declared\")\n",
      "/home/mmartins/anaconda3/envs/tmcom/lib/python3.9/site-packages/reframed/solvers/gurobi_solver.py:236: UserWarning: Constrained variable 'R_EX_gln__L_e' not previously declared\n",
      "  warn(f\"Constrained variable '{r_id}' not previously declared\")\n",
      "/home/mmartins/anaconda3/envs/tmcom/lib/python3.9/site-packages/reframed/solvers/gurobi_solver.py:236: UserWarning: Constrained variable 'R_EX_glu__L_e' not previously declared\n",
      "  warn(f\"Constrained variable '{r_id}' not previously declared\")\n",
      "/home/mmartins/anaconda3/envs/tmcom/lib/python3.9/site-packages/reframed/solvers/gurobi_solver.py:236: UserWarning: Constrained variable 'R_EX_h_e' not previously declared\n",
      "  warn(f\"Constrained variable '{r_id}' not previously declared\")\n",
      "/home/mmartins/anaconda3/envs/tmcom/lib/python3.9/site-packages/reframed/solvers/gurobi_solver.py:236: UserWarning: Constrained variable 'R_EX_h2o_e' not previously declared\n",
      "  warn(f\"Constrained variable '{r_id}' not previously declared\")\n",
      "/home/mmartins/anaconda3/envs/tmcom/lib/python3.9/site-packages/reframed/solvers/gurobi_solver.py:236: UserWarning: Constrained variable 'R_EX_lac__D_e' not previously declared\n",
      "  warn(f\"Constrained variable '{r_id}' not previously declared\")\n",
      "/home/mmartins/anaconda3/envs/tmcom/lib/python3.9/site-packages/reframed/solvers/gurobi_solver.py:236: UserWarning: Constrained variable 'R_EX_mal__L_e' not previously declared\n",
      "  warn(f\"Constrained variable '{r_id}' not previously declared\")\n",
      "/home/mmartins/anaconda3/envs/tmcom/lib/python3.9/site-packages/reframed/solvers/gurobi_solver.py:236: UserWarning: Constrained variable 'R_EX_nh4_e' not previously declared\n",
      "  warn(f\"Constrained variable '{r_id}' not previously declared\")\n",
      "/home/mmartins/anaconda3/envs/tmcom/lib/python3.9/site-packages/reframed/solvers/gurobi_solver.py:236: UserWarning: Constrained variable 'R_EX_o2_e' not previously declared\n",
      "  warn(f\"Constrained variable '{r_id}' not previously declared\")\n",
      "/home/mmartins/anaconda3/envs/tmcom/lib/python3.9/site-packages/reframed/solvers/gurobi_solver.py:236: UserWarning: Constrained variable 'R_EX_pi_e' not previously declared\n",
      "  warn(f\"Constrained variable '{r_id}' not previously declared\")\n",
      "/home/mmartins/anaconda3/envs/tmcom/lib/python3.9/site-packages/reframed/solvers/gurobi_solver.py:236: UserWarning: Constrained variable 'R_EX_pyr_e' not previously declared\n",
      "  warn(f\"Constrained variable '{r_id}' not previously declared\")\n",
      "/home/mmartins/anaconda3/envs/tmcom/lib/python3.9/site-packages/reframed/solvers/gurobi_solver.py:236: UserWarning: Constrained variable 'R_EX_succ_e' not previously declared\n",
      "  warn(f\"Constrained variable '{r_id}' not previously declared\")\n"
     ]
    }
   ],
   "source": [
    "from reframed import FBA\n",
    "\n",
    "super_oganism = community.merged_model\n",
    "solution = FBA(super_oganism, constraints=M9)\n",
    "\n",
    "print(solution)\n",
    "solution.show_values(pattern='R_EX')"
   ]
  },
  {
   "cell_type": "markdown",
   "id": "704355a9",
   "metadata": {},
   "source": [
    "We can see that the model predicts a growth rate (total biomass per hour) similar to the wild-type, with an efficient consumption of glucose and ammonia that results in respiratory metabolism.\n",
    "\n",
    "But what is each organism doing, and are both organisms actually growing at the same rate?\n",
    "\n",
    "Let's print the (non-zero) fluxes for each organism:"
   ]
  },
  {
   "cell_type": "code",
   "execution_count": 20,
   "id": "2d758d23",
   "metadata": {},
   "outputs": [
    {
     "name": "stdout",
     "output_type": "stream",
     "text": [
      "R_ACALDt_glc_ko -102.26\n",
      "R_H2Ot_glc_ko -71.3332\n",
      "R_ACALD_glc_ko -39.9912\n",
      "R_PTAr_glc_ko -34.5215\n",
      "R_CO2t_glc_ko -19.0668\n",
      "R_GLUDy_glc_ko -4.53234\n",
      "R_GLUt2r_glc_ko -4.53234\n",
      "R_SUCOAS_glc_ko -4.53234\n",
      "R_ACONTa_glc_ko  4.53234\n",
      "R_ACONTb_glc_ko  4.53234\n",
      "R_AKGDH_glc_ko  4.53234\n",
      "R_AKGt2r_glc_ko  4.53234\n",
      "R_CS_glc_ko   4.53234\n",
      "R_FUM_glc_ko  4.53234\n",
      "R_ICDHyr_glc_ko  4.53234\n",
      "R_MDH_glc_ko  4.53234\n",
      "R_NH4t_glc_ko  4.53234\n",
      "R_SUCDi_glc_ko  4.53234\n",
      "R_ATPM_glc_ko  8.39\n",
      "R_PDH_glc_ko  10.0021\n",
      "R_PYRt2_glc_ko  10.0021\n",
      "R_O2t_glc_ko  22.9382\n",
      "R_ACKr_glc_ko  34.5215\n",
      "R_ACt2r_glc_ko  34.5215\n",
      "R_ATPS4r_glc_ko  38.3791\n",
      "R_NADH16_glc_ko  41.3441\n",
      "R_CYTBD_glc_ko  45.8764\n",
      "R_ALCD2x_glc_ko  62.2685\n",
      "R_ETOHt2r_glc_ko  62.2685\n"
     ]
    }
   ],
   "source": [
    "solution.show_values(pattern='_glc_ko', sort=True)"
   ]
  },
  {
   "cell_type": "code",
   "execution_count": 21,
   "id": "c131b0f4",
   "metadata": {},
   "outputs": [
    {
     "name": "stdout",
     "output_type": "stream",
     "text": [
      "R_ALCD2x_nh4_ko -62.2685\n",
      "R_ETOHt2r_nh4_ko -62.2685\n",
      "R_ACKr_nh4_ko -34.5215\n",
      "R_ACt2r_nh4_ko -34.5215\n",
      "R_PGK_nh4_ko -16.4135\n",
      "R_PGM_nh4_ko -15.17\n",
      "R_PYRt2_nh4_ko -10.0021\n",
      "R_CO2t_nh4_ko -5.5613\n",
      "R_AKGt2r_nh4_ko -4.53234\n",
      "R_RPI_nh4_ko -1.9744\n",
      "R_SUCOAS_nh4_ko -1.45779\n",
      "R_GLNS_nh4_ko  0.212537\n",
      "R_GLUDy_nh4_ko  0.212537\n",
      "R_O2t_nh4_ko  0.728897\n",
      "R_BIOMASS_Ecoli_core_w_GAM_nh4_ko  0.831196\n",
      "R_TKT2_nh4_ko  0.928175\n",
      "R_TALA_nh4_ko  1.22824\n",
      "R_TKT1_nh4_ko  1.22824\n",
      "R_AKGDH_nh4_ko  1.45779\n",
      "R_CYTBD_nh4_ko  1.45779\n",
      "R_FUM_nh4_ko  1.45779\n",
      "R_MDH_nh4_ko  1.45779\n",
      "R_SUCDi_nh4_ko  1.45779\n",
      "R_RPE_nh4_ko  2.15641\n",
      "R_ACONTa_nh4_ko  2.35457\n",
      "R_ACONTb_nh4_ko  2.35457\n",
      "R_CS_nh4_ko   2.35457\n",
      "R_ICDHyr_nh4_ko  2.35457\n",
      "R_PYK_nh4_ko  2.35668\n",
      "R_PPC_nh4_ko  2.38187\n",
      "R_PIt2r_nh4_ko  3.05772\n",
      "R_G6PDH2r_nh4_ko  4.13081\n",
      "R_GND_nh4_ko  4.13081\n",
      "R_PGL_nh4_ko  4.13081\n",
      "R_GLUt2r_nh4_ko  4.53234\n",
      "R_PGI_nh4_ko  5.69879\n",
      "R_FBA_nh4_ko  7.79627\n",
      "R_PFK_nh4_ko  7.79627\n",
      "R_TPI_nh4_ko  7.79627\n",
      "R_ATPM_nh4_ko  8.39\n",
      "R_GLCpts_nh4_ko  10\n",
      "R_ATPS4r_nh4_ko  11.3632\n",
      "R_ENO_nh4_ko  15.17\n",
      "R_GAPD_nh4_ko  16.4135\n",
      "R_PTAr_nh4_ko  34.5215\n",
      "R_ACALD_nh4_ko  39.9912\n",
      "R_H2Ot_nh4_ko  40.6504\n",
      "R_ACALDt_nh4_ko  102.26\n"
     ]
    }
   ],
   "source": [
    "solution.show_values(pattern='_nh4_ko', sort=True)"
   ]
  },
  {
   "cell_type": "code",
   "execution_count": 23,
   "id": "61092ad2",
   "metadata": {},
   "outputs": [
    {
     "name": "stdout",
     "output_type": "stream",
     "text": [
      "\n"
     ]
    }
   ],
   "source": [
    "solution.show_values(pattern='_bt', sort=True)"
   ]
  },
  {
   "cell_type": "markdown",
   "id": "3110d63f",
   "metadata": {},
   "source": [
    "Actually it seems that only one of the organisms is growing while the other has an active metabolism (it exchanges metabolites with the environment and with the other organism) performing the role of a bioconverter, but none of the flux is used for growth. \n",
    "\n",
    "> Do you think this would be a stable consortium ?"
   ]
  },
  {
   "cell_type": "markdown",
   "id": "f6aebbfb",
   "metadata": {},
   "source": [
    "## Step 3: Community Simulation with SteadyCom"
   ]
  },
  {
   "cell_type": "markdown",
   "id": "7b47083e",
   "metadata": {},
   "source": [
    "**SteadyCom** by [Chan, et al (2017)](https://journals.plos.org/ploscompbiol/article?id=10.1371/journal.pcbi.1005539) is a recent community simulation method that takes into account the fact that to reach a stable composition the organisms need to grow at the same *specific growth rate* (1/h), which means that the *absolute growth rate* (gDW/h) of each organism is proportional to its *abundance* at steady-state (gDW).\n",
    "\n",
    "Let's simulate the same community using SteadyCom:"
   ]
  },
  {
   "cell_type": "code",
   "execution_count": 24,
   "id": "2214667c",
   "metadata": {},
   "outputs": [
    {
     "ename": "AttributeError",
     "evalue": "'gurobipy.Model' object has no attribute 'linear_constraints'",
     "output_type": "error",
     "traceback": [
      "\u001b[0;31m---------------------------------------------------------------------------\u001b[0m",
      "\u001b[0;31mAttributeError\u001b[0m                            Traceback (most recent call last)",
      "Cell \u001b[0;32mIn[24], line 2\u001b[0m\n\u001b[1;32m      1\u001b[0m \u001b[38;5;28;01mfrom\u001b[39;00m \u001b[38;5;21;01mreframed\u001b[39;00m \u001b[38;5;28;01mimport\u001b[39;00m SteadyCom\n\u001b[0;32m----> 2\u001b[0m solution \u001b[38;5;241m=\u001b[39m \u001b[43mSteadyCom\u001b[49m\u001b[43m(\u001b[49m\u001b[43mcommunity\u001b[49m\u001b[43m,\u001b[49m\u001b[43m \u001b[49m\u001b[43mconstraints\u001b[49m\u001b[38;5;241;43m=\u001b[39;49m\u001b[43mM9\u001b[49m\u001b[43m)\u001b[49m\n",
      "File \u001b[0;32m~/anaconda3/envs/tmcom/lib/python3.9/site-packages/reframed/community/SteadyCom.py:26\u001b[0m, in \u001b[0;36mSteadyCom\u001b[0;34m(community, constraints, solver)\u001b[0m\n\u001b[1;32m     22\u001b[0m     solver \u001b[38;5;241m=\u001b[39m build_problem(community)\n\u001b[1;32m     24\u001b[0m objective \u001b[38;5;241m=\u001b[39m {community\u001b[38;5;241m.\u001b[39mmerged_model\u001b[38;5;241m.\u001b[39mbiomass_reaction: \u001b[38;5;241m1\u001b[39m}\n\u001b[0;32m---> 26\u001b[0m sol \u001b[38;5;241m=\u001b[39m \u001b[43mbinary_search\u001b[49m\u001b[43m(\u001b[49m\u001b[43msolver\u001b[49m\u001b[43m,\u001b[49m\u001b[43m \u001b[49m\u001b[43mobjective\u001b[49m\u001b[43m,\u001b[49m\u001b[43m \u001b[49m\u001b[43mminimize\u001b[49m\u001b[38;5;241;43m=\u001b[39;49m\u001b[38;5;28;43;01mFalse\u001b[39;49;00m\u001b[43m,\u001b[49m\u001b[43m \u001b[49m\u001b[43mconstraints\u001b[49m\u001b[38;5;241;43m=\u001b[39;49m\u001b[43mconstraints\u001b[49m\u001b[43m)\u001b[49m\n\u001b[1;32m     28\u001b[0m solution \u001b[38;5;241m=\u001b[39m CommunitySolution(community, sol\u001b[38;5;241m.\u001b[39mvalues)\n\u001b[1;32m     29\u001b[0m solution\u001b[38;5;241m.\u001b[39msolver \u001b[38;5;241m=\u001b[39m solver\n",
      "File \u001b[0;32m~/anaconda3/envs/tmcom/lib/python3.9/site-packages/reframed/community/SteadyCom.py:156\u001b[0m, in \u001b[0;36mbinary_search\u001b[0;34m(solver, objective, obj_frac, minimize, max_iters, abs_tol, constraints)\u001b[0m\n\u001b[1;32m    153\u001b[0m         fold \u001b[38;5;241m=\u001b[39m \u001b[38;5;241m0.5\u001b[39m\n\u001b[1;32m    154\u001b[0m     value \u001b[38;5;241m=\u001b[39m fold\u001b[38;5;241m*\u001b[39mdiff \u001b[38;5;241m+\u001b[39m previous_value\n\u001b[0;32m--> 156\u001b[0m \u001b[43msolver\u001b[49m\u001b[38;5;241;43m.\u001b[39;49m\u001b[43mupdate_growth\u001b[49m\u001b[43m(\u001b[49m\u001b[43mvalue\u001b[49m\u001b[43m)\u001b[49m\n\u001b[1;32m    157\u001b[0m sol \u001b[38;5;241m=\u001b[39m solver\u001b[38;5;241m.\u001b[39msolve(objective, get_values\u001b[38;5;241m=\u001b[39m\u001b[38;5;28;01mFalse\u001b[39;00m, minimize\u001b[38;5;241m=\u001b[39mminimize, constraints\u001b[38;5;241m=\u001b[39mconstraints)\n\u001b[1;32m    159\u001b[0m feasible \u001b[38;5;241m=\u001b[39m sol\u001b[38;5;241m.\u001b[39mstatus \u001b[38;5;241m==\u001b[39m Status\u001b[38;5;241m.\u001b[39mOPTIMAL\n",
      "File \u001b[0;32m~/anaconda3/envs/tmcom/lib/python3.9/site-packages/reframed/community/SteadyCom.py:126\u001b[0m, in \u001b[0;36mbuild_problem.<locals>.update_growth\u001b[0;34m(value)\u001b[0m\n\u001b[1;32m    123\u001b[0m \u001b[38;5;28;01mdef\u001b[39;00m \u001b[38;5;21mupdate_growth\u001b[39m(value):\n\u001b[1;32m    124\u001b[0m     \u001b[38;5;66;03m# TODO: find a solution that is not CPLEX specific\u001b[39;00m\n\u001b[1;32m    125\u001b[0m     coefficients \u001b[38;5;241m=\u001b[39m [(\u001b[38;5;124mf\u001b[39m\u001b[38;5;124m\"\u001b[39m\u001b[38;5;124mg_\u001b[39m\u001b[38;5;132;01m{\u001b[39;00mx\u001b[38;5;132;01m}\u001b[39;00m\u001b[38;5;124m\"\u001b[39m, \u001b[38;5;124mf\u001b[39m\u001b[38;5;124m\"\u001b[39m\u001b[38;5;124mx_\u001b[39m\u001b[38;5;132;01m{\u001b[39;00mx\u001b[38;5;132;01m}\u001b[39;00m\u001b[38;5;124m\"\u001b[39m, value) \u001b[38;5;28;01mfor\u001b[39;00m x \u001b[38;5;129;01min\u001b[39;00m community\u001b[38;5;241m.\u001b[39morganisms]\n\u001b[0;32m--> 126\u001b[0m     \u001b[43msolver\u001b[49m\u001b[38;5;241;43m.\u001b[39;49m\u001b[43mproblem\u001b[49m\u001b[38;5;241;43m.\u001b[39;49m\u001b[43mlinear_constraints\u001b[49m\u001b[38;5;241m.\u001b[39mset_coefficients(coefficients)\n",
      "File \u001b[0;32msrc/gurobipy/model.pxi:357\u001b[0m, in \u001b[0;36mgurobipy.Model.__getattr__\u001b[0;34m()\u001b[0m\n",
      "File \u001b[0;32msrc/gurobipy/model.pxi:1855\u001b[0m, in \u001b[0;36mgurobipy.Model.getAttr\u001b[0;34m()\u001b[0m\n",
      "File \u001b[0;32msrc/gurobipy/attrutil.pxi:23\u001b[0m, in \u001b[0;36mgurobipy.__getattrinfo\u001b[0;34m()\u001b[0m\n",
      "\u001b[0;31mAttributeError\u001b[0m: 'gurobipy.Model' object has no attribute 'linear_constraints'"
     ]
    }
   ],
   "source": [
    "from reframed import SteadyCom\n",
    "solution = SteadyCom(community, constraints=M9)"
   ]
  },
  {
   "cell_type": "markdown",
   "id": "6e02ca07",
   "metadata": {},
   "source": [
    "In this case the solution object shows the overall community growth rate and the relative abundance of each species:"
   ]
  },
  {
   "cell_type": "code",
   "execution_count": null,
   "id": "9353ec4a",
   "metadata": {},
   "outputs": [],
   "source": [
    "print(solution)"
   ]
  },
  {
   "cell_type": "markdown",
   "id": "86f91b4a",
   "metadata": {},
   "source": [
    "The `solution` object for community simulations implements a few additional features, such as enumerating all the cross-feeding interactions:"
   ]
  },
  {
   "cell_type": "code",
   "execution_count": null,
   "id": "e5b8887e",
   "metadata": {},
   "outputs": [],
   "source": [
    "solution.cross_feeding(as_df=True).dropna().sort_values('rate', ascending=False)"
   ]
  },
  {
   "cell_type": "markdown",
   "id": "c61d9f30",
   "metadata": {},
   "source": [
    "We can plot the fluxes of each mutant in a map to help with interpretation of the results:"
   ]
  },
  {
   "cell_type": "code",
   "execution_count": null,
   "id": "26e96715",
   "metadata": {
    "scrolled": true
   },
   "outputs": [],
   "source": [
    "from reframed import fluxes2escher\n",
    "fluxes2escher(solution.internal['glc_ko'])"
   ]
  },
  {
   "cell_type": "code",
   "execution_count": null,
   "id": "433e35b3",
   "metadata": {},
   "outputs": [],
   "source": [
    "fluxes2escher(solution.internal['nh4_ko'])"
   ]
  },
  {
   "cell_type": "markdown",
   "id": "676db548",
   "metadata": {},
   "source": [
    "**Exercise:** Look more closely at the compounds that are exchanged between the two mutants and also at their relative abundance. Is this what you expected? Do you think there could be different solutions?"
   ]
  },
  {
   "cell_type": "markdown",
   "id": "9de7dc40",
   "metadata": {},
   "source": [
    "## Step 4: Explore alternative solutions\n",
    "\n",
    "Unfortunately, one limitation of **SteadyCom**, which is exemplified by [Chan, et al (2017)](https://journals.plos.org/ploscompbiol/article?id=10.1371/journal.pcbi.1005539) in Figure 3 (reproduced below), is the variability in the solution space when the community is not growing at the maximum (theoretical) growth rate.\n",
    "\n",
    "![variability](../files/steadycom_variability.png)\n",
    "\n",
    "> Would you expect a synthetic community to grow at its maximum growth rate?\n",
    "\n",
    "**ReFramed** implements a variability analysis function for the SteadyCom solution space, let's see what happens if the community is growing at 90% of the theoretical maximum:"
   ]
  },
  {
   "cell_type": "code",
   "execution_count": 25,
   "id": "215c90de",
   "metadata": {},
   "outputs": [
    {
     "ename": "AttributeError",
     "evalue": "'gurobipy.Model' object has no attribute 'linear_constraints'",
     "output_type": "error",
     "traceback": [
      "\u001b[0;31m---------------------------------------------------------------------------\u001b[0m",
      "\u001b[0;31mAttributeError\u001b[0m                            Traceback (most recent call last)",
      "Cell \u001b[0;32mIn[25], line 2\u001b[0m\n\u001b[1;32m      1\u001b[0m \u001b[38;5;28;01mfrom\u001b[39;00m \u001b[38;5;21;01mreframed\u001b[39;00m \u001b[38;5;28;01mimport\u001b[39;00m SteadyComVA\n\u001b[0;32m----> 2\u001b[0m variability \u001b[38;5;241m=\u001b[39m \u001b[43mSteadyComVA\u001b[49m\u001b[43m(\u001b[49m\u001b[43mcommunity\u001b[49m\u001b[43m,\u001b[49m\u001b[43m \u001b[49m\u001b[43mobj_frac\u001b[49m\u001b[38;5;241;43m=\u001b[39;49m\u001b[38;5;241;43m0.9\u001b[39;49m\u001b[43m,\u001b[49m\u001b[43m \u001b[49m\u001b[43mconstraints\u001b[49m\u001b[38;5;241;43m=\u001b[39;49m\u001b[43mM9\u001b[49m\u001b[43m)\u001b[49m\n\u001b[1;32m      4\u001b[0m \u001b[38;5;28mprint\u001b[39m(\u001b[38;5;124m'\u001b[39m\u001b[38;5;124mStrain\u001b[39m\u001b[38;5;130;01m\\t\u001b[39;00m\u001b[38;5;124mMin\u001b[39m\u001b[38;5;130;01m\\t\u001b[39;00m\u001b[38;5;124mMax\u001b[39m\u001b[38;5;124m'\u001b[39m)\n\u001b[1;32m      5\u001b[0m \u001b[38;5;28;01mfor\u001b[39;00m strain, (lower, upper) \u001b[38;5;129;01min\u001b[39;00m variability\u001b[38;5;241m.\u001b[39mitems():\n",
      "File \u001b[0;32m~/anaconda3/envs/tmcom/lib/python3.9/site-packages/reframed/community/SteadyCom.py:52\u001b[0m, in \u001b[0;36mSteadyComVA\u001b[0;34m(community, obj_frac, constraints, solver)\u001b[0m\n\u001b[1;32m     48\u001b[0m     solver \u001b[38;5;241m=\u001b[39m build_problem(community)\n\u001b[1;32m     50\u001b[0m objective \u001b[38;5;241m=\u001b[39m {community\u001b[38;5;241m.\u001b[39mmerged_model\u001b[38;5;241m.\u001b[39mbiomass_reaction: \u001b[38;5;241m1\u001b[39m}\n\u001b[0;32m---> 52\u001b[0m sol \u001b[38;5;241m=\u001b[39m \u001b[43mbinary_search\u001b[49m\u001b[43m(\u001b[49m\u001b[43msolver\u001b[49m\u001b[43m,\u001b[49m\u001b[43m \u001b[49m\u001b[43mobjective\u001b[49m\u001b[43m,\u001b[49m\u001b[43m \u001b[49m\u001b[43mconstraints\u001b[49m\u001b[38;5;241;43m=\u001b[39;49m\u001b[43mconstraints\u001b[49m\u001b[43m)\u001b[49m\n\u001b[1;32m     53\u001b[0m growth \u001b[38;5;241m=\u001b[39m obj_frac \u001b[38;5;241m*\u001b[39m sol\u001b[38;5;241m.\u001b[39mvalues[community\u001b[38;5;241m.\u001b[39mmerged_model\u001b[38;5;241m.\u001b[39mbiomass_reaction]\n\u001b[1;32m     54\u001b[0m solver\u001b[38;5;241m.\u001b[39mupdate_growth(growth)\n",
      "File \u001b[0;32m~/anaconda3/envs/tmcom/lib/python3.9/site-packages/reframed/community/SteadyCom.py:156\u001b[0m, in \u001b[0;36mbinary_search\u001b[0;34m(solver, objective, obj_frac, minimize, max_iters, abs_tol, constraints)\u001b[0m\n\u001b[1;32m    153\u001b[0m         fold \u001b[38;5;241m=\u001b[39m \u001b[38;5;241m0.5\u001b[39m\n\u001b[1;32m    154\u001b[0m     value \u001b[38;5;241m=\u001b[39m fold\u001b[38;5;241m*\u001b[39mdiff \u001b[38;5;241m+\u001b[39m previous_value\n\u001b[0;32m--> 156\u001b[0m \u001b[43msolver\u001b[49m\u001b[38;5;241;43m.\u001b[39;49m\u001b[43mupdate_growth\u001b[49m\u001b[43m(\u001b[49m\u001b[43mvalue\u001b[49m\u001b[43m)\u001b[49m\n\u001b[1;32m    157\u001b[0m sol \u001b[38;5;241m=\u001b[39m solver\u001b[38;5;241m.\u001b[39msolve(objective, get_values\u001b[38;5;241m=\u001b[39m\u001b[38;5;28;01mFalse\u001b[39;00m, minimize\u001b[38;5;241m=\u001b[39mminimize, constraints\u001b[38;5;241m=\u001b[39mconstraints)\n\u001b[1;32m    159\u001b[0m feasible \u001b[38;5;241m=\u001b[39m sol\u001b[38;5;241m.\u001b[39mstatus \u001b[38;5;241m==\u001b[39m Status\u001b[38;5;241m.\u001b[39mOPTIMAL\n",
      "File \u001b[0;32m~/anaconda3/envs/tmcom/lib/python3.9/site-packages/reframed/community/SteadyCom.py:126\u001b[0m, in \u001b[0;36mbuild_problem.<locals>.update_growth\u001b[0;34m(value)\u001b[0m\n\u001b[1;32m    123\u001b[0m \u001b[38;5;28;01mdef\u001b[39;00m \u001b[38;5;21mupdate_growth\u001b[39m(value):\n\u001b[1;32m    124\u001b[0m     \u001b[38;5;66;03m# TODO: find a solution that is not CPLEX specific\u001b[39;00m\n\u001b[1;32m    125\u001b[0m     coefficients \u001b[38;5;241m=\u001b[39m [(\u001b[38;5;124mf\u001b[39m\u001b[38;5;124m\"\u001b[39m\u001b[38;5;124mg_\u001b[39m\u001b[38;5;132;01m{\u001b[39;00mx\u001b[38;5;132;01m}\u001b[39;00m\u001b[38;5;124m\"\u001b[39m, \u001b[38;5;124mf\u001b[39m\u001b[38;5;124m\"\u001b[39m\u001b[38;5;124mx_\u001b[39m\u001b[38;5;132;01m{\u001b[39;00mx\u001b[38;5;132;01m}\u001b[39;00m\u001b[38;5;124m\"\u001b[39m, value) \u001b[38;5;28;01mfor\u001b[39;00m x \u001b[38;5;129;01min\u001b[39;00m community\u001b[38;5;241m.\u001b[39morganisms]\n\u001b[0;32m--> 126\u001b[0m     \u001b[43msolver\u001b[49m\u001b[38;5;241;43m.\u001b[39;49m\u001b[43mproblem\u001b[49m\u001b[38;5;241;43m.\u001b[39;49m\u001b[43mlinear_constraints\u001b[49m\u001b[38;5;241m.\u001b[39mset_coefficients(coefficients)\n",
      "File \u001b[0;32msrc/gurobipy/model.pxi:357\u001b[0m, in \u001b[0;36mgurobipy.Model.__getattr__\u001b[0;34m()\u001b[0m\n",
      "File \u001b[0;32msrc/gurobipy/model.pxi:1855\u001b[0m, in \u001b[0;36mgurobipy.Model.getAttr\u001b[0;34m()\u001b[0m\n",
      "File \u001b[0;32msrc/gurobipy/attrutil.pxi:23\u001b[0m, in \u001b[0;36mgurobipy.__getattrinfo\u001b[0;34m()\u001b[0m\n",
      "\u001b[0;31mAttributeError\u001b[0m: 'gurobipy.Model' object has no attribute 'linear_constraints'"
     ]
    }
   ],
   "source": [
    "from reframed import SteadyComVA\n",
    "variability = SteadyComVA(community, obj_frac=0.9, constraints=M9)\n",
    "\n",
    "print('Strain\\tMin\\tMax')\n",
    "for strain, (lower, upper) in variability.items():\n",
    "    print(f'{strain}\\t{lower:.1%}\\t{upper:.1%}')"
   ]
  },
  {
   "cell_type": "markdown",
   "id": "e2c8b384",
   "metadata": {},
   "source": [
    "As you can see, there is a really large variability in this solution space. This means that we know in theory the two mutants **can** cooperate and survive in minimal media, but there is still a lot of uncertainty with regard to **how** they will achieve a stable consortium.\n",
    "\n",
    "> How do you think we can reduce this uncertainty?"
   ]
  },
  {
   "cell_type": "code",
   "execution_count": null,
   "id": "34220805",
   "metadata": {},
   "outputs": [],
   "source": [
    "# Feel free to play around with these examples.\n",
    "# Type your own code here..."
   ]
  }
 ],
 "metadata": {
  "kernelspec": {
   "display_name": "Python 3 (ipykernel)",
   "language": "python",
   "name": "python3"
  },
  "language_info": {
   "codemirror_mode": {
    "name": "ipython",
    "version": 3
   },
   "file_extension": ".py",
   "mimetype": "text/x-python",
   "name": "python",
   "nbconvert_exporter": "python",
   "pygments_lexer": "ipython3",
   "version": "3.9.12"
  }
 },
 "nbformat": 4,
 "nbformat_minor": 5
}

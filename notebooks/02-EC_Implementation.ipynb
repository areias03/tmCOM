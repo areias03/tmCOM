{
 "cells": [
  {
   "cell_type": "markdown",
   "id": "e0719702",
   "metadata": {},
   "source": [
    "# Enzymatic Constraints Enhancement of AGORA models"
   ]
  },
  {
   "cell_type": "markdown",
   "id": "24562f04",
   "metadata": {},
   "source": [
    "### Context\n",
    "\n",
    "\n",
    "\n",
    "### Goals:\n",
    "\n",
    "- "
   ]
  },
  {
   "cell_type": "code",
   "execution_count": 1,
   "id": "e44a8cf9",
   "metadata": {},
   "outputs": [],
   "source": [
    "from tqdm.auto import tqdm\n",
    "from reframed.io.sbml import load_cbmodel,save_cbmodel\n",
    "from cobra.io import read_sbml_model, write_sbml_model\n",
    "from mewpy.cobra.util import add_enzyme_constraints,convert_gpr_to_dnf,split_isozymes\n",
    "from mewpy.simulation import get_simulator\n",
    "from mewpy.simulation.environment import Environment as Environment\n",
    "from mewpy.util.request import retreive_gene,retreive_protein,get_smiles,brenda_query\n",
    "import pandas as pd\n",
    "import numpy as np\n",
    "from urllib.request import urlopen\n",
    "from functools import reduce\n",
    "import json\n",
    "from ast import literal_eval"
   ]
  },
  {
   "cell_type": "code",
   "execution_count": 2,
   "id": "18ecb2b6",
   "metadata": {},
   "outputs": [
    {
     "name": "stdout",
     "output_type": "stream",
     "text": [
      "Set parameter Username\n",
      "Academic license - for non-commercial use only - expires 2024-03-01\n"
     ]
    }
   ],
   "source": [
    "filepath = \"../models/non-ec/agora/Bacteroides_uniformis_ATCC_8492.xml\"\n",
    "model = read_sbml_model(filepath)\n",
    "model2 = load_cbmodel(filepath)\n",
    "organism = 'Bacteroides thetaiotaomicron'"
   ]
  },
  {
   "cell_type": "code",
   "execution_count": 3,
   "id": "d8c48a51",
   "metadata": {},
   "outputs": [
    {
     "data": {
      "text/plain": [
       "'M_Bacteroides_uniformis_ATCC_8492'"
      ]
     },
     "execution_count": 3,
     "metadata": {},
     "output_type": "execute_result"
    }
   ],
   "source": [
    "model.id"
   ]
  },
  {
   "cell_type": "code",
   "execution_count": 4,
   "id": "dbc45c89",
   "metadata": {},
   "outputs": [],
   "source": [
    "sim = get_simulator(model)\n",
    "sim.set_objective(\"biomass\")\n",
    "\n",
    "sim2 = get_simulator(model2)\n",
    "sim2.set_objective(\"R_biomass\")"
   ]
  },
  {
   "cell_type": "code",
   "execution_count": 5,
   "id": "773b085f",
   "metadata": {},
   "outputs": [
    {
     "data": {
      "text/plain": [
       "objective: 71.40464067328313\n",
       "Status: OPTIMAL\n",
       "Method:SimulationMethod.FBA"
      ]
     },
     "execution_count": 5,
     "metadata": {},
     "output_type": "execute_result"
    }
   ],
   "source": [
    "sim.simulate()"
   ]
  },
  {
   "cell_type": "code",
   "execution_count": 6,
   "id": "915452ed",
   "metadata": {},
   "outputs": [
    {
     "data": {
      "text/plain": [
       "objective: None\n",
       "Status: INF_OR_UNB\n",
       "Method:SimulationMethod.FBA"
      ]
     },
     "execution_count": 6,
     "metadata": {},
     "output_type": "execute_result"
    }
   ],
   "source": [
    "sim2.simulate()"
   ]
  },
  {
   "cell_type": "markdown",
   "id": "3cfa78b4",
   "metadata": {},
   "source": [
    "## Annotation scraping"
   ]
  },
  {
   "cell_type": "code",
   "execution_count": 7,
   "id": "02cc2862",
   "metadata": {},
   "outputs": [
    {
     "data": {
      "text/html": [
       "<div>\n",
       "<style scoped>\n",
       "    .dataframe tbody tr th:only-of-type {\n",
       "        vertical-align: middle;\n",
       "    }\n",
       "\n",
       "    .dataframe tbody tr th {\n",
       "        vertical-align: top;\n",
       "    }\n",
       "\n",
       "    .dataframe thead tr th {\n",
       "        text-align: left;\n",
       "    }\n",
       "</style>\n",
       "<table border=\"1\" class=\"dataframe\">\n",
       "  <thead>\n",
       "    <tr>\n",
       "      <th></th>\n",
       "      <th>Gene</th>\n",
       "      <th>Reaction</th>\n",
       "      <th>Name</th>\n",
       "      <th>ModelSEED_id</th>\n",
       "      <th>MetaNetX</th>\n",
       "      <th>KEGG_id</th>\n",
       "      <th>ecNumber</th>\n",
       "    </tr>\n",
       "  </thead>\n",
       "  <tbody>\n",
       "    <tr>\n",
       "      <th>0</th>\n",
       "      <td>411479.1.3062_56.peg</td>\n",
       "      <td>1HIBUP_S_GLCAASE</td>\n",
       "      <td>1-hydroxy S-ibuprofen beta-glucuronidase</td>\n",
       "      <td>None</td>\n",
       "      <td>None</td>\n",
       "      <td>None</td>\n",
       "      <td>None</td>\n",
       "    </tr>\n",
       "    <tr>\n",
       "      <th>1</th>\n",
       "      <td>411479.1.3062_56.peg</td>\n",
       "      <td>1HMDGLUC_GLCAASE</td>\n",
       "      <td>1-OH-midazolam-glucuronide beta-glucuronidase</td>\n",
       "      <td>None</td>\n",
       "      <td>None</td>\n",
       "      <td>None</td>\n",
       "      <td>None</td>\n",
       "    </tr>\n",
       "    <tr>\n",
       "      <th>2</th>\n",
       "      <td>411479.1.3062_56.peg</td>\n",
       "      <td>2HATVACIDGLUC_GLCAASE</td>\n",
       "      <td>2-hydroxy-atorvastatin-acyl-glucuronide beta-g...</td>\n",
       "      <td>None</td>\n",
       "      <td>None</td>\n",
       "      <td>None</td>\n",
       "      <td>None</td>\n",
       "    </tr>\n",
       "    <tr>\n",
       "      <th>3</th>\n",
       "      <td>411479.1.3062_56.peg</td>\n",
       "      <td>2HATVLACGLUC_GLCAASE</td>\n",
       "      <td>2-hydroxy-atorvastatin-lactone-glucuronide bet...</td>\n",
       "      <td>None</td>\n",
       "      <td>None</td>\n",
       "      <td>None</td>\n",
       "      <td>None</td>\n",
       "    </tr>\n",
       "    <tr>\n",
       "      <th>4</th>\n",
       "      <td>411479.1.3062_56.peg</td>\n",
       "      <td>2HIBUP_S_GLCAASE</td>\n",
       "      <td>2-hydroxy-S-ibuprofen beta-glucuronidase</td>\n",
       "      <td>None</td>\n",
       "      <td>None</td>\n",
       "      <td>None</td>\n",
       "      <td>None</td>\n",
       "    </tr>\n",
       "    <tr>\n",
       "      <th>...</th>\n",
       "      <td>...</td>\n",
       "      <td>...</td>\n",
       "      <td>...</td>\n",
       "      <td>...</td>\n",
       "      <td>...</td>\n",
       "      <td>...</td>\n",
       "      <td>...</td>\n",
       "    </tr>\n",
       "    <tr>\n",
       "      <th>1717</th>\n",
       "      <td>411479.1.peg.2102</td>\n",
       "      <td>rtranscription</td>\n",
       "      <td>RNA transcription c0</td>\n",
       "      <td>rxn13784</td>\n",
       "      <td>None</td>\n",
       "      <td>None</td>\n",
       "      <td>None</td>\n",
       "    </tr>\n",
       "    <tr>\n",
       "      <th>1718</th>\n",
       "      <td>411479.1.peg.3030</td>\n",
       "      <td>rtranscription</td>\n",
       "      <td>RNA transcription c0</td>\n",
       "      <td>rxn13784</td>\n",
       "      <td>None</td>\n",
       "      <td>None</td>\n",
       "      <td>None</td>\n",
       "    </tr>\n",
       "    <tr>\n",
       "      <th>1719</th>\n",
       "      <td>411479.1.peg.3645</td>\n",
       "      <td>rtranscription</td>\n",
       "      <td>RNA transcription c0</td>\n",
       "      <td>rxn13784</td>\n",
       "      <td>None</td>\n",
       "      <td>None</td>\n",
       "      <td>None</td>\n",
       "    </tr>\n",
       "    <tr>\n",
       "      <th>1720</th>\n",
       "      <td>411479.1.peg.3749</td>\n",
       "      <td>rtranscription</td>\n",
       "      <td>RNA transcription c0</td>\n",
       "      <td>rxn13784</td>\n",
       "      <td>None</td>\n",
       "      <td>None</td>\n",
       "      <td>None</td>\n",
       "    </tr>\n",
       "    <tr>\n",
       "      <th>1721</th>\n",
       "      <td>411479.1.peg.376</td>\n",
       "      <td>rtranscription</td>\n",
       "      <td>RNA transcription c0</td>\n",
       "      <td>rxn13784</td>\n",
       "      <td>None</td>\n",
       "      <td>None</td>\n",
       "      <td>None</td>\n",
       "    </tr>\n",
       "  </tbody>\n",
       "</table>\n",
       "<p>1722 rows × 7 columns</p>\n",
       "</div>"
      ],
      "text/plain": [
       "                      Gene               Reaction  \\\n",
       "0     411479.1.3062_56.peg       1HIBUP_S_GLCAASE   \n",
       "1     411479.1.3062_56.peg       1HMDGLUC_GLCAASE   \n",
       "2     411479.1.3062_56.peg  2HATVACIDGLUC_GLCAASE   \n",
       "3     411479.1.3062_56.peg   2HATVLACGLUC_GLCAASE   \n",
       "4     411479.1.3062_56.peg       2HIBUP_S_GLCAASE   \n",
       "...                    ...                    ...   \n",
       "1717     411479.1.peg.2102         rtranscription   \n",
       "1718     411479.1.peg.3030         rtranscription   \n",
       "1719     411479.1.peg.3645         rtranscription   \n",
       "1720     411479.1.peg.3749         rtranscription   \n",
       "1721      411479.1.peg.376         rtranscription   \n",
       "\n",
       "                                                   Name ModelSEED_id MetaNetX  \\\n",
       "0              1-hydroxy S-ibuprofen beta-glucuronidase         None     None   \n",
       "1         1-OH-midazolam-glucuronide beta-glucuronidase         None     None   \n",
       "2     2-hydroxy-atorvastatin-acyl-glucuronide beta-g...         None     None   \n",
       "3     2-hydroxy-atorvastatin-lactone-glucuronide bet...         None     None   \n",
       "4              2-hydroxy-S-ibuprofen beta-glucuronidase         None     None   \n",
       "...                                                 ...          ...      ...   \n",
       "1717                               RNA transcription c0     rxn13784     None   \n",
       "1718                               RNA transcription c0     rxn13784     None   \n",
       "1719                               RNA transcription c0     rxn13784     None   \n",
       "1720                               RNA transcription c0     rxn13784     None   \n",
       "1721                               RNA transcription c0     rxn13784     None   \n",
       "\n",
       "     KEGG_id ecNumber  \n",
       "0       None     None  \n",
       "1       None     None  \n",
       "2       None     None  \n",
       "3       None     None  \n",
       "4       None     None  \n",
       "...      ...      ...  \n",
       "1717    None     None  \n",
       "1718    None     None  \n",
       "1719    None     None  \n",
       "1720    None     None  \n",
       "1721    None     None  \n",
       "\n",
       "[1722 rows x 7 columns]"
      ]
     },
     "execution_count": 7,
     "metadata": {},
     "output_type": "execute_result"
    }
   ],
   "source": [
    "ls_ge = []\n",
    "\n",
    "for ge in sim.genes:\n",
    "    i = sim.genes.index(ge)\n",
    "    gene = sim.genes[i]\n",
    "    rxns = sim.get_gene(ge).reactions\n",
    "    for rx in rxns:\n",
    "        anno = sim.get_reaction(rx)['annotations']\n",
    "        seed_id = anno.get('seed.reactions')\n",
    "        rxn_name = sim.get_reaction(rx).name\n",
    "        ecnumber = anno.get('ec-code')\n",
    "        metanetx = anno.get('metanetx.reaction')\n",
    "        kegg = anno.get('kegg.reaction')\n",
    "        res = [gene,rx,rxn_name,seed_id,metanetx,kegg,ecnumber]\n",
    "        ls_ge.append(res)\n",
    "\n",
    "df_ge = pd.DataFrame(ls_ge,columns=[['Gene','Reaction','Name','ModelSEED_id','MetaNetX','KEGG_id','ecNumber']])\n",
    "\n",
    "df_ge"
   ]
  },
  {
   "cell_type": "code",
   "execution_count": 8,
   "id": "1b02a6a9",
   "metadata": {},
   "outputs": [
    {
     "data": {
      "text/html": [
       "<div>\n",
       "<style scoped>\n",
       "    .dataframe tbody tr th:only-of-type {\n",
       "        vertical-align: middle;\n",
       "    }\n",
       "\n",
       "    .dataframe tbody tr th {\n",
       "        vertical-align: top;\n",
       "    }\n",
       "\n",
       "    .dataframe thead tr th {\n",
       "        text-align: left;\n",
       "    }\n",
       "</style>\n",
       "<table border=\"1\" class=\"dataframe\">\n",
       "  <thead>\n",
       "    <tr>\n",
       "      <th></th>\n",
       "      <th>Gene</th>\n",
       "      <th>Reaction</th>\n",
       "      <th>Name</th>\n",
       "      <th>ModelSEED_id</th>\n",
       "      <th>MetaNetX</th>\n",
       "      <th>KEGG_id</th>\n",
       "      <th>ecNumber</th>\n",
       "    </tr>\n",
       "  </thead>\n",
       "  <tbody>\n",
       "    <tr>\n",
       "      <th>170</th>\n",
       "      <td>411479.1.peg.1814</td>\n",
       "      <td>23DHMPO</td>\n",
       "      <td>(R)-2,3-Dihydroxy-3-methylpentanoate:NADP+ oxi...</td>\n",
       "      <td>rxn03435</td>\n",
       "      <td>MNXR83171</td>\n",
       "      <td>None</td>\n",
       "      <td>1.1.1.86</td>\n",
       "    </tr>\n",
       "    <tr>\n",
       "      <th>171</th>\n",
       "      <td>411479.1.peg.1814</td>\n",
       "      <td>2AHBUTI</td>\n",
       "      <td>(S)-2-Aceto-2-hydroxybutanoate isomerase</td>\n",
       "      <td>rxn03436</td>\n",
       "      <td>MNXR76597</td>\n",
       "      <td>None</td>\n",
       "      <td>1.1.1.86, 5.4.99.3</td>\n",
       "    </tr>\n",
       "    <tr>\n",
       "      <th>172</th>\n",
       "      <td>411479.1.peg.1439</td>\n",
       "      <td>23PDE2</td>\n",
       "      <td>2,3-Cyclic UMP 3-nucleotidohydrolase</td>\n",
       "      <td>rxn02522</td>\n",
       "      <td>MNXR34</td>\n",
       "      <td>None</td>\n",
       "      <td>3.1.4.16</td>\n",
       "    </tr>\n",
       "    <tr>\n",
       "      <th>173</th>\n",
       "      <td>411479.1.peg.1439</td>\n",
       "      <td>23PDE4</td>\n",
       "      <td>2,3-Cyclic CMP 3-nucleotidohydrolase</td>\n",
       "      <td>rxn02762</td>\n",
       "      <td>MNXR35</td>\n",
       "      <td>None</td>\n",
       "      <td>3.1.4.16</td>\n",
       "    </tr>\n",
       "    <tr>\n",
       "      <th>174</th>\n",
       "      <td>411479.1.peg.1439</td>\n",
       "      <td>23PDE7</td>\n",
       "      <td>2,3-Cyclic AMP 3-nucleotidohydrolase</td>\n",
       "      <td>rxn02521</td>\n",
       "      <td>MNXR36</td>\n",
       "      <td>None</td>\n",
       "      <td>3.1.4.16</td>\n",
       "    </tr>\n",
       "    <tr>\n",
       "      <th>...</th>\n",
       "      <td>...</td>\n",
       "      <td>...</td>\n",
       "      <td>...</td>\n",
       "      <td>...</td>\n",
       "      <td>...</td>\n",
       "      <td>...</td>\n",
       "      <td>...</td>\n",
       "    </tr>\n",
       "    <tr>\n",
       "      <th>1707</th>\n",
       "      <td>411479.1.peg.3150</td>\n",
       "      <td>r0775</td>\n",
       "      <td>Formamidopyrimidine Nucleoside Triphosphate 7,...</td>\n",
       "      <td>rxn03419</td>\n",
       "      <td>MNXR85297</td>\n",
       "      <td>None</td>\n",
       "      <td>3.5.4.16</td>\n",
       "    </tr>\n",
       "    <tr>\n",
       "      <th>1708</th>\n",
       "      <td>411479.1.peg.3150</td>\n",
       "      <td>r0777</td>\n",
       "      <td>GTP 7, 8-8, 9-Dihydrolase</td>\n",
       "      <td>rxn03421</td>\n",
       "      <td>MNXR74388</td>\n",
       "      <td>None</td>\n",
       "      <td>3.5.4.16</td>\n",
       "    </tr>\n",
       "    <tr>\n",
       "      <th>1709</th>\n",
       "      <td>411479.1.1966_16.peg</td>\n",
       "      <td>r0127</td>\n",
       "      <td>L-Asparagine Amidohydrolase / Cyanoamino Acid ...</td>\n",
       "      <td>rxn00342</td>\n",
       "      <td>MNXR81754</td>\n",
       "      <td>None</td>\n",
       "      <td>3.5.1.38</td>\n",
       "    </tr>\n",
       "    <tr>\n",
       "      <th>1710</th>\n",
       "      <td>411479.1.2441_16.peg</td>\n",
       "      <td>r0127</td>\n",
       "      <td>L-Asparagine Amidohydrolase / Cyanoamino Acid ...</td>\n",
       "      <td>rxn00342</td>\n",
       "      <td>MNXR81754</td>\n",
       "      <td>None</td>\n",
       "      <td>3.5.1.38</td>\n",
       "    </tr>\n",
       "    <tr>\n",
       "      <th>1711</th>\n",
       "      <td>411479.1.peg.2287</td>\n",
       "      <td>r0339</td>\n",
       "      <td>ATP:(R)-Glycerate 3-Phosphotransferase Ec:2.7....</td>\n",
       "      <td>rxn01102</td>\n",
       "      <td>MNXR2756</td>\n",
       "      <td>None</td>\n",
       "      <td>2.7.1.31</td>\n",
       "    </tr>\n",
       "  </tbody>\n",
       "</table>\n",
       "<p>1356 rows × 7 columns</p>\n",
       "</div>"
      ],
      "text/plain": [
       "                      Gene Reaction  \\\n",
       "170      411479.1.peg.1814  23DHMPO   \n",
       "171      411479.1.peg.1814  2AHBUTI   \n",
       "172      411479.1.peg.1439   23PDE2   \n",
       "173      411479.1.peg.1439   23PDE4   \n",
       "174      411479.1.peg.1439   23PDE7   \n",
       "...                    ...      ...   \n",
       "1707     411479.1.peg.3150    r0775   \n",
       "1708     411479.1.peg.3150    r0777   \n",
       "1709  411479.1.1966_16.peg    r0127   \n",
       "1710  411479.1.2441_16.peg    r0127   \n",
       "1711     411479.1.peg.2287    r0339   \n",
       "\n",
       "                                                   Name ModelSEED_id  \\\n",
       "170   (R)-2,3-Dihydroxy-3-methylpentanoate:NADP+ oxi...     rxn03435   \n",
       "171            (S)-2-Aceto-2-hydroxybutanoate isomerase     rxn03436   \n",
       "172                2,3-Cyclic UMP 3-nucleotidohydrolase     rxn02522   \n",
       "173                2,3-Cyclic CMP 3-nucleotidohydrolase     rxn02762   \n",
       "174                2,3-Cyclic AMP 3-nucleotidohydrolase     rxn02521   \n",
       "...                                                 ...          ...   \n",
       "1707  Formamidopyrimidine Nucleoside Triphosphate 7,...     rxn03419   \n",
       "1708                          GTP 7, 8-8, 9-Dihydrolase     rxn03421   \n",
       "1709  L-Asparagine Amidohydrolase / Cyanoamino Acid ...     rxn00342   \n",
       "1710  L-Asparagine Amidohydrolase / Cyanoamino Acid ...     rxn00342   \n",
       "1711  ATP:(R)-Glycerate 3-Phosphotransferase Ec:2.7....     rxn01102   \n",
       "\n",
       "       MetaNetX KEGG_id            ecNumber  \n",
       "170   MNXR83171    None            1.1.1.86  \n",
       "171   MNXR76597    None  1.1.1.86, 5.4.99.3  \n",
       "172      MNXR34    None            3.1.4.16  \n",
       "173      MNXR35    None            3.1.4.16  \n",
       "174      MNXR36    None            3.1.4.16  \n",
       "...         ...     ...                 ...  \n",
       "1707  MNXR85297    None            3.5.4.16  \n",
       "1708  MNXR74388    None            3.5.4.16  \n",
       "1709  MNXR81754    None            3.5.1.38  \n",
       "1710  MNXR81754    None            3.5.1.38  \n",
       "1711   MNXR2756    None            2.7.1.31  \n",
       "\n",
       "[1356 rows x 7 columns]"
      ]
     },
     "execution_count": 8,
     "metadata": {},
     "output_type": "execute_result"
    }
   ],
   "source": [
    "mask = df_ge['ecNumber'].values!=None\n",
    "ec_nona = df_ge[mask]\n",
    "ec_nona"
   ]
  },
  {
   "cell_type": "code",
   "execution_count": 9,
   "id": "71654819",
   "metadata": {},
   "outputs": [],
   "source": [
    "seed_id = df_ge['ModelSEED_id'].values.tolist()\n",
    "\n",
    "seed_id = [reduce(lambda x: x, inner_list) for inner_list in seed_id]\n",
    "\n",
    "metanetx_id = df_ge['MetaNetX'].values.tolist()\n",
    "\n",
    "metanetx_id = [reduce(lambda x: x, inner_list) for inner_list in metanetx_id]\n",
    "\n",
    "kegg_id = df_ge['KEGG_id'].values.tolist()\n",
    "\n",
    "kegg_id = [reduce(lambda x: x, inner_list) for inner_list in kegg_id]"
   ]
  },
  {
   "cell_type": "markdown",
   "id": "a7a40541",
   "metadata": {},
   "source": [
    " ## ModelSEED query"
   ]
  },
  {
   "cell_type": "code",
   "execution_count": null,
   "id": "6cba0e44",
   "metadata": {},
   "outputs": [
    {
     "data": {
      "application/vnd.jupyter.widget-view+json": {
       "model_id": "94a73ceecfec4ef897d026966bc04eba",
       "version_major": 2,
       "version_minor": 0
      },
      "text/plain": [
       "  0%|          | 0/1722 [00:00<?, ?it/s]"
      ]
     },
     "metadata": {},
     "output_type": "display_data"
    }
   ],
   "source": [
    "SOLR_URL='https://modelseed.org'\n",
    "ls_name = []\n",
    "ls_kegg = []\n",
    "ls_bigg = []\n",
    "\n",
    "for mseed_id in tqdm(seed_id):\n",
    "    i = seed_id.index(mseed_id)\n",
    "    if mseed_id == None:\n",
    "        ls_name.append('None')\n",
    "        ls_kegg.append('None')\n",
    "        ls_bigg.append('None')\n",
    "    else:\n",
    "        try:\n",
    "            connection = urlopen(SOLR_URL+f'/solr/reactions/select?wt=json&q=id:{mseed_id}&fl=name,id,formula,charge,aliases')\n",
    "            response = json.load(connection)\n",
    "            for document in response['response']['docs']:  \n",
    "                ms_name = document.get('name')\n",
    "                ls_alias = document.get('aliases')\n",
    "                ms_bigg = list(filter(lambda a: 'BiGG:' in a, document.get('aliases')))\n",
    "                ms_kegg = list(filter(lambda a: 'KEGG:' in a, document.get('aliases')))\n",
    "                if len(ms_bigg)== 0 and len(ms_kegg)== 0:\n",
    "                    ms_bigg = 'None'\n",
    "                    ms_kegg = 'None'\n",
    "                elif len(ms_bigg)== 0 and len(ms_kegg)!= 0:\n",
    "                    ms_bigg = 'None'\n",
    "                    ms_kegg = list(ms_kegg)[0]\n",
    "                    ms_kegg = ms_kegg.replace('KEGG: ','')\n",
    "                elif len(ms_bigg)!= 0 and len(ms_kegg)== 0:\n",
    "                    ms_kegg = 'None'\n",
    "                    ms_bigg = list(ms_bigg)[0]\n",
    "                    ms_bigg = ms_bigg.replace('BiGG: ','')\n",
    "                else:\n",
    "                    ms_kegg = list(ms_kegg)[0]\n",
    "                    ms_kegg = ms_kegg.replace('KEGG: ','')\n",
    "                    ms_bigg = list(ms_bigg)[0]\n",
    "                    ms_bigg = ms_bigg.replace('BiGG: ','')    \n",
    "                ls_name.append(ms_name)\n",
    "                ls_bigg.append(ms_bigg)\n",
    "                ls_kegg.append(ms_kegg)           \n",
    "        except:\n",
    "            ls_name.append('None')\n",
    "            ls_kegg.append('None')\n",
    "            ls_bigg.append('None')"
   ]
  },
  {
   "cell_type": "code",
   "execution_count": null,
   "id": "75b0c6f9",
   "metadata": {},
   "outputs": [],
   "source": [
    "new_kegg = [next(filter(None, i)) for i in zip(ls_kegg, kegg_id)]"
   ]
  },
  {
   "cell_type": "code",
   "execution_count": null,
   "id": "25aea3c4",
   "metadata": {},
   "outputs": [],
   "source": [
    "df_ge['BIGG_id'] = ls_bigg\n",
    "df_ge['KEGG_id'] = new_kegg"
   ]
  },
  {
   "cell_type": "markdown",
   "id": "9431b75c",
   "metadata": {},
   "source": [
    "## BiGG query"
   ]
  },
  {
   "cell_type": "code",
   "execution_count": null,
   "id": "41ea8150",
   "metadata": {},
   "outputs": [],
   "source": [
    "import requests\n",
    "\n",
    "ls_bigg = df_ge['BIGG_id'].values.tolist()\n",
    "bigg_ls = []\n",
    "\n",
    "for bigg in tqdm(ls_bigg):\n",
    "    for bigg_n in bigg:\n",
    "        bigg_n = str(bigg_n)\n",
    "        bigg_n = bigg_n.split(';')\n",
    "        bigg_n = [x.strip(' ') for x in bigg_n]\n",
    "        sub_bigg_ls = []\n",
    "        for bi in bigg_n:\n",
    "            if bi == 'None':\n",
    "                pass\n",
    "            else:\n",
    "                url =f'http://bigg.ucsd.edu/api/v2/universal/reactions/{bi}'\n",
    "                with requests.request(\"GET\", url) as resp:\n",
    "                    try:\n",
    "                        resp.raise_for_status()  # raises exception when not a 2xx response\n",
    "                        if resp.status_code != 204:\n",
    "                            data = dict(resp.json())\n",
    "                            ec_l = data['database_links']\n",
    "                            if ec_l == None:\n",
    "                                sub_bigg_ls.append(None)\n",
    "                            else:\n",
    "                                ec = [i['id'] for i in ec_l['EC Number']]\n",
    "                                if ec == None:\n",
    "                                    sub_bigg_ls.append(None)\n",
    "                                sub_bigg_ls.append(ec)\n",
    "                        else: \n",
    "                            sub_bigg_ls.append(None)\n",
    "                    except:\n",
    "                        sub_bigg_ls.append(None)\n",
    "    bigg_ls.append(sub_bigg_ls)"
   ]
  },
  {
   "cell_type": "code",
   "execution_count": null,
   "id": "aabc406c",
   "metadata": {},
   "outputs": [],
   "source": [
    "ec_l = df_ge['ecNumber'].values.tolist()\n",
    "new_l = [next(filter(None, i)) for i in zip(bigg_ls, ec_l)]\n",
    "df_ge['ecNumber'] = new_l"
   ]
  },
  {
   "cell_type": "code",
   "execution_count": null,
   "id": "380bbc78",
   "metadata": {},
   "outputs": [],
   "source": [
    "df_ge"
   ]
  },
  {
   "cell_type": "markdown",
   "id": "a2010b4c",
   "metadata": {},
   "source": [
    "## Substrates"
   ]
  },
  {
   "cell_type": "code",
   "execution_count": null,
   "id": "10854e76",
   "metadata": {},
   "outputs": [],
   "source": [
    "rx_l = df_ge['Reaction'].values.tolist()\n",
    "ls_sub = []\n",
    "\n",
    "for rxn in rx_l:\n",
    "    for rx in rxn:\n",
    "        sub = list(sim.get_substrates(rx).keys())\n",
    "        ls_sub.append(sub)\n",
    "    \n",
    "df_ge[\"Substrates\"] = ls_sub   \n",
    "\n",
    "df_ge"
   ]
  },
  {
   "cell_type": "code",
   "execution_count": null,
   "id": "d0def570",
   "metadata": {},
   "outputs": [],
   "source": [
    "sub_na = df_ge['Substrates'].values.tolist()\n",
    "\n",
    "ls_sub = []\n",
    "ls_smile =[]\n",
    "\n",
    "\n",
    "\n",
    "for sub_l in tqdm(sub_na):\n",
    "    sub_ls_sub = []\n",
    "    sub_ls_smile = []\n",
    "    for sub_s in sub_l:\n",
    "        for sub in sub_s:\n",
    "            sub_name = sim.get_metabolite(sub).get('name')\n",
    "            if \"2,3-C\" in sub_name:\n",
    "                sub_name = sub_name.replace(\"2,3\",\"2',3'\")\n",
    "            elif \"2,3-c\" in sub_name:\n",
    "                sub_name = sub_name.replace(\"2,3\",\"2',3'\")\n",
    "            elif \"3-triphosphate\" in sub_name:\n",
    "                sub_name = sub_name.replace(\"3\",\"3'\")\n",
    "            else:\n",
    "                pass\n",
    "            smile = get_smiles(sub_name)\n",
    "            sub_ls_smile.append(smile)\n",
    "            sub_ls_sub.append(sub_name)\n",
    "        ls_sub.append(sub_ls_sub)\n",
    "        ls_smile.append(sub_ls_smile)\n",
    "\n",
    "df_ge['Substrate Name'] = ls_sub\n",
    "df_ge['Substrate SMILES'] = ls_smile\n",
    "df_ge.to_csv(f'../data/ec_data/ge_data_{model.id}.csv',na_rep='None')"
   ]
  },
  {
   "cell_type": "code",
   "execution_count": null,
   "id": "d900e4a9",
   "metadata": {},
   "outputs": [],
   "source": [
    "df_ge = pd.read_csv(f'../data/ec_data/ge_data_{model.id}.csv')\n",
    "df_ge = df_ge.loc[:,['Gene','Reaction','Name','ModelSEED_id','MetaNetX','KEGG_id','BIGG_id','Substrates','Substrate Name','Substrate SMILES','ecNumber']]\n",
    "df_ge"
   ]
  },
  {
   "cell_type": "code",
   "execution_count": null,
   "id": "c0d78842",
   "metadata": {},
   "outputs": [],
   "source": [
    "ec_l = df_ge['ecNumber'].values.tolist()\n",
    "ec_nl = []\n",
    "ei = []\n",
    "\n",
    "for es in ec_l:\n",
    "    es = str(es)\n",
    "    es = es.split(',')\n",
    "    ei = []\n",
    "    for sublist in es:\n",
    "        sublist = str(sublist)\n",
    "        sublist = sublist.strip(\"[[\")\n",
    "        sublist = sublist.strip(\" \")\n",
    "        sublist = sublist.strip(\"'\")\n",
    "        sublist = sublist.strip(\"[\")\n",
    "        sublist = sublist.strip(\"[\")\n",
    "        sublist = sublist.strip(\"'\")\n",
    "        sublist = sublist.strip(\"'\")\n",
    "        sublist = sublist.strip(\"]\")\n",
    "        sublist = sublist.strip(\"]]\")  \n",
    "        sublist = sublist.strip(\"'\")\n",
    "        if sublist not in ei:\n",
    "            if sublist == 'None' and len(ei) > 0:\n",
    "                pass\n",
    "            elif '-' in sublist:\n",
    "                pass\n",
    "            else:\n",
    "                ei.append(sublist)\n",
    "    ec_nl.append(ei)\n",
    "\n",
    "df_ge['ecNumber'] = ec_nl"
   ]
  },
  {
   "cell_type": "markdown",
   "id": "5978390d",
   "metadata": {},
   "source": [
    "## BRENDA query"
   ]
  },
  {
   "cell_type": "markdown",
   "id": "3e8ca553",
   "metadata": {},
   "source": [
    "### Kcat extraction"
   ]
  },
  {
   "cell_type": "code",
   "execution_count": null,
   "id": "0008a4fb",
   "metadata": {},
   "outputs": [],
   "source": [
    "from brendapyrser import BRENDA\n",
    "from brendapyrser import EnzymePropertyDict\n",
    "\n",
    "\n",
    "dataFile = '../../brenda_2023_1.txt'"
   ]
  },
  {
   "cell_type": "code",
   "execution_count": null,
   "id": "3ab59d65",
   "metadata": {},
   "outputs": [],
   "source": [
    "brenda = BRENDA(dataFile)\n",
    "brenda"
   ]
  },
  {
   "cell_type": "code",
   "execution_count": null,
   "id": "79bb0140",
   "metadata": {},
   "outputs": [],
   "source": [
    "kcat_ls = []\n",
    "ec_ls = df_ge['ecNumber'].values.tolist()\n",
    "\n",
    "for ec in tqdm(ec_ls):\n",
    "    ec=str(ec)\n",
    "    ec = ec.split(',')\n",
    "    sub_kcat_ls = []\n",
    "    #print(ec)\n",
    "    for ec_n in ec:\n",
    "        ec_n = ec_n.strip(',')\n",
    "        ec_n = ec_n.strip('[')\n",
    "        ec_n = ec_n.strip('[[')\n",
    "        ec_n = ec_n.strip(']')\n",
    "        ec_n = ec_n.strip(']]')\n",
    "        ec_n = ec_n.strip(' ')\n",
    "        ec_n = ec_n.strip('[')\n",
    "        ec_n = ec_n.strip(\"'\")\n",
    "        ec_n = ec_n.strip(',')\n",
    "        ec_n = ec_n.strip(' ')\n",
    "        if \"-\" in ec_n:\n",
    "            pass\n",
    "        elif ec_n == None:\n",
    "            sub_kcat_ls.append(None)\n",
    "            continue\n",
    "        else:\n",
    "            try:\n",
    "                r = brenda.reactions.get_by_id(ec_n)\n",
    "                kcat_va = r.Kcatvalues.get_values()\n",
    "                avg_kcat = sum(kcat_va)/len(kcat_va)\n",
    "                sub_kcat_ls.append(avg_kcat)\n",
    "            except:\n",
    "                sub_kcat_ls.append(None)\n",
    "    kcat_ls.append(sub_kcat_ls)\n",
    "\n",
    "df_ge['Avg Kcat (by ec)'] = kcat_ls"
   ]
  },
  {
   "cell_type": "code",
   "execution_count": null,
   "id": "251c7897",
   "metadata": {},
   "outputs": [],
   "source": [
    "kcat_ls = []\n",
    "ec_ls = df_ge['ecNumber'].values.tolist()\n",
    "\n",
    "\n",
    "for ec in tqdm(ec_ls):\n",
    "    ec=str(ec)\n",
    "    ec = ec.split(',')\n",
    "    sub_kcat_ls = []\n",
    "    for ec_n in ec:\n",
    "        ec_n = ec_n.strip(',')\n",
    "        ec_n = ec_n.strip('[')\n",
    "        ec_n = ec_n.strip('[[')\n",
    "        ec_n = ec_n.strip(']')\n",
    "        ec_n = ec_n.strip(']]')\n",
    "        ec_n = ec_n.strip(' ')\n",
    "        ec_n = ec_n.strip('[')\n",
    "        ec_n = ec_n.strip(\"'\")\n",
    "        if \"-\" in ec_n:\n",
    "            pass\n",
    "        else:\n",
    "            try:\n",
    "                r = brenda.reactions.get_by_id(ec_n)\n",
    "                kcat_va = r.Kcatvalues.filter_by_organism(organism).get_values()\n",
    "                avg_kcat = sum(kcat_va)/len(kcat_va)\n",
    "                sub_kcat_ls.append(avg_kcat)\n",
    "            except:\n",
    "                sub_kcat_ls.append(None)\n",
    "    kcat_ls.append(sub_kcat_ls)\n",
    "\n",
    "df_ge['Avg Kcat (by ec and species)'] = kcat_ls"
   ]
  },
  {
   "cell_type": "markdown",
   "id": "d586d4b1",
   "metadata": {},
   "source": [
    "### Sequence extraction"
   ]
  },
  {
   "cell_type": "code",
   "execution_count": null,
   "id": "b2b3ecc9",
   "metadata": {},
   "outputs": [],
   "source": [
    "seq_ls = []\n",
    "ec_ls = df_ge['ecNumber'].values.tolist()\n",
    "\n",
    "\n",
    "for ec in tqdm(ec_ls):\n",
    "    ec=str(ec)\n",
    "    ec = ec.split(',')\n",
    "    sub_seq_ls = []\n",
    "    for ec_n in ec:\n",
    "        ec_n = ec_n.strip(',')\n",
    "        ec_n = ec_n.strip('[')\n",
    "        ec_n = ec_n.strip('[[')\n",
    "        ec_n = ec_n.strip(']')\n",
    "        ec_n = ec_n.strip(']]')\n",
    "        ec_n = ec_n.strip(' ')\n",
    "        ec_n = ec_n.strip('[')\n",
    "        ec_n = ec_n.strip(\"'\")\n",
    "        ec_n = ec_n.strip(' ')\n",
    "        ec_n = ec_n.strip('[')\n",
    "        if \"-\" in ec_n:\n",
    "            pass\n",
    "        elif ec_n == None:\n",
    "            sub_mw_ls.append(None)\n",
    "        else:\n",
    "            try:\n",
    "                from zeep import Client\n",
    "                import hashlib\n",
    "\n",
    "                wsdl = \"https://www.brenda-enzymes.org/soap/brenda_zeep.wsdl\"\n",
    "                password = hashlib.sha256(\"07042000Alex!\".encode(\"utf-8\")).hexdigest()\n",
    "                client = Client(wsdl)\n",
    "                parameters = ( \"alexandreareias1718@gmail.com\",password,f\"ecNumber*{ec_n}\",\"sequence*\", \"noOfAminoAcids*\", \"firstAccessionCode*\", \"source*\", \"id*\", \"organism*Bacteroides sp\")\n",
    "                resultString = client.service.getSequence(*parameters) \n",
    "                sub_seq_ls.append(resultString[0]['sequence'])\n",
    "            except:\n",
    "                sub_seq_ls.append(None)                  \n",
    "    seq_ls.append(sub_seq_ls)\n",
    "    \n",
    "df_ge['Protein Sequence'] = seq_ls"
   ]
  },
  {
   "cell_type": "markdown",
   "id": "0a06873b",
   "metadata": {},
   "source": [
    "### Molecular Weight extraction"
   ]
  },
  {
   "cell_type": "code",
   "execution_count": null,
   "id": "e26cfcf9",
   "metadata": {},
   "outputs": [],
   "source": [
    "mw_ls = []\n",
    "ec_ls = df_ge['ecNumber'].values.tolist()\n",
    "\n",
    "\n",
    "for ec in tqdm(ec_ls):\n",
    "    ec=str(ec)\n",
    "    ec = ec.split(',')\n",
    "    sub_mw_ls = []\n",
    "    for ec_n in ec:\n",
    "        ec_n = ec_n.strip(',')\n",
    "        ec_n = ec_n.strip('[')\n",
    "        ec_n = ec_n.strip('[[')\n",
    "        ec_n = ec_n.strip(']')\n",
    "        ec_n = ec_n.strip(']]')\n",
    "        ec_n = ec_n.strip(' ')\n",
    "        ec_n = ec_n.strip('[')\n",
    "        ec_n = ec_n.strip(\"'\")\n",
    "        ec_n = ec_n.strip(' ')\n",
    "        ec_n = ec_n.strip('[')\n",
    "        if \"-\" in ec_n:\n",
    "            pass\n",
    "        elif ec_n == None:\n",
    "            sub_mw_ls.append(None)\n",
    "        else:\n",
    "            try:\n",
    "                from zeep import Client\n",
    "                import hashlib\n",
    "                \n",
    "                res_mw = 0\n",
    "                wsdl = \"https://www.brenda-enzymes.org/soap/brenda_zeep.wsdl\"\n",
    "                password = hashlib.sha256(\"07042000Alex!\".encode(\"utf-8\")).hexdigest()\n",
    "                client = Client(wsdl)\n",
    "                parameters = (\"alexandreareias1718@gmail.com\",password,f\"ecNumber*{ec_n}\",\"molecularWeight*\",\"molecularWeightMaximum*\",\"commentary*\",\"organism*\",\"literature*\" )\n",
    "                resultString = client.service.getMolecularWeight(*parameters)\n",
    "                for i in range(len(resultString)):\n",
    "                    res_mw = res_mw + int(resultString[i]['molecularWeight'])\n",
    "                res_mw = res_mw/len(resultString)\n",
    "                sub_mw_ls.append(res_mw)\n",
    "            except:\n",
    "                sub_mw_ls.append(None)                  \n",
    "    mw_ls.append(sub_mw_ls)\n",
    "\n",
    "df_ge['Molecular Weight'] = mw_ls"
   ]
  },
  {
   "cell_type": "code",
   "execution_count": null,
   "id": "d0424bc3",
   "metadata": {},
   "outputs": [],
   "source": [
    "from zeep import Client\n",
    "import hashlib\n",
    "\n",
    "res_mw = 0\n",
    "\n",
    "wsdl = \"https://www.brenda-enzymes.org/soap/brenda_zeep.wsdl\"\n",
    "password = hashlib.sha256(\"07042000Alex!\".encode(\"utf-8\")).hexdigest()\n",
    "client = Client(wsdl)\n",
    "parameters = (\"alexandreareias1718@gmail.com\",password,\"ecNumber*1.1.1.86\", \"molecularWeight*\", \"molecularWeightMaximum*\", \"commentary*\", \"organism*\", \"literature*\")\n",
    "resultString = client.service.getMolecularWeight(*parameters) \n",
    "for i in range(len(resultString)):\n",
    "        res_mw = res_mw + int(resultString[i]['molecularWeight'])\n",
    "res_mw = res_mw/len(resultString)\n",
    "print(res_mw)"
   ]
  },
  {
   "cell_type": "code",
   "execution_count": null,
   "id": "3b9d0a9f",
   "metadata": {},
   "outputs": [],
   "source": [
    "df_ge"
   ]
  },
  {
   "cell_type": "markdown",
   "id": "92b4ca67",
   "metadata": {},
   "source": [
    "## DLKcat - Kcat prediction"
   ]
  },
  {
   "cell_type": "code",
   "execution_count": null,
   "id": "130ce074",
   "metadata": {},
   "outputs": [],
   "source": [
    "dk_prep = df_ge.drop(columns=['Substrates','ModelSEED_id','MetaNetX','KEGG_id','BIGG_id','ecNumber'])\n",
    "dk_prep"
   ]
  },
  {
   "cell_type": "code",
   "execution_count": null,
   "id": "2f21d862",
   "metadata": {},
   "outputs": [],
   "source": [
    "dk_prep['Substrate Name'] = dk_prep['Substrate Name'].apply(literal_eval) #convert to list type\n",
    "dk_prep['Substrate SMILES'] = dk_prep['Substrate SMILES'].apply(literal_eval) #convert to list type\n",
    "dk_prep = dk_prep.explode(['Substrate Name','Substrate SMILES']).reset_index(drop=True)"
   ]
  },
  {
   "cell_type": "code",
   "execution_count": null,
   "id": "89974c71",
   "metadata": {},
   "outputs": [],
   "source": [
    "#dk_prep['Protein Sequence'] = dk_prep['Protein Sequence'].apply(literal_eval) #convert to list type\n",
    "#dk_prep['Molecular Weight'] = dk_prep['Molecular Weight'].apply(literal_eval) #convert to list type\n",
    "dk_prep = dk_prep.explode(['Protein Sequence','Molecular Weight','Avg Kcat (by ec)','Avg Kcat (by ec and species)']).reset_index(drop=True)"
   ]
  },
  {
   "cell_type": "code",
   "execution_count": null,
   "id": "fe52a997",
   "metadata": {},
   "outputs": [],
   "source": [
    "dk_inp = dk_prep.drop(columns=['Gene','Reaction', 'Name', 'Avg Kcat (by ec)', 'Avg Kcat (by ec and species)','Molecular Weight'])\n",
    "dk_inp.to_csv(f'../../DLKcat/DeeplearningApproach/Code/example/dk_input_{model.id}.tsv',sep=\"\\t\",na_rep='None',index= False)"
   ]
  },
  {
   "cell_type": "code",
   "execution_count": null,
   "id": "3422e398",
   "metadata": {},
   "outputs": [],
   "source": [
    "dk_inp"
   ]
  },
  {
   "cell_type": "markdown",
   "id": "2396acff",
   "metadata": {},
   "source": [
    "Run DLKcat"
   ]
  },
  {
   "cell_type": "code",
   "execution_count": null,
   "id": "4231ee69",
   "metadata": {},
   "outputs": [],
   "source": [
    "dk_out = pd.read_csv(f'../../DLKcat/DeeplearningApproach/Code/example/output.tsv', sep=\"\\t\")\n",
    "dk_out['Gene'] = dk_prep['Gene']\n",
    "dk_out['Reaction'] = dk_prep['Reaction']\n",
    "dk_out['Molecular Weight'] = dk_prep['Molecular Weight']\n",
    "dk_out['Avg Kcat (by ec)'] = dk_prep['Avg Kcat (by ec)']\n",
    "dk_out = dk_out.loc[:,['Gene','Reaction','Substrate Name','Substrate SMILES','Protein Sequence','Molecular Weight','Kcat value (1/s)','Avg Kcat (by ec)']]  \n",
    "dk_out"
   ]
  },
  {
   "cell_type": "markdown",
   "id": "dd735ce2",
   "metadata": {},
   "source": [
    "### Joining Kcat values"
   ]
  },
  {
   "cell_type": "code",
   "execution_count": null,
   "id": "cc06eba4",
   "metadata": {},
   "outputs": [],
   "source": [
    "kcat_brenda = dk_out['Avg Kcat (by ec)'].values.tolist()\n",
    "kcat_dl = dk_out['Kcat value (1/s)'].values.tolist()\n",
    "new_kcat = []\n",
    "\n",
    "for i in range(len(kcat_brenda)):\n",
    "    if kcat_brenda[i] != None and kcat_dl[i] != 'None':\n",
    "        kcat = (float(kcat_brenda[i]) + float(kcat_dl[i]))/2\n",
    "    elif kcat_brenda[i] == None and kcat_dl[i] != 'None':\n",
    "        kcat = kcat_dl[i]\n",
    "    elif kcat_brenda[i] != None and kcat_dl[i] == 'None':\n",
    "        kcat = kcat_brenda[i]\n",
    "    elif kcat_brenda[i] == None and kcat_dl[i] == 'None':\n",
    "        kcat = 0\n",
    "    new_kcat.append(kcat)\n",
    "    \n",
    "dk_out['New Kcat'] = new_kcat\n",
    "dk_out"
   ]
  },
  {
   "cell_type": "markdown",
   "id": "8adb6477",
   "metadata": {},
   "source": [
    "## Adding ezymatic constraints"
   ]
  },
  {
   "cell_type": "code",
   "execution_count": null,
   "id": "8470ccbc",
   "metadata": {},
   "outputs": [],
   "source": [
    "genes = dk_out['Gene'].values.tolist()\n",
    "mweights = dk_out['Molecular Weight'].values.tolist()\n",
    "kcats = dk_out['New Kcat'].values.tolist()\n",
    "\n",
    "ec_data = dict()\n",
    "for gene in genes:\n",
    "    ge = sim.get_gene(gene).id\n",
    "    i = genes.index(gene)\n",
    "    mw = mweights[i]\n",
    "    if mw == None:\n",
    "        mw = 0\n",
    "    kcat = kcats[i]\n",
    "    if kcat == None:\n",
    "        kcat = 1\n",
    "    ec_data[ge]={'protein':ge[len(sim._g_prefix):],'mw':mw,'kcat':kcat}\n",
    "    \n",
    "print(ec_data)"
   ]
  },
  {
   "cell_type": "code",
   "execution_count": null,
   "id": "2b735f33",
   "metadata": {},
   "outputs": [],
   "source": [
    "print(\"Genes with missing data:\")\n",
    "for k,v in ec_data.items():\n",
    "    if v['mw']==0:\n",
    "        print(k)"
   ]
  },
  {
   "cell_type": "code",
   "execution_count": null,
   "id": "47d84394",
   "metadata": {},
   "outputs": [],
   "source": [
    "ec_sim = add_enzyme_constraints(sim2, ec_data)"
   ]
  },
  {
   "cell_type": "markdown",
   "id": "95f46804",
   "metadata": {},
   "source": [
    "### Protein pool usage"
   ]
  },
  {
   "cell_type": "raw",
   "id": "ee577204",
   "metadata": {},
   "source": [
    "res = ec_sim.simulate()\n",
    "print(res)"
   ]
  },
  {
   "cell_type": "raw",
   "id": "cb184d2a",
   "metadata": {},
   "source": [
    "res.find('pool')"
   ]
  },
  {
   "cell_type": "markdown",
   "id": "443e8e29",
   "metadata": {},
   "source": [
    "### Save the model"
   ]
  },
  {
   "cell_type": "raw",
   "id": "9dbff130",
   "metadata": {},
   "source": [
    "save_cbmodel(ec_sim.model,f\"../models/ec/ec_{model.id}.xml\")"
   ]
  },
  {
   "cell_type": "raw",
   "id": "c09e45b3",
   "metadata": {},
   "source": [
    "ec_sim.proteins()"
   ]
  },
  {
   "cell_type": "raw",
   "id": "14f00696",
   "metadata": {},
   "source": [
    "env = Environment.complete(ec_sim, max_uptake=1000.0, inplace=False)\n",
    "\n",
    "env['R_prot_pool_exchange']=(0,0.8)\n",
    "\n",
    "ec_sim.simulate(constraints=env)"
   ]
  }
 ],
 "metadata": {
  "kernelspec": {
   "display_name": "Python 3 (ipykernel)",
   "language": "python",
   "name": "python3"
  },
  "language_info": {
   "codemirror_mode": {
    "name": "ipython",
    "version": 3
   },
   "file_extension": ".py",
   "mimetype": "text/x-python",
   "name": "python",
   "nbconvert_exporter": "python",
   "pygments_lexer": "ipython3",
   "version": "3.9.12"
  }
 },
 "nbformat": 4,
 "nbformat_minor": 5
}

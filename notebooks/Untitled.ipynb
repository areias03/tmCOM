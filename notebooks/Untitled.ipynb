{
 "cells": [
  {
   "cell_type": "code",
   "execution_count": 1,
   "id": "4be3591c",
   "metadata": {},
   "outputs": [],
   "source": [
    "from typing import List\n",
    "import os\n",
    "\n",
    "import pandas as pd\n",
    "import numpy as np\n",
    "from cobra.io import read_sbml_model\n",
    "from cobra.io.sbml import Model\n",
    "from mewpy.simulation import Environment, Simulator, get_simulator"
   ]
  },
  {
   "cell_type": "code",
   "execution_count": 2,
   "id": "e56bd5d0",
   "metadata": {},
   "outputs": [
    {
     "name": "stdout",
     "output_type": "stream",
     "text": [
      "Models: ['../models/ec/ec_Streptococcus_parasanguinis_ATCC_15912.xml', '../models/ec/ec_Coprococcus_comes_ATCC_27758.xml', '../models/ec/ec_Bacteroides_thetaiotaomicron_VPI_5482.xml', '../models/ec/ec_Bacteroides_uniformis_ATCC_8492.xml', '../models/ec/ec_Fusobacterium_nucleatum_subsp_nucleatum_ATCC_25586.xml', '../models/ec/ec_Escherichia_coli_ED1a.xml', '../models/ec/ec_Roseburia_intestinalis_L1_82.xml', '../models/ec/ec_Streptococcus_salivarius_DSM_20560.xml']\n",
      "Conditions: [{'prot_pool_exchange': (0, 0.1)}, {'prot_pool_exchange': (0, 0.2)}, {'prot_pool_exchange': (0, 0.3)}, {'prot_pool_exchange': (0, 0.4)}, {'prot_pool_exchange': (0, 0.5)}, {'prot_pool_exchange': (0, 0.6)}, {'prot_pool_exchange': (0, 0.7)}, {'prot_pool_exchange': (0, 0.8)}, {'prot_pool_exchange': (0, 0.9)}, {'prot_pool_exchange': (0, 1.0)}]\n"
     ]
    }
   ],
   "source": [
    "path = '../models/ec/'\n",
    "model_list: List = os.listdir(path)\n",
    "m_list: List = []\n",
    "\n",
    "for model in model_list:\n",
    "    model = path + model\n",
    "    m_list.append(model)\n",
    "\n",
    "print('Models:', m_list)\n",
    "l_va = np.linspace(0.1, 1.0, num=10)\n",
    "constraint_list: List = []\n",
    "\n",
    "for i in range(len(l_va)):\n",
    "    constraint_list.append({'prot_pool_exchange': (0, round(l_va[i], 1))})\n",
    "print('Conditions:', constraint_list)"
   ]
  },
  {
   "cell_type": "code",
   "execution_count": 4,
   "id": "0e66c903",
   "metadata": {},
   "outputs": [
    {
     "name": "stdout",
     "output_type": "stream",
     "text": [
      "[[{'prot_pool_exchange': (0, 0.1)}, {'Streptococcus_parasanguinis_ATCC_15912': 0.00014375934065246381}], [{'prot_pool_exchange': (0, 0.2)}, {'Streptococcus_parasanguinis_ATCC_15912': 0.00028751868130492763}], [{'prot_pool_exchange': (0, 0.3)}, {'Streptococcus_parasanguinis_ATCC_15912': 0.0004312780219573914}], [{'prot_pool_exchange': (0, 0.4)}, {'Streptococcus_parasanguinis_ATCC_15912': 0.0005750373626098553}], [{'prot_pool_exchange': (0, 0.5)}, {'Streptococcus_parasanguinis_ATCC_15912': 0.0007187967032623191}], [{'prot_pool_exchange': (0, 0.6)}, {'Streptococcus_parasanguinis_ATCC_15912': 0.0008625560439147828}], [{'prot_pool_exchange': (0, 0.7)}, {'Streptococcus_parasanguinis_ATCC_15912': 0.0010063153845672466}], [{'prot_pool_exchange': (0, 0.8)}, {'Streptococcus_parasanguinis_ATCC_15912': 0.0011500747252197105}], [{'prot_pool_exchange': (0, 0.9)}, {'Streptococcus_parasanguinis_ATCC_15912': 0.0012938340658721745}], [{'prot_pool_exchange': (0, 1.0)}, {'Streptococcus_parasanguinis_ATCC_15912': 0.0014375934065246382}]]\n"
     ]
    },
    {
     "ename": "OptimizationError",
     "evalue": "Solver status is 'unbounded'.",
     "output_type": "error",
     "traceback": [
      "\u001b[0;31m---------------------------------------------------------------------------\u001b[0m",
      "\u001b[0;31mOptimizationError\u001b[0m                         Traceback (most recent call last)",
      "Cell \u001b[0;32mIn[4], line 9\u001b[0m\n\u001b[1;32m      7\u001b[0m     env \u001b[38;5;241m=\u001b[39m Environment\u001b[38;5;241m.\u001b[39mcomplete(sim, max_uptake\u001b[38;5;241m=\u001b[39m\u001b[38;5;241m1000.0\u001b[39m, inplace\u001b[38;5;241m=\u001b[39m\u001b[38;5;28;01mFalse\u001b[39;00m)\n\u001b[1;32m      8\u001b[0m     sim\u001b[38;5;241m.\u001b[39mset_environmental_conditions(env)\n\u001b[0;32m----> 9\u001b[0m     solution \u001b[38;5;241m=\u001b[39m \u001b[43msim\u001b[49m\u001b[38;5;241;43m.\u001b[39;49m\u001b[43msimulate\u001b[49m\u001b[43m(\u001b[49m\u001b[43mconstraints\u001b[49m\u001b[38;5;241;43m=\u001b[39;49m\u001b[43mcons\u001b[49m\u001b[43m)\u001b[49m\n\u001b[1;32m     10\u001b[0m     sol_list\u001b[38;5;241m.\u001b[39mappend([cons, {\u001b[38;5;124mf\u001b[39m\u001b[38;5;124m'\u001b[39m\u001b[38;5;132;01m{\u001b[39;00mmodel_id\u001b[38;5;132;01m}\u001b[39;00m\u001b[38;5;124m'\u001b[39m: solution\u001b[38;5;241m.\u001b[39mobjective_value}])\n\u001b[1;32m     11\u001b[0m \u001b[38;5;28mprint\u001b[39m(sol_list)\n",
      "File \u001b[0;32m/usr/local/Caskroom/miniforge/base/envs/tmcom/lib/python3.9/site-packages/mewpy-0.1.31-py3.9.egg/mewpy/simulation/cobra.py:619\u001b[0m, in \u001b[0;36mSimulation.simulate\u001b[0;34m(self, objective, method, maximize, constraints, reference, scalefactor, solver, slim, shadow_prices)\u001b[0m\n\u001b[1;32m    617\u001b[0m         solution \u001b[38;5;241m=\u001b[39m model\u001b[38;5;241m.\u001b[39mslim_optimize()\n\u001b[1;32m    618\u001b[0m     \u001b[38;5;28;01melse\u001b[39;00m:\n\u001b[0;32m--> 619\u001b[0m         solution \u001b[38;5;241m=\u001b[39m \u001b[43mmodel\u001b[49m\u001b[38;5;241;43m.\u001b[39;49m\u001b[43moptimize\u001b[49m\u001b[43m(\u001b[49m\u001b[43mobjective_sense\u001b[49m\u001b[38;5;241;43m=\u001b[39;49m\u001b[43mobjective_sense\u001b[49m\u001b[43m)\u001b[49m\n\u001b[1;32m    620\u001b[0m \u001b[38;5;66;03m# pFBA\u001b[39;00m\n\u001b[1;32m    621\u001b[0m \u001b[38;5;28;01melif\u001b[39;00m method \u001b[38;5;241m==\u001b[39m SimulationMethod\u001b[38;5;241m.\u001b[39mpFBA:\n\u001b[1;32m    622\u001b[0m     \u001b[38;5;66;03m# make fraction_of_optimum a configurable parameter?\u001b[39;00m\n",
      "File \u001b[0;32m/usr/local/Caskroom/miniforge/base/envs/tmcom/lib/python3.9/site-packages/cobra/core/model.py:1236\u001b[0m, in \u001b[0;36mModel.optimize\u001b[0;34m(self, objective_sense, raise_error)\u001b[0m\n\u001b[1;32m   1232\u001b[0m \u001b[38;5;28mself\u001b[39m\u001b[38;5;241m.\u001b[39mobjective\u001b[38;5;241m.\u001b[39mdirection \u001b[38;5;241m=\u001b[39m {\u001b[38;5;124m\"\u001b[39m\u001b[38;5;124mmaximize\u001b[39m\u001b[38;5;124m\"\u001b[39m: \u001b[38;5;124m\"\u001b[39m\u001b[38;5;124mmax\u001b[39m\u001b[38;5;124m\"\u001b[39m, \u001b[38;5;124m\"\u001b[39m\u001b[38;5;124mminimize\u001b[39m\u001b[38;5;124m\"\u001b[39m: \u001b[38;5;124m\"\u001b[39m\u001b[38;5;124mmin\u001b[39m\u001b[38;5;124m\"\u001b[39m}\u001b[38;5;241m.\u001b[39mget(\n\u001b[1;32m   1233\u001b[0m     objective_sense, original_direction\n\u001b[1;32m   1234\u001b[0m )\n\u001b[1;32m   1235\u001b[0m \u001b[38;5;28mself\u001b[39m\u001b[38;5;241m.\u001b[39mslim_optimize()\n\u001b[0;32m-> 1236\u001b[0m solution \u001b[38;5;241m=\u001b[39m \u001b[43mget_solution\u001b[49m\u001b[43m(\u001b[49m\u001b[38;5;28;43mself\u001b[39;49m\u001b[43m,\u001b[49m\u001b[43m \u001b[49m\u001b[43mraise_error\u001b[49m\u001b[38;5;241;43m=\u001b[39;49m\u001b[43mraise_error\u001b[49m\u001b[43m)\u001b[49m\n\u001b[1;32m   1237\u001b[0m \u001b[38;5;28mself\u001b[39m\u001b[38;5;241m.\u001b[39mobjective\u001b[38;5;241m.\u001b[39mdirection \u001b[38;5;241m=\u001b[39m original_direction\n\u001b[1;32m   1238\u001b[0m \u001b[38;5;28;01mreturn\u001b[39;00m solution\n",
      "File \u001b[0;32m/usr/local/Caskroom/miniforge/base/envs/tmcom/lib/python3.9/site-packages/cobra/core/solution.py:166\u001b[0m, in \u001b[0;36mget_solution\u001b[0;34m(model, reactions, metabolites, raise_error)\u001b[0m\n\u001b[1;32m    138\u001b[0m \u001b[38;5;28;01mdef\u001b[39;00m \u001b[38;5;21mget_solution\u001b[39m(\n\u001b[1;32m    139\u001b[0m     model: \u001b[38;5;124m\"\u001b[39m\u001b[38;5;124mModel\u001b[39m\u001b[38;5;124m\"\u001b[39m,\n\u001b[1;32m    140\u001b[0m     reactions: Optional[Iterable[\u001b[38;5;124m\"\u001b[39m\u001b[38;5;124mReaction\u001b[39m\u001b[38;5;124m\"\u001b[39m]] \u001b[38;5;241m=\u001b[39m \u001b[38;5;28;01mNone\u001b[39;00m,\n\u001b[1;32m    141\u001b[0m     metabolites: Optional[Iterable[\u001b[38;5;124m\"\u001b[39m\u001b[38;5;124mMetabolite\u001b[39m\u001b[38;5;124m\"\u001b[39m]] \u001b[38;5;241m=\u001b[39m \u001b[38;5;28;01mNone\u001b[39;00m,\n\u001b[1;32m    142\u001b[0m     raise_error: \u001b[38;5;28mbool\u001b[39m \u001b[38;5;241m=\u001b[39m \u001b[38;5;28;01mFalse\u001b[39;00m,\n\u001b[1;32m    143\u001b[0m ) \u001b[38;5;241m-\u001b[39m\u001b[38;5;241m>\u001b[39m Solution:\n\u001b[1;32m    144\u001b[0m     \u001b[38;5;124;03m\"\"\"\u001b[39;00m\n\u001b[1;32m    145\u001b[0m \u001b[38;5;124;03m    Generate a solution representation of the current solver state.\u001b[39;00m\n\u001b[1;32m    146\u001b[0m \n\u001b[0;32m   (...)\u001b[0m\n\u001b[1;32m    164\u001b[0m \n\u001b[1;32m    165\u001b[0m \u001b[38;5;124;03m    \"\"\"\u001b[39;00m\n\u001b[0;32m--> 166\u001b[0m     \u001b[43mcheck_solver_status\u001b[49m\u001b[43m(\u001b[49m\u001b[43mmodel\u001b[49m\u001b[38;5;241;43m.\u001b[39;49m\u001b[43msolver\u001b[49m\u001b[38;5;241;43m.\u001b[39;49m\u001b[43mstatus\u001b[49m\u001b[43m,\u001b[49m\u001b[43m \u001b[49m\u001b[43mraise_error\u001b[49m\u001b[38;5;241;43m=\u001b[39;49m\u001b[43mraise_error\u001b[49m\u001b[43m)\u001b[49m\n\u001b[1;32m    167\u001b[0m     \u001b[38;5;28;01mif\u001b[39;00m reactions \u001b[38;5;129;01mis\u001b[39;00m \u001b[38;5;28;01mNone\u001b[39;00m:\n\u001b[1;32m    168\u001b[0m         reactions \u001b[38;5;241m=\u001b[39m model\u001b[38;5;241m.\u001b[39mreactions\n",
      "File \u001b[0;32m/usr/local/Caskroom/miniforge/base/envs/tmcom/lib/python3.9/site-packages/cobra/util/solver.py:560\u001b[0m, in \u001b[0;36mcheck_solver_status\u001b[0;34m(status, raise_error)\u001b[0m\n\u001b[1;32m    556\u001b[0m     \u001b[38;5;28;01mraise\u001b[39;00m OptimizationError(\n\u001b[1;32m    557\u001b[0m         \u001b[38;5;124m\"\u001b[39m\u001b[38;5;124mModel is not optimized yet or solver context has been switched.\u001b[39m\u001b[38;5;124m\"\u001b[39m\n\u001b[1;32m    558\u001b[0m     )\n\u001b[1;32m    559\u001b[0m \u001b[38;5;28;01melse\u001b[39;00m:\n\u001b[0;32m--> 560\u001b[0m     \u001b[38;5;28;01mraise\u001b[39;00m OptimizationError(\u001b[38;5;124mf\u001b[39m\u001b[38;5;124m\"\u001b[39m\u001b[38;5;124mSolver status is \u001b[39m\u001b[38;5;124m'\u001b[39m\u001b[38;5;132;01m{\u001b[39;00mstatus\u001b[38;5;132;01m}\u001b[39;00m\u001b[38;5;124m'\u001b[39m\u001b[38;5;124m.\u001b[39m\u001b[38;5;124m\"\u001b[39m)\n",
      "\u001b[0;31mOptimizationError\u001b[0m: Solver status is 'unbounded'."
     ]
    }
   ],
   "source": [
    "for m_path in m_list:\n",
    "    sol_list = []\n",
    "    model = read_sbml_model(m_path)\n",
    "    model_id = str(model.id.strip('M_'))\n",
    "    sim: Simulator = get_simulator(model)\n",
    "    env = Environment.complete(sim, max_uptake=1000.0, inplace=False)\n",
    "    sim.set_environmental_conditions(env)\n",
    "    solution = sim.simulate(constraints=cons)\n",
    "    sol_list.append([cons, {f'{model_id}': solution.objective_value}])"
   ]
  },
  {
   "cell_type": "code",
   "execution_count": null,
   "id": "248e8614",
   "metadata": {},
   "outputs": [],
   "source": []
  }
 ],
 "metadata": {
  "kernelspec": {
   "display_name": "Python 3 (ipykernel)",
   "language": "python",
   "name": "python3"
  },
  "language_info": {
   "codemirror_mode": {
    "name": "ipython",
    "version": 3
   },
   "file_extension": ".py",
   "mimetype": "text/x-python",
   "name": "python",
   "nbconvert_exporter": "python",
   "pygments_lexer": "ipython3",
   "version": "3.9.12"
  }
 },
 "nbformat": 4,
 "nbformat_minor": 5
}

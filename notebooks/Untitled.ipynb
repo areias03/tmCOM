{
 "cells": [
  {
   "cell_type": "code",
   "execution_count": 1,
   "id": "4be3591c",
   "metadata": {},
   "outputs": [],
   "source": [
    "from typing import List\n",
    "import seaborn as sns\n",
    "import matplotlib as plt\n",
    "\n",
    "import pandas as pd\n",
    "import numpy as np\n",
    "from cobra.io import read_sbml_model\n",
    "from cobra.io.sbml import Model\n",
    "from mewpy.simulation import Environment, Simulator, get_simulator\n",
    "\n",
    "from concurrent.futures import ProcessPoolExecutor"
   ]
  },
  {
   "cell_type": "code",
   "execution_count": 2,
   "id": "e56bd5d0",
   "metadata": {},
   "outputs": [
    {
     "name": "stdout",
     "output_type": "stream",
     "text": [
      "Set parameter Username\n",
      "Academic license - for non-commercial use only - expires 2024-11-11\n"
     ]
    }
   ],
   "source": [
    "ec_bt = read_sbml_model('../models/ec/ec_Bacteroides_thetaiotaomicron_VPI_5482.xml')\n",
    "ec_bu = read_sbml_model('../models/ec/ec_Bacteroides_uniformis_ATCC_8492.xml')\n",
    "ec_ec = read_sbml_model('../models/ec/ec_Escherichia_coli_ED1a.xml')\n",
    "ec_fn = read_sbml_model('../models/ec/ec_Fusobacterium_nucleatum_subsp_nucleatum_ATCC_25586.xml')\n",
    "ec_ri = read_sbml_model('../models/ec/ec_Roseburia_intestinalis_L1_82.xml')\n",
    "ec_sp = read_sbml_model('../models/ec/ec_Streptococcus_parasanguinis_ATCC_15912.xml')\n",
    "ec_ss = read_sbml_model('../models/ec/ec_Streptococcus_salivarius_DSM_20560.xml')\n",
    "ec_cc = read_sbml_model('../models/ec/ec_Coprococcus_comes_ATCC_27758.xml')\n",
    "\n",
    "sim_bt = get_simulator(ec_bt)\n",
    "sim_bu = get_simulator(ec_bu)\n",
    "sim_ec = get_simulator(ec_ec)\n",
    "sim_cc = get_simulator(ec_cc)\n",
    "sim_fn = get_simulator(ec_fn)\n",
    "sim_ri = get_simulator(ec_ri)\n",
    "sim_sp = get_simulator(ec_sp)\n",
    "sim_ss = get_simulator(ec_ss)\n",
    "\n",
    "sim_list = [sim_bt, sim_bu, sim_cc, sim_fn, sim_sp, sim_ss]"
   ]
  },
  {
   "cell_type": "code",
   "execution_count": 3,
   "id": "0e66c903",
   "metadata": {},
   "outputs": [],
   "source": [
    "def prot_pool_analysis(sim: Simulator):\n",
    "    l_va = np.linspace(0.1, 1.0, num=10)\n",
    "    constraint_list: List = []\n",
    "    sol_list: List = []\n",
    "    ind_list: List = []\n",
    "\n",
    "    for i in range(len(l_va)):\n",
    "        constraint_list.append({'prot_pool_exchange': (0, round(l_va[i], 1))})\n",
    "        ind_list.append(f'0 - {round(l_va[i], 1)}')\n",
    "\n",
    "    model_id = str(sim.id.strip('M_'))\n",
    "    print(f'Running {model_id}')\n",
    "    #env = Environment.complete(sim, max_uptake=1000.0, inplace=False)\n",
    "    #sim.set_environmental_conditions(env)\n",
    "    for i in range(len(l_va)):\n",
    "        cons = constraint_list[i]\n",
    "        solution = sim.simulate(constraints=cons)\n",
    "        sol_list.append(solution.objective_value)\n",
    "    data = {'Protein pool exchange': ind_list, model_id: sol_list}\n",
    "    df = pd.DataFrame(data)\n",
    "    df = df.set_index('Protein pool exchange')\n",
    "    return df"
   ]
  },
  {
   "cell_type": "code",
   "execution_count": 4,
   "id": "248e8614",
   "metadata": {},
   "outputs": [
    {
     "name": "stdout",
     "output_type": "stream",
     "text": [
      "Read LP format model from file /tmp/tmpupb7uhd9.lp\n",
      "Reading time = 0.03 seconds\n",
      ": 2865 rows, 9480 columns, 29512 nonzeros\n",
      "Read LP format model from file /tmp/tmp80aepj4x.lp\n",
      "Reading time = 0.03 seconds\n",
      ": 3026 rows, 11046 columns, 37516 nonzeros\n",
      "Read LP format model from file /tmp/tmp_w2jppg0.lp\n",
      "Reading time = 0.02 seconds\n",
      ": 1775 rows, 4488 columns, 18164 nonzeros\n",
      "Read LP format model from file /tmp/tmp5lllk2r1.lp\n",
      "Reading time = 0.02 seconds\n",
      ": 1639 rows, 4620 columns, 17262 nonzeros\n",
      "Read LP format model from file /tmp/tmps2vn96y0.lp\n",
      "Reading time = 0.01 seconds\n",
      ": 1378 rows, 3684 columns, 15016 nonzeros\n",
      "Read LP format model from file /tmp/tmpm7ewhheg.lp\n",
      "Reading time = 0.02 seconds\n",
      ": 2131 rows, 5528 columns, 23710 nonzeros\n",
      "Running Streptococcus_salivarius_DSM_20560\n",
      "Running Coprococcus_comes_ATCC_27758\n",
      "Running Fusobacterium_nucleatum_subsp_nucleatum_ATCC_25586\n",
      "Running Streptococcus_parasanguinis_ATCC_15912\n",
      "Running Bacteroides_thetaiotaomicron_VPI_5482\n",
      "Running Bacteroides_uniformis_ATCC_8492\n"
     ]
    },
    {
     "ename": "OptimizationError",
     "evalue": "Solver status is 'unbounded'.",
     "output_type": "error",
     "traceback": [
      "\u001b[0;31m---------------------------------------------------------------------------\u001b[0m",
      "\u001b[0;31m_RemoteTraceback\u001b[0m                          Traceback (most recent call last)",
      "\u001b[0;31m_RemoteTraceback\u001b[0m: \n\"\"\"\nTraceback (most recent call last):\n  File \"/home/mmartins/anaconda3/envs/tmcom/lib/python3.9/concurrent/futures/process.py\", line 243, in _process_worker\n    r = call_item.fn(*call_item.args, **call_item.kwargs)\n  File \"/home/mmartins/anaconda3/envs/tmcom/lib/python3.9/concurrent/futures/process.py\", line 202, in _process_chunk\n    return [fn(*args) for args in chunk]\n  File \"/home/mmartins/anaconda3/envs/tmcom/lib/python3.9/concurrent/futures/process.py\", line 202, in <listcomp>\n    return [fn(*args) for args in chunk]\n  File \"/tmp/ipykernel_1154342/1292042452.py\", line 17, in prot_pool_analysis\n    solution = sim.simulate(constraints=cons)\n  File \"/home/mmartins/anaconda3/envs/tmcom/lib/python3.9/site-packages/mewpy/simulation/cobra.py\", line 617, in simulate\n    solution = model.optimize(objective_sense=objective_sense)\n  File \"/home/mmartins/anaconda3/envs/tmcom/lib/python3.9/site-packages/cobra/core/model.py\", line 1236, in optimize\n    solution = get_solution(self, raise_error=raise_error)\n  File \"/home/mmartins/anaconda3/envs/tmcom/lib/python3.9/site-packages/cobra/core/solution.py\", line 166, in get_solution\n    check_solver_status(model.solver.status, raise_error=raise_error)\n  File \"/home/mmartins/anaconda3/envs/tmcom/lib/python3.9/site-packages/cobra/util/solver.py\", line 560, in check_solver_status\n    raise OptimizationError(f\"Solver status is '{status}'.\")\ncobra.exceptions.OptimizationError: Solver status is 'unbounded'.\n\"\"\"",
      "\nThe above exception was the direct cause of the following exception:\n",
      "\u001b[0;31mOptimizationError\u001b[0m                         Traceback (most recent call last)",
      "Cell \u001b[0;32mIn[4], line 5\u001b[0m\n\u001b[1;32m      3\u001b[0m \u001b[38;5;28;01mwith\u001b[39;00m ProcessPoolExecutor() \u001b[38;5;28;01mas\u001b[39;00m p:\n\u001b[1;32m      4\u001b[0m         solution_list \u001b[38;5;241m=\u001b[39m []\n\u001b[0;32m----> 5\u001b[0m         \u001b[38;5;28;01mfor\u001b[39;00m result \u001b[38;5;129;01min\u001b[39;00m p\u001b[38;5;241m.\u001b[39mmap(prot_pool_analysis, sim_list):\n\u001b[1;32m      6\u001b[0m             merged\u001b[38;5;241m.\u001b[39mappend(result)\n\u001b[1;32m      7\u001b[0m         df \u001b[38;5;241m=\u001b[39m pd\u001b[38;5;241m.\u001b[39mconcat(merged, axis\u001b[38;5;241m=\u001b[39m\u001b[38;5;241m1\u001b[39m)\n",
      "File \u001b[0;32m~/anaconda3/envs/tmcom/lib/python3.9/concurrent/futures/process.py:559\u001b[0m, in \u001b[0;36m_chain_from_iterable_of_lists\u001b[0;34m(iterable)\u001b[0m\n\u001b[1;32m    553\u001b[0m \u001b[38;5;28;01mdef\u001b[39;00m \u001b[38;5;21m_chain_from_iterable_of_lists\u001b[39m(iterable):\n\u001b[1;32m    554\u001b[0m \u001b[38;5;250m    \u001b[39m\u001b[38;5;124;03m\"\"\"\u001b[39;00m\n\u001b[1;32m    555\u001b[0m \u001b[38;5;124;03m    Specialized implementation of itertools.chain.from_iterable.\u001b[39;00m\n\u001b[1;32m    556\u001b[0m \u001b[38;5;124;03m    Each item in *iterable* should be a list.  This function is\u001b[39;00m\n\u001b[1;32m    557\u001b[0m \u001b[38;5;124;03m    careful not to keep references to yielded objects.\u001b[39;00m\n\u001b[1;32m    558\u001b[0m \u001b[38;5;124;03m    \"\"\"\u001b[39;00m\n\u001b[0;32m--> 559\u001b[0m     \u001b[38;5;28;01mfor\u001b[39;00m element \u001b[38;5;129;01min\u001b[39;00m iterable:\n\u001b[1;32m    560\u001b[0m         element\u001b[38;5;241m.\u001b[39mreverse()\n\u001b[1;32m    561\u001b[0m         \u001b[38;5;28;01mwhile\u001b[39;00m element:\n",
      "File \u001b[0;32m~/anaconda3/envs/tmcom/lib/python3.9/concurrent/futures/_base.py:609\u001b[0m, in \u001b[0;36mExecutor.map.<locals>.result_iterator\u001b[0;34m()\u001b[0m\n\u001b[1;32m    606\u001b[0m \u001b[38;5;28;01mwhile\u001b[39;00m fs:\n\u001b[1;32m    607\u001b[0m     \u001b[38;5;66;03m# Careful not to keep a reference to the popped future\u001b[39;00m\n\u001b[1;32m    608\u001b[0m     \u001b[38;5;28;01mif\u001b[39;00m timeout \u001b[38;5;129;01mis\u001b[39;00m \u001b[38;5;28;01mNone\u001b[39;00m:\n\u001b[0;32m--> 609\u001b[0m         \u001b[38;5;28;01myield\u001b[39;00m \u001b[43mfs\u001b[49m\u001b[38;5;241;43m.\u001b[39;49m\u001b[43mpop\u001b[49m\u001b[43m(\u001b[49m\u001b[43m)\u001b[49m\u001b[38;5;241;43m.\u001b[39;49m\u001b[43mresult\u001b[49m\u001b[43m(\u001b[49m\u001b[43m)\u001b[49m\n\u001b[1;32m    610\u001b[0m     \u001b[38;5;28;01melse\u001b[39;00m:\n\u001b[1;32m    611\u001b[0m         \u001b[38;5;28;01myield\u001b[39;00m fs\u001b[38;5;241m.\u001b[39mpop()\u001b[38;5;241m.\u001b[39mresult(end_time \u001b[38;5;241m-\u001b[39m time\u001b[38;5;241m.\u001b[39mmonotonic())\n",
      "File \u001b[0;32m~/anaconda3/envs/tmcom/lib/python3.9/concurrent/futures/_base.py:439\u001b[0m, in \u001b[0;36mFuture.result\u001b[0;34m(self, timeout)\u001b[0m\n\u001b[1;32m    437\u001b[0m     \u001b[38;5;28;01mraise\u001b[39;00m CancelledError()\n\u001b[1;32m    438\u001b[0m \u001b[38;5;28;01melif\u001b[39;00m \u001b[38;5;28mself\u001b[39m\u001b[38;5;241m.\u001b[39m_state \u001b[38;5;241m==\u001b[39m FINISHED:\n\u001b[0;32m--> 439\u001b[0m     \u001b[38;5;28;01mreturn\u001b[39;00m \u001b[38;5;28;43mself\u001b[39;49m\u001b[38;5;241;43m.\u001b[39;49m\u001b[43m__get_result\u001b[49m\u001b[43m(\u001b[49m\u001b[43m)\u001b[49m\n\u001b[1;32m    441\u001b[0m \u001b[38;5;28mself\u001b[39m\u001b[38;5;241m.\u001b[39m_condition\u001b[38;5;241m.\u001b[39mwait(timeout)\n\u001b[1;32m    443\u001b[0m \u001b[38;5;28;01mif\u001b[39;00m \u001b[38;5;28mself\u001b[39m\u001b[38;5;241m.\u001b[39m_state \u001b[38;5;129;01min\u001b[39;00m [CANCELLED, CANCELLED_AND_NOTIFIED]:\n",
      "File \u001b[0;32m~/anaconda3/envs/tmcom/lib/python3.9/concurrent/futures/_base.py:391\u001b[0m, in \u001b[0;36mFuture.__get_result\u001b[0;34m(self)\u001b[0m\n\u001b[1;32m    389\u001b[0m \u001b[38;5;28;01mif\u001b[39;00m \u001b[38;5;28mself\u001b[39m\u001b[38;5;241m.\u001b[39m_exception:\n\u001b[1;32m    390\u001b[0m     \u001b[38;5;28;01mtry\u001b[39;00m:\n\u001b[0;32m--> 391\u001b[0m         \u001b[38;5;28;01mraise\u001b[39;00m \u001b[38;5;28mself\u001b[39m\u001b[38;5;241m.\u001b[39m_exception\n\u001b[1;32m    392\u001b[0m     \u001b[38;5;28;01mfinally\u001b[39;00m:\n\u001b[1;32m    393\u001b[0m         \u001b[38;5;66;03m# Break a reference cycle with the exception in self._exception\u001b[39;00m\n\u001b[1;32m    394\u001b[0m         \u001b[38;5;28mself\u001b[39m \u001b[38;5;241m=\u001b[39m \u001b[38;5;28;01mNone\u001b[39;00m\n",
      "\u001b[0;31mOptimizationError\u001b[0m: Solver status is 'unbounded'."
     ]
    }
   ],
   "source": [
    "merged: List = []\n",
    "\n",
    "with ProcessPoolExecutor() as p:\n",
    "        solution_list = []\n",
    "        for result in p.map(prot_pool_analysis, sim_list):\n",
    "            merged.append(result)\n",
    "        df = pd.concat(merged, axis=1)\n",
    "        print(df)\n",
    "        df_norm = (df - df.mean()) / df.std()\n",
    "        sns.heatmap(df_norm)"
   ]
  },
  {
   "cell_type": "code",
   "execution_count": null,
   "id": "eddd4482",
   "metadata": {},
   "outputs": [],
   "source": []
  }
 ],
 "metadata": {
  "kernelspec": {
   "display_name": "Python 3 (ipykernel)",
   "language": "python",
   "name": "python3"
  },
  "language_info": {
   "codemirror_mode": {
    "name": "ipython",
    "version": 3
   },
   "file_extension": ".py",
   "mimetype": "text/x-python",
   "name": "python",
   "nbconvert_exporter": "python",
   "pygments_lexer": "ipython3",
   "version": "3.9.12"
  }
 },
 "nbformat": 4,
 "nbformat_minor": 5
}

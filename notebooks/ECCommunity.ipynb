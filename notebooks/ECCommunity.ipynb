{
 "cells": [
  {
   "cell_type": "code",
   "execution_count": 11,
   "id": "8d92c537",
   "metadata": {},
   "outputs": [],
   "source": [
    "from reframed.io.sbml import load_cbmodel\n",
    "from mewpy.simulation import get_simulator\n",
    "import os"
   ]
  },
  {
   "cell_type": "code",
   "execution_count": null,
   "id": "4c5c676d",
   "metadata": {},
   "outputs": [],
   "source": [
    "model_path = \"../models/\"\n",
    "\n",
    "list_models = []\n",
    "\n",
    "for file in os.listdir(model_path):\n",
    "    SBML = (os.path.join(model_path, file))\n",
    "    model = load_cbmodel(SBML, flavor='fbc2')\n",
    "    # model.biomass_reaction = \"R_BIOMASS\"\n",
    "    #Environment.complete(model, max_uptake=10.0, inplace=True)\n",
    "    list_models.append(model)\n",
    "    \n",
    "    #sim = get_simulator(model)\n",
    "    #res = sim.simulate(objective = \"R_BIOMASS\")\n",
    "    #print(model.id, res.objective_value)\n",
    "    \n",
    "print(list_models)"
   ]
  },
  {
   "cell_type": "code",
   "execution_count": null,
   "id": "8a119930",
   "metadata": {},
   "outputs": [],
   "source": [
    "from mewpy.model.com import CommunityModel\n",
    "community = CommunityModel(list_models)"
   ]
  },
  {
   "cell_type": "code",
   "execution_count": null,
   "id": "75e543cd",
   "metadata": {},
   "outputs": [],
   "source": []
  }
 ],
 "metadata": {
  "kernelspec": {
   "display_name": "Python 3 (ipykernel)",
   "language": "python",
   "name": "python3"
  },
  "language_info": {
   "codemirror_mode": {
    "name": "ipython",
    "version": 3
   },
   "file_extension": ".py",
   "mimetype": "text/x-python",
   "name": "python",
   "nbconvert_exporter": "python",
   "pygments_lexer": "ipython3",
   "version": "3.9.12"
  }
 },
 "nbformat": 4,
 "nbformat_minor": 5
}

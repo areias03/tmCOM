{
 "cells": [
  {
   "cell_type": "code",
   "execution_count": 6,
   "id": "8d92c537",
   "metadata": {},
   "outputs": [],
   "source": [
    "from reframed.io.sbml import load_cbmodel\n",
    "from reframed import Environment\n",
    "from mewpy.simulation import get_simulator\n",
    "import os"
   ]
  },
  {
   "cell_type": "code",
   "execution_count": 8,
   "id": "4c5c676d",
   "metadata": {},
   "outputs": [
    {
     "ename": "CplexSolverError",
     "evalue": "CPLEX Error  1016: Community Edition. Problem size limits exceeded. Purchase at http://ibm.biz/error1016.",
     "output_type": "error",
     "traceback": [
      "\u001b[0;31m---------------------------------------------------------------------------\u001b[0m",
      "\u001b[0;31mCplexSolverError\u001b[0m                          Traceback (most recent call last)",
      "Cell \u001b[0;32mIn[8], line 13\u001b[0m\n\u001b[1;32m     10\u001b[0m list_models\u001b[38;5;241m.\u001b[39mappend(model)\n\u001b[1;32m     12\u001b[0m sim \u001b[38;5;241m=\u001b[39m get_simulator(model)\n\u001b[0;32m---> 13\u001b[0m res \u001b[38;5;241m=\u001b[39m \u001b[43msim\u001b[49m\u001b[38;5;241;43m.\u001b[39;49m\u001b[43msimulate\u001b[49m\u001b[43m(\u001b[49m\u001b[43mobjective\u001b[49m\u001b[43m \u001b[49m\u001b[38;5;241;43m=\u001b[39;49m\u001b[43m \u001b[49m\u001b[38;5;124;43m\"\u001b[39;49m\u001b[38;5;124;43mR_BIOMASS\u001b[39;49m\u001b[38;5;124;43m\"\u001b[39;49m\u001b[43m)\u001b[49m\n\u001b[1;32m     14\u001b[0m \u001b[38;5;28mprint\u001b[39m(model\u001b[38;5;241m.\u001b[39mid, res\u001b[38;5;241m.\u001b[39mobjective_value)\n",
      "File \u001b[0;32m/usr/local/Caskroom/miniforge/base/envs/mcd22/lib/python3.9/site-packages/mewpy/simulation/reframed.py:550\u001b[0m, in \u001b[0;36mSimulation.simulate\u001b[0;34m(self, objective, method, maximize, constraints, reference, scalefactor, solver, slim, shadow_prices)\u001b[0m\n\u001b[1;32m    548\u001b[0m \u001b[38;5;28;01mif\u001b[39;00m method \u001b[38;5;241m==\u001b[39m SimulationMethod\u001b[38;5;241m.\u001b[39mFBA:\n\u001b[1;32m    549\u001b[0m     get_values \u001b[38;5;241m=\u001b[39m \u001b[38;5;129;01mnot\u001b[39;00m slim\n\u001b[0;32m--> 550\u001b[0m     solution \u001b[38;5;241m=\u001b[39m \u001b[43mFBA\u001b[49m\u001b[43m(\u001b[49m\u001b[38;5;28;43mself\u001b[39;49m\u001b[38;5;241;43m.\u001b[39;49m\u001b[43mmodel\u001b[49m\u001b[43m,\u001b[49m\u001b[43m \u001b[49m\u001b[43mobjective\u001b[49m\u001b[38;5;241;43m=\u001b[39;49m\u001b[43mobjective\u001b[49m\u001b[43m,\u001b[49m\u001b[43m \u001b[49m\u001b[43mminimize\u001b[49m\u001b[38;5;241;43m=\u001b[39;49m\u001b[38;5;129;43;01mnot\u001b[39;49;00m\u001b[43m \u001b[49m\u001b[43mmaximize\u001b[49m\u001b[43m,\u001b[49m\n\u001b[1;32m    551\u001b[0m \u001b[43m                   \u001b[49m\u001b[43mconstraints\u001b[49m\u001b[38;5;241;43m=\u001b[39;49m\u001b[43msimul_constraints\u001b[49m\u001b[43m,\u001b[49m\u001b[43m \u001b[49m\u001b[43msolver\u001b[49m\u001b[38;5;241;43m=\u001b[39;49m\u001b[43ma_solver\u001b[49m\u001b[43m,\u001b[49m\u001b[43m \u001b[49m\u001b[43mget_values\u001b[49m\u001b[38;5;241;43m=\u001b[39;49m\u001b[43mget_values\u001b[49m\u001b[43m)\u001b[49m\n\u001b[1;32m    552\u001b[0m \u001b[38;5;28;01melif\u001b[39;00m method \u001b[38;5;241m==\u001b[39m SimulationMethod\u001b[38;5;241m.\u001b[39mpFBA:\n\u001b[1;32m    553\u001b[0m     solution \u001b[38;5;241m=\u001b[39m pFBA(\u001b[38;5;28mself\u001b[39m\u001b[38;5;241m.\u001b[39mmodel, objective\u001b[38;5;241m=\u001b[39mobjective, minimize\u001b[38;5;241m=\u001b[39m\u001b[38;5;129;01mnot\u001b[39;00m maximize,\n\u001b[1;32m    554\u001b[0m                     constraints\u001b[38;5;241m=\u001b[39msimul_constraints, solver\u001b[38;5;241m=\u001b[39ma_solver, obj_frac\u001b[38;5;241m=\u001b[39m\u001b[38;5;241m0.999\u001b[39m)\n",
      "File \u001b[0;32m/usr/local/Caskroom/miniforge/base/envs/mcd22/lib/python3.9/site-packages/reframed/cobra/simulation.py:37\u001b[0m, in \u001b[0;36mFBA\u001b[0;34m(model, objective, minimize, constraints, solver, get_values, shadow_prices, reduced_costs)\u001b[0m\n\u001b[1;32m     34\u001b[0m \u001b[38;5;28;01mif\u001b[39;00m \u001b[38;5;129;01mnot\u001b[39;00m solver:\n\u001b[1;32m     35\u001b[0m     solver \u001b[38;5;241m=\u001b[39m solver_instance(model)\n\u001b[0;32m---> 37\u001b[0m solution \u001b[38;5;241m=\u001b[39m \u001b[43msolver\u001b[49m\u001b[38;5;241;43m.\u001b[39;49m\u001b[43msolve\u001b[49m\u001b[43m(\u001b[49m\u001b[43mobjective\u001b[49m\u001b[43m,\u001b[49m\u001b[43m \u001b[49m\u001b[43mminimize\u001b[49m\u001b[38;5;241;43m=\u001b[39;49m\u001b[43mminimize\u001b[49m\u001b[43m,\u001b[49m\u001b[43m \u001b[49m\u001b[43mconstraints\u001b[49m\u001b[38;5;241;43m=\u001b[39;49m\u001b[43mconstraints\u001b[49m\u001b[43m,\u001b[49m\u001b[43m \u001b[49m\u001b[43mget_values\u001b[49m\u001b[38;5;241;43m=\u001b[39;49m\u001b[43mget_values\u001b[49m\u001b[43m,\u001b[49m\n\u001b[1;32m     38\u001b[0m \u001b[43m                        \u001b[49m\u001b[43mshadow_prices\u001b[49m\u001b[38;5;241;43m=\u001b[39;49m\u001b[43mshadow_prices\u001b[49m\u001b[43m,\u001b[49m\u001b[43m \u001b[49m\u001b[43mreduced_costs\u001b[49m\u001b[38;5;241;43m=\u001b[39;49m\u001b[43mreduced_costs\u001b[49m\u001b[43m)\u001b[49m\n\u001b[1;32m     39\u001b[0m \u001b[38;5;28;01mreturn\u001b[39;00m solution\n",
      "File \u001b[0;32m/usr/local/Caskroom/miniforge/base/envs/mcd22/lib/python3.9/site-packages/reframed/solvers/cplex_solver.py:328\u001b[0m, in \u001b[0;36mCplexSolver.solve\u001b[0;34m(self, linear, quadratic, minimize, model, constraints, get_values, shadow_prices, reduced_costs, pool_size, pool_gap)\u001b[0m\n\u001b[1;32m    324\u001b[0m \u001b[38;5;66;03m# run the optimization\u001b[39;00m\n\u001b[1;32m    326\u001b[0m \u001b[38;5;28;01mif\u001b[39;00m pool_size \u001b[38;5;241m<\u001b[39m\u001b[38;5;241m=\u001b[39m \u001b[38;5;241m1\u001b[39m:\n\u001b[0;32m--> 328\u001b[0m     \u001b[43mproblem\u001b[49m\u001b[38;5;241;43m.\u001b[39;49m\u001b[43msolve\u001b[49m\u001b[43m(\u001b[49m\u001b[43m)\u001b[49m\n\u001b[1;32m    330\u001b[0m     status \u001b[38;5;241m=\u001b[39m \u001b[38;5;28mself\u001b[39m\u001b[38;5;241m.\u001b[39mstatus_mapping\u001b[38;5;241m.\u001b[39mget(problem\u001b[38;5;241m.\u001b[39msolution\u001b[38;5;241m.\u001b[39mget_status(), Status\u001b[38;5;241m.\u001b[39mUNKNOWN)\n\u001b[1;32m    331\u001b[0m     message \u001b[38;5;241m=\u001b[39m \u001b[38;5;28mstr\u001b[39m(problem\u001b[38;5;241m.\u001b[39msolution\u001b[38;5;241m.\u001b[39mget_status_string())\n",
      "File \u001b[0;32m/usr/local/Caskroom/miniforge/base/envs/mcd22/lib/python3.9/site-packages/cplex/__init__.py:1312\u001b[0m, in \u001b[0;36mCplex.solve\u001b[0;34m(self, paramsets)\u001b[0m\n\u001b[1;32m   1310\u001b[0m         _proc\u001b[38;5;241m.\u001b[39mqpopt(\u001b[38;5;28mself\u001b[39m\u001b[38;5;241m.\u001b[39m_env\u001b[38;5;241m.\u001b[39m_e, \u001b[38;5;28mself\u001b[39m\u001b[38;5;241m.\u001b[39m_lp)\n\u001b[1;32m   1311\u001b[0m \u001b[38;5;28;01melif\u001b[39;00m \u001b[38;5;129;01mnot\u001b[39;00m \u001b[38;5;28mself\u001b[39m\u001b[38;5;241m.\u001b[39mobjective\u001b[38;5;241m.\u001b[39mget_num_quadratic_nonzeros() \u001b[38;5;241m>\u001b[39m \u001b[38;5;241m0\u001b[39m:\n\u001b[0;32m-> 1312\u001b[0m     \u001b[43m_proc\u001b[49m\u001b[38;5;241;43m.\u001b[39;49m\u001b[43mlpopt\u001b[49m\u001b[43m(\u001b[49m\u001b[38;5;28;43mself\u001b[39;49m\u001b[38;5;241;43m.\u001b[39;49m\u001b[43m_env\u001b[49m\u001b[38;5;241;43m.\u001b[39;49m\u001b[43m_e\u001b[49m\u001b[43m,\u001b[49m\u001b[43m \u001b[49m\u001b[38;5;28;43mself\u001b[39;49m\u001b[38;5;241;43m.\u001b[39;49m\u001b[43m_lp\u001b[49m\u001b[43m)\u001b[49m\n\u001b[1;32m   1313\u001b[0m \u001b[38;5;28;01melse\u001b[39;00m:\n\u001b[1;32m   1314\u001b[0m     _proc\u001b[38;5;241m.\u001b[39mqpopt(\u001b[38;5;28mself\u001b[39m\u001b[38;5;241m.\u001b[39m_env\u001b[38;5;241m.\u001b[39m_e, \u001b[38;5;28mself\u001b[39m\u001b[38;5;241m.\u001b[39m_lp)\n",
      "File \u001b[0;32m/usr/local/Caskroom/miniforge/base/envs/mcd22/lib/python3.9/site-packages/cplex/_internal/_procedural.py:738\u001b[0m, in \u001b[0;36mlpopt\u001b[0;34m(env, lp)\u001b[0m\n\u001b[1;32m    736\u001b[0m \u001b[38;5;28;01mwith\u001b[39;00m SigIntHandler():\n\u001b[1;32m    737\u001b[0m     status \u001b[38;5;241m=\u001b[39m CR\u001b[38;5;241m.\u001b[39mCPXXlpopt(env, lp)\n\u001b[0;32m--> 738\u001b[0m \u001b[43mcheck_status\u001b[49m\u001b[43m(\u001b[49m\u001b[43menv\u001b[49m\u001b[43m,\u001b[49m\u001b[43m \u001b[49m\u001b[43mstatus\u001b[49m\u001b[43m)\u001b[49m\n",
      "File \u001b[0;32m/usr/local/Caskroom/miniforge/base/envs/mcd22/lib/python3.9/site-packages/cplex/_internal/_procedural.py:249\u001b[0m, in \u001b[0;36mStatusChecker.__call__\u001b[0;34m(self, env, status, from_cb)\u001b[0m\n\u001b[1;32m    247\u001b[0m     \u001b[38;5;28;01melse\u001b[39;00m:\n\u001b[1;32m    248\u001b[0m         error_string \u001b[38;5;241m=\u001b[39m geterrorstring(env, status)\n\u001b[0;32m--> 249\u001b[0m \u001b[38;5;28;01mraise\u001b[39;00m CplexSolverError(error_string, env, status)\n",
      "\u001b[0;31mCplexSolverError\u001b[0m: CPLEX Error  1016: Community Edition. Problem size limits exceeded. Purchase at http://ibm.biz/error1016."
     ]
    }
   ],
   "source": [
    "model_path = \"../models/\"\n",
    "\n",
    "list_models = []\n",
    "\n",
    "for file in os.listdir(model_path):\n",
    "    SBML = (os.path.join(model_path, file))\n",
    "    model = load_cbmodel(SBML, flavor='fbc2')\n",
    "    model.biomass_reaction = \"R_BIOMASS\"\n",
    "    Environment.complete(model, max_uptake=10.0, inplace=True)\n",
    "    list_models.append(model)\n",
    "    \n",
    "    sim = get_simulator(model)\n",
    "    res = sim.simulate(objective = \"R_BIOMASS\")\n",
    "    print(model.id, res.objective_value)"
   ]
  },
  {
   "cell_type": "code",
   "execution_count": 3,
   "id": "8a119930",
   "metadata": {},
   "outputs": [
    {
     "ename": "ValueError",
     "evalue": "Model iAF1260 has no objective",
     "output_type": "error",
     "traceback": [
      "\u001b[0;31m---------------------------------------------------------------------------\u001b[0m",
      "\u001b[0;31mValueError\u001b[0m                                Traceback (most recent call last)",
      "Cell \u001b[0;32mIn[3], line 2\u001b[0m\n\u001b[1;32m      1\u001b[0m \u001b[38;5;28;01mfrom\u001b[39;00m \u001b[38;5;21;01mmewpy\u001b[39;00m\u001b[38;5;21;01m.\u001b[39;00m\u001b[38;5;21;01mmodel\u001b[39;00m\u001b[38;5;21;01m.\u001b[39;00m\u001b[38;5;21;01mcom\u001b[39;00m \u001b[38;5;28;01mimport\u001b[39;00m CommunityModel\n\u001b[0;32m----> 2\u001b[0m community \u001b[38;5;241m=\u001b[39m \u001b[43mCommunityModel\u001b[49m\u001b[43m(\u001b[49m\u001b[43mlist_models\u001b[49m\u001b[43m)\u001b[49m\n",
      "File \u001b[0;32m/usr/local/Caskroom/miniforge/base/envs/mcd22/lib/python3.9/site-packages/mewpy/model/com.py:63\u001b[0m, in \u001b[0;36mCommunityModel.__init__\u001b[0;34m(self, models, copy_models, flavor)\u001b[0m\n\u001b[1;32m     61\u001b[0m     m \u001b[38;5;241m=\u001b[39m model \u001b[38;5;28;01mif\u001b[39;00m \u001b[38;5;28misinstance\u001b[39m(model, Simulator) \u001b[38;5;28;01melse\u001b[39;00m get_simulator(model)\n\u001b[1;32m     62\u001b[0m     \u001b[38;5;28;01mif\u001b[39;00m \u001b[38;5;129;01mnot\u001b[39;00m m\u001b[38;5;241m.\u001b[39mobjective:\n\u001b[0;32m---> 63\u001b[0m         \u001b[38;5;28;01mraise\u001b[39;00m \u001b[38;5;167;01mValueError\u001b[39;00m(\u001b[38;5;124mf\u001b[39m\u001b[38;5;124m\"\u001b[39m\u001b[38;5;124mModel \u001b[39m\u001b[38;5;132;01m{\u001b[39;00mm\u001b[38;5;241m.\u001b[39mid\u001b[38;5;132;01m}\u001b[39;00m\u001b[38;5;124m has no objective\u001b[39m\u001b[38;5;124m\"\u001b[39m)\n\u001b[1;32m     64\u001b[0m     \u001b[38;5;28mself\u001b[39m\u001b[38;5;241m.\u001b[39morganisms[m\u001b[38;5;241m.\u001b[39mid] \u001b[38;5;241m=\u001b[39m deepcopy(m) \u001b[38;5;28;01mif\u001b[39;00m copy_models \u001b[38;5;28;01melse\u001b[39;00m m\n\u001b[1;32m     66\u001b[0m sid \u001b[38;5;241m=\u001b[39m \u001b[38;5;124m'\u001b[39m\u001b[38;5;124m \u001b[39m\u001b[38;5;124m'\u001b[39m\u001b[38;5;241m.\u001b[39mjoin(\u001b[38;5;28msorted\u001b[39m(\u001b[38;5;28mself\u001b[39m\u001b[38;5;241m.\u001b[39mmodel_ids))\n",
      "\u001b[0;31mValueError\u001b[0m: Model iAF1260 has no objective"
     ]
    }
   ],
   "source": [
    "from mewpy.model.com import CommunityModel\n",
    "community = CommunityModel(list_models)"
   ]
  },
  {
   "cell_type": "code",
   "execution_count": null,
   "id": "75e543cd",
   "metadata": {},
   "outputs": [],
   "source": [
    "ecoli = list_models[0]\n",
    "M9 = Environment.from_model(ecoli)\n",
    "print(len(list_models)\n",
    "print(f\"Environment compounds: {', '.join(M9.get_compounds())}\")"
   ]
  },
  {
   "cell_type": "code",
   "execution_count": 14,
   "id": "a6d6d9b3",
   "metadata": {},
   "outputs": [
    {
     "ename": "AttributeError",
     "evalue": "'Model' object has no attribute 'get_objective'",
     "output_type": "error",
     "traceback": [
      "\u001b[0;31m---------------------------------------------------------------------------\u001b[0m",
      "\u001b[0;31mAttributeError\u001b[0m                            Traceback (most recent call last)",
      "Cell \u001b[0;32mIn[14], line 4\u001b[0m\n\u001b[1;32m      1\u001b[0m \u001b[38;5;28;01mfrom\u001b[39;00m \u001b[38;5;21;01mreframed\u001b[39;00m \u001b[38;5;28;01mimport\u001b[39;00m FBA\n\u001b[1;32m      3\u001b[0m super_oganism \u001b[38;5;241m=\u001b[39m community\u001b[38;5;241m.\u001b[39mmerged_model\n\u001b[0;32m----> 4\u001b[0m solution \u001b[38;5;241m=\u001b[39m \u001b[43mFBA\u001b[49m\u001b[43m(\u001b[49m\u001b[43msuper_oganism\u001b[49m\u001b[43m,\u001b[49m\u001b[43m \u001b[49m\u001b[43mconstraints\u001b[49m\u001b[38;5;241;43m=\u001b[39;49m\u001b[43mM9\u001b[49m\u001b[43m)\u001b[49m\n\u001b[1;32m      6\u001b[0m \u001b[38;5;28mprint\u001b[39m(solution)\n\u001b[1;32m      7\u001b[0m solution\u001b[38;5;241m.\u001b[39mshow_values(pattern\u001b[38;5;241m=\u001b[39m\u001b[38;5;124m'\u001b[39m\u001b[38;5;124mR_EX\u001b[39m\u001b[38;5;124m'\u001b[39m)\n",
      "File \u001b[0;32m/usr/local/Caskroom/miniforge/base/envs/mcd22/lib/python3.9/site-packages/reframed/cobra/simulation.py:29\u001b[0m, in \u001b[0;36mFBA\u001b[0;34m(model, objective, minimize, constraints, solver, get_values, shadow_prices, reduced_costs)\u001b[0m\n\u001b[1;32m     12\u001b[0m \u001b[38;5;250m\u001b[39m\u001b[38;5;124;03m\"\"\" Run a Flux Balance Analysis (FBA) simulation:\u001b[39;00m\n\u001b[1;32m     13\u001b[0m \n\u001b[1;32m     14\u001b[0m \u001b[38;5;124;03mArguments:\u001b[39;00m\n\u001b[0;32m   (...)\u001b[0m\n\u001b[1;32m     25\u001b[0m \u001b[38;5;124;03m    Solution: solution\u001b[39;00m\n\u001b[1;32m     26\u001b[0m \u001b[38;5;124;03m\"\"\"\u001b[39;00m\n\u001b[1;32m     28\u001b[0m \u001b[38;5;28;01mif\u001b[39;00m \u001b[38;5;129;01mnot\u001b[39;00m objective:\n\u001b[0;32m---> 29\u001b[0m     objective \u001b[38;5;241m=\u001b[39m \u001b[43mmodel\u001b[49m\u001b[38;5;241;43m.\u001b[39;49m\u001b[43mget_objective\u001b[49m()\n\u001b[1;32m     31\u001b[0m     \u001b[38;5;28;01mif\u001b[39;00m \u001b[38;5;28mlen\u001b[39m(objective) \u001b[38;5;241m==\u001b[39m \u001b[38;5;241m0\u001b[39m:\n\u001b[1;32m     32\u001b[0m         warn(\u001b[38;5;124m'\u001b[39m\u001b[38;5;124mModel objective undefined.\u001b[39m\u001b[38;5;124m'\u001b[39m)\n",
      "\u001b[0;31mAttributeError\u001b[0m: 'Model' object has no attribute 'get_objective'"
     ]
    }
   ],
   "source": [
    "from reframed import FBA\n",
    "\n",
    "super_oganism = community.merged_model\n",
    "solution = FBA(super_oganism, constraints=M9)\n",
    "\n",
    "print(solution)\n",
    "solution.show_values(pattern='R_EX')"
   ]
  },
  {
   "cell_type": "code",
   "execution_count": null,
   "id": "7328360f",
   "metadata": {},
   "outputs": [],
   "source": [
    "#solution.show_values(pattern='_glc_ko', sort=True)"
   ]
  },
  {
   "cell_type": "code",
   "execution_count": null,
   "id": "ab5cdff4",
   "metadata": {},
   "outputs": [],
   "source": [
    "#solution.show_values(pattern='_nh4_ko', sort=True)"
   ]
  },
  {
   "cell_type": "code",
   "execution_count": null,
   "id": "3324434a",
   "metadata": {},
   "outputs": [],
   "source": [
    "from reframed import SteadyCom\n",
    "solution = SteadyCom(community, constraints=M9)"
   ]
  },
  {
   "cell_type": "code",
   "execution_count": null,
   "id": "1f5eec4a",
   "metadata": {},
   "outputs": [],
   "source": [
    "print(solution)"
   ]
  },
  {
   "cell_type": "code",
   "execution_count": null,
   "id": "367ea55d",
   "metadata": {},
   "outputs": [],
   "source": [
    "solution.cross_feeding(as_df=True).dropna().sort_values('rate', ascending=False)"
   ]
  },
  {
   "cell_type": "code",
   "execution_count": null,
   "id": "ff806d68",
   "metadata": {},
   "outputs": [],
   "source": [
    "from reframed import fluxes2escher\n",
    "fluxes2escher(solution.internal['glc_ko'])"
   ]
  },
  {
   "cell_type": "code",
   "execution_count": null,
   "id": "936be37f",
   "metadata": {},
   "outputs": [],
   "source": [
    "fluxes2escher(solution.internal['nh4_ko'])"
   ]
  },
  {
   "cell_type": "code",
   "execution_count": null,
   "id": "622fe261",
   "metadata": {},
   "outputs": [],
   "source": [
    "from reframed import SteadyComVA\n",
    "variability = SteadyComVA(community, obj_frac=0.9, constraints=M9)\n",
    "\n",
    "print('Strain\\tMin\\tMax')\n",
    "for strain, (lower, upper) in variability.items():\n",
    "    print(f'{strain}\\t{lower:.1%}\\t{upper:.1%}')"
   ]
  }
 ],
 "metadata": {
  "kernelspec": {
   "display_name": "Python 3 (ipykernel)",
   "language": "python",
   "name": "python3"
  },
  "language_info": {
   "codemirror_mode": {
    "name": "ipython",
    "version": 3
   },
   "file_extension": ".py",
   "mimetype": "text/x-python",
   "name": "python",
   "nbconvert_exporter": "python",
   "pygments_lexer": "ipython3",
   "version": "3.9.12"
  }
 },
 "nbformat": 4,
 "nbformat_minor": 5
}

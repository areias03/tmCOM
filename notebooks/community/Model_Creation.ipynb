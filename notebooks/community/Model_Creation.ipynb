{
 "cells": [
  {
   "cell_type": "code",
   "execution_count": 13,
   "id": "11b4c6ae",
   "metadata": {},
   "outputs": [],
   "source": [
    "from reframed.io.sbml import load_cbmodel\n",
    "from reframed.io.sbml import load_fbc2_gpr\n",
    "from cobra.io import read_sbml_model, write_sbml_model\n",
    "from sympy import parse_expr\n",
    "from sympy.logic.boolalg import to_dnf\n",
    "from tqdm import tqdm\n",
    "from typing import List\n",
    "import cobra\n",
    "from typing import List\n",
    "import os"
   ]
  },
  {
   "cell_type": "code",
   "execution_count": 12,
   "id": "b5b7de86",
   "metadata": {},
   "outputs": [
    {
     "name": "stderr",
     "output_type": "stream",
     "text": [
      "  0%|                                                                                                                                                    | 0/2686 [00:00<?, ?it/s]\n"
     ]
    },
    {
     "ename": "AttributeError",
     "evalue": "'Reaction' object has no attribute 'getPlugin'",
     "output_type": "error",
     "traceback": [
      "\u001b[0;31m---------------------------------------------------------------------------\u001b[0m",
      "\u001b[0;31mAttributeError\u001b[0m                            Traceback (most recent call last)",
      "Cell \u001b[0;32mIn[12], line 5\u001b[0m\n\u001b[1;32m      3\u001b[0m model \u001b[38;5;241m=\u001b[39m read_sbml_model(model_path)\n\u001b[1;32m      4\u001b[0m \u001b[38;5;28;01mfor\u001b[39;00m reaction \u001b[38;5;129;01min\u001b[39;00m tqdm(model\u001b[38;5;241m.\u001b[39mreactions):\n\u001b[0;32m----> 5\u001b[0m     fbcrxn \u001b[38;5;241m=\u001b[39m \u001b[43mreaction\u001b[49m\u001b[38;5;241;43m.\u001b[39;49m\u001b[43mgetPlugin\u001b[49m(\u001b[38;5;124m'\u001b[39m\u001b[38;5;124mfbc\u001b[39m\u001b[38;5;124m'\u001b[39m)\n\u001b[1;32m      6\u001b[0m     gpr_assoc \u001b[38;5;241m=\u001b[39m fbcrxn\u001b[38;5;241m.\u001b[39mgetGeneProductAssociation()\n\u001b[1;32m      7\u001b[0m     \u001b[38;5;28;01mif\u001b[39;00m gpr_assoc:\n",
      "\u001b[0;31mAttributeError\u001b[0m: 'Reaction' object has no attribute 'getPlugin'"
     ]
    }
   ],
   "source": [
    "model_path = \"../models/non-ec/Bacteroides_uniformis_ATCC_8492.xml\"\n",
    "\n",
    "model = read_sbml_model(model_path)\n",
    "for reaction in tqdm(model.reactions):\n",
    "    fbcrxn = reaction.getPlugin('fbc')\n",
    "    gpr_assoc = fbcrxn.getGeneProductAssociation()\n",
    "    if gpr_assoc:\n",
    "        gpr = parse_fbc_association(gpr_assoc.getAssociation())\n",
    "        model.set_gpr_association(reaction.getId(), gpr, add_genes=False)\n",
    "    else:\n",
    "        model.set_gpr_association(reaction.getId(), None)\n",
    "        parse_fbc_association(gpr_assoc)\n",
    "write_sbml_model(model, model_path)\n",
    "        "
   ]
  },
  {
   "cell_type": "code",
   "execution_count": 16,
   "id": "8d7724e0",
   "metadata": {},
   "outputs": [
    {
     "ename": "AttributeError",
     "evalue": "'CBModel' object has no attribute 'getPlugin'",
     "output_type": "error",
     "traceback": [
      "\u001b[0;31m---------------------------------------------------------------------------\u001b[0m",
      "\u001b[0;31mAttributeError\u001b[0m                            Traceback (most recent call last)",
      "Cell \u001b[0;32mIn[16], line 7\u001b[0m\n\u001b[1;32m      3\u001b[0m model \u001b[38;5;241m=\u001b[39m load_cbmodel(model_path,flavor \u001b[38;5;241m=\u001b[39m \u001b[38;5;124m'\u001b[39m\u001b[38;5;124mfbc2\u001b[39m\u001b[38;5;124m'\u001b[39m)\n\u001b[1;32m      4\u001b[0m model2 \u001b[38;5;241m=\u001b[39m \u001b[38;5;28;01mNone\u001b[39;00m\n\u001b[0;32m----> 7\u001b[0m \u001b[43mload_fbc2_gpr\u001b[49m\u001b[43m(\u001b[49m\u001b[43mmodel\u001b[49m\u001b[43m,\u001b[49m\u001b[43mmodel2\u001b[49m\u001b[43m)\u001b[49m\n",
      "File \u001b[0;32m/usr/local/Caskroom/miniforge/base/envs/tmcom/lib/python3.9/site-packages/reframed/io/sbml.py:461\u001b[0m, in \u001b[0;36mload_fbc2_gpr\u001b[0;34m(sbml_model, model)\u001b[0m\n\u001b[1;32m    460\u001b[0m \u001b[38;5;28;01mdef\u001b[39;00m \u001b[38;5;21mload_fbc2_gpr\u001b[39m(sbml_model, model):\n\u001b[0;32m--> 461\u001b[0m     fbcmodel \u001b[38;5;241m=\u001b[39m \u001b[43msbml_model\u001b[49m\u001b[38;5;241;43m.\u001b[39;49m\u001b[43mgetPlugin\u001b[49m(\u001b[38;5;124m'\u001b[39m\u001b[38;5;124mfbc\u001b[39m\u001b[38;5;124m'\u001b[39m)\n\u001b[1;32m    463\u001b[0m     \u001b[38;5;28;01mfor\u001b[39;00m sbml_gene \u001b[38;5;129;01min\u001b[39;00m fbcmodel\u001b[38;5;241m.\u001b[39mgetListOfGeneProducts():\n\u001b[1;32m    464\u001b[0m         gene \u001b[38;5;241m=\u001b[39m Gene(sbml_gene\u001b[38;5;241m.\u001b[39mgetId(), sbml_gene\u001b[38;5;241m.\u001b[39mgetName())\n",
      "\u001b[0;31mAttributeError\u001b[0m: 'CBModel' object has no attribute 'getPlugin'"
     ]
    }
   ],
   "source": [
    "model_path = \"../models/non-ec/Bacteroides_uniformis_ATCC_8492.xml\"\n",
    "\n",
    "model = load_cbmodel(model_path,flavor = 'fbc2')\n",
    "model2 = None\n",
    "\n",
    "\n",
    "load_fbc2_gpr(model,model2)"
   ]
  },
  {
   "cell_type": "code",
   "execution_count": null,
   "id": "ea72104f",
   "metadata": {},
   "outputs": [],
   "source": []
  }
 ],
 "metadata": {
  "kernelspec": {
   "display_name": "Python 3 (ipykernel)",
   "language": "python",
   "name": "python3"
  },
  "language_info": {
   "codemirror_mode": {
    "name": "ipython",
    "version": 3
   },
   "file_extension": ".py",
   "mimetype": "text/x-python",
   "name": "python",
   "nbconvert_exporter": "python",
   "pygments_lexer": "ipython3",
   "version": "3.9.12"
  }
 },
 "nbformat": 4,
 "nbformat_minor": 5
}

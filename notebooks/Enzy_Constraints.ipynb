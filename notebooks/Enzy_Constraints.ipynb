{
 "cells": [
  {
   "cell_type": "code",
   "execution_count": 1,
   "id": "b6b13350",
   "metadata": {},
   "outputs": [],
   "source": [
    "from reframed.io.sbml import load_cbmodel\n",
    "from cobra.io import read_sbml_model, write_sbml_model\n",
    "from mewpy.cobra.util import add_enzyme_constraints\n",
    "from mewpy.simulation import get_simulator\n",
    "from mewpy.simulation.environment import Environment as Environment\n",
    "from mewpy.util.request import retreive_gene,retreive_protein\n",
    "import json"
   ]
  },
  {
   "cell_type": "code",
   "execution_count": 13,
   "id": "db311060",
   "metadata": {},
   "outputs": [
    {
     "ename": "AttributeError",
     "evalue": "'NoneType' object has no attribute 'isSetChemicalFormula'",
     "output_type": "error",
     "traceback": [
      "\u001b[0;31m---------------------------------------------------------------------------\u001b[0m",
      "\u001b[0;31mAttributeError\u001b[0m                            Traceback (most recent call last)",
      "Cell \u001b[0;32mIn[13], line 1\u001b[0m\n\u001b[0;32m----> 1\u001b[0m model \u001b[38;5;241m=\u001b[39m \u001b[43mload_cbmodel\u001b[49m\u001b[43m(\u001b[49m\u001b[38;5;124;43m\"\u001b[39;49m\u001b[38;5;124;43m../models/non-ec/iBth801.xml\u001b[39;49m\u001b[38;5;124;43m\"\u001b[39;49m\u001b[43m)\u001b[49m\n",
      "File \u001b[0;32m/usr/local/Caskroom/miniforge/base/envs/tmcom/lib/python3.9/site-packages/reframed/io/sbml.py:148\u001b[0m, in \u001b[0;36mload_cbmodel\u001b[0;34m(filename, flavor, exchange_detection, external_compartment, load_gprs, load_metadata, reversibility_check, use_infinity)\u001b[0m\n\u001b[1;32m    146\u001b[0m model \u001b[38;5;241m=\u001b[39m CBModel(sbml_model\u001b[38;5;241m.\u001b[39mgetId())\n\u001b[1;32m    147\u001b[0m load_compartments(sbml_model, model, load_metadata)\n\u001b[0;32m--> 148\u001b[0m \u001b[43mload_metabolites\u001b[49m\u001b[43m(\u001b[49m\u001b[43msbml_model\u001b[49m\u001b[43m,\u001b[49m\u001b[43m \u001b[49m\u001b[43mmodel\u001b[49m\u001b[43m,\u001b[49m\u001b[43m \u001b[49m\u001b[43mflavor\u001b[49m\u001b[43m,\u001b[49m\u001b[43m \u001b[49m\u001b[43mload_metadata\u001b[49m\u001b[43m)\u001b[49m\n\u001b[1;32m    149\u001b[0m load_reactions(sbml_model, model, \u001b[38;5;28;01mTrue\u001b[39;00m, load_metadata)\n\u001b[1;32m    151\u001b[0m \u001b[38;5;28;01mif\u001b[39;00m flavor \u001b[38;5;129;01min\u001b[39;00m {Flavor\u001b[38;5;241m.\u001b[39mCOBRA\u001b[38;5;241m.\u001b[39mvalue, Flavor\u001b[38;5;241m.\u001b[39mUCSD\u001b[38;5;241m.\u001b[39mvalue}:\n",
      "File \u001b[0;32m/usr/local/Caskroom/miniforge/base/envs/tmcom/lib/python3.9/site-packages/reframed/io/sbml.py:220\u001b[0m, in \u001b[0;36mload_metabolites\u001b[0;34m(sbml_model, model, flavor, load_metadata)\u001b[0m\n\u001b[1;32m    218\u001b[0m \u001b[38;5;28;01mdef\u001b[39;00m \u001b[38;5;21mload_metabolites\u001b[39m(sbml_model, model, flavor\u001b[38;5;241m=\u001b[39m\u001b[38;5;28;01mNone\u001b[39;00m, load_metadata\u001b[38;5;241m=\u001b[39m\u001b[38;5;28;01mTrue\u001b[39;00m):\n\u001b[1;32m    219\u001b[0m     \u001b[38;5;28;01mfor\u001b[39;00m species \u001b[38;5;129;01min\u001b[39;00m sbml_model\u001b[38;5;241m.\u001b[39mgetListOfSpecies():\n\u001b[0;32m--> 220\u001b[0m         model\u001b[38;5;241m.\u001b[39madd_metabolite(\u001b[43mload_metabolite\u001b[49m\u001b[43m(\u001b[49m\u001b[43mspecies\u001b[49m\u001b[43m,\u001b[49m\u001b[43m \u001b[49m\u001b[43mflavor\u001b[49m\u001b[43m,\u001b[49m\u001b[43m \u001b[49m\u001b[43mload_metadata\u001b[49m\u001b[38;5;241;43m=\u001b[39;49m\u001b[43mload_metadata\u001b[49m\u001b[43m)\u001b[49m)\n",
      "File \u001b[0;32m/usr/local/Caskroom/miniforge/base/envs/tmcom/lib/python3.9/site-packages/reframed/io/sbml.py:228\u001b[0m, in \u001b[0;36mload_metabolite\u001b[0;34m(species, flavor, load_metadata)\u001b[0m\n\u001b[1;32m    226\u001b[0m \u001b[38;5;28;01mif\u001b[39;00m flavor \u001b[38;5;129;01min\u001b[39;00m {Flavor\u001b[38;5;241m.\u001b[39mBIGG\u001b[38;5;241m.\u001b[39mvalue, Flavor\u001b[38;5;241m.\u001b[39mFBC2\u001b[38;5;241m.\u001b[39mvalue}:\n\u001b[1;32m    227\u001b[0m     fbc_species \u001b[38;5;241m=\u001b[39m species\u001b[38;5;241m.\u001b[39mgetPlugin(\u001b[38;5;124m'\u001b[39m\u001b[38;5;124mfbc\u001b[39m\u001b[38;5;124m'\u001b[39m)\n\u001b[0;32m--> 228\u001b[0m     \u001b[38;5;28;01mif\u001b[39;00m \u001b[43mfbc_species\u001b[49m\u001b[38;5;241;43m.\u001b[39;49m\u001b[43misSetChemicalFormula\u001b[49m():\n\u001b[1;32m    229\u001b[0m         formula \u001b[38;5;241m=\u001b[39m fbc_species\u001b[38;5;241m.\u001b[39mgetChemicalFormula()\n\u001b[1;32m    230\u001b[0m         metabolite\u001b[38;5;241m.\u001b[39mmetadata[\u001b[38;5;124m'\u001b[39m\u001b[38;5;124mFORMULA\u001b[39m\u001b[38;5;124m'\u001b[39m] \u001b[38;5;241m=\u001b[39m formula\n",
      "\u001b[0;31mAttributeError\u001b[0m: 'NoneType' object has no attribute 'isSetChemicalFormula'"
     ]
    }
   ],
   "source": [
    "model = load_cbmodel(\"../models/non-ec/iBth801.xml\")"
   ]
  },
  {
   "cell_type": "code",
   "execution_count": 14,
   "id": "59e8b1bb",
   "metadata": {},
   "outputs": [
    {
     "data": {
      "text/plain": [
       "objective: -0.0\n",
       "Status: OPTIMAL\n",
       "Constraints: OrderedDict()\n",
       "Method:SimulationMethod.FBA"
      ]
     },
     "execution_count": 14,
     "metadata": {},
     "output_type": "execute_result"
    }
   ],
   "source": [
    "sim = get_simulator(model)\n",
    "sim.simulate(objective=\"R_biomass_red\")"
   ]
  },
  {
   "cell_type": "code",
   "execution_count": 15,
   "id": "e2e4016d",
   "metadata": {},
   "outputs": [
    {
     "name": "stdout",
     "output_type": "stream",
     "text": [
      "[]\n"
     ]
    }
   ],
   "source": [
    "print(sim.genes)"
   ]
  },
  {
   "cell_type": "code",
   "execution_count": null,
   "id": "fdce2398",
   "metadata": {},
   "outputs": [],
   "source": [
    "data_all = dict()\n",
    "try:\n",
    "    with open(sim.id+\".json\", 'r') as f:\n",
    "        data = json.load(f)\n",
    "except:\n",
    "    data = dict()\n",
    "    for gene in sim.genes:\n",
    "        try:\n",
    "            info = retreive_gene(gene,\"Escherichia coli\")\n",
    "            # set the inverse kcat to a low value\n",
    "            data[gene]={'protein':info['protein'],'mw':info['mw']*0.001,'kcat':1e-5}\n",
    "            data_all[gene]=info\n",
    "        except:\n",
    "            data[gene]={'protein': gene[len(sim._g_prefix):], 'mw': 0, 'kcat': 0}\n",
    "    with open(sim.id+\".json\", \"w\") as f:\n",
    "        json.dump(data,f)"
   ]
  },
  {
   "cell_type": "code",
   "execution_count": null,
   "id": "eb16dabb",
   "metadata": {},
   "outputs": [],
   "source": [
    "print(\"Genes with missing data:\")\n",
    "for k,v in data.items():\n",
    "    if v['mw']==0:\n",
    "        print(k)"
   ]
  },
  {
   "cell_type": "code",
   "execution_count": null,
   "id": "1dbbf5ab",
   "metadata": {},
   "outputs": [],
   "source": [
    "print(data)\n",
    "ec_sim = add_enzyme_constraints(sim, data=data)"
   ]
  },
  {
   "cell_type": "code",
   "execution_count": null,
   "id": "f0926dcf",
   "metadata": {},
   "outputs": [],
   "source": [
    "res = ec_sim.simulate()\n",
    "print(res)"
   ]
  }
 ],
 "metadata": {
  "kernelspec": {
   "display_name": "Python 3 (ipykernel)",
   "language": "python",
   "name": "python3"
  },
  "language_info": {
   "codemirror_mode": {
    "name": "ipython",
    "version": 3
   },
   "file_extension": ".py",
   "mimetype": "text/x-python",
   "name": "python",
   "nbconvert_exporter": "python",
   "pygments_lexer": "ipython3",
   "version": "3.9.12"
  }
 },
 "nbformat": 4,
 "nbformat_minor": 5
}

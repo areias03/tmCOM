{
 "cells": [
  {
   "cell_type": "code",
   "execution_count": 1,
   "id": "6250f852",
   "metadata": {},
   "outputs": [],
   "source": [
    "import pandas as pd\n",
    "import numpy as np\n",
    "from cobra.io import read_sbml_model\n",
    "from tqdm.auto import tqdm"
   ]
  },
  {
   "cell_type": "code",
   "execution_count": 2,
   "id": "29e9f890",
   "metadata": {},
   "outputs": [
    {
     "name": "stdout",
     "output_type": "stream",
     "text": [
      "['Bacteroides_thetaiotaomicron_VPI_5482.xml', 'Bacteroides_uniformis_ATCC_8492.xml', 'Coprococcus_comes_ATCC_27758.xml', 'Escherichia_coli_ED1a.xml', 'Fusobacterium_nucleatum_subsp_nucleatum_ATCC_25586.xml', 'Roseburia_intestinalis_L1_82.xml', 'Streptococcus_parasanguinis_ATCC_15912.xml', 'Streptococcus_salivarius_DSM_20560.xml', '.DS_Store', 'e_coli_core.xml.gz']\n"
     ]
    }
   ],
   "source": [
    "from os import listdir\n",
    "from os.path import isfile, join\n",
    "\n",
    "mypath = '../models/non-ec/'\n",
    "\n",
    "onlyfiles = [f for f in listdir(mypath) if isfile(join(mypath, f))]\n",
    "print(onlyfiles)"
   ]
  },
  {
   "cell_type": "code",
   "execution_count": 3,
   "id": "7f9ec0ce",
   "metadata": {},
   "outputs": [
    {
     "data": {
      "application/vnd.jupyter.widget-view+json": {
       "model_id": "6b5ad0fd4cd941f2a9d8d2c2e1a5716f",
       "version_major": 2,
       "version_minor": 0
      },
      "text/plain": [
       "  0%|          | 0/10 [00:00<?, ?it/s]"
      ]
     },
     "metadata": {},
     "output_type": "display_data"
    },
    {
     "name": "stdout",
     "output_type": "stream",
     "text": [
      "Set parameter Username\n"
     ]
    },
    {
     "ename": "CobraSBMLError",
     "evalue": "Something went wrong reading the SBML model. Most likely the SBML model is not valid. Please check that your model is valid using the `cobra.io.sbml.validate_sbml_model` function or via the online validator at https://sbml.org/validator_servlet/ .\n\t`(model, errors) = validate_sbml_model(filename)`\nIf the model is valid and cannot be read please open an issue at https://github.com/opencobra/cobrapy/issues .",
     "output_type": "error",
     "traceback": [
      "\u001b[0;31m---------------------------------------------------------------------------\u001b[0m",
      "\u001b[0;31mCobraSBMLError\u001b[0m                            Traceback (most recent call last)",
      "File \u001b[0;32m~/anaconda3/envs/tmcom/lib/python3.9/site-packages/cobra/io/sbml.py:458\u001b[0m, in \u001b[0;36mread_sbml_model\u001b[0;34m(filename, number, f_replace, **kwargs)\u001b[0m\n\u001b[1;32m    457\u001b[0m     doc \u001b[38;5;241m=\u001b[39m _get_doc_from_filename(filename)\n\u001b[0;32m--> 458\u001b[0m     \u001b[38;5;28;01mreturn\u001b[39;00m \u001b[43m_sbml_to_model\u001b[49m\u001b[43m(\u001b[49m\u001b[43mdoc\u001b[49m\u001b[43m,\u001b[49m\u001b[43m \u001b[49m\u001b[43mnumber\u001b[49m\u001b[38;5;241;43m=\u001b[39;49m\u001b[43mnumber\u001b[49m\u001b[43m,\u001b[49m\u001b[43m \u001b[49m\u001b[43mf_replace\u001b[49m\u001b[38;5;241;43m=\u001b[39;49m\u001b[43mf_replace\u001b[49m\u001b[43m,\u001b[49m\u001b[43m \u001b[49m\u001b[38;5;241;43m*\u001b[39;49m\u001b[38;5;241;43m*\u001b[39;49m\u001b[43mkwargs\u001b[49m\u001b[43m)\u001b[49m\n\u001b[1;32m    459\u001b[0m \u001b[38;5;28;01mexcept\u001b[39;00m \u001b[38;5;167;01mIOError\u001b[39;00m \u001b[38;5;28;01mas\u001b[39;00m e:\n",
      "File \u001b[0;32m~/anaconda3/envs/tmcom/lib/python3.9/site-packages/cobra/io/sbml.py:563\u001b[0m, in \u001b[0;36m_sbml_to_model\u001b[0;34m(doc, number, f_replace, set_missing_bounds, **kwargs)\u001b[0m\n\u001b[1;32m    562\u001b[0m \u001b[38;5;28;01mif\u001b[39;00m model \u001b[38;5;129;01mis\u001b[39;00m \u001b[38;5;28;01mNone\u001b[39;00m:\n\u001b[0;32m--> 563\u001b[0m     \u001b[38;5;28;01mraise\u001b[39;00m CobraSBMLError(\u001b[38;5;124m\"\u001b[39m\u001b[38;5;124mNo SBML model detected in file.\u001b[39m\u001b[38;5;124m\"\u001b[39m)\n\u001b[1;32m    564\u001b[0m model_fbc: \u001b[38;5;124m\"\u001b[39m\u001b[38;5;124mlibsbml.FbcModelPlugin\u001b[39m\u001b[38;5;124m\"\u001b[39m \u001b[38;5;241m=\u001b[39m model\u001b[38;5;241m.\u001b[39mgetPlugin(\u001b[38;5;124m\"\u001b[39m\u001b[38;5;124mfbc\u001b[39m\u001b[38;5;124m\"\u001b[39m)\n",
      "\u001b[0;31mCobraSBMLError\u001b[0m: No SBML model detected in file.",
      "\nThe above exception was the direct cause of the following exception:\n",
      "\u001b[0;31mCobraSBMLError\u001b[0m                            Traceback (most recent call last)",
      "Cell \u001b[0;32mIn[3], line 5\u001b[0m\n\u001b[1;32m      3\u001b[0m \u001b[38;5;28;01mfor\u001b[39;00m file \u001b[38;5;129;01min\u001b[39;00m tqdm(onlyfiles):\n\u001b[1;32m      4\u001b[0m     file \u001b[38;5;241m=\u001b[39m mypath \u001b[38;5;241m+\u001b[39m file\n\u001b[0;32m----> 5\u001b[0m     model \u001b[38;5;241m=\u001b[39m \u001b[43mread_sbml_model\u001b[49m\u001b[43m(\u001b[49m\u001b[43mfile\u001b[49m\u001b[43m)\u001b[49m\n\u001b[1;32m      6\u001b[0m     name \u001b[38;5;241m=\u001b[39m model\u001b[38;5;241m.\u001b[39mid\n\u001b[1;32m      7\u001b[0m     name \u001b[38;5;241m=\u001b[39m \u001b[38;5;28mstr\u001b[39m(name)\n",
      "File \u001b[0;32m~/anaconda3/envs/tmcom/lib/python3.9/site-packages/cobra/io/sbml.py:472\u001b[0m, in \u001b[0;36mread_sbml_model\u001b[0;34m(filename, number, f_replace, **kwargs)\u001b[0m\n\u001b[1;32m    462\u001b[0m \u001b[38;5;28;01mexcept\u001b[39;00m \u001b[38;5;167;01mException\u001b[39;00m \u001b[38;5;28;01mas\u001b[39;00m original_error:\n\u001b[1;32m    463\u001b[0m     cobra_error \u001b[38;5;241m=\u001b[39m CobraSBMLError(\n\u001b[1;32m    464\u001b[0m         \u001b[38;5;124m\"\u001b[39m\u001b[38;5;124mSomething went wrong reading the SBML model. Most likely the SBML\u001b[39m\u001b[38;5;124m\"\u001b[39m\n\u001b[1;32m    465\u001b[0m         \u001b[38;5;124m\"\u001b[39m\u001b[38;5;124m model is not valid. Please check that your model is valid using \u001b[39m\u001b[38;5;124m\"\u001b[39m\n\u001b[0;32m   (...)\u001b[0m\n\u001b[1;32m    470\u001b[0m         \u001b[38;5;124m\"\u001b[39m\u001b[38;5;124mat https://github.com/opencobra/cobrapy/issues .\u001b[39m\u001b[38;5;124m\"\u001b[39m\n\u001b[1;32m    471\u001b[0m     )\n\u001b[0;32m--> 472\u001b[0m     \u001b[38;5;28;01mraise\u001b[39;00m cobra_error \u001b[38;5;28;01mfrom\u001b[39;00m \u001b[38;5;21;01moriginal_error\u001b[39;00m\n",
      "\u001b[0;31mCobraSBMLError\u001b[0m: Something went wrong reading the SBML model. Most likely the SBML model is not valid. Please check that your model is valid using the `cobra.io.sbml.validate_sbml_model` function or via the online validator at https://sbml.org/validator_servlet/ .\n\t`(model, errors) = validate_sbml_model(filename)`\nIf the model is valid and cannot be read please open an issue at https://github.com/opencobra/cobrapy/issues ."
     ]
    }
   ],
   "source": [
    "db_l = []\n",
    "\n",
    "for file in tqdm(onlyfiles):\n",
    "    file = mypath + file\n",
    "    model = read_sbml_model(file)\n",
    "    name = model.id\n",
    "    name = str(name)\n",
    "    name = name.strip('M_')\n",
    "    id_n = name\n",
    "    name = name.replace('_',' ')\n",
    "    rxns = len(model.reactions)\n",
    "    mets = len(model.metabolites)\n",
    "    name_list = name.split(' ')\n",
    "    genus = name_list[0]\n",
    "    species = ' '.join(name_list[1::])\n",
    "    for i in range(1,7):\n",
    "        sam_n = i\n",
    "        sample = f'sample_{sam_n}'\n",
    "        abundace = np.random.randint(100,500)\n",
    "        res = [id_n, genus, species, rxns, mets, file, sample, abundace]\n",
    "        db_l.append(res)\n",
    "    \n",
    "db = pd.DataFrame(db_l, columns = ['id','genus','species','reactions','metabolites','file','sample_id','abundace'])\n",
    "db"
   ]
  },
  {
   "cell_type": "code",
   "execution_count": null,
   "id": "1067b365",
   "metadata": {},
   "outputs": [],
   "source": [
    "from micom.workflows import build\n",
    "\n",
    "manifest = build(db, out_folder=\"../data/micom\", model_db=None, cutoff=0.0001, threads=2)"
   ]
  },
  {
   "cell_type": "code",
   "execution_count": null,
   "id": "6bf51c56",
   "metadata": {},
   "outputs": [],
   "source": [
    "manifest"
   ]
  },
  {
   "cell_type": "code",
   "execution_count": null,
   "id": "5cba21a7",
   "metadata": {},
   "outputs": [],
   "source": [
    "from micom import load_pickle\n",
    "\n",
    "com1 = load_pickle(\"../data/micom/sample_1.pickle\")\n",
    "print(len(com1.reactions))"
   ]
  },
  {
   "cell_type": "code",
   "execution_count": null,
   "id": "b67cc813",
   "metadata": {},
   "outputs": [],
   "source": [
    "from micom.media import minimal_medium\n",
    "\n",
    "med = minimal_medium(com1, 0.8)\n",
    "res_m = []\n",
    "\n",
    "for k in med.keys():\n",
    "    print(f'Reaction: {k}, Flux: {med[k]}')\n",
    "    rx = k\n",
    "    flux = med[k]\n",
    "    met = k.strip('EX_')\n",
    "    res = [k,k,flux,met]\n",
    "    res_m.append(res)\n",
    "    \n",
    "min_med = pd.DataFrame(res_m, columns = ['reaction','reaction','flux','metabolite'])\n",
    "min_med"
   ]
  },
  {
   "cell_type": "code",
   "execution_count": null,
   "id": "bb5e24b7",
   "metadata": {},
   "outputs": [],
   "source": [
    "from micom.data import test_medium\n",
    "from micom.qiime_formats import load_qiime_medium\n",
    "\n",
    "test_med = load_qiime_medium(test_medium)\n",
    "test_med"
   ]
  },
  {
   "cell_type": "code",
   "execution_count": null,
   "id": "31e63a22",
   "metadata": {},
   "outputs": [],
   "source": [
    "from micom.workflows import grow\n",
    "\n",
    "res = grow(manifest, model_folder=\"../data/micom\", medium=min_med, tradeoff=1.0, threads=2)"
   ]
  },
  {
   "cell_type": "code",
   "execution_count": null,
   "id": "5e970be9",
   "metadata": {},
   "outputs": [],
   "source": [
    "from micom.workflows import tradeoff\n",
    "\n",
    "tradeoff_rates = tradeoff(manifest, model_folder=\"../data/micom\", medium=min_med, threads=2)\n",
    "tradeoff_rates.groupby(\"tradeoff\").apply(\n",
    "    lambda df: (df.growth_rate > 1e-6).sum()).reset_index()"
   ]
  },
  {
   "cell_type": "code",
   "execution_count": null,
   "id": "e7a50e1a",
   "metadata": {},
   "outputs": [],
   "source": [
    "from micom.viz import plot_tradeoff\n",
    "\n",
    "pl = plot_tradeoff(tradeoff_rates, filename=\"../data/micom/micomtradeoff.html\")"
   ]
  },
  {
   "cell_type": "code",
   "execution_count": 15,
   "id": "56c4e85e",
   "metadata": {},
   "outputs": [],
   "source": [
    "from micom.viz import plot_growth\n",
    "\n",
    "pl = plot_growth(res, filename=\"../data/micom/micomgrowth_rates.html\")"
   ]
  },
  {
   "cell_type": "code",
   "execution_count": 16,
   "id": "1c24c6cd",
   "metadata": {},
   "outputs": [],
   "source": [
    "pl.view()"
   ]
  },
  {
   "cell_type": "code",
   "execution_count": null,
   "id": "d12376f2",
   "metadata": {},
   "outputs": [],
   "source": []
  }
 ],
 "metadata": {
  "kernelspec": {
   "display_name": "Python 3 (ipykernel)",
   "language": "python",
   "name": "python3"
  },
  "language_info": {
   "codemirror_mode": {
    "name": "ipython",
    "version": 3
   },
   "file_extension": ".py",
   "mimetype": "text/x-python",
   "name": "python",
   "nbconvert_exporter": "python",
   "pygments_lexer": "ipython3",
   "version": "3.9.12"
  }
 },
 "nbformat": 4,
 "nbformat_minor": 5
}
